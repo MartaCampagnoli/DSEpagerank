{
  "nbformat": 4,
  "nbformat_minor": 0,
  "metadata": {
    "colab": {
      "provenance": [],
      "authorship_tag": "ABX9TyM8UZuvlnrMsMjqCrxf3t2g",
      "include_colab_link": true
    },
    "kernelspec": {
      "name": "python3",
      "display_name": "Python 3"
    },
    "language_info": {
      "name": "python"
    }
  },
  "cells": [
    {
      "cell_type": "markdown",
      "metadata": {
        "id": "view-in-github",
        "colab_type": "text"
      },
      "source": [
        "<a href=\"https://colab.research.google.com/github/MartaCampagnoli/PageRank-MovieActors/blob/main/Original%20Notebooks%20(Local%20Files)/PageRank_Movie_Actors_Network_(Local).ipynb\" target=\"_parent\"><img src=\"https://colab.research.google.com/assets/colab-badge.svg\" alt=\"Open In Colab\"/></a>"
      ]
    },
    {
      "cell_type": "markdown",
      "source": [
        "# PageRank"
      ],
      "metadata": {
        "id": "a78kMLnLDrvn"
      }
    },
    {
      "cell_type": "markdown",
      "source": [
        "The following part is based on an adaptation of the code for the Page Rank algorithm seen during the course and tutoring lessons. Particularly, I found that the adaptation of the code that removes the Euclidean distance function and only bases the iterations on a range lenght (as seen during tutoring) works on both the small network of 23 nodes (movies) and two actors and a network of 8461 nodes (2020-2021 dataset).\n",
        "\n",
        "When using the algorithm as seen in class the adaptation only works on the small network, due to an error in the computation of the Euclidean distance. For completeness reasons, I decided to keep the implementation in the project to show my attempt at implementing the solution.\n",
        "\n",
        "For scaling up replicability, the algorithms have been implemented using Spark."
      ],
      "metadata": {
        "id": "seWcUaBBDj-w"
      }
    },
    {
      "cell_type": "code",
      "execution_count": null,
      "metadata": {
        "id": "Xj4ROC_zNLbY"
      },
      "outputs": [],
      "source": [
        "!apt-get install openjdk-8-jdk-headless -qq > /dev/null\n",
        "!wget -q https://dlcdn.apache.org/spark/spark-3.3.1/spark-3.3.1-bin-hadoop3.tgz\n",
        "!tar xf spark-3.3.1-bin-hadoop3.tgz\n",
        "!pip install -q findspark\n",
        "\n",
        "import os\n",
        "os.environ[\"JAVA_HOME\"] = \"/usr/lib/jvm/java-8-openjdk-amd64\"\n",
        "os.environ[\"SPARK_HOME\"] = \"/spark-3.3.1-bin-hadoop3\"\n",
        "\n",
        "import findspark\n",
        "findspark.init(\"spark-3.3.1-bin-hadoop3\")# SPARK_HOME\n",
        "from pyspark.sql import SparkSession\n",
        "spark = SparkSession.builder.master(\"local[*]\").getOrCreate()\n",
        "\n",
        "sc = spark.sparkContext"
      ]
    },
    {
      "cell_type": "code",
      "source": [
        "import pandas as pd\n",
        "import io\n",
        "import networkx as nx\n",
        "import matplotlib.pyplot as plt\n",
        "import numpy as np\n",
        "from matplotlib.pyplot import figure\n",
        "figure(figsize=(100, 100), dpi=80)\n",
        "from networkx import pagerank"
      ],
      "metadata": {
        "colab": {
          "base_uri": "https://localhost:8080/",
          "height": 34
        },
        "id": "Tyl0b57jNPBQ",
        "outputId": "3af159e3-c5c8-4b40-c576-2eb77a63ee33"
      },
      "execution_count": null,
      "outputs": [
        {
          "output_type": "display_data",
          "data": {
            "text/plain": [
              "<Figure size 8000x8000 with 0 Axes>"
            ]
          },
          "metadata": {}
        }
      ]
    },
    {
      "cell_type": "markdown",
      "source": [
        "# PageRank (Iterations only) on small network"
      ],
      "metadata": {
        "id": "7VLkMcOXDi36"
      }
    },
    {
      "cell_type": "code",
      "source": [
        "from google.colab import files \n",
        "titles = files.upload()"
      ],
      "metadata": {
        "colab": {
          "base_uri": "https://localhost:8080/",
          "height": 74
        },
        "id": "aMC3PRBdVhSR",
        "outputId": "f45a8957-bd63-41d9-9605-4e505d3e57a1"
      },
      "execution_count": null,
      "outputs": [
        {
          "output_type": "display_data",
          "data": {
            "text/plain": [
              "<IPython.core.display.HTML object>"
            ],
            "text/html": [
              "\n",
              "     <input type=\"file\" id=\"files-ee755c15-f858-49df-8b37-0c79f796d6bc\" name=\"files[]\" multiple disabled\n",
              "        style=\"border:none\" />\n",
              "     <output id=\"result-ee755c15-f858-49df-8b37-0c79f796d6bc\">\n",
              "      Upload widget is only available when the cell has been executed in the\n",
              "      current browser session. Please rerun this cell to enable.\n",
              "      </output>\n",
              "      <script>// Copyright 2017 Google LLC\n",
              "//\n",
              "// Licensed under the Apache License, Version 2.0 (the \"License\");\n",
              "// you may not use this file except in compliance with the License.\n",
              "// You may obtain a copy of the License at\n",
              "//\n",
              "//      http://www.apache.org/licenses/LICENSE-2.0\n",
              "//\n",
              "// Unless required by applicable law or agreed to in writing, software\n",
              "// distributed under the License is distributed on an \"AS IS\" BASIS,\n",
              "// WITHOUT WARRANTIES OR CONDITIONS OF ANY KIND, either express or implied.\n",
              "// See the License for the specific language governing permissions and\n",
              "// limitations under the License.\n",
              "\n",
              "/**\n",
              " * @fileoverview Helpers for google.colab Python module.\n",
              " */\n",
              "(function(scope) {\n",
              "function span(text, styleAttributes = {}) {\n",
              "  const element = document.createElement('span');\n",
              "  element.textContent = text;\n",
              "  for (const key of Object.keys(styleAttributes)) {\n",
              "    element.style[key] = styleAttributes[key];\n",
              "  }\n",
              "  return element;\n",
              "}\n",
              "\n",
              "// Max number of bytes which will be uploaded at a time.\n",
              "const MAX_PAYLOAD_SIZE = 100 * 1024;\n",
              "\n",
              "function _uploadFiles(inputId, outputId) {\n",
              "  const steps = uploadFilesStep(inputId, outputId);\n",
              "  const outputElement = document.getElementById(outputId);\n",
              "  // Cache steps on the outputElement to make it available for the next call\n",
              "  // to uploadFilesContinue from Python.\n",
              "  outputElement.steps = steps;\n",
              "\n",
              "  return _uploadFilesContinue(outputId);\n",
              "}\n",
              "\n",
              "// This is roughly an async generator (not supported in the browser yet),\n",
              "// where there are multiple asynchronous steps and the Python side is going\n",
              "// to poll for completion of each step.\n",
              "// This uses a Promise to block the python side on completion of each step,\n",
              "// then passes the result of the previous step as the input to the next step.\n",
              "function _uploadFilesContinue(outputId) {\n",
              "  const outputElement = document.getElementById(outputId);\n",
              "  const steps = outputElement.steps;\n",
              "\n",
              "  const next = steps.next(outputElement.lastPromiseValue);\n",
              "  return Promise.resolve(next.value.promise).then((value) => {\n",
              "    // Cache the last promise value to make it available to the next\n",
              "    // step of the generator.\n",
              "    outputElement.lastPromiseValue = value;\n",
              "    return next.value.response;\n",
              "  });\n",
              "}\n",
              "\n",
              "/**\n",
              " * Generator function which is called between each async step of the upload\n",
              " * process.\n",
              " * @param {string} inputId Element ID of the input file picker element.\n",
              " * @param {string} outputId Element ID of the output display.\n",
              " * @return {!Iterable<!Object>} Iterable of next steps.\n",
              " */\n",
              "function* uploadFilesStep(inputId, outputId) {\n",
              "  const inputElement = document.getElementById(inputId);\n",
              "  inputElement.disabled = false;\n",
              "\n",
              "  const outputElement = document.getElementById(outputId);\n",
              "  outputElement.innerHTML = '';\n",
              "\n",
              "  const pickedPromise = new Promise((resolve) => {\n",
              "    inputElement.addEventListener('change', (e) => {\n",
              "      resolve(e.target.files);\n",
              "    });\n",
              "  });\n",
              "\n",
              "  const cancel = document.createElement('button');\n",
              "  inputElement.parentElement.appendChild(cancel);\n",
              "  cancel.textContent = 'Cancel upload';\n",
              "  const cancelPromise = new Promise((resolve) => {\n",
              "    cancel.onclick = () => {\n",
              "      resolve(null);\n",
              "    };\n",
              "  });\n",
              "\n",
              "  // Wait for the user to pick the files.\n",
              "  const files = yield {\n",
              "    promise: Promise.race([pickedPromise, cancelPromise]),\n",
              "    response: {\n",
              "      action: 'starting',\n",
              "    }\n",
              "  };\n",
              "\n",
              "  cancel.remove();\n",
              "\n",
              "  // Disable the input element since further picks are not allowed.\n",
              "  inputElement.disabled = true;\n",
              "\n",
              "  if (!files) {\n",
              "    return {\n",
              "      response: {\n",
              "        action: 'complete',\n",
              "      }\n",
              "    };\n",
              "  }\n",
              "\n",
              "  for (const file of files) {\n",
              "    const li = document.createElement('li');\n",
              "    li.append(span(file.name, {fontWeight: 'bold'}));\n",
              "    li.append(span(\n",
              "        `(${file.type || 'n/a'}) - ${file.size} bytes, ` +\n",
              "        `last modified: ${\n",
              "            file.lastModifiedDate ? file.lastModifiedDate.toLocaleDateString() :\n",
              "                                    'n/a'} - `));\n",
              "    const percent = span('0% done');\n",
              "    li.appendChild(percent);\n",
              "\n",
              "    outputElement.appendChild(li);\n",
              "\n",
              "    const fileDataPromise = new Promise((resolve) => {\n",
              "      const reader = new FileReader();\n",
              "      reader.onload = (e) => {\n",
              "        resolve(e.target.result);\n",
              "      };\n",
              "      reader.readAsArrayBuffer(file);\n",
              "    });\n",
              "    // Wait for the data to be ready.\n",
              "    let fileData = yield {\n",
              "      promise: fileDataPromise,\n",
              "      response: {\n",
              "        action: 'continue',\n",
              "      }\n",
              "    };\n",
              "\n",
              "    // Use a chunked sending to avoid message size limits. See b/62115660.\n",
              "    let position = 0;\n",
              "    do {\n",
              "      const length = Math.min(fileData.byteLength - position, MAX_PAYLOAD_SIZE);\n",
              "      const chunk = new Uint8Array(fileData, position, length);\n",
              "      position += length;\n",
              "\n",
              "      const base64 = btoa(String.fromCharCode.apply(null, chunk));\n",
              "      yield {\n",
              "        response: {\n",
              "          action: 'append',\n",
              "          file: file.name,\n",
              "          data: base64,\n",
              "        },\n",
              "      };\n",
              "\n",
              "      let percentDone = fileData.byteLength === 0 ?\n",
              "          100 :\n",
              "          Math.round((position / fileData.byteLength) * 100);\n",
              "      percent.textContent = `${percentDone}% done`;\n",
              "\n",
              "    } while (position < fileData.byteLength);\n",
              "  }\n",
              "\n",
              "  // All done.\n",
              "  yield {\n",
              "    response: {\n",
              "      action: 'complete',\n",
              "    }\n",
              "  };\n",
              "}\n",
              "\n",
              "scope.google = scope.google || {};\n",
              "scope.google.colab = scope.google.colab || {};\n",
              "scope.google.colab._files = {\n",
              "  _uploadFiles,\n",
              "  _uploadFilesContinue,\n",
              "};\n",
              "})(self);\n",
              "</script> "
            ]
          },
          "metadata": {}
        },
        {
          "output_type": "stream",
          "name": "stdout",
          "text": [
            "Saving titlesjemtaika.json to titlesjemtaika.json\n"
          ]
        }
      ]
    },
    {
      "cell_type": "code",
      "source": [
        "titles = pd.read_json(io.StringIO(titles.get('titlesjemtaika.json').decode('utf-8')))"
      ],
      "metadata": {
        "id": "ZN6vsfqvVhZB"
      },
      "execution_count": null,
      "outputs": []
    },
    {
      "cell_type": "code",
      "source": [
        "titles = list(titles[0])"
      ],
      "metadata": {
        "id": "d86U_SlEVhdW"
      },
      "execution_count": null,
      "outputs": []
    },
    {
      "cell_type": "code",
      "source": [
        "nodes = range(len(titles))\n",
        "nodes_index = {p: l for p, l in zip(nodes, titles)}\n",
        "nodes_index"
      ],
      "metadata": {
        "colab": {
          "base_uri": "https://localhost:8080/"
        },
        "id": "wJZ4CrCvVhgk",
        "outputId": "7d7aa5ed-8969-4e50-de16-d9e7b85b9f21"
      },
      "execution_count": null,
      "outputs": [
        {
          "output_type": "execute_result",
          "data": {
            "text/plain": [
              "{0: 'An American in Whakataki',\n",
              " 1: 'An Evening with Beverly Luff Linn',\n",
              " 2: 'Avatar 5',\n",
              " 3: 'Boy',\n",
              " 4: 'Don Verdean',\n",
              " 5: 'Eagle vs Shark',\n",
              " 6: 'Free Guy',\n",
              " 7: 'Frodo Is Great... Who Is That?!!',\n",
              " 8: 'Gentlemen Broncos',\n",
              " 9: 'I Used to Go Here',\n",
              " 10: 'Jojo Rabbit',\n",
              " 11: 'Lightyear',\n",
              " 12: 'Men in Black 3',\n",
              " 13: 'Nude Tuesday',\n",
              " 14: 'Patrick',\n",
              " 15: 'People Places Things',\n",
              " 16: 'Predicament',\n",
              " 17: 'Rio 2',\n",
              " 18: 'Scarfies',\n",
              " 19: 'Seven Stages to Achieve Eternal Bliss',\n",
              " 20: 'The BFG',\n",
              " 21: 'Tongan Ninja',\n",
              " 22: 'What We Do in the Shadows'}"
            ]
          },
          "metadata": {},
          "execution_count": 8
        }
      ]
    },
    {
      "cell_type": "code",
      "source": [
        "from google.colab import files\n",
        "uploaded = files.upload()"
      ],
      "metadata": {
        "colab": {
          "base_uri": "https://localhost:8080/",
          "height": 74
        },
        "outputId": "0711afdd-ae29-4a0e-eeec-d96074b39e59",
        "id": "128jcblANpFT"
      },
      "execution_count": null,
      "outputs": [
        {
          "output_type": "display_data",
          "data": {
            "text/plain": [
              "<IPython.core.display.HTML object>"
            ],
            "text/html": [
              "\n",
              "     <input type=\"file\" id=\"files-8622b92d-52c5-4eda-af23-0dd4538c3aee\" name=\"files[]\" multiple disabled\n",
              "        style=\"border:none\" />\n",
              "     <output id=\"result-8622b92d-52c5-4eda-af23-0dd4538c3aee\">\n",
              "      Upload widget is only available when the cell has been executed in the\n",
              "      current browser session. Please rerun this cell to enable.\n",
              "      </output>\n",
              "      <script>// Copyright 2017 Google LLC\n",
              "//\n",
              "// Licensed under the Apache License, Version 2.0 (the \"License\");\n",
              "// you may not use this file except in compliance with the License.\n",
              "// You may obtain a copy of the License at\n",
              "//\n",
              "//      http://www.apache.org/licenses/LICENSE-2.0\n",
              "//\n",
              "// Unless required by applicable law or agreed to in writing, software\n",
              "// distributed under the License is distributed on an \"AS IS\" BASIS,\n",
              "// WITHOUT WARRANTIES OR CONDITIONS OF ANY KIND, either express or implied.\n",
              "// See the License for the specific language governing permissions and\n",
              "// limitations under the License.\n",
              "\n",
              "/**\n",
              " * @fileoverview Helpers for google.colab Python module.\n",
              " */\n",
              "(function(scope) {\n",
              "function span(text, styleAttributes = {}) {\n",
              "  const element = document.createElement('span');\n",
              "  element.textContent = text;\n",
              "  for (const key of Object.keys(styleAttributes)) {\n",
              "    element.style[key] = styleAttributes[key];\n",
              "  }\n",
              "  return element;\n",
              "}\n",
              "\n",
              "// Max number of bytes which will be uploaded at a time.\n",
              "const MAX_PAYLOAD_SIZE = 100 * 1024;\n",
              "\n",
              "function _uploadFiles(inputId, outputId) {\n",
              "  const steps = uploadFilesStep(inputId, outputId);\n",
              "  const outputElement = document.getElementById(outputId);\n",
              "  // Cache steps on the outputElement to make it available for the next call\n",
              "  // to uploadFilesContinue from Python.\n",
              "  outputElement.steps = steps;\n",
              "\n",
              "  return _uploadFilesContinue(outputId);\n",
              "}\n",
              "\n",
              "// This is roughly an async generator (not supported in the browser yet),\n",
              "// where there are multiple asynchronous steps and the Python side is going\n",
              "// to poll for completion of each step.\n",
              "// This uses a Promise to block the python side on completion of each step,\n",
              "// then passes the result of the previous step as the input to the next step.\n",
              "function _uploadFilesContinue(outputId) {\n",
              "  const outputElement = document.getElementById(outputId);\n",
              "  const steps = outputElement.steps;\n",
              "\n",
              "  const next = steps.next(outputElement.lastPromiseValue);\n",
              "  return Promise.resolve(next.value.promise).then((value) => {\n",
              "    // Cache the last promise value to make it available to the next\n",
              "    // step of the generator.\n",
              "    outputElement.lastPromiseValue = value;\n",
              "    return next.value.response;\n",
              "  });\n",
              "}\n",
              "\n",
              "/**\n",
              " * Generator function which is called between each async step of the upload\n",
              " * process.\n",
              " * @param {string} inputId Element ID of the input file picker element.\n",
              " * @param {string} outputId Element ID of the output display.\n",
              " * @return {!Iterable<!Object>} Iterable of next steps.\n",
              " */\n",
              "function* uploadFilesStep(inputId, outputId) {\n",
              "  const inputElement = document.getElementById(inputId);\n",
              "  inputElement.disabled = false;\n",
              "\n",
              "  const outputElement = document.getElementById(outputId);\n",
              "  outputElement.innerHTML = '';\n",
              "\n",
              "  const pickedPromise = new Promise((resolve) => {\n",
              "    inputElement.addEventListener('change', (e) => {\n",
              "      resolve(e.target.files);\n",
              "    });\n",
              "  });\n",
              "\n",
              "  const cancel = document.createElement('button');\n",
              "  inputElement.parentElement.appendChild(cancel);\n",
              "  cancel.textContent = 'Cancel upload';\n",
              "  const cancelPromise = new Promise((resolve) => {\n",
              "    cancel.onclick = () => {\n",
              "      resolve(null);\n",
              "    };\n",
              "  });\n",
              "\n",
              "  // Wait for the user to pick the files.\n",
              "  const files = yield {\n",
              "    promise: Promise.race([pickedPromise, cancelPromise]),\n",
              "    response: {\n",
              "      action: 'starting',\n",
              "    }\n",
              "  };\n",
              "\n",
              "  cancel.remove();\n",
              "\n",
              "  // Disable the input element since further picks are not allowed.\n",
              "  inputElement.disabled = true;\n",
              "\n",
              "  if (!files) {\n",
              "    return {\n",
              "      response: {\n",
              "        action: 'complete',\n",
              "      }\n",
              "    };\n",
              "  }\n",
              "\n",
              "  for (const file of files) {\n",
              "    const li = document.createElement('li');\n",
              "    li.append(span(file.name, {fontWeight: 'bold'}));\n",
              "    li.append(span(\n",
              "        `(${file.type || 'n/a'}) - ${file.size} bytes, ` +\n",
              "        `last modified: ${\n",
              "            file.lastModifiedDate ? file.lastModifiedDate.toLocaleDateString() :\n",
              "                                    'n/a'} - `));\n",
              "    const percent = span('0% done');\n",
              "    li.appendChild(percent);\n",
              "\n",
              "    outputElement.appendChild(li);\n",
              "\n",
              "    const fileDataPromise = new Promise((resolve) => {\n",
              "      const reader = new FileReader();\n",
              "      reader.onload = (e) => {\n",
              "        resolve(e.target.result);\n",
              "      };\n",
              "      reader.readAsArrayBuffer(file);\n",
              "    });\n",
              "    // Wait for the data to be ready.\n",
              "    let fileData = yield {\n",
              "      promise: fileDataPromise,\n",
              "      response: {\n",
              "        action: 'continue',\n",
              "      }\n",
              "    };\n",
              "\n",
              "    // Use a chunked sending to avoid message size limits. See b/62115660.\n",
              "    let position = 0;\n",
              "    do {\n",
              "      const length = Math.min(fileData.byteLength - position, MAX_PAYLOAD_SIZE);\n",
              "      const chunk = new Uint8Array(fileData, position, length);\n",
              "      position += length;\n",
              "\n",
              "      const base64 = btoa(String.fromCharCode.apply(null, chunk));\n",
              "      yield {\n",
              "        response: {\n",
              "          action: 'append',\n",
              "          file: file.name,\n",
              "          data: base64,\n",
              "        },\n",
              "      };\n",
              "\n",
              "      let percentDone = fileData.byteLength === 0 ?\n",
              "          100 :\n",
              "          Math.round((position / fileData.byteLength) * 100);\n",
              "      percent.textContent = `${percentDone}% done`;\n",
              "\n",
              "    } while (position < fileData.byteLength);\n",
              "  }\n",
              "\n",
              "  // All done.\n",
              "  yield {\n",
              "    response: {\n",
              "      action: 'complete',\n",
              "    }\n",
              "  };\n",
              "}\n",
              "\n",
              "scope.google = scope.google || {};\n",
              "scope.google.colab = scope.google.colab || {};\n",
              "scope.google.colab._files = {\n",
              "  _uploadFiles,\n",
              "  _uploadFilesContinue,\n",
              "};\n",
              "})(self);\n",
              "</script> "
            ]
          },
          "metadata": {}
        },
        {
          "output_type": "stream",
          "name": "stdout",
          "text": [
            "Saving taikajemcountminusone.json to taikajemcountminusone.json\n"
          ]
        }
      ]
    },
    {
      "cell_type": "code",
      "source": [
        "df = pd.read_json(io.StringIO(uploaded.get('taikajemcountminusone.json').decode('utf-8')))"
      ],
      "metadata": {
        "id": "grOoTy50NpFU"
      },
      "execution_count": null,
      "outputs": []
    },
    {
      "cell_type": "code",
      "source": [
        "l1 = list(zip(df[0], df[1])) #creating links"
      ],
      "metadata": {
        "id": "fw2Zm4V1WF2s"
      },
      "execution_count": null,
      "outputs": []
    },
    {
      "cell_type": "code",
      "source": [
        "g = nx.DiGraph()\n",
        "\n",
        "for p in nodes:\n",
        "    g.add_node(p)\n",
        "\n",
        "for (a, b) in l1:\n",
        "    g.add_edge(nodes[a], nodes[b])"
      ],
      "metadata": {
        "id": "oK22ofn5W24u"
      },
      "execution_count": null,
      "outputs": []
    },
    {
      "cell_type": "code",
      "source": [
        "opts = {'node_size': 400, \n",
        "        'font_color': 'b',\n",
        "        'font_size': 10,\n",
        "        'font_weight': 'bold'}\n",
        "\n",
        "nx.draw(g, with_labels=True, labels=nodes_index,\n",
        "       node_color='#AAAAEE', **opts)\n",
        "plt.show()"
      ],
      "metadata": {
        "colab": {
          "base_uri": "https://localhost:8080/",
          "height": 319
        },
        "id": "MQVKClPkW3CP",
        "outputId": "734f3390-dace-4c46-f1c8-a85b79dd9483"
      },
      "execution_count": null,
      "outputs": [
        {
          "output_type": "display_data",
          "data": {
            "text/plain": [
              "<Figure size 432x288 with 1 Axes>"
            ],
            "image/png": "[encoded data removed]"
          },
          "metadata": {}
        }
      ]
    },
    {
      "cell_type": "code",
      "source": [
        "dataset = sc.parallelize(l1).cache()"
      ],
      "metadata": {
        "id": "3UFZWa50NpFW"
      },
      "execution_count": null,
      "outputs": []
    },
    {
      "cell_type": "code",
      "source": [
        "total_movies = max(dataset.max(lambda x:x[0])[0],dataset.max(lambda x:x[1])[1])\n",
        "print(total_movies) #counting nodes by index: the indeces start from 0 so we have 23 movies"
      ],
      "metadata": {
        "colab": {
          "base_uri": "https://localhost:8080/"
        },
        "outputId": "fc7a1fc8-ef20-4966-fdd6-74334590315b",
        "id": "L4tLvycINpFW"
      },
      "execution_count": null,
      "outputs": [
        {
          "output_type": "stream",
          "name": "stdout",
          "text": [
            "22\n"
          ]
        }
      ]
    },
    {
      "cell_type": "code",
      "source": [
        "outdegree = dataset.countByKey() #computing outdegree\n",
        "outdegree[0], outdegree[2], outdegree[18], outdegree[22]"
      ],
      "metadata": {
        "id": "GhjA9_fANpFX",
        "colab": {
          "base_uri": "https://localhost:8080/"
        },
        "outputId": "910e2ab5-1306-47eb-cd4c-7cd708fef11c"
      },
      "execution_count": null,
      "outputs": [
        {
          "output_type": "execute_result",
          "data": {
            "text/plain": [
              "(15, 15, 7, 22)"
            ]
          },
          "metadata": {},
          "execution_count": 18
        }
      ]
    },
    {
      "cell_type": "code",
      "source": [
        "\n",
        "P = dataset.map(lambda x:(x[0],x[1],1/outdegree[x[0]]))\n",
        "P.take(20) #connection matrix"
      ],
      "metadata": {
        "colab": {
          "base_uri": "https://localhost:8080/"
        },
        "outputId": "72357418-f8a2-4280-a2c7-9091736e79c7",
        "id": "pJWUwvyrNpFX"
      },
      "execution_count": null,
      "outputs": [
        {
          "output_type": "execute_result",
          "data": {
            "text/plain": [
              "[(0, 1, 0.06666666666666667),\n",
              " (0, 2, 0.06666666666666667),\n",
              " (0, 4, 0.06666666666666667),\n",
              " (0, 5, 0.06666666666666667),\n",
              " (0, 8, 0.06666666666666667),\n",
              " (0, 9, 0.06666666666666667),\n",
              " (0, 12, 0.06666666666666667),\n",
              " (0, 13, 0.06666666666666667),\n",
              " (0, 14, 0.06666666666666667),\n",
              " (0, 15, 0.06666666666666667),\n",
              " (0, 16, 0.06666666666666667),\n",
              " (0, 17, 0.06666666666666667),\n",
              " (0, 20, 0.06666666666666667),\n",
              " (0, 21, 0.06666666666666667),\n",
              " (0, 22, 0.06666666666666667),\n",
              " (1, 0, 0.06666666666666667),\n",
              " (1, 2, 0.06666666666666667),\n",
              " (1, 4, 0.06666666666666667),\n",
              " (1, 5, 0.06666666666666667),\n",
              " (1, 8, 0.06666666666666667)]"
            ]
          },
          "metadata": {},
          "execution_count": 11
        }
      ]
    },
    {
      "cell_type": "code",
      "source": [
        "import numpy as np\n",
        "p = np.full((total_movies+1,), 1/(total_movies+1))\n",
        "p[:10] #setting probability vector"
      ],
      "metadata": {
        "colab": {
          "base_uri": "https://localhost:8080/"
        },
        "outputId": "f37bd8e1-b93b-4fc3-c68b-5882b00d50db",
        "id": "3Vj3yqZnNpFX"
      },
      "execution_count": null,
      "outputs": [
        {
          "output_type": "execute_result",
          "data": {
            "text/plain": [
              "array([0.04347826, 0.04347826, 0.04347826, 0.04347826, 0.04347826,\n",
              "       0.04347826, 0.04347826, 0.04347826, 0.04347826, 0.04347826])"
            ]
          },
          "metadata": {},
          "execution_count": 21
        }
      ]
    },
    {
      "cell_type": "code",
      "source": [
        "# inverting the order of nodes in the matrix\n",
        "PT = P.map(lambda x: (x[1],x[0],x[2]))"
      ],
      "metadata": {
        "id": "BI9HzuypNpFX"
      },
      "execution_count": null,
      "outputs": []
    },
    {
      "cell_type": "markdown",
      "source": [
        "The number of iterations is kept small because we are dealing with a very small network; we will see in the PageRank with Euclidean distance that the algorithm automatically stops at 17 iterations."
      ],
      "metadata": {
        "id": "0WQ79AjLdLye"
      }
    },
    {
      "cell_type": "code",
      "source": [
        "#computing pagerank\n",
        "for i in range(50):\n",
        "    new_p = PT.map(lambda x:(x[0],(x[2]*p[x[1]])))\\\n",
        "              .reduceByKey(lambda x,y: x+y)\\\n",
        "              .collect()\n",
        "    for idx,prb in new_p:\n",
        "        p[idx] = prb\n",
        "    \n",
        "    print(f\"iteration {i}\")\n"
      ],
      "metadata": {
        "colab": {
          "base_uri": "https://localhost:8080/"
        },
        "outputId": "7601a233-d82c-4cdc-a226-6baa73c619b7",
        "id": "C11Ec9bYNpFY"
      },
      "execution_count": null,
      "outputs": [
        {
          "output_type": "stream",
          "name": "stdout",
          "text": [
            "iteration 0\n",
            "iteration 1\n",
            "iteration 2\n",
            "iteration 3\n",
            "iteration 4\n",
            "iteration 5\n",
            "iteration 6\n",
            "iteration 7\n",
            "iteration 8\n",
            "iteration 9\n",
            "iteration 10\n",
            "iteration 11\n",
            "iteration 12\n",
            "iteration 13\n",
            "iteration 14\n",
            "iteration 15\n",
            "iteration 16\n",
            "iteration 17\n",
            "iteration 18\n",
            "iteration 19\n",
            "iteration 20\n",
            "iteration 21\n",
            "iteration 22\n",
            "iteration 23\n",
            "iteration 24\n",
            "iteration 25\n",
            "iteration 26\n",
            "iteration 27\n",
            "iteration 28\n",
            "iteration 29\n",
            "iteration 30\n",
            "iteration 31\n",
            "iteration 32\n",
            "iteration 33\n",
            "iteration 34\n",
            "iteration 35\n",
            "iteration 36\n",
            "iteration 37\n",
            "iteration 38\n",
            "iteration 39\n",
            "iteration 40\n",
            "iteration 41\n",
            "iteration 42\n",
            "iteration 43\n",
            "iteration 44\n",
            "iteration 45\n",
            "iteration 46\n",
            "iteration 47\n",
            "iteration 48\n",
            "iteration 49\n"
          ]
        }
      ]
    },
    {
      "cell_type": "code",
      "source": [
        "list(zip(p.argsort()[::-1], p[p.argsort()[::-1]])) #showing results by value. they resemble the ones computed on the same graph through Networkx"
      ],
      "metadata": {
        "colab": {
          "base_uri": "https://localhost:8080/"
        },
        "outputId": "26100a21-7821-4843-aa88-e2d32817f4e3",
        "id": "cZuR3w7mNpFY"
      },
      "execution_count": null,
      "outputs": [
        {
          "output_type": "execute_result",
          "data": {
            "text/plain": [
              "[(22, 0.07434390743481965),\n",
              " (12, 0.05065810289007957),\n",
              " (1, 0.05065810289007957),\n",
              " (2, 0.05065810289007957),\n",
              " (4, 0.05065810289007957),\n",
              " (5, 0.05065810289007957),\n",
              " (8, 0.05065810289007957),\n",
              " (9, 0.05065810289007957),\n",
              " (21, 0.05065810289007957),\n",
              " (0, 0.05065810289007957),\n",
              " (13, 0.05065810289007957),\n",
              " (14, 0.05065810289007957),\n",
              " (15, 0.05065810289007957),\n",
              " (16, 0.05065810289007957),\n",
              " (17, 0.05065810289007957),\n",
              " (20, 0.05065810289007957),\n",
              " (10, 0.023683507030569467),\n",
              " (7, 0.023683507030569467),\n",
              " (6, 0.023683507030569467),\n",
              " (18, 0.023683507030569467),\n",
              " (3, 0.023683507030569467),\n",
              " (19, 0.023683507030569467),\n",
              " (11, 0.023683507030569467)]"
            ]
          },
          "metadata": {},
          "execution_count": 25
        }
      ]
    },
    {
      "cell_type": "markdown",
      "source": [
        "Checking the index with the source dataset containing movies and their corresponding index (as done in the next example) we would see that this result is coherent with reality; node 22 corresponds to \"What We Do in The Shadows\" the only movie that has higher probability to be reached, since it's connected to movies where both Taika Waititi and Jemaine Clement acted in. It is in fact the only movie where the two worked together as actors. The following image shows the graph colored by pagerank value."
      ],
      "metadata": {
        "id": "kGtrdCgeRp7Q"
      }
    },
    {
      "cell_type": "code",
      "execution_count": null,
      "metadata": {
        "colab": {
          "base_uri": "https://localhost:8080/",
          "height": 319
        },
        "id": "QOZL6R8f0RMl",
        "outputId": "8ae65689-44cb-4947-d32e-24578db21147"
      },
      "outputs": [
        {
          "output_type": "display_data",
          "data": {
            "text/plain": [
              "<Figure size 432x288 with 1 Axes>"
            ],
            "image/png": "[encoded data removed]"
          },
          "metadata": {}
        }
      ],
      "source": [
        "nx.draw(g, with_labels=True, labels=nodes_index,\n",
        "        node_color=p, cmap=plt.cm.summer, **opts)\n",
        "plt.show()"
      ]
    },
    {
      "cell_type": "markdown",
      "source": [
        "# PageRank (Iterations only) on 2020-2021 movies Network"
      ],
      "metadata": {
        "id": "K2g0PkYaSzrl"
      }
    },
    {
      "cell_type": "markdown",
      "source": [
        "The following code has been run on a larger dataset with 8641 movies, with actors that have only acted in one movie released in the 2020-2021 years removed."
      ],
      "metadata": {
        "id": "mfFGrZc0UE7j"
      }
    },
    {
      "cell_type": "code",
      "source": [
        "from google.colab import files\n",
        "uploaded = files.upload()"
      ],
      "metadata": {
        "colab": {
          "base_uri": "https://localhost:8080/",
          "height": 74
        },
        "id": "3lej8mh7NRxk",
        "outputId": "10c0cb27-0506-499b-a7ae-518d496a5ad0"
      },
      "execution_count": null,
      "outputs": [
        {
          "output_type": "display_data",
          "data": {
            "text/plain": [
              "<IPython.core.display.HTML object>"
            ],
            "text/html": [
              "\n",
              "     <input type=\"file\" id=\"files-5f51fc8d-13bb-4891-84fb-b5d582792e1d\" name=\"files[]\" multiple disabled\n",
              "        style=\"border:none\" />\n",
              "     <output id=\"result-5f51fc8d-13bb-4891-84fb-b5d582792e1d\">\n",
              "      Upload widget is only available when the cell has been executed in the\n",
              "      current browser session. Please rerun this cell to enable.\n",
              "      </output>\n",
              "      <script>// Copyright 2017 Google LLC\n",
              "//\n",
              "// Licensed under the Apache License, Version 2.0 (the \"License\");\n",
              "// you may not use this file except in compliance with the License.\n",
              "// You may obtain a copy of the License at\n",
              "//\n",
              "//      http://www.apache.org/licenses/LICENSE-2.0\n",
              "//\n",
              "// Unless required by applicable law or agreed to in writing, software\n",
              "// distributed under the License is distributed on an \"AS IS\" BASIS,\n",
              "// WITHOUT WARRANTIES OR CONDITIONS OF ANY KIND, either express or implied.\n",
              "// See the License for the specific language governing permissions and\n",
              "// limitations under the License.\n",
              "\n",
              "/**\n",
              " * @fileoverview Helpers for google.colab Python module.\n",
              " */\n",
              "(function(scope) {\n",
              "function span(text, styleAttributes = {}) {\n",
              "  const element = document.createElement('span');\n",
              "  element.textContent = text;\n",
              "  for (const key of Object.keys(styleAttributes)) {\n",
              "    element.style[key] = styleAttributes[key];\n",
              "  }\n",
              "  return element;\n",
              "}\n",
              "\n",
              "// Max number of bytes which will be uploaded at a time.\n",
              "const MAX_PAYLOAD_SIZE = 100 * 1024;\n",
              "\n",
              "function _uploadFiles(inputId, outputId) {\n",
              "  const steps = uploadFilesStep(inputId, outputId);\n",
              "  const outputElement = document.getElementById(outputId);\n",
              "  // Cache steps on the outputElement to make it available for the next call\n",
              "  // to uploadFilesContinue from Python.\n",
              "  outputElement.steps = steps;\n",
              "\n",
              "  return _uploadFilesContinue(outputId);\n",
              "}\n",
              "\n",
              "// This is roughly an async generator (not supported in the browser yet),\n",
              "// where there are multiple asynchronous steps and the Python side is going\n",
              "// to poll for completion of each step.\n",
              "// This uses a Promise to block the python side on completion of each step,\n",
              "// then passes the result of the previous step as the input to the next step.\n",
              "function _uploadFilesContinue(outputId) {\n",
              "  const outputElement = document.getElementById(outputId);\n",
              "  const steps = outputElement.steps;\n",
              "\n",
              "  const next = steps.next(outputElement.lastPromiseValue);\n",
              "  return Promise.resolve(next.value.promise).then((value) => {\n",
              "    // Cache the last promise value to make it available to the next\n",
              "    // step of the generator.\n",
              "    outputElement.lastPromiseValue = value;\n",
              "    return next.value.response;\n",
              "  });\n",
              "}\n",
              "\n",
              "/**\n",
              " * Generator function which is called between each async step of the upload\n",
              " * process.\n",
              " * @param {string} inputId Element ID of the input file picker element.\n",
              " * @param {string} outputId Element ID of the output display.\n",
              " * @return {!Iterable<!Object>} Iterable of next steps.\n",
              " */\n",
              "function* uploadFilesStep(inputId, outputId) {\n",
              "  const inputElement = document.getElementById(inputId);\n",
              "  inputElement.disabled = false;\n",
              "\n",
              "  const outputElement = document.getElementById(outputId);\n",
              "  outputElement.innerHTML = '';\n",
              "\n",
              "  const pickedPromise = new Promise((resolve) => {\n",
              "    inputElement.addEventListener('change', (e) => {\n",
              "      resolve(e.target.files);\n",
              "    });\n",
              "  });\n",
              "\n",
              "  const cancel = document.createElement('button');\n",
              "  inputElement.parentElement.appendChild(cancel);\n",
              "  cancel.textContent = 'Cancel upload';\n",
              "  const cancelPromise = new Promise((resolve) => {\n",
              "    cancel.onclick = () => {\n",
              "      resolve(null);\n",
              "    };\n",
              "  });\n",
              "\n",
              "  // Wait for the user to pick the files.\n",
              "  const files = yield {\n",
              "    promise: Promise.race([pickedPromise, cancelPromise]),\n",
              "    response: {\n",
              "      action: 'starting',\n",
              "    }\n",
              "  };\n",
              "\n",
              "  cancel.remove();\n",
              "\n",
              "  // Disable the input element since further picks are not allowed.\n",
              "  inputElement.disabled = true;\n",
              "\n",
              "  if (!files) {\n",
              "    return {\n",
              "      response: {\n",
              "        action: 'complete',\n",
              "      }\n",
              "    };\n",
              "  }\n",
              "\n",
              "  for (const file of files) {\n",
              "    const li = document.createElement('li');\n",
              "    li.append(span(file.name, {fontWeight: 'bold'}));\n",
              "    li.append(span(\n",
              "        `(${file.type || 'n/a'}) - ${file.size} bytes, ` +\n",
              "        `last modified: ${\n",
              "            file.lastModifiedDate ? file.lastModifiedDate.toLocaleDateString() :\n",
              "                                    'n/a'} - `));\n",
              "    const percent = span('0% done');\n",
              "    li.appendChild(percent);\n",
              "\n",
              "    outputElement.appendChild(li);\n",
              "\n",
              "    const fileDataPromise = new Promise((resolve) => {\n",
              "      const reader = new FileReader();\n",
              "      reader.onload = (e) => {\n",
              "        resolve(e.target.result);\n",
              "      };\n",
              "      reader.readAsArrayBuffer(file);\n",
              "    });\n",
              "    // Wait for the data to be ready.\n",
              "    let fileData = yield {\n",
              "      promise: fileDataPromise,\n",
              "      response: {\n",
              "        action: 'continue',\n",
              "      }\n",
              "    };\n",
              "\n",
              "    // Use a chunked sending to avoid message size limits. See b/62115660.\n",
              "    let position = 0;\n",
              "    do {\n",
              "      const length = Math.min(fileData.byteLength - position, MAX_PAYLOAD_SIZE);\n",
              "      const chunk = new Uint8Array(fileData, position, length);\n",
              "      position += length;\n",
              "\n",
              "      const base64 = btoa(String.fromCharCode.apply(null, chunk));\n",
              "      yield {\n",
              "        response: {\n",
              "          action: 'append',\n",
              "          file: file.name,\n",
              "          data: base64,\n",
              "        },\n",
              "      };\n",
              "\n",
              "      let percentDone = fileData.byteLength === 0 ?\n",
              "          100 :\n",
              "          Math.round((position / fileData.byteLength) * 100);\n",
              "      percent.textContent = `${percentDone}% done`;\n",
              "\n",
              "    } while (position < fileData.byteLength);\n",
              "  }\n",
              "\n",
              "  // All done.\n",
              "  yield {\n",
              "    response: {\n",
              "      action: 'complete',\n",
              "    }\n",
              "  };\n",
              "}\n",
              "\n",
              "scope.google = scope.google || {};\n",
              "scope.google.colab = scope.google.colab || {};\n",
              "scope.google.colab._files = {\n",
              "  _uploadFiles,\n",
              "  _uploadFilesContinue,\n",
              "};\n",
              "})(self);\n",
              "</script> "
            ]
          },
          "metadata": {}
        },
        {
          "output_type": "stream",
          "name": "stdout",
          "text": [
            "Saving ventiventuno.json to ventiventuno.json\n"
          ]
        }
      ]
    },
    {
      "cell_type": "code",
      "source": [
        "df = pd.read_json(io.StringIO(uploaded.get('ventiventuno.json').decode('utf-8')))"
      ],
      "metadata": {
        "id": "2dP-H_52NgKb"
      },
      "execution_count": null,
      "outputs": []
    },
    {
      "cell_type": "code",
      "source": [
        "l1 = list(zip(df[0], df[1]))"
      ],
      "metadata": {
        "id": "wGGPF1FuNxGy"
      },
      "execution_count": null,
      "outputs": []
    },
    {
      "cell_type": "code",
      "source": [
        "dataset = sc.parallelize(l1).cache()"
      ],
      "metadata": {
        "id": "eMLVPfjB9eK_"
      },
      "execution_count": null,
      "outputs": []
    },
    {
      "cell_type": "code",
      "source": [
        "total_movies = max(dataset.max(lambda x:x[0])[0],dataset.max(lambda x:x[1])[1])\n",
        "print(total_movies)"
      ],
      "metadata": {
        "id": "c9f1lM6W-GyU",
        "colab": {
          "base_uri": "https://localhost:8080/"
        },
        "outputId": "27ae675b-141b-4d3e-81e4-c7ed370ffb61"
      },
      "execution_count": null,
      "outputs": [
        {
          "output_type": "stream",
          "name": "stdout",
          "text": [
            "8460\n"
          ]
        }
      ]
    },
    {
      "cell_type": "code",
      "source": [
        "outdegree = dataset.countByKey()"
      ],
      "metadata": {
        "id": "L2MsohOw-Y0Y"
      },
      "execution_count": null,
      "outputs": []
    },
    {
      "cell_type": "code",
      "source": [
        "P = dataset.map(lambda x:(x[0],x[1],1/outdegree[x[0]]))\n",
        "P.take(20)"
      ],
      "metadata": {
        "id": "QexisyaoLSRw",
        "colab": {
          "base_uri": "https://localhost:8080/"
        },
        "outputId": "7dff0fcc-040e-4990-ed6e-707331159de3"
      },
      "execution_count": null,
      "outputs": [
        {
          "output_type": "execute_result",
          "data": {
            "text/plain": [
              "[(0, 8092, 0.3333333333333333),\n",
              " (0, 4899, 0.3333333333333333),\n",
              " (0, 6579, 0.3333333333333333),\n",
              " (1, 3279, 0.16666666666666666),\n",
              " (1, 3279, 0.16666666666666666),\n",
              " (1, 3279, 0.16666666666666666),\n",
              " (1, 3279, 0.16666666666666666),\n",
              " (1, 3279, 0.16666666666666666),\n",
              " (1, 3279, 0.16666666666666666),\n",
              " (2, 3784, 0.2),\n",
              " (2, 3697, 0.2),\n",
              " (2, 642, 0.2),\n",
              " (2, 3678, 0.2),\n",
              " (2, 6253, 0.2),\n",
              " (3, 4236, 0.5),\n",
              " (3, 4236, 0.5),\n",
              " (4, 470, 0.05263157894736842),\n",
              " (4, 684, 0.05263157894736842),\n",
              " (4, 1384, 0.05263157894736842),\n",
              " (4, 3080, 0.05263157894736842)]"
            ]
          },
          "metadata": {},
          "execution_count": 48
        }
      ]
    },
    {
      "cell_type": "code",
      "source": [
        "p = np.full((total_movies+1,), 1/(total_movies+1))\n",
        "p[:10]"
      ],
      "metadata": {
        "id": "gdIM6-izLUcr",
        "colab": {
          "base_uri": "https://localhost:8080/"
        },
        "outputId": "07d17755-995a-4ffb-d118-bd8b76f158c2"
      },
      "execution_count": null,
      "outputs": [
        {
          "output_type": "execute_result",
          "data": {
            "text/plain": [
              "array([0.00011819, 0.00011819, 0.00011819, 0.00011819, 0.00011819,\n",
              "       0.00011819, 0.00011819, 0.00011819, 0.00011819, 0.00011819])"
            ]
          },
          "metadata": {},
          "execution_count": 49
        }
      ]
    },
    {
      "cell_type": "code",
      "source": [
        "PT = P.map(lambda x: (x[1],x[0],x[2]))   "
      ],
      "metadata": {
        "id": "hezbzedTLYLb"
      },
      "execution_count": null,
      "outputs": []
    },
    {
      "cell_type": "code",
      "source": [
        "for i in range(1000): #takes approximately 5/7 minutes \n",
        "    new_p = PT.map(lambda x:(x[0],(x[2]*p[x[1]])))\\\n",
        "              .reduceByKey(lambda x,y: x+y)\\\n",
        "              .collect()\n",
        "    for idx,prb in new_p:\n",
        "        p[idx] = prb"
      ],
      "metadata": {
        "id": "RTryDHWqLb1z"
      },
      "execution_count": null,
      "outputs": []
    },
    {
      "cell_type": "code",
      "source": [
        "list(zip(p.argsort()[::-1], p[p.argsort()[::-1]])) #sorted results, output removed for space reason. top value (4442, 0.002052534354076937)"
      ],
      "metadata": {
        "id": "J_vL6zUSLhNK"
      },
      "execution_count": null,
      "outputs": []
    },
    {
      "cell_type": "markdown",
      "source": [
        "Because the dataset has been sorted by name, we can retrieve the movie titles of the highest result by either accessing a list of title by index of by creating a dictionary of titles. Both methods bring the same result."
      ],
      "metadata": {
        "id": "K2gk9dAgU98G"
      }
    },
    {
      "cell_type": "code",
      "source": [
        "from google.colab import files\n",
        "uploaded = files.upload()"
      ],
      "metadata": {
        "colab": {
          "base_uri": "https://localhost:8080/",
          "height": 74
        },
        "outputId": "06a40381-0f8b-4f1e-c6b6-3f1afc231a19",
        "id": "RUa0ebxPWMxy"
      },
      "execution_count": null,
      "outputs": [
        {
          "output_type": "display_data",
          "data": {
            "text/plain": [
              "<IPython.core.display.HTML object>"
            ],
            "text/html": [
              "\n",
              "     <input type=\"file\" id=\"files-b3867326-57bb-4de3-a32d-e20b14364de6\" name=\"files[]\" multiple disabled\n",
              "        style=\"border:none\" />\n",
              "     <output id=\"result-b3867326-57bb-4de3-a32d-e20b14364de6\">\n",
              "      Upload widget is only available when the cell has been executed in the\n",
              "      current browser session. Please rerun this cell to enable.\n",
              "      </output>\n",
              "      <script>// Copyright 2017 Google LLC\n",
              "//\n",
              "// Licensed under the Apache License, Version 2.0 (the \"License\");\n",
              "// you may not use this file except in compliance with the License.\n",
              "// You may obtain a copy of the License at\n",
              "//\n",
              "//      http://www.apache.org/licenses/LICENSE-2.0\n",
              "//\n",
              "// Unless required by applicable law or agreed to in writing, software\n",
              "// distributed under the License is distributed on an \"AS IS\" BASIS,\n",
              "// WITHOUT WARRANTIES OR CONDITIONS OF ANY KIND, either express or implied.\n",
              "// See the License for the specific language governing permissions and\n",
              "// limitations under the License.\n",
              "\n",
              "/**\n",
              " * @fileoverview Helpers for google.colab Python module.\n",
              " */\n",
              "(function(scope) {\n",
              "function span(text, styleAttributes = {}) {\n",
              "  const element = document.createElement('span');\n",
              "  element.textContent = text;\n",
              "  for (const key of Object.keys(styleAttributes)) {\n",
              "    element.style[key] = styleAttributes[key];\n",
              "  }\n",
              "  return element;\n",
              "}\n",
              "\n",
              "// Max number of bytes which will be uploaded at a time.\n",
              "const MAX_PAYLOAD_SIZE = 100 * 1024;\n",
              "\n",
              "function _uploadFiles(inputId, outputId) {\n",
              "  const steps = uploadFilesStep(inputId, outputId);\n",
              "  const outputElement = document.getElementById(outputId);\n",
              "  // Cache steps on the outputElement to make it available for the next call\n",
              "  // to uploadFilesContinue from Python.\n",
              "  outputElement.steps = steps;\n",
              "\n",
              "  return _uploadFilesContinue(outputId);\n",
              "}\n",
              "\n",
              "// This is roughly an async generator (not supported in the browser yet),\n",
              "// where there are multiple asynchronous steps and the Python side is going\n",
              "// to poll for completion of each step.\n",
              "// This uses a Promise to block the python side on completion of each step,\n",
              "// then passes the result of the previous step as the input to the next step.\n",
              "function _uploadFilesContinue(outputId) {\n",
              "  const outputElement = document.getElementById(outputId);\n",
              "  const steps = outputElement.steps;\n",
              "\n",
              "  const next = steps.next(outputElement.lastPromiseValue);\n",
              "  return Promise.resolve(next.value.promise).then((value) => {\n",
              "    // Cache the last promise value to make it available to the next\n",
              "    // step of the generator.\n",
              "    outputElement.lastPromiseValue = value;\n",
              "    return next.value.response;\n",
              "  });\n",
              "}\n",
              "\n",
              "/**\n",
              " * Generator function which is called between each async step of the upload\n",
              " * process.\n",
              " * @param {string} inputId Element ID of the input file picker element.\n",
              " * @param {string} outputId Element ID of the output display.\n",
              " * @return {!Iterable<!Object>} Iterable of next steps.\n",
              " */\n",
              "function* uploadFilesStep(inputId, outputId) {\n",
              "  const inputElement = document.getElementById(inputId);\n",
              "  inputElement.disabled = false;\n",
              "\n",
              "  const outputElement = document.getElementById(outputId);\n",
              "  outputElement.innerHTML = '';\n",
              "\n",
              "  const pickedPromise = new Promise((resolve) => {\n",
              "    inputElement.addEventListener('change', (e) => {\n",
              "      resolve(e.target.files);\n",
              "    });\n",
              "  });\n",
              "\n",
              "  const cancel = document.createElement('button');\n",
              "  inputElement.parentElement.appendChild(cancel);\n",
              "  cancel.textContent = 'Cancel upload';\n",
              "  const cancelPromise = new Promise((resolve) => {\n",
              "    cancel.onclick = () => {\n",
              "      resolve(null);\n",
              "    };\n",
              "  });\n",
              "\n",
              "  // Wait for the user to pick the files.\n",
              "  const files = yield {\n",
              "    promise: Promise.race([pickedPromise, cancelPromise]),\n",
              "    response: {\n",
              "      action: 'starting',\n",
              "    }\n",
              "  };\n",
              "\n",
              "  cancel.remove();\n",
              "\n",
              "  // Disable the input element since further picks are not allowed.\n",
              "  inputElement.disabled = true;\n",
              "\n",
              "  if (!files) {\n",
              "    return {\n",
              "      response: {\n",
              "        action: 'complete',\n",
              "      }\n",
              "    };\n",
              "  }\n",
              "\n",
              "  for (const file of files) {\n",
              "    const li = document.createElement('li');\n",
              "    li.append(span(file.name, {fontWeight: 'bold'}));\n",
              "    li.append(span(\n",
              "        `(${file.type || 'n/a'}) - ${file.size} bytes, ` +\n",
              "        `last modified: ${\n",
              "            file.lastModifiedDate ? file.lastModifiedDate.toLocaleDateString() :\n",
              "                                    'n/a'} - `));\n",
              "    const percent = span('0% done');\n",
              "    li.appendChild(percent);\n",
              "\n",
              "    outputElement.appendChild(li);\n",
              "\n",
              "    const fileDataPromise = new Promise((resolve) => {\n",
              "      const reader = new FileReader();\n",
              "      reader.onload = (e) => {\n",
              "        resolve(e.target.result);\n",
              "      };\n",
              "      reader.readAsArrayBuffer(file);\n",
              "    });\n",
              "    // Wait for the data to be ready.\n",
              "    let fileData = yield {\n",
              "      promise: fileDataPromise,\n",
              "      response: {\n",
              "        action: 'continue',\n",
              "      }\n",
              "    };\n",
              "\n",
              "    // Use a chunked sending to avoid message size limits. See b/62115660.\n",
              "    let position = 0;\n",
              "    do {\n",
              "      const length = Math.min(fileData.byteLength - position, MAX_PAYLOAD_SIZE);\n",
              "      const chunk = new Uint8Array(fileData, position, length);\n",
              "      position += length;\n",
              "\n",
              "      const base64 = btoa(String.fromCharCode.apply(null, chunk));\n",
              "      yield {\n",
              "        response: {\n",
              "          action: 'append',\n",
              "          file: file.name,\n",
              "          data: base64,\n",
              "        },\n",
              "      };\n",
              "\n",
              "      let percentDone = fileData.byteLength === 0 ?\n",
              "          100 :\n",
              "          Math.round((position / fileData.byteLength) * 100);\n",
              "      percent.textContent = `${percentDone}% done`;\n",
              "\n",
              "    } while (position < fileData.byteLength);\n",
              "  }\n",
              "\n",
              "  // All done.\n",
              "  yield {\n",
              "    response: {\n",
              "      action: 'complete',\n",
              "    }\n",
              "  };\n",
              "}\n",
              "\n",
              "scope.google = scope.google || {};\n",
              "scope.google.colab = scope.google.colab || {};\n",
              "scope.google.colab._files = {\n",
              "  _uploadFiles,\n",
              "  _uploadFilesContinue,\n",
              "};\n",
              "})(self);\n",
              "</script> "
            ]
          },
          "metadata": {}
        },
        {
          "output_type": "stream",
          "name": "stdout",
          "text": [
            "Saving titles2021.json to titles2021.json\n"
          ]
        }
      ]
    },
    {
      "cell_type": "code",
      "source": [
        "titles = pd.read_json(io.StringIO(uploaded.get('titles2021.json').decode('utf-8')))"
      ],
      "metadata": {
        "id": "tiTUdXooWU5W"
      },
      "execution_count": null,
      "outputs": []
    },
    {
      "cell_type": "code",
      "source": [
        "titles[0][4442]"
      ],
      "metadata": {
        "colab": {
          "base_uri": "https://localhost:8080/",
          "height": 36
        },
        "id": "rltdKxJtWa6U",
        "outputId": "0ebbc103-6523-408c-aded-6a82d98a9b13"
      },
      "execution_count": null,
      "outputs": [
        {
          "output_type": "execute_result",
          "data": {
            "text/plain": [
              "'Mission: The Prophet'"
            ],
            "application/vnd.google.colaboratory.intrinsic+json": {
              "type": "string"
            }
          },
          "metadata": {},
          "execution_count": 42
        }
      ]
    },
    {
      "cell_type": "markdown",
      "source": [
        "Dictionary alternative:"
      ],
      "metadata": {
        "id": "rKV_gw8SX4rX"
      }
    },
    {
      "cell_type": "code",
      "source": [
        "titles2 = list(titles[0].values.tolist())"
      ],
      "metadata": {
        "id": "di4FE7tNWcOJ"
      },
      "execution_count": null,
      "outputs": []
    },
    {
      "cell_type": "code",
      "source": [
        "titles2 # output removed for space reason"
      ],
      "metadata": {
        "id": "LCQdSyAtWw7Q"
      },
      "execution_count": null,
      "outputs": []
    },
    {
      "cell_type": "code",
      "source": [
        "movies = range(len(titles2))\n",
        "movie_titles = {p: l for p, l in zip(movies, titles2)}\n",
        "movie_titles #output removed for space reason."
      ],
      "metadata": {
        "id": "RVSHi9WcXDFw"
      },
      "execution_count": null,
      "outputs": []
    },
    {
      "cell_type": "code",
      "source": [
        "movie_titles[4442]"
      ],
      "metadata": {
        "colab": {
          "base_uri": "https://localhost:8080/",
          "height": 36
        },
        "id": "ypt39FB6XJuQ",
        "outputId": "a626456d-9630-442e-f885-533022fefdb1"
      },
      "execution_count": null,
      "outputs": [
        {
          "output_type": "execute_result",
          "data": {
            "text/plain": [
              "'Mission: The Prophet'"
            ],
            "application/vnd.google.colaboratory.intrinsic+json": {
              "type": "string"
            }
          },
          "metadata": {},
          "execution_count": 48
        }
      ]
    },
    {
      "cell_type": "markdown",
      "source": [
        "#PageRank Euclidean Distance Small network"
      ],
      "metadata": {
        "id": "9V2qU23IaaT9"
      }
    },
    {
      "cell_type": "markdown",
      "source": [
        "After defining the Euclidean distance function, we see that the process as seen is class, adapted for this dataset, works on the small dataset leading to similar results."
      ],
      "metadata": {
        "id": "NznBeYt-aoVr"
      }
    },
    {
      "cell_type": "code",
      "execution_count": null,
      "metadata": {
        "id": "u1bx4Be-0RMU"
      },
      "outputs": [],
      "source": [
        "def l2distance(v, q):\n",
        "    \n",
        "    if len(v) != len(q):\n",
        "        raise ValueError('Vectors of different lenght'\n",
        "                         ' error')\n",
        "    \n",
        "    return sum([(q_el - v_el)**2 for v_el, q_el in zip(v, q)])"
      ]
    },
    {
      "cell_type": "code",
      "source": [
        "from google.colab import files\n",
        "uploaded = files.upload()"
      ],
      "metadata": {
        "colab": {
          "base_uri": "https://localhost:8080/",
          "height": 74
        },
        "id": "DtCodLVnKwf0",
        "outputId": "15392034-75b8-40de-eb81-0c0c1cda90cf"
      },
      "execution_count": null,
      "outputs": [
        {
          "output_type": "display_data",
          "data": {
            "text/plain": [
              "<IPython.core.display.HTML object>"
            ],
            "text/html": [
              "\n",
              "     <input type=\"file\" id=\"files-7cb995bb-e23e-45d4-9d84-b6a969e40c60\" name=\"files[]\" multiple disabled\n",
              "        style=\"border:none\" />\n",
              "     <output id=\"result-7cb995bb-e23e-45d4-9d84-b6a969e40c60\">\n",
              "      Upload widget is only available when the cell has been executed in the\n",
              "      current browser session. Please rerun this cell to enable.\n",
              "      </output>\n",
              "      <script>// Copyright 2017 Google LLC\n",
              "//\n",
              "// Licensed under the Apache License, Version 2.0 (the \"License\");\n",
              "// you may not use this file except in compliance with the License.\n",
              "// You may obtain a copy of the License at\n",
              "//\n",
              "//      http://www.apache.org/licenses/LICENSE-2.0\n",
              "//\n",
              "// Unless required by applicable law or agreed to in writing, software\n",
              "// distributed under the License is distributed on an \"AS IS\" BASIS,\n",
              "// WITHOUT WARRANTIES OR CONDITIONS OF ANY KIND, either express or implied.\n",
              "// See the License for the specific language governing permissions and\n",
              "// limitations under the License.\n",
              "\n",
              "/**\n",
              " * @fileoverview Helpers for google.colab Python module.\n",
              " */\n",
              "(function(scope) {\n",
              "function span(text, styleAttributes = {}) {\n",
              "  const element = document.createElement('span');\n",
              "  element.textContent = text;\n",
              "  for (const key of Object.keys(styleAttributes)) {\n",
              "    element.style[key] = styleAttributes[key];\n",
              "  }\n",
              "  return element;\n",
              "}\n",
              "\n",
              "// Max number of bytes which will be uploaded at a time.\n",
              "const MAX_PAYLOAD_SIZE = 100 * 1024;\n",
              "\n",
              "function _uploadFiles(inputId, outputId) {\n",
              "  const steps = uploadFilesStep(inputId, outputId);\n",
              "  const outputElement = document.getElementById(outputId);\n",
              "  // Cache steps on the outputElement to make it available for the next call\n",
              "  // to uploadFilesContinue from Python.\n",
              "  outputElement.steps = steps;\n",
              "\n",
              "  return _uploadFilesContinue(outputId);\n",
              "}\n",
              "\n",
              "// This is roughly an async generator (not supported in the browser yet),\n",
              "// where there are multiple asynchronous steps and the Python side is going\n",
              "// to poll for completion of each step.\n",
              "// This uses a Promise to block the python side on completion of each step,\n",
              "// then passes the result of the previous step as the input to the next step.\n",
              "function _uploadFilesContinue(outputId) {\n",
              "  const outputElement = document.getElementById(outputId);\n",
              "  const steps = outputElement.steps;\n",
              "\n",
              "  const next = steps.next(outputElement.lastPromiseValue);\n",
              "  return Promise.resolve(next.value.promise).then((value) => {\n",
              "    // Cache the last promise value to make it available to the next\n",
              "    // step of the generator.\n",
              "    outputElement.lastPromiseValue = value;\n",
              "    return next.value.response;\n",
              "  });\n",
              "}\n",
              "\n",
              "/**\n",
              " * Generator function which is called between each async step of the upload\n",
              " * process.\n",
              " * @param {string} inputId Element ID of the input file picker element.\n",
              " * @param {string} outputId Element ID of the output display.\n",
              " * @return {!Iterable<!Object>} Iterable of next steps.\n",
              " */\n",
              "function* uploadFilesStep(inputId, outputId) {\n",
              "  const inputElement = document.getElementById(inputId);\n",
              "  inputElement.disabled = false;\n",
              "\n",
              "  const outputElement = document.getElementById(outputId);\n",
              "  outputElement.innerHTML = '';\n",
              "\n",
              "  const pickedPromise = new Promise((resolve) => {\n",
              "    inputElement.addEventListener('change', (e) => {\n",
              "      resolve(e.target.files);\n",
              "    });\n",
              "  });\n",
              "\n",
              "  const cancel = document.createElement('button');\n",
              "  inputElement.parentElement.appendChild(cancel);\n",
              "  cancel.textContent = 'Cancel upload';\n",
              "  const cancelPromise = new Promise((resolve) => {\n",
              "    cancel.onclick = () => {\n",
              "      resolve(null);\n",
              "    };\n",
              "  });\n",
              "\n",
              "  // Wait for the user to pick the files.\n",
              "  const files = yield {\n",
              "    promise: Promise.race([pickedPromise, cancelPromise]),\n",
              "    response: {\n",
              "      action: 'starting',\n",
              "    }\n",
              "  };\n",
              "\n",
              "  cancel.remove();\n",
              "\n",
              "  // Disable the input element since further picks are not allowed.\n",
              "  inputElement.disabled = true;\n",
              "\n",
              "  if (!files) {\n",
              "    return {\n",
              "      response: {\n",
              "        action: 'complete',\n",
              "      }\n",
              "    };\n",
              "  }\n",
              "\n",
              "  for (const file of files) {\n",
              "    const li = document.createElement('li');\n",
              "    li.append(span(file.name, {fontWeight: 'bold'}));\n",
              "    li.append(span(\n",
              "        `(${file.type || 'n/a'}) - ${file.size} bytes, ` +\n",
              "        `last modified: ${\n",
              "            file.lastModifiedDate ? file.lastModifiedDate.toLocaleDateString() :\n",
              "                                    'n/a'} - `));\n",
              "    const percent = span('0% done');\n",
              "    li.appendChild(percent);\n",
              "\n",
              "    outputElement.appendChild(li);\n",
              "\n",
              "    const fileDataPromise = new Promise((resolve) => {\n",
              "      const reader = new FileReader();\n",
              "      reader.onload = (e) => {\n",
              "        resolve(e.target.result);\n",
              "      };\n",
              "      reader.readAsArrayBuffer(file);\n",
              "    });\n",
              "    // Wait for the data to be ready.\n",
              "    let fileData = yield {\n",
              "      promise: fileDataPromise,\n",
              "      response: {\n",
              "        action: 'continue',\n",
              "      }\n",
              "    };\n",
              "\n",
              "    // Use a chunked sending to avoid message size limits. See b/62115660.\n",
              "    let position = 0;\n",
              "    do {\n",
              "      const length = Math.min(fileData.byteLength - position, MAX_PAYLOAD_SIZE);\n",
              "      const chunk = new Uint8Array(fileData, position, length);\n",
              "      position += length;\n",
              "\n",
              "      const base64 = btoa(String.fromCharCode.apply(null, chunk));\n",
              "      yield {\n",
              "        response: {\n",
              "          action: 'append',\n",
              "          file: file.name,\n",
              "          data: base64,\n",
              "        },\n",
              "      };\n",
              "\n",
              "      let percentDone = fileData.byteLength === 0 ?\n",
              "          100 :\n",
              "          Math.round((position / fileData.byteLength) * 100);\n",
              "      percent.textContent = `${percentDone}% done`;\n",
              "\n",
              "    } while (position < fileData.byteLength);\n",
              "  }\n",
              "\n",
              "  // All done.\n",
              "  yield {\n",
              "    response: {\n",
              "      action: 'complete',\n",
              "    }\n",
              "  };\n",
              "}\n",
              "\n",
              "scope.google = scope.google || {};\n",
              "scope.google.colab = scope.google.colab || {};\n",
              "scope.google.colab._files = {\n",
              "  _uploadFiles,\n",
              "  _uploadFilesContinue,\n",
              "};\n",
              "})(self);\n",
              "</script> "
            ]
          },
          "metadata": {}
        },
        {
          "output_type": "stream",
          "name": "stdout",
          "text": [
            "Saving taikajemcountminusone.json to taikajemcountminusone (2).json\n"
          ]
        }
      ]
    },
    {
      "cell_type": "code",
      "source": [
        "df = pd.read_json(io.StringIO(uploaded.get('taikajemcountminusone.json').decode('utf-8')))"
      ],
      "metadata": {
        "id": "u4_hTSzxK1RC"
      },
      "execution_count": null,
      "outputs": []
    },
    {
      "cell_type": "code",
      "source": [
        "l1 = list(zip(df[0], df[1]))"
      ],
      "metadata": {
        "id": "P6NELT00LCTr"
      },
      "execution_count": null,
      "outputs": []
    },
    {
      "cell_type": "code",
      "source": [
        "dataset = sc.parallelize(l1).cache()"
      ],
      "metadata": {
        "id": "CcS4sLYXLahD"
      },
      "execution_count": null,
      "outputs": []
    },
    {
      "cell_type": "code",
      "source": [
        "total_movies = max(dataset.max(lambda x:x[0])[0],dataset.max(lambda x:x[1])[1])\n",
        "print(total_movies)"
      ],
      "metadata": {
        "id": "uytKD7JlL6ZP",
        "colab": {
          "base_uri": "https://localhost:8080/"
        },
        "outputId": "31142d57-9104-4cfc-8e6c-03ead2fae967"
      },
      "execution_count": null,
      "outputs": [
        {
          "output_type": "stream",
          "name": "stdout",
          "text": [
            "22\n"
          ]
        }
      ]
    },
    {
      "cell_type": "code",
      "source": [
        "outdegree = dataset.countByKey()"
      ],
      "metadata": {
        "id": "Cpb94qPDL9aH"
      },
      "execution_count": null,
      "outputs": []
    },
    {
      "cell_type": "code",
      "source": [
        "P = dataset.map(lambda x:(x[0],x[1],1/outdegree[x[0]]))\n",
        "P.take(20)"
      ],
      "metadata": {
        "id": "eJTU2NLUMBfb",
        "colab": {
          "base_uri": "https://localhost:8080/"
        },
        "outputId": "9ba67347-6cb3-4437-dc9a-7293d86e637d"
      },
      "execution_count": null,
      "outputs": [
        {
          "output_type": "execute_result",
          "data": {
            "text/plain": [
              "[(0, 1, 0.06666666666666667),\n",
              " (0, 2, 0.06666666666666667),\n",
              " (0, 4, 0.06666666666666667),\n",
              " (0, 5, 0.06666666666666667),\n",
              " (0, 8, 0.06666666666666667),\n",
              " (0, 9, 0.06666666666666667),\n",
              " (0, 12, 0.06666666666666667),\n",
              " (0, 13, 0.06666666666666667),\n",
              " (0, 14, 0.06666666666666667),\n",
              " (0, 15, 0.06666666666666667),\n",
              " (0, 16, 0.06666666666666667),\n",
              " (0, 17, 0.06666666666666667),\n",
              " (0, 20, 0.06666666666666667),\n",
              " (0, 21, 0.06666666666666667),\n",
              " (0, 22, 0.06666666666666667),\n",
              " (1, 0, 0.06666666666666667),\n",
              " (1, 2, 0.06666666666666667),\n",
              " (1, 4, 0.06666666666666667),\n",
              " (1, 5, 0.06666666666666667),\n",
              " (1, 8, 0.06666666666666667)]"
            ]
          },
          "metadata": {},
          "execution_count": 77
        }
      ]
    },
    {
      "cell_type": "code",
      "source": [
        "PT = P.map(lambda x: (x[1],x[0],x[2]))"
      ],
      "metadata": {
        "id": "Xiu-_QrRMUOk"
      },
      "execution_count": null,
      "outputs": []
    },
    {
      "cell_type": "code",
      "source": [
        "page_rank = np.ones(total_movies+1)/(total_movies+1)\n",
        "old_page_rank = np.ones(total_movies+1)"
      ],
      "metadata": {
        "id": "zYKy6LjyMZl_"
      },
      "execution_count": null,
      "outputs": []
    },
    {
      "cell_type": "code",
      "source": [
        "page_rank"
      ],
      "metadata": {
        "id": "y9Y5Cm7XM7Cp",
        "colab": {
          "base_uri": "https://localhost:8080/"
        },
        "outputId": "e1f59d26-5464-4b83-8c45-767b96689375"
      },
      "execution_count": null,
      "outputs": [
        {
          "output_type": "execute_result",
          "data": {
            "text/plain": [
              "array([0.04347826, 0.04347826, 0.04347826, 0.04347826, 0.04347826,\n",
              "       0.04347826, 0.04347826, 0.04347826, 0.04347826, 0.04347826,\n",
              "       0.04347826, 0.04347826, 0.04347826, 0.04347826, 0.04347826,\n",
              "       0.04347826, 0.04347826, 0.04347826, 0.04347826, 0.04347826,\n",
              "       0.04347826, 0.04347826, 0.04347826])"
            ]
          },
          "metadata": {},
          "execution_count": 80
        }
      ]
    },
    {
      "cell_type": "code",
      "source": [
        "tolerance = 10e-7\n",
        "max_iterations = 1000\n",
        "\n",
        "iteration = 0\n",
        "while l2distance(old_page_rank, page_rank) >= tolerance and \\\n",
        "      iteration < max_iterations:\n",
        "    old_page_rank = page_rank\n",
        "    \n",
        "    page_rank_values = (PT\n",
        "                        .map(lambda t: (t[0], t[2]*page_rank[t[1]]))\n",
        "                        .reduceByKey(lambda a, b: a+b)\n",
        "                        .sortByKey()\n",
        "                        .collect()\n",
        "                       )\n",
        "    \n",
        "    page_rank = np.array([c for (i, c) in page_rank_values])\n",
        "    \n",
        "    print(page_rank)\n",
        "\n",
        "    iteration += 1"
      ],
      "metadata": {
        "id": "LYaFNNCwNKdp",
        "colab": {
          "base_uri": "https://localhost:8080/"
        },
        "outputId": "db78ca19-99ca-4498-bb5e-ad63c9d92fb8"
      },
      "execution_count": null,
      "outputs": [
        {
          "output_type": "stream",
          "name": "stdout",
          "text": [
            "[0.04255599 0.04255599 0.04255599 0.03924337 0.04255599 0.04255599\n",
            " 0.03924337 0.03924337 0.04255599 0.04255599 0.03924337 0.03924337\n",
            " 0.04255599 0.04255599 0.04255599 0.04255599 0.04255599 0.04255599\n",
            " 0.03924337 0.03924337 0.04255599 0.04255599 0.08695652]\n",
            "[0.0436715  0.0436715  0.0436715  0.03758974 0.0436715  0.0436715\n",
            " 0.03758974 0.03758974 0.0436715  0.0436715  0.03758974 0.03758974\n",
            " 0.0436715  0.0436715  0.0436715  0.0436715  0.0436715  0.0436715\n",
            " 0.03758974 0.03758974 0.0436715  0.0436715  0.08179936]\n",
            "[0.04447822 0.04447822 0.04447822 0.03593793 0.04447822 0.04447822\n",
            " 0.03593793 0.03593793 0.04447822 0.04447822 0.03593793 0.03593793\n",
            " 0.04447822 0.04447822 0.04447822 0.04447822 0.04447822 0.04447822\n",
            " 0.03593793 0.03593793 0.04447822 0.04447822 0.08126124]\n",
            "[0.0452067  0.0452067  0.0452067  0.03449763 0.0452067  0.0452067\n",
            " 0.03449763 0.03449763 0.0452067  0.0452067  0.03449763 0.03449763\n",
            " 0.0452067  0.0452067  0.0452067  0.0452067  0.0452067  0.0452067\n",
            " 0.03449763 0.03449763 0.0452067  0.0452067  0.08041615]\n",
            "[0.04584819 0.04584819 0.04584819 0.03322468 0.04584819 0.04584819\n",
            " 0.03322468 0.03322468 0.04584819 0.04584819 0.03322468 0.03322468\n",
            " 0.04584819 0.04584819 0.04584819 0.04584819 0.04584819 0.04584819\n",
            " 0.03322468 0.03322468 0.04584819 0.04584819 0.07970433]\n",
            "[0.04641457 0.04641457 0.04641457 0.03210122 0.04641457 0.04641457\n",
            " 0.03210122 0.03210122 0.04641457 0.04641457 0.03210122 0.03210122\n",
            " 0.04641457 0.04641457 0.04641457 0.04641457 0.04641457 0.04641457\n",
            " 0.03210122 0.03210122 0.04641457 0.04641457 0.07907287]\n",
            "[0.04691449 0.04691449 0.04691449 0.03110955 0.04691449 0.04691449\n",
            " 0.03110955 0.03110955 0.04691449 0.04691449 0.03110955 0.03110955\n",
            " 0.04691449 0.04691449 0.04691449 0.04691449 0.04691449 0.04691449\n",
            " 0.03110955 0.03110955 0.04691449 0.04691449 0.07851579]\n",
            "[0.04735576 0.04735576 0.04735576 0.03023423 0.04735576 0.04735576\n",
            " 0.03023423 0.03023423 0.04735576 0.04735576 0.03023423 0.03023423\n",
            " 0.04735576 0.04735576 0.04735576 0.04735576 0.04735576 0.04735576\n",
            " 0.03023423 0.03023423 0.04735576 0.04735576 0.07802404]\n",
            "[0.04774525 0.04774525 0.04774525 0.0294616  0.04774525 0.04774525\n",
            " 0.0294616  0.0294616  0.04774525 0.04774525 0.0294616  0.0294616\n",
            " 0.04774525 0.04774525 0.04774525 0.04774525 0.04774525 0.04774525\n",
            " 0.0294616  0.0294616  0.04774525 0.04774525 0.07758999]\n",
            "[0.04808905 0.04808905 0.04808905 0.02877962 0.04808905 0.04808905\n",
            " 0.02877962 0.02877962 0.04808905 0.04808905 0.02877962 0.02877962\n",
            " 0.04808905 0.04808905 0.04808905 0.04808905 0.04808905 0.04808905\n",
            " 0.02877962 0.02877962 0.04808905 0.04808905 0.07720686]\n",
            "[0.04839252 0.04839252 0.04839252 0.02817765 0.04839252 0.04839252\n",
            " 0.02817765 0.02817765 0.04839252 0.04839252 0.02817765 0.02817765\n",
            " 0.04839252 0.04839252 0.04839252 0.04839252 0.04839252 0.04839252\n",
            " 0.02817765 0.02817765 0.04839252 0.04839252 0.07686867]\n",
            "[0.04866038 0.04866038 0.04866038 0.0276463  0.04866038 0.04866038\n",
            " 0.0276463  0.0276463  0.04866038 0.04866038 0.0276463  0.0276463\n",
            " 0.04866038 0.04866038 0.04866038 0.04866038 0.04866038 0.04866038\n",
            " 0.0276463  0.0276463  0.04866038 0.04866038 0.07657017]\n",
            "[0.04889682 0.04889682 0.04889682 0.02717729 0.04889682 0.04889682\n",
            " 0.02717729 0.02717729 0.04889682 0.04889682 0.02717729 0.02717729\n",
            " 0.04889682 0.04889682 0.04889682 0.04889682 0.04889682 0.04889682\n",
            " 0.02717729 0.02717729 0.04889682 0.04889682 0.07630668]\n",
            "[0.04910552 0.04910552 0.04910552 0.02676331 0.04910552 0.04910552\n",
            " 0.02676331 0.02676331 0.04910552 0.04910552 0.02676331 0.02676331\n",
            " 0.04910552 0.04910552 0.04910552 0.04910552 0.04910552 0.04910552\n",
            " 0.02676331 0.02676331 0.04910552 0.04910552 0.07607411]\n",
            "[0.04928973 0.04928973 0.04928973 0.02639789 0.04928973 0.04928973\n",
            " 0.02639789 0.02639789 0.04928973 0.04928973 0.02639789 0.02639789\n",
            " 0.04928973 0.04928973 0.04928973 0.04928973 0.04928973 0.04928973\n",
            " 0.02639789 0.02639789 0.04928973 0.04928973 0.07586882]\n",
            "[0.04945233 0.04945233 0.04945233 0.02607535 0.04945233 0.04945233\n",
            " 0.02607535 0.02607535 0.04945233 0.04945233 0.02607535 0.02607535\n",
            " 0.04945233 0.04945233 0.04945233 0.04945233 0.04945233 0.04945233\n",
            " 0.02607535 0.02607535 0.04945233 0.04945233 0.07568762]\n",
            "[0.04959585 0.04959585 0.04959585 0.02579064 0.04959585 0.04959585\n",
            " 0.02579064 0.02579064 0.04959585 0.04959585 0.02579064 0.02579064\n",
            " 0.04959585 0.04959585 0.04959585 0.04959585 0.04959585 0.04959585\n",
            " 0.02579064 0.02579064 0.04959585 0.04959585 0.07552768]\n"
          ]
        }
      ]
    },
    {
      "cell_type": "markdown",
      "source": [
        "The result is indeed similar to the previous algorithm. Node 22 is still the node with highest value, and the the ranking of the following values is also the same."
      ],
      "metadata": {
        "id": "pM9Sqnrqb1cD"
      }
    },
    {
      "cell_type": "code",
      "source": [
        "list(zip(page_rank.argsort()[::-1], page_rank[page_rank.argsort()[::-1]]))"
      ],
      "metadata": {
        "id": "rVDaHc9gNba_",
        "colab": {
          "base_uri": "https://localhost:8080/"
        },
        "outputId": "88ad13ee-daea-4f75-a0d0-54d21db22535"
      },
      "execution_count": null,
      "outputs": [
        {
          "output_type": "execute_result",
          "data": {
            "text/plain": [
              "[(22, 0.07552767673270142),\n",
              " (12, 0.049595854680234745),\n",
              " (1, 0.049595854680234745),\n",
              " (2, 0.049595854680234745),\n",
              " (4, 0.049595854680234745),\n",
              " (5, 0.049595854680234745),\n",
              " (8, 0.049595854680234745),\n",
              " (9, 0.049595854680234745),\n",
              " (21, 0.049595854680234745),\n",
              " (0, 0.049595854680234745),\n",
              " (13, 0.049595854680234745),\n",
              " (14, 0.049595854680234745),\n",
              " (15, 0.049595854680234745),\n",
              " (16, 0.049595854680234745),\n",
              " (17, 0.049595854680234745),\n",
              " (20, 0.049595854680234745),\n",
              " (10, 0.025790643294825326),\n",
              " (7, 0.025790643294825326),\n",
              " (6, 0.025790643294825326),\n",
              " (3, 0.025790643294825326),\n",
              " (11, 0.025790643294825326),\n",
              " (18, 0.025790643294825322),\n",
              " (19, 0.025790643294825322)]"
            ]
          },
          "metadata": {},
          "execution_count": 65
        }
      ]
    },
    {
      "cell_type": "code",
      "source": [
        "iteration #number of needed iterations"
      ],
      "metadata": {
        "id": "a4wskQVJOAsZ",
        "colab": {
          "base_uri": "https://localhost:8080/"
        },
        "outputId": "6ecc9baf-4f1e-4373-8d7a-fdc5486b5395"
      },
      "execution_count": null,
      "outputs": [
        {
          "output_type": "execute_result",
          "data": {
            "text/plain": [
              "17"
            ]
          },
          "metadata": {},
          "execution_count": 66
        }
      ]
    },
    {
      "cell_type": "code",
      "source": [
        "nx.draw(g, with_labels=True, labels=nodes_index,\n",
        "        node_color=page_rank, cmap=plt.cm.summer, **opts)\n",
        "plt.show()"
      ],
      "metadata": {
        "colab": {
          "base_uri": "https://localhost:8080/",
          "height": 319
        },
        "id": "CYEGaEy-eFzX",
        "outputId": "fb89374e-39fb-4133-d188-e33de85e8651"
      },
      "execution_count": null,
      "outputs": [
        {
          "output_type": "display_data",
          "data": {
            "text/plain": [
              "<Figure size 432x288 with 1 Axes>"
            ],
            "image/png": "[encoded data removed]"
          },
          "metadata": {}
        }
      ]
    },
    {
      "cell_type": "markdown",
      "source": [
        "# PageRank with Euclidean distance and Taxation on a Small network"
      ],
      "metadata": {
        "id": "HaRFRFuWdelK"
      }
    },
    {
      "cell_type": "markdown",
      "source": [
        "By nature of the network, it's impossible to have dangling nodes or spider traps; even though the network is directed, each edge exista in both directiona by definition, because we have connected movies if they share an actor, so the relationship is symmetrical. We can only have isolated components, and even though it is highly unlikely that a small group of movies does not share even a single acting credit with the main component of the network, we cannot exclude it completely, so we can run the algorithm with the taxation variation too. "
      ],
      "metadata": {
        "id": "X6AjSIMBnSkc"
      }
    },
    {
      "cell_type": "code",
      "source": [
        "#we re-inizialize the sparkcontext and data using the code in the previous section until the last step\n",
        "tolerance = 10e-7\n",
        "max_iterations = 1000\n",
        "\n",
        "iteration = 0\n",
        "while l2distance(old_page_rank, page_rank) >= tolerance and \\\n",
        "      iteration < max_iterations:\n",
        "    beta = 0.8\n",
        "    old_page_rank = page_rank\n",
        "    \n",
        "    page_rank_values = (PT\n",
        "                        .map(lambda t: (t[0], t[2]*page_rank[t[1]]))\n",
        "                        .reduceByKey(lambda a, b: a+b)\n",
        "                        .sortByKey()\n",
        "                        .collect()\n",
        "                       )\n",
        "    page_rank = np.array([beta*c + (1-beta)/(total_movies+1)\n",
        "                              for (i, c) in page_rank_values])\n",
        "    print(page_rank)\n",
        "\n",
        "    iteration += 1\n",
        "\n",
        "    "
      ],
      "metadata": {
        "colab": {
          "base_uri": "https://localhost:8080/"
        },
        "id": "fleWaej1doUu",
        "outputId": "635eb556-51c1-4623-b074-10c3b5f63ba6"
      },
      "execution_count": null,
      "outputs": [
        {
          "output_type": "stream",
          "name": "stdout",
          "text": [
            "[0.04274045 0.04274045 0.04274045 0.04009034 0.04274045 0.04274045\n",
            " 0.04009034 0.04009034 0.04274045 0.04274045 0.04009034 0.04009034\n",
            " 0.04274045 0.04274045 0.04274045 0.04274045 0.04274045 0.04274045\n",
            " 0.04009034 0.04009034 0.04274045 0.04274045 0.07826087]\n",
            "[0.04345437 0.04345437 0.04345437 0.03903202 0.04345437 0.04345437\n",
            " 0.03903202 0.03903202 0.04345437 0.04345437 0.03903202 0.03903202\n",
            " 0.04345437 0.04345437 0.04345437 0.04345437 0.04345437 0.04345437\n",
            " 0.03903202 0.03903202 0.04345437 0.04345437 0.07496029]\n",
            "[0.04386741 0.04386741 0.04386741 0.0381863  0.04386741 0.04386741\n",
            " 0.0381863  0.0381863  0.04386741 0.04386741 0.0381863  0.0381863\n",
            " 0.04386741 0.04386741 0.04386741 0.04386741 0.04386741 0.04386741\n",
            " 0.0381863  0.0381863  0.04386741 0.04386741 0.07468477]\n",
            "[0.04416579 0.04416579 0.04416579 0.03759635 0.04416579 0.04416579\n",
            " 0.03759635 0.03759635 0.04416579 0.04416579 0.03759635 0.03759635\n",
            " 0.04416579 0.04416579 0.04416579 0.04416579 0.04416579 0.04416579\n",
            " 0.03759635 0.03759635 0.04416579 0.04416579 0.07433862]\n",
            "[0.044376   0.044376   0.044376   0.03717923 0.044376   0.044376\n",
            " 0.03717923 0.03717923 0.044376   0.044376   0.03717923 0.03717923\n",
            " 0.044376   0.044376   0.044376   0.044376   0.044376   0.044376\n",
            " 0.03717923 0.03717923 0.044376   0.044376   0.07410537]\n",
            "[0.04452447 0.04452447 0.04452447 0.03688472 0.04452447 0.04452447\n",
            " 0.03688472 0.03688472 0.04452447 0.04452447 0.03688472 0.03688472\n",
            " 0.04452447 0.04452447 0.04452447 0.04452447 0.04452447 0.04452447\n",
            " 0.03688472 0.03688472 0.04452447 0.04452447 0.07393984]\n"
          ]
        }
      ]
    },
    {
      "cell_type": "code",
      "source": [
        "list(zip(page_rank.argsort()[::-1], page_rank[page_rank.argsort()[::-1]]))"
      ],
      "metadata": {
        "colab": {
          "base_uri": "https://localhost:8080/"
        },
        "outputId": "4a344aba-8ce2-4f7d-b734-37aba6f75958",
        "id": "zgz1IXLvs6sK"
      },
      "execution_count": null,
      "outputs": [
        {
          "output_type": "execute_result",
          "data": {
            "text/plain": [
              "[(22, 0.07552767673270142),\n",
              " (12, 0.049595854680234745),\n",
              " (1, 0.049595854680234745),\n",
              " (2, 0.049595854680234745),\n",
              " (4, 0.049595854680234745),\n",
              " (5, 0.049595854680234745),\n",
              " (8, 0.049595854680234745),\n",
              " (9, 0.049595854680234745),\n",
              " (21, 0.049595854680234745),\n",
              " (0, 0.049595854680234745),\n",
              " (13, 0.049595854680234745),\n",
              " (14, 0.049595854680234745),\n",
              " (15, 0.049595854680234745),\n",
              " (16, 0.049595854680234745),\n",
              " (17, 0.049595854680234745),\n",
              " (20, 0.049595854680234745),\n",
              " (10, 0.025790643294825326),\n",
              " (7, 0.025790643294825326),\n",
              " (6, 0.025790643294825326),\n",
              " (3, 0.025790643294825326),\n",
              " (11, 0.025790643294825326),\n",
              " (18, 0.025790643294825322),\n",
              " (19, 0.025790643294825322)]"
            ]
          },
          "metadata": {},
          "execution_count": 68
        }
      ]
    },
    {
      "cell_type": "code",
      "source": [
        "iteration #number of needed iterations"
      ],
      "metadata": {
        "colab": {
          "base_uri": "https://localhost:8080/"
        },
        "outputId": "e31c6296-c3f8-4c8f-c824-c81bd6d8f145",
        "id": "qOR-dEpNtIX6"
      },
      "execution_count": null,
      "outputs": [
        {
          "output_type": "execute_result",
          "data": {
            "text/plain": [
              "6"
            ]
          },
          "metadata": {},
          "execution_count": 100
        }
      ]
    },
    {
      "cell_type": "code",
      "source": [
        "nx.draw(g, with_labels=True, labels=nodes_index,\n",
        "        node_color=page_rank, cmap=plt.cm.summer, **opts)\n",
        "plt.show()"
      ],
      "metadata": {
        "colab": {
          "base_uri": "https://localhost:8080/",
          "height": 319
        },
        "id": "9sl_9rIfe7M2",
        "outputId": "717053d3-54e8-46ef-b36d-f2b38534aa17"
      },
      "execution_count": null,
      "outputs": [
        {
          "output_type": "display_data",
          "data": {
            "text/plain": [
              "<Figure size 432x288 with 1 Axes>"
            ],
            "image/png": "[encoded data removed]"
          },
          "metadata": {}
        }
      ]
    },
    {
      "cell_type": "markdown",
      "source": [
        "The result has the same ordering and very similar values, but needed less iterations to reach convergence."
      ],
      "metadata": {
        "id": "RuSQ_TOxtOq0"
      }
    },
    {
      "cell_type": "markdown",
      "source": [
        "#PageRank Euclidean distance Complete network"
      ],
      "metadata": {
        "id": "8PoEH2-3qAkq"
      }
    },
    {
      "cell_type": "code",
      "source": [
        "from google.colab import files\n",
        "uploaded = files.upload()"
      ],
      "metadata": {
        "colab": {
          "base_uri": "https://localhost:8080/",
          "height": 74
        },
        "outputId": "767dc755-f392-4045-ab1c-1f5d08940f06",
        "id": "Cr-wz5z_qQGQ"
      },
      "execution_count": null,
      "outputs": [
        {
          "output_type": "display_data",
          "data": {
            "text/plain": [
              "<IPython.core.display.HTML object>"
            ],
            "text/html": [
              "\n",
              "     <input type=\"file\" id=\"files-1dba2e21-44f8-4916-91f3-dc4d5310e1c0\" name=\"files[]\" multiple disabled\n",
              "        style=\"border:none\" />\n",
              "     <output id=\"result-1dba2e21-44f8-4916-91f3-dc4d5310e1c0\">\n",
              "      Upload widget is only available when the cell has been executed in the\n",
              "      current browser session. Please rerun this cell to enable.\n",
              "      </output>\n",
              "      <script>// Copyright 2017 Google LLC\n",
              "//\n",
              "// Licensed under the Apache License, Version 2.0 (the \"License\");\n",
              "// you may not use this file except in compliance with the License.\n",
              "// You may obtain a copy of the License at\n",
              "//\n",
              "//      http://www.apache.org/licenses/LICENSE-2.0\n",
              "//\n",
              "// Unless required by applicable law or agreed to in writing, software\n",
              "// distributed under the License is distributed on an \"AS IS\" BASIS,\n",
              "// WITHOUT WARRANTIES OR CONDITIONS OF ANY KIND, either express or implied.\n",
              "// See the License for the specific language governing permissions and\n",
              "// limitations under the License.\n",
              "\n",
              "/**\n",
              " * @fileoverview Helpers for google.colab Python module.\n",
              " */\n",
              "(function(scope) {\n",
              "function span(text, styleAttributes = {}) {\n",
              "  const element = document.createElement('span');\n",
              "  element.textContent = text;\n",
              "  for (const key of Object.keys(styleAttributes)) {\n",
              "    element.style[key] = styleAttributes[key];\n",
              "  }\n",
              "  return element;\n",
              "}\n",
              "\n",
              "// Max number of bytes which will be uploaded at a time.\n",
              "const MAX_PAYLOAD_SIZE = 100 * 1024;\n",
              "\n",
              "function _uploadFiles(inputId, outputId) {\n",
              "  const steps = uploadFilesStep(inputId, outputId);\n",
              "  const outputElement = document.getElementById(outputId);\n",
              "  // Cache steps on the outputElement to make it available for the next call\n",
              "  // to uploadFilesContinue from Python.\n",
              "  outputElement.steps = steps;\n",
              "\n",
              "  return _uploadFilesContinue(outputId);\n",
              "}\n",
              "\n",
              "// This is roughly an async generator (not supported in the browser yet),\n",
              "// where there are multiple asynchronous steps and the Python side is going\n",
              "// to poll for completion of each step.\n",
              "// This uses a Promise to block the python side on completion of each step,\n",
              "// then passes the result of the previous step as the input to the next step.\n",
              "function _uploadFilesContinue(outputId) {\n",
              "  const outputElement = document.getElementById(outputId);\n",
              "  const steps = outputElement.steps;\n",
              "\n",
              "  const next = steps.next(outputElement.lastPromiseValue);\n",
              "  return Promise.resolve(next.value.promise).then((value) => {\n",
              "    // Cache the last promise value to make it available to the next\n",
              "    // step of the generator.\n",
              "    outputElement.lastPromiseValue = value;\n",
              "    return next.value.response;\n",
              "  });\n",
              "}\n",
              "\n",
              "/**\n",
              " * Generator function which is called between each async step of the upload\n",
              " * process.\n",
              " * @param {string} inputId Element ID of the input file picker element.\n",
              " * @param {string} outputId Element ID of the output display.\n",
              " * @return {!Iterable<!Object>} Iterable of next steps.\n",
              " */\n",
              "function* uploadFilesStep(inputId, outputId) {\n",
              "  const inputElement = document.getElementById(inputId);\n",
              "  inputElement.disabled = false;\n",
              "\n",
              "  const outputElement = document.getElementById(outputId);\n",
              "  outputElement.innerHTML = '';\n",
              "\n",
              "  const pickedPromise = new Promise((resolve) => {\n",
              "    inputElement.addEventListener('change', (e) => {\n",
              "      resolve(e.target.files);\n",
              "    });\n",
              "  });\n",
              "\n",
              "  const cancel = document.createElement('button');\n",
              "  inputElement.parentElement.appendChild(cancel);\n",
              "  cancel.textContent = 'Cancel upload';\n",
              "  const cancelPromise = new Promise((resolve) => {\n",
              "    cancel.onclick = () => {\n",
              "      resolve(null);\n",
              "    };\n",
              "  });\n",
              "\n",
              "  // Wait for the user to pick the files.\n",
              "  const files = yield {\n",
              "    promise: Promise.race([pickedPromise, cancelPromise]),\n",
              "    response: {\n",
              "      action: 'starting',\n",
              "    }\n",
              "  };\n",
              "\n",
              "  cancel.remove();\n",
              "\n",
              "  // Disable the input element since further picks are not allowed.\n",
              "  inputElement.disabled = true;\n",
              "\n",
              "  if (!files) {\n",
              "    return {\n",
              "      response: {\n",
              "        action: 'complete',\n",
              "      }\n",
              "    };\n",
              "  }\n",
              "\n",
              "  for (const file of files) {\n",
              "    const li = document.createElement('li');\n",
              "    li.append(span(file.name, {fontWeight: 'bold'}));\n",
              "    li.append(span(\n",
              "        `(${file.type || 'n/a'}) - ${file.size} bytes, ` +\n",
              "        `last modified: ${\n",
              "            file.lastModifiedDate ? file.lastModifiedDate.toLocaleDateString() :\n",
              "                                    'n/a'} - `));\n",
              "    const percent = span('0% done');\n",
              "    li.appendChild(percent);\n",
              "\n",
              "    outputElement.appendChild(li);\n",
              "\n",
              "    const fileDataPromise = new Promise((resolve) => {\n",
              "      const reader = new FileReader();\n",
              "      reader.onload = (e) => {\n",
              "        resolve(e.target.result);\n",
              "      };\n",
              "      reader.readAsArrayBuffer(file);\n",
              "    });\n",
              "    // Wait for the data to be ready.\n",
              "    let fileData = yield {\n",
              "      promise: fileDataPromise,\n",
              "      response: {\n",
              "        action: 'continue',\n",
              "      }\n",
              "    };\n",
              "\n",
              "    // Use a chunked sending to avoid message size limits. See b/62115660.\n",
              "    let position = 0;\n",
              "    do {\n",
              "      const length = Math.min(fileData.byteLength - position, MAX_PAYLOAD_SIZE);\n",
              "      const chunk = new Uint8Array(fileData, position, length);\n",
              "      position += length;\n",
              "\n",
              "      const base64 = btoa(String.fromCharCode.apply(null, chunk));\n",
              "      yield {\n",
              "        response: {\n",
              "          action: 'append',\n",
              "          file: file.name,\n",
              "          data: base64,\n",
              "        },\n",
              "      };\n",
              "\n",
              "      let percentDone = fileData.byteLength === 0 ?\n",
              "          100 :\n",
              "          Math.round((position / fileData.byteLength) * 100);\n",
              "      percent.textContent = `${percentDone}% done`;\n",
              "\n",
              "    } while (position < fileData.byteLength);\n",
              "  }\n",
              "\n",
              "  // All done.\n",
              "  yield {\n",
              "    response: {\n",
              "      action: 'complete',\n",
              "    }\n",
              "  };\n",
              "}\n",
              "\n",
              "scope.google = scope.google || {};\n",
              "scope.google.colab = scope.google.colab || {};\n",
              "scope.google.colab._files = {\n",
              "  _uploadFiles,\n",
              "  _uploadFilesContinue,\n",
              "};\n",
              "})(self);\n",
              "</script> "
            ]
          },
          "metadata": {}
        },
        {
          "output_type": "stream",
          "name": "stdout",
          "text": [
            "Saving ventiventuno.json to ventiventuno.json\n"
          ]
        }
      ]
    },
    {
      "cell_type": "code",
      "source": [
        "df = pd.read_json(io.StringIO(uploaded.get('ventiventuno.json').decode('utf-8')))"
      ],
      "metadata": {
        "id": "Uly4FnirqQGT"
      },
      "execution_count": null,
      "outputs": []
    },
    {
      "cell_type": "code",
      "source": [
        "l1 = list(zip(df[0], df[1]))"
      ],
      "metadata": {
        "id": "QK_o_fwiqQGU"
      },
      "execution_count": null,
      "outputs": []
    },
    {
      "cell_type": "code",
      "source": [
        "dataset = sc.parallelize(l1).cache()"
      ],
      "metadata": {
        "id": "4T3FuHl7qQGU"
      },
      "execution_count": null,
      "outputs": []
    },
    {
      "cell_type": "code",
      "source": [
        "total_movies = max(dataset.max(lambda x:x[0])[0],dataset.max(lambda x:x[1])[1])\n",
        "print(total_movies)"
      ],
      "metadata": {
        "colab": {
          "base_uri": "https://localhost:8080/"
        },
        "outputId": "1d257fe8-01b3-4924-bc34-0410d4ebe1c0",
        "id": "Rl4va602qQGV"
      },
      "execution_count": null,
      "outputs": [
        {
          "output_type": "stream",
          "name": "stdout",
          "text": [
            "8460\n"
          ]
        }
      ]
    },
    {
      "cell_type": "code",
      "source": [
        "outdegree = dataset.countByKey()"
      ],
      "metadata": {
        "id": "B4biLM8KqQGW"
      },
      "execution_count": null,
      "outputs": []
    },
    {
      "cell_type": "code",
      "source": [
        "P = dataset.map(lambda x:(x[1],x[0],1/outdegree[x[0]]))\n",
        "P.take(20) #even directly creating the matrix and avoiding the inverting step, the Euclidean distance computation throws an error "
      ],
      "metadata": {
        "colab": {
          "base_uri": "https://localhost:8080/"
        },
        "outputId": "82ba0e70-791b-4311-9382-1dd4ab107b5b",
        "id": "-GnwKlH2qQGW"
      },
      "execution_count": null,
      "outputs": [
        {
          "output_type": "execute_result",
          "data": {
            "text/plain": [
              "[(8092, 0, 0.3333333333333333),\n",
              " (4899, 0, 0.3333333333333333),\n",
              " (6579, 0, 0.3333333333333333),\n",
              " (3279, 1, 0.16666666666666666),\n",
              " (3279, 1, 0.16666666666666666),\n",
              " (3279, 1, 0.16666666666666666),\n",
              " (3279, 1, 0.16666666666666666),\n",
              " (3279, 1, 0.16666666666666666),\n",
              " (3279, 1, 0.16666666666666666),\n",
              " (3784, 2, 0.2),\n",
              " (3697, 2, 0.2),\n",
              " (642, 2, 0.2),\n",
              " (3678, 2, 0.2),\n",
              " (6253, 2, 0.2),\n",
              " (4236, 3, 0.5),\n",
              " (4236, 3, 0.5),\n",
              " (470, 4, 0.05263157894736842),\n",
              " (684, 4, 0.05263157894736842),\n",
              " (1384, 4, 0.05263157894736842),\n",
              " (3080, 4, 0.05263157894736842)]"
            ]
          },
          "metadata": {},
          "execution_count": 89
        }
      ]
    },
    {
      "cell_type": "code",
      "source": [
        "page_rank = np.ones((total_movies)+1)/((total_movies)+1)\n",
        "old_page_rank = np.ones((total_movies)+1)"
      ],
      "metadata": {
        "id": "y2ahcwGhqQGX"
      },
      "execution_count": null,
      "outputs": []
    },
    {
      "cell_type": "code",
      "source": [
        "page_rank"
      ],
      "metadata": {
        "colab": {
          "base_uri": "https://localhost:8080/"
        },
        "outputId": "b7ea4648-e2be-4830-efda-d8e7beab4703",
        "id": "vxDbaDaEqQGY"
      },
      "execution_count": null,
      "outputs": [
        {
          "output_type": "execute_result",
          "data": {
            "text/plain": [
              "array([0.00011819, 0.00011819, 0.00011819, ..., 0.00011819, 0.00011819,\n",
              "       0.00011819])"
            ]
          },
          "metadata": {},
          "execution_count": 15
        }
      ]
    },
    {
      "cell_type": "code",
      "source": [
        "tolerance = 10e-7\n",
        "max_iterations = 1000\n",
        "\n",
        "iteration = 0\n",
        "while l2distance(old_page_rank, page_rank) >= tolerance and \\\n",
        "      iteration < max_iterations:\n",
        "    old_page_rank = page_rank\n",
        "    \n",
        "    page_rank_values = (PT\n",
        "                        .map(lambda t: (t[0], t[2]*page_rank[t[1]]))\n",
        "                        .reduceByKey(lambda a, b: a+b)\n",
        "                        .sortByKey()\n",
        "                        .collect()\n",
        "                       )\n",
        "    \n",
        "    page_rank = np.array([c for (i, c) in page_rank_values])\n",
        "    \n",
        "    print(page_rank)\n",
        "\n",
        "    iteration += 1"
      ],
      "metadata": {
        "colab": {
          "base_uri": "https://localhost:8080/",
          "height": 390
        },
        "outputId": "b438c73a-9636-4f2e-94e4-7161f7b7e61d",
        "id": "qXHpgUuwqQGZ"
      },
      "execution_count": null,
      "outputs": [
        {
          "output_type": "stream",
          "name": "stdout",
          "text": [
            "[1.68330271e-04 1.18189339e-04 1.90416158e-04 ... 1.43137027e-04\n",
            " 1.18189339e-04 3.93964464e-05]\n"
          ]
        },
        {
          "output_type": "error",
          "ename": "ValueError",
          "evalue": "ignored",
          "traceback": [
            "\u001b[0;31m---------------------------------------------------------------------------\u001b[0m",
            "\u001b[0;31mValueError\u001b[0m                                Traceback (most recent call last)",
            "\u001b[0;32m<ipython-input-95-d83ffc3a334c>\u001b[0m in \u001b[0;36m<module>\u001b[0;34m\u001b[0m\n\u001b[1;32m      3\u001b[0m \u001b[0;34m\u001b[0m\u001b[0m\n\u001b[1;32m      4\u001b[0m \u001b[0miteration\u001b[0m \u001b[0;34m=\u001b[0m \u001b[0;36m0\u001b[0m\u001b[0;34m\u001b[0m\u001b[0;34m\u001b[0m\u001b[0m\n\u001b[0;32m----> 5\u001b[0;31m \u001b[0;32mwhile\u001b[0m \u001b[0ml2distance\u001b[0m\u001b[0;34m(\u001b[0m\u001b[0mold_page_rank\u001b[0m\u001b[0;34m,\u001b[0m \u001b[0mpage_rank\u001b[0m\u001b[0;34m)\u001b[0m \u001b[0;34m>=\u001b[0m \u001b[0mtolerance\u001b[0m \u001b[0;32mand\u001b[0m\u001b[0;31m \u001b[0m\u001b[0;31m\\\u001b[0m\u001b[0;34m\u001b[0m\u001b[0;34m\u001b[0m\u001b[0m\n\u001b[0m\u001b[1;32m      6\u001b[0m       \u001b[0miteration\u001b[0m \u001b[0;34m<\u001b[0m \u001b[0mmax_iterations\u001b[0m\u001b[0;34m:\u001b[0m\u001b[0;34m\u001b[0m\u001b[0;34m\u001b[0m\u001b[0m\n\u001b[1;32m      7\u001b[0m     \u001b[0mold_page_rank\u001b[0m \u001b[0;34m=\u001b[0m \u001b[0mpage_rank\u001b[0m\u001b[0;34m\u001b[0m\u001b[0;34m\u001b[0m\u001b[0m\n",
            "\u001b[0;32m<ipython-input-53-417449b7956c>\u001b[0m in \u001b[0;36ml2distance\u001b[0;34m(v, q)\u001b[0m\n\u001b[1;32m      2\u001b[0m \u001b[0;34m\u001b[0m\u001b[0m\n\u001b[1;32m      3\u001b[0m     \u001b[0;32mif\u001b[0m \u001b[0mlen\u001b[0m\u001b[0;34m(\u001b[0m\u001b[0mv\u001b[0m\u001b[0;34m)\u001b[0m \u001b[0;34m!=\u001b[0m \u001b[0mlen\u001b[0m\u001b[0;34m(\u001b[0m\u001b[0mq\u001b[0m\u001b[0;34m)\u001b[0m\u001b[0;34m:\u001b[0m\u001b[0;34m\u001b[0m\u001b[0;34m\u001b[0m\u001b[0m\n\u001b[0;32m----> 4\u001b[0;31m         raise ValueError('Cannot compute the distance'\n\u001b[0m\u001b[1;32m      5\u001b[0m                          ' of two vectors of different size')\n\u001b[1;32m      6\u001b[0m \u001b[0;34m\u001b[0m\u001b[0m\n",
            "\u001b[0;31mValueError\u001b[0m: Cannot compute the distance of two vectors of different size"
          ]
        }
      ]
    }
  ]
}