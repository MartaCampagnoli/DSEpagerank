{
  "cells": [
    {
      "cell_type": "markdown",
      "metadata": {
        "id": "view-in-github",
        "colab_type": "text"
      },
      "source": [
        "<a href=\"https://colab.research.google.com/github/MartaCampagnoli/PageRank-ProductCustomers/blob/main/PageRankDSE.ipynb\" target=\"_parent\"><img src=\"https://colab.research.google.com/assets/colab-badge.svg\" alt=\"Open In Colab\"/></a>"
      ]
    },
    {
      "cell_type": "code",
      "execution_count": 1,
      "metadata": {
        "id": "aaf69df9"
      },
      "outputs": [],
      "source": [
        "import numpy as np\n",
        "import pandas as pd\n",
        "import itertools\n",
        "from itertools import permutations\n",
        "import tqdm\n",
        "from tqdm.notebook import tqdm_notebook\n",
        "import zipfile\n",
        "import csv\n",
        "import sys\n",
        "from pprint import pprint"
      ],
      "id": "aaf69df9"
    },
    {
      "cell_type": "code",
      "execution_count": 2,
      "metadata": {
        "id": "Xj4ROC_zNLbY"
      },
      "outputs": [],
      "source": [
        "!apt-get install openjdk-8-jdk-headless -qq > /dev/null\n",
        "!wget -q https://dlcdn.apache.org/spark/spark-3.3.2/spark-3.3.2-bin-hadoop3.tgz\n",
        "!tar xf spark-3.3.2-bin-hadoop3.tgz\n",
        "!pip install -q findspark\n",
        "\n",
        "import os\n",
        "os.environ[\"JAVA_HOME\"] = \"xxxxxx\"\n",
        "os.environ[\"SPARK_HOME\"] = \"xxxxxx\"\n",
        "\n",
        "import findspark\n",
        "findspark.init(\"spark-3.3.2-bin-hadoop3\")#SPARK_HOME\n",
        "from pyspark.sql import SparkSession\n",
        "spark = SparkSession.builder.master(\"local[*]\").getOrCreate()\n"
      ],
      "id": "Xj4ROC_zNLbY"
    },
    {
      "cell_type": "markdown",
      "metadata": {
        "id": "XgQ9o7Oqq-9r"
      },
      "source": [
        "# Functions\n"
      ],
      "id": "XgQ9o7Oqq-9r"
    },
    {
      "cell_type": "markdown",
      "source": [
        "Auxiliary functions: \n",
        "\n",
        "*   **'indecesprod'** has been created to reindex products in the dataset for cleaner results when creating edges and to correctly apply the method used to count nodes in the algorithm. Needs the dataset to be ordered by values in 'product_parent' column;\n",
        "*   **'tuple_list'** takes the 'customer_id' column and 'indexes' column created with the first function to create the list of tuples to be transformed into an rdd.\n",
        "\n"
      ],
      "metadata": {
        "id": "x_joM4fET2L5"
      },
      "id": "x_joM4fET2L5"
    },
    {
      "cell_type": "code",
      "execution_count": 3,
      "metadata": {
        "id": "b0b42cb6"
      },
      "outputs": [],
      "source": [
        "def indexesprod(d):\n",
        "    index = []\n",
        "    count = 0\n",
        "    a = d['product_parent'][0] #takes first value in the column orered by value\n",
        "    for row in tqdm_notebook(d.itertuples(), total=d.shape[0], desc=f'Reading DF'):\n",
        "        if d['product_parent'].at[row.Index] == a:\n",
        "            index.append(count)        \n",
        "        else:       \n",
        "            count = count + 1\n",
        "            index.append(count)\n",
        "            a = d['product_parent'].at[row.Index]\n",
        "    return index\n",
        "\n",
        "def tuple_list(d):\n",
        "    rev = d['customer_id'] #reviewers\n",
        "    prod = d['indexes'] #products\n",
        "    revprod = list(zip(rev,prod))\n",
        "    return revprod"
      ],
      "id": "b0b42cb6"
    },
    {
      "cell_type": "markdown",
      "metadata": {
        "id": "vz1q8ZbqqtPG"
      },
      "source": [
        "# Dataset loading and Data preparation\n"
      ],
      "id": "vz1q8ZbqqtPG"
    },
    {
      "cell_type": "code",
      "execution_count": 4,
      "metadata": {
        "colab": {
          "base_uri": "https://localhost:8080/"
        },
        "id": "IzQB_6Puj-dD",
        "outputId": "b5793bbd-1552-420b-d5d1-ac3854d20835"
      },
      "outputs": [
        {
          "output_type": "stream",
          "name": "stdout",
          "text": [
            "amazon-us-customer-reviews-dataset.zip: Skipping, found more recently modified local copy (use --force to force download)\n"
          ]
        }
      ],
      "source": [
        "os.environ['KAGGLE_USERNAME'] = \"martacampagnoli\"\n",
        "os.environ['KAGGLE_KEY'] = \"194348b64eada9bcca0d9127eae03b54\"\n",
        "!kaggle datasets download -d cynthiarempel/amazon-us-customer-reviews-dataset\n"
      ],
      "id": "IzQB_6Puj-dD"
    },
    {
      "cell_type": "code",
      "execution_count": 5,
      "metadata": {
        "colab": {
          "base_uri": "https://localhost:8080/",
          "height": 617
        },
        "id": "r6b180TcolCX",
        "outputId": "e4a04085-d9fe-43af-d7d1-0dafe1746185"
      },
      "outputs": [
        {
          "output_type": "stream",
          "name": "stdout",
          "text": [
            "(904765, 16)\n"
          ]
        },
        {
          "output_type": "execute_result",
          "data": {
            "text/plain": [
              "  marketplace  customer_id       review_id  product_id  product_parent  \\\n",
              "0          US     45610553   RMDCHWD0Y5OZ9  B00HH62VB6       618218723   \n",
              "1          US     14640079   RZSL0BALIYUNU  B003LRN53I       986692292   \n",
              "2          US      6111003   RIZR67JKUDBI0  B0006VMBHI       603261968   \n",
              "3          US      1546619  R27HL570VNL85F  B002B55TRG       575084461   \n",
              "4          US     12222213  R34EBU9QDWJ1GD  B00N1YPXW2       165236328   \n",
              "\n",
              "                                       product_title     product_category  \\\n",
              "0  AGPtek® 10 Isolated Output 9V 12V 18V Guitar P...  Musical Instruments   \n",
              "1         Sennheiser HD203 Closed-Back DJ Headphones  Musical Instruments   \n",
              "2                   AudioQuest LP record clean brush  Musical Instruments   \n",
              "3      Hohner Inc. 560BX-BF Special Twenty Harmonica  Musical Instruments   \n",
              "4        Blue Yeti USB Microphone - Blackout Edition  Musical Instruments   \n",
              "\n",
              "   star_rating  helpful_votes  total_votes vine verified_purchase  \\\n",
              "0            3              0            1    N                 N   \n",
              "1            5              0            0    N                 Y   \n",
              "2            3              0            1    N                 Y   \n",
              "3            5              0            0    N                 Y   \n",
              "4            5              0            0    N                 Y   \n",
              "\n",
              "                                     review_headline  \\\n",
              "0                                        Three Stars   \n",
              "1                                         Five Stars   \n",
              "2                                        Three Stars   \n",
              "3  I purchase these for a friend in return for pl...   \n",
              "4                                         Five Stars   \n",
              "\n",
              "                                         review_body review_date  \\\n",
              "0        Works very good, but induces ALOT of noise.  2015-08-31   \n",
              "1             Nice headphones at a reasonable price.  2015-08-31   \n",
              "2                       removes dust. does not clean  2015-08-31   \n",
              "3  I purchase these for a friend in return for pl...  2015-08-31   \n",
              "4                            This is an awesome mic!  2015-08-31   \n",
              "\n",
              "                                              review  \n",
              "0  Three Stars Works very good, but induces ALOT ...  \n",
              "1  Five Stars Nice headphones at a reasonable price.  \n",
              "2           Three Stars removes dust. does not clean  \n",
              "3  I purchase these for a friend in return for pl...  \n",
              "4                 Five Stars This is an awesome mic!  "
            ],
            "text/html": [
              "\n",
              "  <div id=\"df-385b981a-36bf-45c4-84ac-4e73c8a22856\">\n",
              "    <div class=\"colab-df-container\">\n",
              "      <div>\n",
              "<style scoped>\n",
              "    .dataframe tbody tr th:only-of-type {\n",
              "        vertical-align: middle;\n",
              "    }\n",
              "\n",
              "    .dataframe tbody tr th {\n",
              "        vertical-align: top;\n",
              "    }\n",
              "\n",
              "    .dataframe thead th {\n",
              "        text-align: right;\n",
              "    }\n",
              "</style>\n",
              "<table border=\"1\" class=\"dataframe\">\n",
              "  <thead>\n",
              "    <tr style=\"text-align: right;\">\n",
              "      <th></th>\n",
              "      <th>marketplace</th>\n",
              "      <th>customer_id</th>\n",
              "      <th>review_id</th>\n",
              "      <th>product_id</th>\n",
              "      <th>product_parent</th>\n",
              "      <th>product_title</th>\n",
              "      <th>product_category</th>\n",
              "      <th>star_rating</th>\n",
              "      <th>helpful_votes</th>\n",
              "      <th>total_votes</th>\n",
              "      <th>vine</th>\n",
              "      <th>verified_purchase</th>\n",
              "      <th>review_headline</th>\n",
              "      <th>review_body</th>\n",
              "      <th>review_date</th>\n",
              "      <th>review</th>\n",
              "    </tr>\n",
              "  </thead>\n",
              "  <tbody>\n",
              "    <tr>\n",
              "      <th>0</th>\n",
              "      <td>US</td>\n",
              "      <td>45610553</td>\n",
              "      <td>RMDCHWD0Y5OZ9</td>\n",
              "      <td>B00HH62VB6</td>\n",
              "      <td>618218723</td>\n",
              "      <td>AGPtek® 10 Isolated Output 9V 12V 18V Guitar P...</td>\n",
              "      <td>Musical Instruments</td>\n",
              "      <td>3</td>\n",
              "      <td>0</td>\n",
              "      <td>1</td>\n",
              "      <td>N</td>\n",
              "      <td>N</td>\n",
              "      <td>Three Stars</td>\n",
              "      <td>Works very good, but induces ALOT of noise.</td>\n",
              "      <td>2015-08-31</td>\n",
              "      <td>Three Stars Works very good, but induces ALOT ...</td>\n",
              "    </tr>\n",
              "    <tr>\n",
              "      <th>1</th>\n",
              "      <td>US</td>\n",
              "      <td>14640079</td>\n",
              "      <td>RZSL0BALIYUNU</td>\n",
              "      <td>B003LRN53I</td>\n",
              "      <td>986692292</td>\n",
              "      <td>Sennheiser HD203 Closed-Back DJ Headphones</td>\n",
              "      <td>Musical Instruments</td>\n",
              "      <td>5</td>\n",
              "      <td>0</td>\n",
              "      <td>0</td>\n",
              "      <td>N</td>\n",
              "      <td>Y</td>\n",
              "      <td>Five Stars</td>\n",
              "      <td>Nice headphones at a reasonable price.</td>\n",
              "      <td>2015-08-31</td>\n",
              "      <td>Five Stars Nice headphones at a reasonable price.</td>\n",
              "    </tr>\n",
              "    <tr>\n",
              "      <th>2</th>\n",
              "      <td>US</td>\n",
              "      <td>6111003</td>\n",
              "      <td>RIZR67JKUDBI0</td>\n",
              "      <td>B0006VMBHI</td>\n",
              "      <td>603261968</td>\n",
              "      <td>AudioQuest LP record clean brush</td>\n",
              "      <td>Musical Instruments</td>\n",
              "      <td>3</td>\n",
              "      <td>0</td>\n",
              "      <td>1</td>\n",
              "      <td>N</td>\n",
              "      <td>Y</td>\n",
              "      <td>Three Stars</td>\n",
              "      <td>removes dust. does not clean</td>\n",
              "      <td>2015-08-31</td>\n",
              "      <td>Three Stars removes dust. does not clean</td>\n",
              "    </tr>\n",
              "    <tr>\n",
              "      <th>3</th>\n",
              "      <td>US</td>\n",
              "      <td>1546619</td>\n",
              "      <td>R27HL570VNL85F</td>\n",
              "      <td>B002B55TRG</td>\n",
              "      <td>575084461</td>\n",
              "      <td>Hohner Inc. 560BX-BF Special Twenty Harmonica</td>\n",
              "      <td>Musical Instruments</td>\n",
              "      <td>5</td>\n",
              "      <td>0</td>\n",
              "      <td>0</td>\n",
              "      <td>N</td>\n",
              "      <td>Y</td>\n",
              "      <td>I purchase these for a friend in return for pl...</td>\n",
              "      <td>I purchase these for a friend in return for pl...</td>\n",
              "      <td>2015-08-31</td>\n",
              "      <td>I purchase these for a friend in return for pl...</td>\n",
              "    </tr>\n",
              "    <tr>\n",
              "      <th>4</th>\n",
              "      <td>US</td>\n",
              "      <td>12222213</td>\n",
              "      <td>R34EBU9QDWJ1GD</td>\n",
              "      <td>B00N1YPXW2</td>\n",
              "      <td>165236328</td>\n",
              "      <td>Blue Yeti USB Microphone - Blackout Edition</td>\n",
              "      <td>Musical Instruments</td>\n",
              "      <td>5</td>\n",
              "      <td>0</td>\n",
              "      <td>0</td>\n",
              "      <td>N</td>\n",
              "      <td>Y</td>\n",
              "      <td>Five Stars</td>\n",
              "      <td>This is an awesome mic!</td>\n",
              "      <td>2015-08-31</td>\n",
              "      <td>Five Stars This is an awesome mic!</td>\n",
              "    </tr>\n",
              "  </tbody>\n",
              "</table>\n",
              "</div>\n",
              "      <button class=\"colab-df-convert\" onclick=\"convertToInteractive('df-385b981a-36bf-45c4-84ac-4e73c8a22856')\"\n",
              "              title=\"Convert this dataframe to an interactive table.\"\n",
              "              style=\"display:none;\">\n",
              "        \n",
              "  <svg xmlns=\"http://www.w3.org/2000/svg\" height=\"24px\"viewBox=\"0 0 24 24\"\n",
              "       width=\"24px\">\n",
              "    <path d=\"M0 0h24v24H0V0z\" fill=\"none\"/>\n",
              "    <path d=\"M18.56 5.44l.94 2.06.94-2.06 2.06-.94-2.06-.94-.94-2.06-.94 2.06-2.06.94zm-11 1L8.5 8.5l.94-2.06 2.06-.94-2.06-.94L8.5 2.5l-.94 2.06-2.06.94zm10 10l.94 2.06.94-2.06 2.06-.94-2.06-.94-.94-2.06-.94 2.06-2.06.94z\"/><path d=\"M17.41 7.96l-1.37-1.37c-.4-.4-.92-.59-1.43-.59-.52 0-1.04.2-1.43.59L10.3 9.45l-7.72 7.72c-.78.78-.78 2.05 0 2.83L4 21.41c.39.39.9.59 1.41.59.51 0 1.02-.2 1.41-.59l7.78-7.78 2.81-2.81c.8-.78.8-2.07 0-2.86zM5.41 20L4 18.59l7.72-7.72 1.47 1.35L5.41 20z\"/>\n",
              "  </svg>\n",
              "      </button>\n",
              "      \n",
              "  <style>\n",
              "    .colab-df-container {\n",
              "      display:flex;\n",
              "      flex-wrap:wrap;\n",
              "      gap: 12px;\n",
              "    }\n",
              "\n",
              "    .colab-df-convert {\n",
              "      background-color: #E8F0FE;\n",
              "      border: none;\n",
              "      border-radius: 50%;\n",
              "      cursor: pointer;\n",
              "      display: none;\n",
              "      fill: #1967D2;\n",
              "      height: 32px;\n",
              "      padding: 0 0 0 0;\n",
              "      width: 32px;\n",
              "    }\n",
              "\n",
              "    .colab-df-convert:hover {\n",
              "      background-color: #E2EBFA;\n",
              "      box-shadow: 0px 1px 2px rgba(60, 64, 67, 0.3), 0px 1px 3px 1px rgba(60, 64, 67, 0.15);\n",
              "      fill: #174EA6;\n",
              "    }\n",
              "\n",
              "    [theme=dark] .colab-df-convert {\n",
              "      background-color: #3B4455;\n",
              "      fill: #D2E3FC;\n",
              "    }\n",
              "\n",
              "    [theme=dark] .colab-df-convert:hover {\n",
              "      background-color: #434B5C;\n",
              "      box-shadow: 0px 1px 3px 1px rgba(0, 0, 0, 0.15);\n",
              "      filter: drop-shadow(0px 1px 2px rgba(0, 0, 0, 0.3));\n",
              "      fill: #FFFFFF;\n",
              "    }\n",
              "  </style>\n",
              "\n",
              "      <script>\n",
              "        const buttonEl =\n",
              "          document.querySelector('#df-385b981a-36bf-45c4-84ac-4e73c8a22856 button.colab-df-convert');\n",
              "        buttonEl.style.display =\n",
              "          google.colab.kernel.accessAllowed ? 'block' : 'none';\n",
              "\n",
              "        async function convertToInteractive(key) {\n",
              "          const element = document.querySelector('#df-385b981a-36bf-45c4-84ac-4e73c8a22856');\n",
              "          const dataTable =\n",
              "            await google.colab.kernel.invokeFunction('convertToInteractive',\n",
              "                                                     [key], {});\n",
              "          if (!dataTable) return;\n",
              "\n",
              "          const docLinkHtml = 'Like what you see? Visit the ' +\n",
              "            '<a target=\"_blank\" href=https://colab.research.google.com/notebooks/data_table.ipynb>data table notebook</a>'\n",
              "            + ' to learn more about interactive tables.';\n",
              "          element.innerHTML = '';\n",
              "          dataTable['output_type'] = 'display_data';\n",
              "          await google.colab.output.renderOutput(dataTable, element);\n",
              "          const docLink = document.createElement('div');\n",
              "          docLink.innerHTML = docLinkHtml;\n",
              "          element.appendChild(docLink);\n",
              "        }\n",
              "      </script>\n",
              "    </div>\n",
              "  </div>\n",
              "  "
            ]
          },
          "metadata": {},
          "execution_count": 5
        }
      ],
      "source": [
        "zip_file = zipfile.ZipFile('/content/amazon-us-customer-reviews-dataset.zip') #dataframe creation, adapted from Kaggle\n",
        "\n",
        "instruments = pd.DataFrame({'marketplace': pd.Series([], dtype='str'),\n",
        "              'customer_id': pd.Series([], dtype='str'),\n",
        "              'review_id': pd.Series([], dtype='str'),\n",
        "              'product_id': pd.Series([], dtype='str'),\n",
        "              'product_parent': pd.Series([], dtype='str'),\n",
        "              'product_title': pd.Series([], dtype='str'),\n",
        "              'product_category': pd.Series([], dtype='str'),\n",
        "              'star_rating': pd.Series([], dtype='int'),\n",
        "              'helpful_votes': pd.Series([], dtype='int'),\n",
        "              'total_votes': pd.Series([], dtype='int'),\n",
        "              'vine': pd.Series([], dtype='str'),\n",
        "              'verified_purchase': pd.Series([], dtype='str'),\n",
        "              'review_headline': pd.Series([], dtype='str'),\n",
        "              'review_body': pd.Series([], dtype='str'),\n",
        "              'review': pd.Series([], dtype='str'),\n",
        "              'review_date': pd.Series([], dtype='float')})\n",
        "\n",
        "#choosing the product category\n",
        "filenames = ['amazon_reviews_us_Musical_Instruments_v1_00.tsv']\n",
        "\n",
        "tmp = []\n",
        "for filename in filenames:\n",
        "    with zip_file.open(filename) as f:\n",
        "        data = pd.read_csv(f, sep='\\t', header=0, quoting=csv.QUOTE_NONE)\n",
        "        data['review'] = data['review_headline'] + ' ' + data['review_body']\n",
        "        tmp.append(data) #solution to solve the issue of df.append being deprecated in a future version\n",
        "        \n",
        "instruments = pd.concat(tmp, ignore_index=True) \n",
        "\n",
        "print(instruments.shape)\n",
        "instruments.head()"
      ],
      "id": "r6b180TcolCX"
    },
    {
      "cell_type": "code",
      "execution_count": 6,
      "metadata": {
        "id": "943a60be"
      },
      "outputs": [],
      "source": [
        "instrumentsdef = instruments[[\"customer_id\",\"review_id\", \"product_id\",\"product_parent\",\"product_title\",\"product_category\"]] #dropping columns for easier visualization, could be skipped"
      ],
      "id": "943a60be"
    },
    {
      "cell_type": "code",
      "execution_count": 7,
      "metadata": {
        "colab": {
          "base_uri": "https://localhost:8080/",
          "height": 310
        },
        "id": "7c7d7b02",
        "outputId": "b8512a48-062e-4dfd-b976-9037e6a7f32f"
      },
      "outputs": [
        {
          "output_type": "stream",
          "name": "stderr",
          "text": [
            "<ipython-input-7-59c5f92d4a92>:1: SettingWithCopyWarning: \n",
            "A value is trying to be set on a copy of a slice from a DataFrame.\n",
            "Try using .loc[row_indexer,col_indexer] = value instead\n",
            "\n",
            "See the caveats in the documentation: https://pandas.pydata.org/pandas-docs/stable/user_guide/indexing.html#returning-a-view-versus-a-copy\n",
            "  instrumentsdef['custfreq'] = instrumentsdef.groupby('customer_id')['customer_id'].transform('count') #count how many times each reviewer appears in the dataset\n"
          ]
        },
        {
          "output_type": "execute_result",
          "data": {
            "text/plain": [
              "   customer_id       review_id  product_id  product_parent  \\\n",
              "0     45610553   RMDCHWD0Y5OZ9  B00HH62VB6       618218723   \n",
              "1     14640079   RZSL0BALIYUNU  B003LRN53I       986692292   \n",
              "2      6111003   RIZR67JKUDBI0  B0006VMBHI       603261968   \n",
              "3      1546619  R27HL570VNL85F  B002B55TRG       575084461   \n",
              "4     12222213  R34EBU9QDWJ1GD  B00N1YPXW2       165236328   \n",
              "\n",
              "                                       product_title     product_category  \\\n",
              "0  AGPtek® 10 Isolated Output 9V 12V 18V Guitar P...  Musical Instruments   \n",
              "1         Sennheiser HD203 Closed-Back DJ Headphones  Musical Instruments   \n",
              "2                   AudioQuest LP record clean brush  Musical Instruments   \n",
              "3      Hohner Inc. 560BX-BF Special Twenty Harmonica  Musical Instruments   \n",
              "4        Blue Yeti USB Microphone - Blackout Edition  Musical Instruments   \n",
              "\n",
              "   custfreq  \n",
              "0         1  \n",
              "1         7  \n",
              "2         1  \n",
              "3         1  \n",
              "4         1  "
            ],
            "text/html": [
              "\n",
              "  <div id=\"df-cb0ddc24-1ce7-4ecb-81c9-a1d862f9a056\">\n",
              "    <div class=\"colab-df-container\">\n",
              "      <div>\n",
              "<style scoped>\n",
              "    .dataframe tbody tr th:only-of-type {\n",
              "        vertical-align: middle;\n",
              "    }\n",
              "\n",
              "    .dataframe tbody tr th {\n",
              "        vertical-align: top;\n",
              "    }\n",
              "\n",
              "    .dataframe thead th {\n",
              "        text-align: right;\n",
              "    }\n",
              "</style>\n",
              "<table border=\"1\" class=\"dataframe\">\n",
              "  <thead>\n",
              "    <tr style=\"text-align: right;\">\n",
              "      <th></th>\n",
              "      <th>customer_id</th>\n",
              "      <th>review_id</th>\n",
              "      <th>product_id</th>\n",
              "      <th>product_parent</th>\n",
              "      <th>product_title</th>\n",
              "      <th>product_category</th>\n",
              "      <th>custfreq</th>\n",
              "    </tr>\n",
              "  </thead>\n",
              "  <tbody>\n",
              "    <tr>\n",
              "      <th>0</th>\n",
              "      <td>45610553</td>\n",
              "      <td>RMDCHWD0Y5OZ9</td>\n",
              "      <td>B00HH62VB6</td>\n",
              "      <td>618218723</td>\n",
              "      <td>AGPtek® 10 Isolated Output 9V 12V 18V Guitar P...</td>\n",
              "      <td>Musical Instruments</td>\n",
              "      <td>1</td>\n",
              "    </tr>\n",
              "    <tr>\n",
              "      <th>1</th>\n",
              "      <td>14640079</td>\n",
              "      <td>RZSL0BALIYUNU</td>\n",
              "      <td>B003LRN53I</td>\n",
              "      <td>986692292</td>\n",
              "      <td>Sennheiser HD203 Closed-Back DJ Headphones</td>\n",
              "      <td>Musical Instruments</td>\n",
              "      <td>7</td>\n",
              "    </tr>\n",
              "    <tr>\n",
              "      <th>2</th>\n",
              "      <td>6111003</td>\n",
              "      <td>RIZR67JKUDBI0</td>\n",
              "      <td>B0006VMBHI</td>\n",
              "      <td>603261968</td>\n",
              "      <td>AudioQuest LP record clean brush</td>\n",
              "      <td>Musical Instruments</td>\n",
              "      <td>1</td>\n",
              "    </tr>\n",
              "    <tr>\n",
              "      <th>3</th>\n",
              "      <td>1546619</td>\n",
              "      <td>R27HL570VNL85F</td>\n",
              "      <td>B002B55TRG</td>\n",
              "      <td>575084461</td>\n",
              "      <td>Hohner Inc. 560BX-BF Special Twenty Harmonica</td>\n",
              "      <td>Musical Instruments</td>\n",
              "      <td>1</td>\n",
              "    </tr>\n",
              "    <tr>\n",
              "      <th>4</th>\n",
              "      <td>12222213</td>\n",
              "      <td>R34EBU9QDWJ1GD</td>\n",
              "      <td>B00N1YPXW2</td>\n",
              "      <td>165236328</td>\n",
              "      <td>Blue Yeti USB Microphone - Blackout Edition</td>\n",
              "      <td>Musical Instruments</td>\n",
              "      <td>1</td>\n",
              "    </tr>\n",
              "  </tbody>\n",
              "</table>\n",
              "</div>\n",
              "      <button class=\"colab-df-convert\" onclick=\"convertToInteractive('df-cb0ddc24-1ce7-4ecb-81c9-a1d862f9a056')\"\n",
              "              title=\"Convert this dataframe to an interactive table.\"\n",
              "              style=\"display:none;\">\n",
              "        \n",
              "  <svg xmlns=\"http://www.w3.org/2000/svg\" height=\"24px\"viewBox=\"0 0 24 24\"\n",
              "       width=\"24px\">\n",
              "    <path d=\"M0 0h24v24H0V0z\" fill=\"none\"/>\n",
              "    <path d=\"M18.56 5.44l.94 2.06.94-2.06 2.06-.94-2.06-.94-.94-2.06-.94 2.06-2.06.94zm-11 1L8.5 8.5l.94-2.06 2.06-.94-2.06-.94L8.5 2.5l-.94 2.06-2.06.94zm10 10l.94 2.06.94-2.06 2.06-.94-2.06-.94-.94-2.06-.94 2.06-2.06.94z\"/><path d=\"M17.41 7.96l-1.37-1.37c-.4-.4-.92-.59-1.43-.59-.52 0-1.04.2-1.43.59L10.3 9.45l-7.72 7.72c-.78.78-.78 2.05 0 2.83L4 21.41c.39.39.9.59 1.41.59.51 0 1.02-.2 1.41-.59l7.78-7.78 2.81-2.81c.8-.78.8-2.07 0-2.86zM5.41 20L4 18.59l7.72-7.72 1.47 1.35L5.41 20z\"/>\n",
              "  </svg>\n",
              "      </button>\n",
              "      \n",
              "  <style>\n",
              "    .colab-df-container {\n",
              "      display:flex;\n",
              "      flex-wrap:wrap;\n",
              "      gap: 12px;\n",
              "    }\n",
              "\n",
              "    .colab-df-convert {\n",
              "      background-color: #E8F0FE;\n",
              "      border: none;\n",
              "      border-radius: 50%;\n",
              "      cursor: pointer;\n",
              "      display: none;\n",
              "      fill: #1967D2;\n",
              "      height: 32px;\n",
              "      padding: 0 0 0 0;\n",
              "      width: 32px;\n",
              "    }\n",
              "\n",
              "    .colab-df-convert:hover {\n",
              "      background-color: #E2EBFA;\n",
              "      box-shadow: 0px 1px 2px rgba(60, 64, 67, 0.3), 0px 1px 3px 1px rgba(60, 64, 67, 0.15);\n",
              "      fill: #174EA6;\n",
              "    }\n",
              "\n",
              "    [theme=dark] .colab-df-convert {\n",
              "      background-color: #3B4455;\n",
              "      fill: #D2E3FC;\n",
              "    }\n",
              "\n",
              "    [theme=dark] .colab-df-convert:hover {\n",
              "      background-color: #434B5C;\n",
              "      box-shadow: 0px 1px 3px 1px rgba(0, 0, 0, 0.15);\n",
              "      filter: drop-shadow(0px 1px 2px rgba(0, 0, 0, 0.3));\n",
              "      fill: #FFFFFF;\n",
              "    }\n",
              "  </style>\n",
              "\n",
              "      <script>\n",
              "        const buttonEl =\n",
              "          document.querySelector('#df-cb0ddc24-1ce7-4ecb-81c9-a1d862f9a056 button.colab-df-convert');\n",
              "        buttonEl.style.display =\n",
              "          google.colab.kernel.accessAllowed ? 'block' : 'none';\n",
              "\n",
              "        async function convertToInteractive(key) {\n",
              "          const element = document.querySelector('#df-cb0ddc24-1ce7-4ecb-81c9-a1d862f9a056');\n",
              "          const dataTable =\n",
              "            await google.colab.kernel.invokeFunction('convertToInteractive',\n",
              "                                                     [key], {});\n",
              "          if (!dataTable) return;\n",
              "\n",
              "          const docLinkHtml = 'Like what you see? Visit the ' +\n",
              "            '<a target=\"_blank\" href=https://colab.research.google.com/notebooks/data_table.ipynb>data table notebook</a>'\n",
              "            + ' to learn more about interactive tables.';\n",
              "          element.innerHTML = '';\n",
              "          dataTable['output_type'] = 'display_data';\n",
              "          await google.colab.output.renderOutput(dataTable, element);\n",
              "          const docLink = document.createElement('div');\n",
              "          docLink.innerHTML = docLinkHtml;\n",
              "          element.appendChild(docLink);\n",
              "        }\n",
              "      </script>\n",
              "    </div>\n",
              "  </div>\n",
              "  "
            ]
          },
          "metadata": {},
          "execution_count": 7
        }
      ],
      "source": [
        "instrumentsdef['custfreq'] = instrumentsdef.groupby('customer_id')['customer_id'].transform('count') #count how many times each reviewer appears in the dataset\n",
        "instrumentsdef.head()"
      ],
      "id": "7c7d7b02"
    },
    {
      "cell_type": "markdown",
      "source": [
        "As confirmed by documentation, the SettingWithCopyWarning is most likely a False Positive. Using the following line of code:\n",
        "\n",
        "`instrumentsdef.loc[:, 'custfreq'] = instrumentsdef.groupby('customer_id')['customer_id'].transform('count') `\n",
        "\n",
        "yeilds the same result but gets the same warning error.\n"
      ],
      "metadata": {
        "id": "Pu3au0DcJCH2"
      },
      "id": "Pu3au0DcJCH2"
    },
    {
      "cell_type": "code",
      "execution_count": 8,
      "metadata": {
        "colab": {
          "base_uri": "https://localhost:8080/",
          "height": 424
        },
        "id": "08b44490",
        "outputId": "bd140597-e5c7-4abe-d502-b450c667957a"
      },
      "outputs": [
        {
          "output_type": "execute_result",
          "data": {
            "text/plain": [
              "        customer_id       review_id  product_id  product_parent  \\\n",
              "1          14640079   RZSL0BALIYUNU  B003LRN53I       986692292   \n",
              "6          10225065   RL5LNO26GAVJ1  B009PJRMHQ       694166585   \n",
              "7           6356995  R3GYQ5W8JHP8SB  B00NKBDAZS       446431775   \n",
              "9          32139520  R14YLXA56NP51I  B000FIBD0I       771888534   \n",
              "10         36060782  R1ZH0HSH38IOTZ  B0002E52GG        68535945   \n",
              "...             ...             ...         ...             ...   \n",
              "904746     49350719  R1KAOC3XU8XTPL  B00002DDSF       530155260   \n",
              "904747     49350719  R1WHFJ07JWFV61  B00002DDSN       575547555   \n",
              "904748     50947605  R10FN99OXUBU4S  B00002F626       668653052   \n",
              "904763     50522024  R1VYXC7FFG4LGH  B00002F2IZ       615125621   \n",
              "904764     50522024  R2XJJXFZOM36V5  B00002JV63        70258872   \n",
              "\n",
              "                                            product_title  \\\n",
              "1              Sennheiser HD203 Closed-Back DJ Headphones   \n",
              "6       Kmise 1pc Pickguard for Gibson Sg Standard 3-p...   \n",
              "7       Kealoha Concert Ukulele - Stunning NEW Printed...   \n",
              "9       Gator GPTBLACK Plywood Pedal Board with Black ...   \n",
              "10                Hetman 1 - Light Piston Lubricant Light   \n",
              "...                                                   ...   \n",
              "904746  Yamaha PSR240 61-Note Touch-Sensitive Portable...   \n",
              "904747  Yamaha PSRD1 61-Note Dance and Techno Portable...   \n",
              "904748  Yamaha PSS16 37-Note Portable Electronic Keyboard   \n",
              "904763          Yamaha DD9M Touch-Sensitive Digital Drums   \n",
              "904764  Yamaha PSR340 61-Note Touch-Sensitive Portable...   \n",
              "\n",
              "           product_category  custfreq  \n",
              "1       Musical Instruments         7  \n",
              "6       Musical Instruments         4  \n",
              "7       Musical Instruments         3  \n",
              "9       Musical Instruments        10  \n",
              "10      Musical Instruments         8  \n",
              "...                     ...       ...  \n",
              "904746  Musical Instruments         3  \n",
              "904747  Musical Instruments         3  \n",
              "904748  Musical Instruments         2  \n",
              "904763  Musical Instruments         2  \n",
              "904764  Musical Instruments         2  \n",
              "\n",
              "[463713 rows x 7 columns]"
            ],
            "text/html": [
              "\n",
              "  <div id=\"df-bbd55bd0-35de-4827-9216-71d610fc6e8b\">\n",
              "    <div class=\"colab-df-container\">\n",
              "      <div>\n",
              "<style scoped>\n",
              "    .dataframe tbody tr th:only-of-type {\n",
              "        vertical-align: middle;\n",
              "    }\n",
              "\n",
              "    .dataframe tbody tr th {\n",
              "        vertical-align: top;\n",
              "    }\n",
              "\n",
              "    .dataframe thead th {\n",
              "        text-align: right;\n",
              "    }\n",
              "</style>\n",
              "<table border=\"1\" class=\"dataframe\">\n",
              "  <thead>\n",
              "    <tr style=\"text-align: right;\">\n",
              "      <th></th>\n",
              "      <th>customer_id</th>\n",
              "      <th>review_id</th>\n",
              "      <th>product_id</th>\n",
              "      <th>product_parent</th>\n",
              "      <th>product_title</th>\n",
              "      <th>product_category</th>\n",
              "      <th>custfreq</th>\n",
              "    </tr>\n",
              "  </thead>\n",
              "  <tbody>\n",
              "    <tr>\n",
              "      <th>1</th>\n",
              "      <td>14640079</td>\n",
              "      <td>RZSL0BALIYUNU</td>\n",
              "      <td>B003LRN53I</td>\n",
              "      <td>986692292</td>\n",
              "      <td>Sennheiser HD203 Closed-Back DJ Headphones</td>\n",
              "      <td>Musical Instruments</td>\n",
              "      <td>7</td>\n",
              "    </tr>\n",
              "    <tr>\n",
              "      <th>6</th>\n",
              "      <td>10225065</td>\n",
              "      <td>RL5LNO26GAVJ1</td>\n",
              "      <td>B009PJRMHQ</td>\n",
              "      <td>694166585</td>\n",
              "      <td>Kmise 1pc Pickguard for Gibson Sg Standard 3-p...</td>\n",
              "      <td>Musical Instruments</td>\n",
              "      <td>4</td>\n",
              "    </tr>\n",
              "    <tr>\n",
              "      <th>7</th>\n",
              "      <td>6356995</td>\n",
              "      <td>R3GYQ5W8JHP8SB</td>\n",
              "      <td>B00NKBDAZS</td>\n",
              "      <td>446431775</td>\n",
              "      <td>Kealoha Concert Ukulele - Stunning NEW Printed...</td>\n",
              "      <td>Musical Instruments</td>\n",
              "      <td>3</td>\n",
              "    </tr>\n",
              "    <tr>\n",
              "      <th>9</th>\n",
              "      <td>32139520</td>\n",
              "      <td>R14YLXA56NP51I</td>\n",
              "      <td>B000FIBD0I</td>\n",
              "      <td>771888534</td>\n",
              "      <td>Gator GPTBLACK Plywood Pedal Board with Black ...</td>\n",
              "      <td>Musical Instruments</td>\n",
              "      <td>10</td>\n",
              "    </tr>\n",
              "    <tr>\n",
              "      <th>10</th>\n",
              "      <td>36060782</td>\n",
              "      <td>R1ZH0HSH38IOTZ</td>\n",
              "      <td>B0002E52GG</td>\n",
              "      <td>68535945</td>\n",
              "      <td>Hetman 1 - Light Piston Lubricant Light</td>\n",
              "      <td>Musical Instruments</td>\n",
              "      <td>8</td>\n",
              "    </tr>\n",
              "    <tr>\n",
              "      <th>...</th>\n",
              "      <td>...</td>\n",
              "      <td>...</td>\n",
              "      <td>...</td>\n",
              "      <td>...</td>\n",
              "      <td>...</td>\n",
              "      <td>...</td>\n",
              "      <td>...</td>\n",
              "    </tr>\n",
              "    <tr>\n",
              "      <th>904746</th>\n",
              "      <td>49350719</td>\n",
              "      <td>R1KAOC3XU8XTPL</td>\n",
              "      <td>B00002DDSF</td>\n",
              "      <td>530155260</td>\n",
              "      <td>Yamaha PSR240 61-Note Touch-Sensitive Portable...</td>\n",
              "      <td>Musical Instruments</td>\n",
              "      <td>3</td>\n",
              "    </tr>\n",
              "    <tr>\n",
              "      <th>904747</th>\n",
              "      <td>49350719</td>\n",
              "      <td>R1WHFJ07JWFV61</td>\n",
              "      <td>B00002DDSN</td>\n",
              "      <td>575547555</td>\n",
              "      <td>Yamaha PSRD1 61-Note Dance and Techno Portable...</td>\n",
              "      <td>Musical Instruments</td>\n",
              "      <td>3</td>\n",
              "    </tr>\n",
              "    <tr>\n",
              "      <th>904748</th>\n",
              "      <td>50947605</td>\n",
              "      <td>R10FN99OXUBU4S</td>\n",
              "      <td>B00002F626</td>\n",
              "      <td>668653052</td>\n",
              "      <td>Yamaha PSS16 37-Note Portable Electronic Keyboard</td>\n",
              "      <td>Musical Instruments</td>\n",
              "      <td>2</td>\n",
              "    </tr>\n",
              "    <tr>\n",
              "      <th>904763</th>\n",
              "      <td>50522024</td>\n",
              "      <td>R1VYXC7FFG4LGH</td>\n",
              "      <td>B00002F2IZ</td>\n",
              "      <td>615125621</td>\n",
              "      <td>Yamaha DD9M Touch-Sensitive Digital Drums</td>\n",
              "      <td>Musical Instruments</td>\n",
              "      <td>2</td>\n",
              "    </tr>\n",
              "    <tr>\n",
              "      <th>904764</th>\n",
              "      <td>50522024</td>\n",
              "      <td>R2XJJXFZOM36V5</td>\n",
              "      <td>B00002JV63</td>\n",
              "      <td>70258872</td>\n",
              "      <td>Yamaha PSR340 61-Note Touch-Sensitive Portable...</td>\n",
              "      <td>Musical Instruments</td>\n",
              "      <td>2</td>\n",
              "    </tr>\n",
              "  </tbody>\n",
              "</table>\n",
              "<p>463713 rows × 7 columns</p>\n",
              "</div>\n",
              "      <button class=\"colab-df-convert\" onclick=\"convertToInteractive('df-bbd55bd0-35de-4827-9216-71d610fc6e8b')\"\n",
              "              title=\"Convert this dataframe to an interactive table.\"\n",
              "              style=\"display:none;\">\n",
              "        \n",
              "  <svg xmlns=\"http://www.w3.org/2000/svg\" height=\"24px\"viewBox=\"0 0 24 24\"\n",
              "       width=\"24px\">\n",
              "    <path d=\"M0 0h24v24H0V0z\" fill=\"none\"/>\n",
              "    <path d=\"M18.56 5.44l.94 2.06.94-2.06 2.06-.94-2.06-.94-.94-2.06-.94 2.06-2.06.94zm-11 1L8.5 8.5l.94-2.06 2.06-.94-2.06-.94L8.5 2.5l-.94 2.06-2.06.94zm10 10l.94 2.06.94-2.06 2.06-.94-2.06-.94-.94-2.06-.94 2.06-2.06.94z\"/><path d=\"M17.41 7.96l-1.37-1.37c-.4-.4-.92-.59-1.43-.59-.52 0-1.04.2-1.43.59L10.3 9.45l-7.72 7.72c-.78.78-.78 2.05 0 2.83L4 21.41c.39.39.9.59 1.41.59.51 0 1.02-.2 1.41-.59l7.78-7.78 2.81-2.81c.8-.78.8-2.07 0-2.86zM5.41 20L4 18.59l7.72-7.72 1.47 1.35L5.41 20z\"/>\n",
              "  </svg>\n",
              "      </button>\n",
              "      \n",
              "  <style>\n",
              "    .colab-df-container {\n",
              "      display:flex;\n",
              "      flex-wrap:wrap;\n",
              "      gap: 12px;\n",
              "    }\n",
              "\n",
              "    .colab-df-convert {\n",
              "      background-color: #E8F0FE;\n",
              "      border: none;\n",
              "      border-radius: 50%;\n",
              "      cursor: pointer;\n",
              "      display: none;\n",
              "      fill: #1967D2;\n",
              "      height: 32px;\n",
              "      padding: 0 0 0 0;\n",
              "      width: 32px;\n",
              "    }\n",
              "\n",
              "    .colab-df-convert:hover {\n",
              "      background-color: #E2EBFA;\n",
              "      box-shadow: 0px 1px 2px rgba(60, 64, 67, 0.3), 0px 1px 3px 1px rgba(60, 64, 67, 0.15);\n",
              "      fill: #174EA6;\n",
              "    }\n",
              "\n",
              "    [theme=dark] .colab-df-convert {\n",
              "      background-color: #3B4455;\n",
              "      fill: #D2E3FC;\n",
              "    }\n",
              "\n",
              "    [theme=dark] .colab-df-convert:hover {\n",
              "      background-color: #434B5C;\n",
              "      box-shadow: 0px 1px 3px 1px rgba(0, 0, 0, 0.15);\n",
              "      filter: drop-shadow(0px 1px 2px rgba(0, 0, 0, 0.3));\n",
              "      fill: #FFFFFF;\n",
              "    }\n",
              "  </style>\n",
              "\n",
              "      <script>\n",
              "        const buttonEl =\n",
              "          document.querySelector('#df-bbd55bd0-35de-4827-9216-71d610fc6e8b button.colab-df-convert');\n",
              "        buttonEl.style.display =\n",
              "          google.colab.kernel.accessAllowed ? 'block' : 'none';\n",
              "\n",
              "        async function convertToInteractive(key) {\n",
              "          const element = document.querySelector('#df-bbd55bd0-35de-4827-9216-71d610fc6e8b');\n",
              "          const dataTable =\n",
              "            await google.colab.kernel.invokeFunction('convertToInteractive',\n",
              "                                                     [key], {});\n",
              "          if (!dataTable) return;\n",
              "\n",
              "          const docLinkHtml = 'Like what you see? Visit the ' +\n",
              "            '<a target=\"_blank\" href=https://colab.research.google.com/notebooks/data_table.ipynb>data table notebook</a>'\n",
              "            + ' to learn more about interactive tables.';\n",
              "          element.innerHTML = '';\n",
              "          dataTable['output_type'] = 'display_data';\n",
              "          await google.colab.output.renderOutput(dataTable, element);\n",
              "          const docLink = document.createElement('div');\n",
              "          docLink.innerHTML = docLinkHtml;\n",
              "          element.appendChild(docLink);\n",
              "        }\n",
              "      </script>\n",
              "    </div>\n",
              "  </div>\n",
              "  "
            ]
          },
          "metadata": {},
          "execution_count": 8
        }
      ],
      "source": [
        "instrumentsdef = instrumentsdef[(instrumentsdef.custfreq != 1 )] #drop all reviewers that appear only once: they will not connect any two products\n",
        "instrumentsdef"
      ],
      "id": "08b44490"
    },
    {
      "cell_type": "code",
      "execution_count": 9,
      "metadata": {
        "colab": {
          "base_uri": "https://localhost:8080/",
          "height": 206
        },
        "id": "57870182",
        "outputId": "b447421a-734f-4c83-bf1e-021585faa5d5"
      },
      "outputs": [
        {
          "output_type": "execute_result",
          "data": {
            "text/plain": [
              "   customer_id       review_id  product_id  product_parent  \\\n",
              "0     39745418   RIQS2872HL2BC  B003S7GAT2           27657   \n",
              "1     11944622  R15K6L7ZKJMTW5  B003S7GAT2           27657   \n",
              "2     14433458  R1U50ENAWMW7JK  B003S7GAT2           27657   \n",
              "3     25384250  R20ZG1DH5DE9IP  B003S7GAT2           27657   \n",
              "4     14174875   RAHGU6QRL392J  B003S7GAT2           27657   \n",
              "\n",
              "                                       product_title     product_category  \\\n",
              "0  Remo RH3100-00 3-Piece Drum Set Multi-colored ...  Musical Instruments   \n",
              "1  Remo RH3100-00 3-Piece Drum Set Multi-colored ...  Musical Instruments   \n",
              "2  Remo RH3100-00 3-Piece Drum Set Multi-colored ...  Musical Instruments   \n",
              "3  Remo RH3100-00 3-Piece Drum Set Multi-colored ...  Musical Instruments   \n",
              "4  Remo RH3100-00 3-Piece Drum Set Multi-colored ...  Musical Instruments   \n",
              "\n",
              "   custfreq  \n",
              "0         3  \n",
              "1         6  \n",
              "2         4  \n",
              "3         2  \n",
              "4         3  "
            ],
            "text/html": [
              "\n",
              "  <div id=\"df-73cbddbb-caac-48a3-a99d-8fc0db19fa1a\">\n",
              "    <div class=\"colab-df-container\">\n",
              "      <div>\n",
              "<style scoped>\n",
              "    .dataframe tbody tr th:only-of-type {\n",
              "        vertical-align: middle;\n",
              "    }\n",
              "\n",
              "    .dataframe tbody tr th {\n",
              "        vertical-align: top;\n",
              "    }\n",
              "\n",
              "    .dataframe thead th {\n",
              "        text-align: right;\n",
              "    }\n",
              "</style>\n",
              "<table border=\"1\" class=\"dataframe\">\n",
              "  <thead>\n",
              "    <tr style=\"text-align: right;\">\n",
              "      <th></th>\n",
              "      <th>customer_id</th>\n",
              "      <th>review_id</th>\n",
              "      <th>product_id</th>\n",
              "      <th>product_parent</th>\n",
              "      <th>product_title</th>\n",
              "      <th>product_category</th>\n",
              "      <th>custfreq</th>\n",
              "    </tr>\n",
              "  </thead>\n",
              "  <tbody>\n",
              "    <tr>\n",
              "      <th>0</th>\n",
              "      <td>39745418</td>\n",
              "      <td>RIQS2872HL2BC</td>\n",
              "      <td>B003S7GAT2</td>\n",
              "      <td>27657</td>\n",
              "      <td>Remo RH3100-00 3-Piece Drum Set Multi-colored ...</td>\n",
              "      <td>Musical Instruments</td>\n",
              "      <td>3</td>\n",
              "    </tr>\n",
              "    <tr>\n",
              "      <th>1</th>\n",
              "      <td>11944622</td>\n",
              "      <td>R15K6L7ZKJMTW5</td>\n",
              "      <td>B003S7GAT2</td>\n",
              "      <td>27657</td>\n",
              "      <td>Remo RH3100-00 3-Piece Drum Set Multi-colored ...</td>\n",
              "      <td>Musical Instruments</td>\n",
              "      <td>6</td>\n",
              "    </tr>\n",
              "    <tr>\n",
              "      <th>2</th>\n",
              "      <td>14433458</td>\n",
              "      <td>R1U50ENAWMW7JK</td>\n",
              "      <td>B003S7GAT2</td>\n",
              "      <td>27657</td>\n",
              "      <td>Remo RH3100-00 3-Piece Drum Set Multi-colored ...</td>\n",
              "      <td>Musical Instruments</td>\n",
              "      <td>4</td>\n",
              "    </tr>\n",
              "    <tr>\n",
              "      <th>3</th>\n",
              "      <td>25384250</td>\n",
              "      <td>R20ZG1DH5DE9IP</td>\n",
              "      <td>B003S7GAT2</td>\n",
              "      <td>27657</td>\n",
              "      <td>Remo RH3100-00 3-Piece Drum Set Multi-colored ...</td>\n",
              "      <td>Musical Instruments</td>\n",
              "      <td>2</td>\n",
              "    </tr>\n",
              "    <tr>\n",
              "      <th>4</th>\n",
              "      <td>14174875</td>\n",
              "      <td>RAHGU6QRL392J</td>\n",
              "      <td>B003S7GAT2</td>\n",
              "      <td>27657</td>\n",
              "      <td>Remo RH3100-00 3-Piece Drum Set Multi-colored ...</td>\n",
              "      <td>Musical Instruments</td>\n",
              "      <td>3</td>\n",
              "    </tr>\n",
              "  </tbody>\n",
              "</table>\n",
              "</div>\n",
              "      <button class=\"colab-df-convert\" onclick=\"convertToInteractive('df-73cbddbb-caac-48a3-a99d-8fc0db19fa1a')\"\n",
              "              title=\"Convert this dataframe to an interactive table.\"\n",
              "              style=\"display:none;\">\n",
              "        \n",
              "  <svg xmlns=\"http://www.w3.org/2000/svg\" height=\"24px\"viewBox=\"0 0 24 24\"\n",
              "       width=\"24px\">\n",
              "    <path d=\"M0 0h24v24H0V0z\" fill=\"none\"/>\n",
              "    <path d=\"M18.56 5.44l.94 2.06.94-2.06 2.06-.94-2.06-.94-.94-2.06-.94 2.06-2.06.94zm-11 1L8.5 8.5l.94-2.06 2.06-.94-2.06-.94L8.5 2.5l-.94 2.06-2.06.94zm10 10l.94 2.06.94-2.06 2.06-.94-2.06-.94-.94-2.06-.94 2.06-2.06.94z\"/><path d=\"M17.41 7.96l-1.37-1.37c-.4-.4-.92-.59-1.43-.59-.52 0-1.04.2-1.43.59L10.3 9.45l-7.72 7.72c-.78.78-.78 2.05 0 2.83L4 21.41c.39.39.9.59 1.41.59.51 0 1.02-.2 1.41-.59l7.78-7.78 2.81-2.81c.8-.78.8-2.07 0-2.86zM5.41 20L4 18.59l7.72-7.72 1.47 1.35L5.41 20z\"/>\n",
              "  </svg>\n",
              "      </button>\n",
              "      \n",
              "  <style>\n",
              "    .colab-df-container {\n",
              "      display:flex;\n",
              "      flex-wrap:wrap;\n",
              "      gap: 12px;\n",
              "    }\n",
              "\n",
              "    .colab-df-convert {\n",
              "      background-color: #E8F0FE;\n",
              "      border: none;\n",
              "      border-radius: 50%;\n",
              "      cursor: pointer;\n",
              "      display: none;\n",
              "      fill: #1967D2;\n",
              "      height: 32px;\n",
              "      padding: 0 0 0 0;\n",
              "      width: 32px;\n",
              "    }\n",
              "\n",
              "    .colab-df-convert:hover {\n",
              "      background-color: #E2EBFA;\n",
              "      box-shadow: 0px 1px 2px rgba(60, 64, 67, 0.3), 0px 1px 3px 1px rgba(60, 64, 67, 0.15);\n",
              "      fill: #174EA6;\n",
              "    }\n",
              "\n",
              "    [theme=dark] .colab-df-convert {\n",
              "      background-color: #3B4455;\n",
              "      fill: #D2E3FC;\n",
              "    }\n",
              "\n",
              "    [theme=dark] .colab-df-convert:hover {\n",
              "      background-color: #434B5C;\n",
              "      box-shadow: 0px 1px 3px 1px rgba(0, 0, 0, 0.15);\n",
              "      filter: drop-shadow(0px 1px 2px rgba(0, 0, 0, 0.3));\n",
              "      fill: #FFFFFF;\n",
              "    }\n",
              "  </style>\n",
              "\n",
              "      <script>\n",
              "        const buttonEl =\n",
              "          document.querySelector('#df-73cbddbb-caac-48a3-a99d-8fc0db19fa1a button.colab-df-convert');\n",
              "        buttonEl.style.display =\n",
              "          google.colab.kernel.accessAllowed ? 'block' : 'none';\n",
              "\n",
              "        async function convertToInteractive(key) {\n",
              "          const element = document.querySelector('#df-73cbddbb-caac-48a3-a99d-8fc0db19fa1a');\n",
              "          const dataTable =\n",
              "            await google.colab.kernel.invokeFunction('convertToInteractive',\n",
              "                                                     [key], {});\n",
              "          if (!dataTable) return;\n",
              "\n",
              "          const docLinkHtml = 'Like what you see? Visit the ' +\n",
              "            '<a target=\"_blank\" href=https://colab.research.google.com/notebooks/data_table.ipynb>data table notebook</a>'\n",
              "            + ' to learn more about interactive tables.';\n",
              "          element.innerHTML = '';\n",
              "          dataTable['output_type'] = 'display_data';\n",
              "          await google.colab.output.renderOutput(dataTable, element);\n",
              "          const docLink = document.createElement('div');\n",
              "          docLink.innerHTML = docLinkHtml;\n",
              "          element.appendChild(docLink);\n",
              "        }\n",
              "      </script>\n",
              "    </div>\n",
              "  </div>\n",
              "  "
            ]
          },
          "metadata": {},
          "execution_count": 9
        }
      ],
      "source": [
        "instrumentsdef = instrumentsdef.sort_values(\"product_parent\") #necessary for correct reindexing\n",
        "instrumentsdef = instrumentsdef.reset_index(drop=True)\n",
        "instrumentsdef.head()"
      ],
      "id": "57870182"
    },
    {
      "cell_type": "code",
      "execution_count": 10,
      "metadata": {
        "colab": {
          "base_uri": "https://localhost:8080/",
          "height": 49,
          "referenced_widgets": [
            "ecc1f513b4994b3f9c0a7a46ece737f4",
            "332eb24127f74c2fa07bdf5e6a1792e6",
            "1d3998d3dee148c2915a3f40dbc1bbf5",
            "66dce93b6e9546b8830212d81fc130c4",
            "07b0a4fec739480884d961feba6f40ed",
            "5dcb93592b564f0ca033a2526e3f2466",
            "889dd7752ee248eabf575a0d742df5f3",
            "b81616db9b354585b99c65be16d1d277",
            "7c77d757cbd844f8a0f09eaeca8fdba1",
            "d924463dbf7b461699fb5fe88348fac8",
            "0281290942f940f1bafc998a02ffd535"
          ]
        },
        "id": "74bcf1d6",
        "outputId": "ea9bebd4-1e79-43ed-8558-f8185cca3c93"
      },
      "outputs": [
        {
          "output_type": "display_data",
          "data": {
            "text/plain": [
              "Reading DF:   0%|          | 0/463713 [00:00<?, ?it/s]"
            ],
            "application/vnd.jupyter.widget-view+json": {
              "version_major": 2,
              "version_minor": 0,
              "model_id": "ecc1f513b4994b3f9c0a7a46ece737f4"
            }
          },
          "metadata": {}
        }
      ],
      "source": [
        "indexing = indexesprod(instrumentsdef) #reindexing products to more efficiently create edges"
      ],
      "id": "74bcf1d6"
    },
    {
      "cell_type": "code",
      "execution_count": 11,
      "metadata": {
        "colab": {
          "base_uri": "https://localhost:8080/",
          "height": 363
        },
        "id": "f4cf1f68",
        "outputId": "3247e9bc-bdf7-446b-d35a-9465a8eb68c8"
      },
      "outputs": [
        {
          "output_type": "execute_result",
          "data": {
            "text/plain": [
              "   customer_id       review_id  product_id  product_parent  \\\n",
              "0     39745418   RIQS2872HL2BC  B003S7GAT2           27657   \n",
              "1     11944622  R15K6L7ZKJMTW5  B003S7GAT2           27657   \n",
              "2     14433458  R1U50ENAWMW7JK  B003S7GAT2           27657   \n",
              "3     25384250  R20ZG1DH5DE9IP  B003S7GAT2           27657   \n",
              "4     14174875   RAHGU6QRL392J  B003S7GAT2           27657   \n",
              "5      1822108  R3QURUAS4MSCXL  B006YV2N0Y           44637   \n",
              "6     10311075  R1723HYZJ5OHJF  B006YV2N0Y           44637   \n",
              "7     13612653  R2AKGHD6RAM5YL  B0049SXUY2           54127   \n",
              "8     12065414  R34MMM30UD5HZS  B0049SXUY2           54127   \n",
              "9     12323342  R1FBDV6H40KZXW  B002NO4DMC          101117   \n",
              "\n",
              "                                       product_title     product_category  \\\n",
              "0  Remo RH3100-00 3-Piece Drum Set Multi-colored ...  Musical Instruments   \n",
              "1  Remo RH3100-00 3-Piece Drum Set Multi-colored ...  Musical Instruments   \n",
              "2  Remo RH3100-00 3-Piece Drum Set Multi-colored ...  Musical Instruments   \n",
              "3  Remo RH3100-00 3-Piece Drum Set Multi-colored ...  Musical Instruments   \n",
              "4  Remo RH3100-00 3-Piece Drum Set Multi-colored ...  Musical Instruments   \n",
              "5      Cannon MCC350 Large Round Wood Top Wind Chime  Musical Instruments   \n",
              "6      Cannon MCC350 Large Round Wood Top Wind Chime  Musical Instruments   \n",
              "7                     MXL CR-24 Studio Condenser Kit  Musical Instruments   \n",
              "8                     MXL CR-24 Studio Condenser Kit  Musical Instruments   \n",
              "9  NEW PRO CHERRY SUNBURST ARCHTOP LP-777 ELECTRI...  Musical Instruments   \n",
              "\n",
              "   custfreq  indexes  \n",
              "0         3        0  \n",
              "1         6        0  \n",
              "2         4        0  \n",
              "3         2        0  \n",
              "4         3        0  \n",
              "5         3        1  \n",
              "6         5        1  \n",
              "7        13        2  \n",
              "8         9        2  \n",
              "9         7        3  "
            ],
            "text/html": [
              "\n",
              "  <div id=\"df-3645481d-2146-41d8-b198-ca24f09bd759\">\n",
              "    <div class=\"colab-df-container\">\n",
              "      <div>\n",
              "<style scoped>\n",
              "    .dataframe tbody tr th:only-of-type {\n",
              "        vertical-align: middle;\n",
              "    }\n",
              "\n",
              "    .dataframe tbody tr th {\n",
              "        vertical-align: top;\n",
              "    }\n",
              "\n",
              "    .dataframe thead th {\n",
              "        text-align: right;\n",
              "    }\n",
              "</style>\n",
              "<table border=\"1\" class=\"dataframe\">\n",
              "  <thead>\n",
              "    <tr style=\"text-align: right;\">\n",
              "      <th></th>\n",
              "      <th>customer_id</th>\n",
              "      <th>review_id</th>\n",
              "      <th>product_id</th>\n",
              "      <th>product_parent</th>\n",
              "      <th>product_title</th>\n",
              "      <th>product_category</th>\n",
              "      <th>custfreq</th>\n",
              "      <th>indexes</th>\n",
              "    </tr>\n",
              "  </thead>\n",
              "  <tbody>\n",
              "    <tr>\n",
              "      <th>0</th>\n",
              "      <td>39745418</td>\n",
              "      <td>RIQS2872HL2BC</td>\n",
              "      <td>B003S7GAT2</td>\n",
              "      <td>27657</td>\n",
              "      <td>Remo RH3100-00 3-Piece Drum Set Multi-colored ...</td>\n",
              "      <td>Musical Instruments</td>\n",
              "      <td>3</td>\n",
              "      <td>0</td>\n",
              "    </tr>\n",
              "    <tr>\n",
              "      <th>1</th>\n",
              "      <td>11944622</td>\n",
              "      <td>R15K6L7ZKJMTW5</td>\n",
              "      <td>B003S7GAT2</td>\n",
              "      <td>27657</td>\n",
              "      <td>Remo RH3100-00 3-Piece Drum Set Multi-colored ...</td>\n",
              "      <td>Musical Instruments</td>\n",
              "      <td>6</td>\n",
              "      <td>0</td>\n",
              "    </tr>\n",
              "    <tr>\n",
              "      <th>2</th>\n",
              "      <td>14433458</td>\n",
              "      <td>R1U50ENAWMW7JK</td>\n",
              "      <td>B003S7GAT2</td>\n",
              "      <td>27657</td>\n",
              "      <td>Remo RH3100-00 3-Piece Drum Set Multi-colored ...</td>\n",
              "      <td>Musical Instruments</td>\n",
              "      <td>4</td>\n",
              "      <td>0</td>\n",
              "    </tr>\n",
              "    <tr>\n",
              "      <th>3</th>\n",
              "      <td>25384250</td>\n",
              "      <td>R20ZG1DH5DE9IP</td>\n",
              "      <td>B003S7GAT2</td>\n",
              "      <td>27657</td>\n",
              "      <td>Remo RH3100-00 3-Piece Drum Set Multi-colored ...</td>\n",
              "      <td>Musical Instruments</td>\n",
              "      <td>2</td>\n",
              "      <td>0</td>\n",
              "    </tr>\n",
              "    <tr>\n",
              "      <th>4</th>\n",
              "      <td>14174875</td>\n",
              "      <td>RAHGU6QRL392J</td>\n",
              "      <td>B003S7GAT2</td>\n",
              "      <td>27657</td>\n",
              "      <td>Remo RH3100-00 3-Piece Drum Set Multi-colored ...</td>\n",
              "      <td>Musical Instruments</td>\n",
              "      <td>3</td>\n",
              "      <td>0</td>\n",
              "    </tr>\n",
              "    <tr>\n",
              "      <th>5</th>\n",
              "      <td>1822108</td>\n",
              "      <td>R3QURUAS4MSCXL</td>\n",
              "      <td>B006YV2N0Y</td>\n",
              "      <td>44637</td>\n",
              "      <td>Cannon MCC350 Large Round Wood Top Wind Chime</td>\n",
              "      <td>Musical Instruments</td>\n",
              "      <td>3</td>\n",
              "      <td>1</td>\n",
              "    </tr>\n",
              "    <tr>\n",
              "      <th>6</th>\n",
              "      <td>10311075</td>\n",
              "      <td>R1723HYZJ5OHJF</td>\n",
              "      <td>B006YV2N0Y</td>\n",
              "      <td>44637</td>\n",
              "      <td>Cannon MCC350 Large Round Wood Top Wind Chime</td>\n",
              "      <td>Musical Instruments</td>\n",
              "      <td>5</td>\n",
              "      <td>1</td>\n",
              "    </tr>\n",
              "    <tr>\n",
              "      <th>7</th>\n",
              "      <td>13612653</td>\n",
              "      <td>R2AKGHD6RAM5YL</td>\n",
              "      <td>B0049SXUY2</td>\n",
              "      <td>54127</td>\n",
              "      <td>MXL CR-24 Studio Condenser Kit</td>\n",
              "      <td>Musical Instruments</td>\n",
              "      <td>13</td>\n",
              "      <td>2</td>\n",
              "    </tr>\n",
              "    <tr>\n",
              "      <th>8</th>\n",
              "      <td>12065414</td>\n",
              "      <td>R34MMM30UD5HZS</td>\n",
              "      <td>B0049SXUY2</td>\n",
              "      <td>54127</td>\n",
              "      <td>MXL CR-24 Studio Condenser Kit</td>\n",
              "      <td>Musical Instruments</td>\n",
              "      <td>9</td>\n",
              "      <td>2</td>\n",
              "    </tr>\n",
              "    <tr>\n",
              "      <th>9</th>\n",
              "      <td>12323342</td>\n",
              "      <td>R1FBDV6H40KZXW</td>\n",
              "      <td>B002NO4DMC</td>\n",
              "      <td>101117</td>\n",
              "      <td>NEW PRO CHERRY SUNBURST ARCHTOP LP-777 ELECTRI...</td>\n",
              "      <td>Musical Instruments</td>\n",
              "      <td>7</td>\n",
              "      <td>3</td>\n",
              "    </tr>\n",
              "  </tbody>\n",
              "</table>\n",
              "</div>\n",
              "      <button class=\"colab-df-convert\" onclick=\"convertToInteractive('df-3645481d-2146-41d8-b198-ca24f09bd759')\"\n",
              "              title=\"Convert this dataframe to an interactive table.\"\n",
              "              style=\"display:none;\">\n",
              "        \n",
              "  <svg xmlns=\"http://www.w3.org/2000/svg\" height=\"24px\"viewBox=\"0 0 24 24\"\n",
              "       width=\"24px\">\n",
              "    <path d=\"M0 0h24v24H0V0z\" fill=\"none\"/>\n",
              "    <path d=\"M18.56 5.44l.94 2.06.94-2.06 2.06-.94-2.06-.94-.94-2.06-.94 2.06-2.06.94zm-11 1L8.5 8.5l.94-2.06 2.06-.94-2.06-.94L8.5 2.5l-.94 2.06-2.06.94zm10 10l.94 2.06.94-2.06 2.06-.94-2.06-.94-.94-2.06-.94 2.06-2.06.94z\"/><path d=\"M17.41 7.96l-1.37-1.37c-.4-.4-.92-.59-1.43-.59-.52 0-1.04.2-1.43.59L10.3 9.45l-7.72 7.72c-.78.78-.78 2.05 0 2.83L4 21.41c.39.39.9.59 1.41.59.51 0 1.02-.2 1.41-.59l7.78-7.78 2.81-2.81c.8-.78.8-2.07 0-2.86zM5.41 20L4 18.59l7.72-7.72 1.47 1.35L5.41 20z\"/>\n",
              "  </svg>\n",
              "      </button>\n",
              "      \n",
              "  <style>\n",
              "    .colab-df-container {\n",
              "      display:flex;\n",
              "      flex-wrap:wrap;\n",
              "      gap: 12px;\n",
              "    }\n",
              "\n",
              "    .colab-df-convert {\n",
              "      background-color: #E8F0FE;\n",
              "      border: none;\n",
              "      border-radius: 50%;\n",
              "      cursor: pointer;\n",
              "      display: none;\n",
              "      fill: #1967D2;\n",
              "      height: 32px;\n",
              "      padding: 0 0 0 0;\n",
              "      width: 32px;\n",
              "    }\n",
              "\n",
              "    .colab-df-convert:hover {\n",
              "      background-color: #E2EBFA;\n",
              "      box-shadow: 0px 1px 2px rgba(60, 64, 67, 0.3), 0px 1px 3px 1px rgba(60, 64, 67, 0.15);\n",
              "      fill: #174EA6;\n",
              "    }\n",
              "\n",
              "    [theme=dark] .colab-df-convert {\n",
              "      background-color: #3B4455;\n",
              "      fill: #D2E3FC;\n",
              "    }\n",
              "\n",
              "    [theme=dark] .colab-df-convert:hover {\n",
              "      background-color: #434B5C;\n",
              "      box-shadow: 0px 1px 3px 1px rgba(0, 0, 0, 0.15);\n",
              "      filter: drop-shadow(0px 1px 2px rgba(0, 0, 0, 0.3));\n",
              "      fill: #FFFFFF;\n",
              "    }\n",
              "  </style>\n",
              "\n",
              "      <script>\n",
              "        const buttonEl =\n",
              "          document.querySelector('#df-3645481d-2146-41d8-b198-ca24f09bd759 button.colab-df-convert');\n",
              "        buttonEl.style.display =\n",
              "          google.colab.kernel.accessAllowed ? 'block' : 'none';\n",
              "\n",
              "        async function convertToInteractive(key) {\n",
              "          const element = document.querySelector('#df-3645481d-2146-41d8-b198-ca24f09bd759');\n",
              "          const dataTable =\n",
              "            await google.colab.kernel.invokeFunction('convertToInteractive',\n",
              "                                                     [key], {});\n",
              "          if (!dataTable) return;\n",
              "\n",
              "          const docLinkHtml = 'Like what you see? Visit the ' +\n",
              "            '<a target=\"_blank\" href=https://colab.research.google.com/notebooks/data_table.ipynb>data table notebook</a>'\n",
              "            + ' to learn more about interactive tables.';\n",
              "          element.innerHTML = '';\n",
              "          dataTable['output_type'] = 'display_data';\n",
              "          await google.colab.output.renderOutput(dataTable, element);\n",
              "          const docLink = document.createElement('div');\n",
              "          docLink.innerHTML = docLinkHtml;\n",
              "          element.appendChild(docLink);\n",
              "        }\n",
              "      </script>\n",
              "    </div>\n",
              "  </div>\n",
              "  "
            ]
          },
          "metadata": {},
          "execution_count": 11
        }
      ],
      "source": [
        "instrumentsdef['indexes'] = indexing\n",
        "instrumentsdef.head(10)"
      ],
      "id": "f4cf1f68"
    },
    {
      "cell_type": "code",
      "source": [
        "nodes = max(indexing) + 1 #the number of nodes is 78063, adding 1 because the index starts from 0\n",
        "nodes"
      ],
      "metadata": {
        "colab": {
          "base_uri": "https://localhost:8080/"
        },
        "id": "IQJcpncSmUPF",
        "outputId": "93c78c1d-2691-4c90-e8f9-a1726624f8eb"
      },
      "id": "IQJcpncSmUPF",
      "execution_count": 12,
      "outputs": [
        {
          "output_type": "execute_result",
          "data": {
            "text/plain": [
              "78063"
            ]
          },
          "metadata": {},
          "execution_count": 12
        }
      ]
    },
    {
      "cell_type": "markdown",
      "source": [
        "At the end of this brief preprocessing face, I create a list of tuples reviewer - product index to be transformed into an rdd and needed to create edges between products reviewed by the same customer and compute the PageRank index. \n",
        "\n",
        "Apart from final checks on the results of the algortith, the rest of the project is carried out in Spark through the application of MapReduce methods."
      ],
      "metadata": {
        "id": "uN83p8UL4EN9"
      },
      "id": "uN83p8UL4EN9"
    },
    {
      "cell_type": "code",
      "source": [
        "rp = tuple_list(instrumentsdef) #list of tuples\n",
        "rp[0:20]"
      ],
      "metadata": {
        "colab": {
          "base_uri": "https://localhost:8080/"
        },
        "id": "bdRMGX035G4V",
        "outputId": "02b1da76-09a5-422e-9374-fa184252f2b7"
      },
      "id": "bdRMGX035G4V",
      "execution_count": 13,
      "outputs": [
        {
          "output_type": "execute_result",
          "data": {
            "text/plain": [
              "[(39745418, 0),\n",
              " (11944622, 0),\n",
              " (14433458, 0),\n",
              " (25384250, 0),\n",
              " (14174875, 0),\n",
              " (1822108, 1),\n",
              " (10311075, 1),\n",
              " (13612653, 2),\n",
              " (12065414, 2),\n",
              " (12323342, 3),\n",
              " (12126693, 4),\n",
              " (20808922, 5),\n",
              " (42109453, 5),\n",
              " (12766095, 5),\n",
              " (27835258, 5),\n",
              " (47259347, 5),\n",
              " (51360783, 5),\n",
              " (24741649, 5),\n",
              " (31452449, 5),\n",
              " (22949585, 6)]"
            ]
          },
          "metadata": {},
          "execution_count": 13
        }
      ]
    },
    {
      "cell_type": "code",
      "source": [
        "#size of list of tuple\n",
        "print(\"Size of list: \" + str(sys.getsizeof(rp)/1e6) + \" Megabytes\")"
      ],
      "metadata": {
        "colab": {
          "base_uri": "https://localhost:8080/"
        },
        "id": "FI8faA13yQTV",
        "outputId": "a8410d41-59d2-4300-9b74-3514ef593e69"
      },
      "id": "FI8faA13yQTV",
      "execution_count": 14,
      "outputs": [
        {
          "output_type": "stream",
          "name": "stdout",
          "text": [
            "Size of list: 4.167352 Megabytes\n"
          ]
        }
      ]
    },
    {
      "cell_type": "markdown",
      "metadata": {
        "id": "5r7dK0tMss21"
      },
      "source": [
        "\n",
        "\n",
        "# Edges and PageRank step by step\n"
      ],
      "id": "5r7dK0tMss21"
    },
    {
      "cell_type": "code",
      "execution_count": 15,
      "metadata": {
        "id": "NExjDR84Oolj"
      },
      "outputs": [],
      "source": [
        "sc = spark.sparkContext"
      ],
      "id": "NExjDR84Oolj"
    },
    {
      "cell_type": "code",
      "execution_count": 16,
      "metadata": {
        "id": "aM9iuULqf5uQ"
      },
      "outputs": [],
      "source": [
        "rdd = sc.parallelize(rp).cache()"
      ],
      "id": "aM9iuULqf5uQ"
    },
    {
      "cell_type": "markdown",
      "metadata": {
        "id": "rphb0Njjs7a8"
      },
      "source": [
        "In order to create edges, I use a MapReduce process on the list of tuples of reviewers (key) and reviewed product (value). By grouping by key, I find a list of  reviews for each reviewer, and then I apply a permutation function on the list to create all possible edges.\n",
        "\n"
      ],
      "id": "rphb0Njjs7a8"
    },
    {
      "cell_type": "code",
      "execution_count": 17,
      "metadata": {
        "id": "tT9KV13Rng0H"
      },
      "outputs": [],
      "source": [
        "edges =  rdd.groupByKey().flatMap(lambda x : (itertools.permutations(x[1], 2))).sortByKey() #edges"
      ],
      "id": "tT9KV13Rng0H"
    },
    {
      "cell_type": "markdown",
      "source": [
        "Before defining a PageRank algorithm, I show the main steps used to obtain the necessary elements to run it."
      ],
      "metadata": {
        "id": "2DzmscvZB8ZY"
      },
      "id": "2DzmscvZB8ZY"
    },
    {
      "cell_type": "code",
      "execution_count": 18,
      "metadata": {
        "colab": {
          "base_uri": "https://localhost:8080/"
        },
        "outputId": "6e6e53fa-e859-47cb-9a38-661f9b3e8b99",
        "id": "xZlB0-ZJk4ns"
      },
      "outputs": [
        {
          "output_type": "stream",
          "name": "stdout",
          "text": [
            "78063\n"
          ]
        }
      ],
      "source": [
        "total_prod = max(edges.max(lambda x:x[0])[0],edges.max(lambda x:x[1])[1]) + 1 #index starts from zero, we are counting the actual number of nodes so we add 1\n",
        "print(total_prod)"
      ],
      "id": "xZlB0-ZJk4ns"
    },
    {
      "cell_type": "code",
      "execution_count": 19,
      "metadata": {
        "colab": {
          "base_uri": "https://localhost:8080/"
        },
        "id": "_S-WoYiuG468",
        "outputId": "80d8fb39-b8ce-4182-dd80-083c34bdd1ef"
      },
      "outputs": [
        {
          "output_type": "execute_result",
          "data": {
            "text/plain": [
              "(13, 6, 20)"
            ]
          },
          "metadata": {},
          "execution_count": 19
        }
      ],
      "source": [
        "id2degree = edges.countByKey()\n",
        "id2degree[0],id2degree[1],id2degree[2] #outdegree of each node "
      ],
      "id": "_S-WoYiuG468"
    },
    {
      "cell_type": "code",
      "execution_count": 20,
      "metadata": {
        "colab": {
          "base_uri": "https://localhost:8080/"
        },
        "id": "HrzfPosXG6tQ",
        "outputId": "9e250ddc-bdc9-4fac-cba6-6e26c737b0ec"
      },
      "outputs": [
        {
          "output_type": "execute_result",
          "data": {
            "text/plain": [
              "[(58314, 0, 0.07692307692307693),\n",
              " (64026, 0, 0.07692307692307693),\n",
              " (20748, 0, 0.07692307692307693),\n",
              " (29261, 0, 0.07692307692307693),\n",
              " (44894, 0, 0.07692307692307693),\n",
              " (48571, 0, 0.07692307692307693),\n",
              " (55869, 0, 0.07692307692307693),\n",
              " (8048, 0, 0.07692307692307693),\n",
              " (10759, 0, 0.07692307692307693),\n",
              " (42035, 0, 0.07692307692307693),\n",
              " (8213, 0, 0.07692307692307693),\n",
              " (24585, 0, 0.07692307692307693),\n",
              " (39937, 0, 0.07692307692307693),\n",
              " (25670, 1, 0.16666666666666666),\n",
              " (48142, 1, 0.16666666666666666),\n",
              " (17940, 1, 0.16666666666666666),\n",
              " (24149, 1, 0.16666666666666666),\n",
              " (55980, 1, 0.16666666666666666),\n",
              " (60467, 1, 0.16666666666666666),\n",
              " (4435, 2, 0.05)]"
            ]
          },
          "metadata": {},
          "execution_count": 20
        }
      ],
      "source": [
        "connection_matrix = edges.map(lambda x:(x[1],x[0],1/id2degree[x[0]])) #connection matrix (i,j,mij)\n",
        "connection_matrix.take(20)"
      ],
      "id": "HrzfPosXG6tQ"
    },
    {
      "cell_type": "code",
      "execution_count": 21,
      "metadata": {
        "colab": {
          "base_uri": "https://localhost:8080/"
        },
        "id": "oqvuCwSnGf66",
        "outputId": "89550d27-9ef0-4992-da0f-a9401eab9a06"
      },
      "outputs": [
        {
          "output_type": "execute_result",
          "data": {
            "text/plain": [
              "array([1.28101661e-05, 1.28101661e-05, 1.28101661e-05, 1.28101661e-05,\n",
              "       1.28101661e-05, 1.28101661e-05, 1.28101661e-05, 1.28101661e-05,\n",
              "       1.28101661e-05, 1.28101661e-05])"
            ]
          },
          "metadata": {},
          "execution_count": 21
        }
      ],
      "source": [
        "page_rank = np.full((total_prod,), 1/(total_prod)) #to be kept in main memory. vector of initial probabilities distribution\n",
        "page_rank[:10]"
      ],
      "id": "oqvuCwSnGf66"
    },
    {
      "cell_type": "code",
      "source": [
        "old_page_rank = np.ones(total_prod) #ensures the loop is started"
      ],
      "metadata": {
        "id": "hw8X5Rm1inIq"
      },
      "id": "hw8X5Rm1inIq",
      "execution_count": 22,
      "outputs": []
    },
    {
      "cell_type": "markdown",
      "metadata": {
        "id": "3t-KVxcMPAfS"
      },
      "source": [
        "# PageRank: Algorithms\n"
      ],
      "id": "3t-KVxcMPAfS"
    },
    {
      "cell_type": "markdown",
      "source": [
        "The elements described in the previous section are now used in three different functions which only need to receive the 'edges' file to perform all the steps previously illustrated:\n",
        "\n",
        "1.   **'get_page_rank_iteration'**, based exclusively on a set number of iterations, used as a first test for the functioning of the code. While the iterations are set to 50, the value can be changed for a faster test or a more accurate result;\n",
        "2.   **'get_page_rank_distance'**, where the algorithm stops when the euclidean distance between the vector of old values of the page rank and the updated vector is lower than a given threshold;\n",
        "3.   **'get_page_rank_taxation'**, an implementation of the taxation (or teleport) variation of the algorithm; \n",
        "2.   **'l2distance'**, a function computing the Euclidean distance of two vectors.\n",
        "\n",
        "\n",
        "Code for the algorithms and distance function has been adapted for this project from the solutions proposed during the curse and tutoring lessons.\n",
        "\n",
        "The functions could also be modified to receive the parallelized tuples list instead and perform edges creation inside of it.\n",
        "\n",
        "\n",
        "\n"
      ],
      "metadata": {
        "id": "z84SiVMJD8vo"
      },
      "id": "z84SiVMJD8vo"
    },
    {
      "cell_type": "code",
      "execution_count": 23,
      "metadata": {
        "id": "AFI2ceSjS-se"
      },
      "outputs": [],
      "source": [
        "def get_page_rank_iteration(rdd, verbose=False):\n",
        "\n",
        "    \n",
        "    total_prod = max(rdd.max(lambda x:x[0])[0],rdd.max(lambda x:x[1])[1]) + 1\n",
        "    id2degree = rdd.countByKey()\n",
        "    \n",
        "    page_rank = np.full((total_prod,), 1/(total_prod))\n",
        "    old_page_rank = np.ones(total_prod)\n",
        "\n",
        "    connection_matrix = rdd.map(lambda x:(x[1],x[0],1/id2degree[x[0]]))\n",
        "    \n",
        "    \n",
        "    for iteration in range(50): #to change for less or more iterations\n",
        "        old_page_rank = page_rank\n",
        "        page_rank_values = (connection_matrix\n",
        "                            .map(lambda t: (t[0], t[2]*page_rank[t[1]]))\n",
        "                            .reduceByKey(lambda a, b: a+b)\n",
        "                            .sortByKey()\n",
        "                            .collect()\n",
        "                           )\n",
        "        page_rank = np.array([c\n",
        "                              for (i, c) in page_rank_values])\n",
        "            \n",
        "        if verbose:\n",
        "            print(page_rank)\n",
        "\n",
        "        iteration += 1\n",
        "        \n",
        "    print('{} iterations'.format(iteration))\n",
        "    \n",
        "    return page_rank"
      ],
      "id": "AFI2ceSjS-se"
    },
    {
      "cell_type": "code",
      "execution_count": 24,
      "metadata": {
        "id": "7XiOBQbzS-sf",
        "colab": {
          "base_uri": "https://localhost:8080/"
        },
        "outputId": "35872d56-21fd-4b6e-c8bb-7b7bb20ddff3"
      },
      "outputs": [
        {
          "output_type": "stream",
          "name": "stdout",
          "text": [
            "50 iterations\n"
          ]
        }
      ],
      "source": [
        "simple_rank = get_page_rank_iteration(edges)"
      ],
      "id": "7XiOBQbzS-sf"
    },
    {
      "cell_type": "code",
      "execution_count": 25,
      "metadata": {
        "id": "VEKZNUtcS-sg",
        "colab": {
          "base_uri": "https://localhost:8080/"
        },
        "outputId": "f35fbbd4-1de4-443b-fc07-054f20d813b1"
      },
      "outputs": [
        {
          "output_type": "execute_result",
          "data": {
            "text/plain": [
              "array([3.71505108e-06, 1.71350116e-06, 5.71150805e-06, ...,\n",
              "       2.85570982e-07, 2.57040208e-06, 6.56685570e-06])"
            ]
          },
          "metadata": {},
          "execution_count": 25
        }
      ],
      "source": [
        "simple_rank"
      ],
      "id": "VEKZNUtcS-sg"
    },
    {
      "cell_type": "code",
      "execution_count": 26,
      "metadata": {
        "id": "H0o39HcMS-sh",
        "colab": {
          "base_uri": "https://localhost:8080/"
        },
        "outputId": "ca8136bb-fc2e-4ef8-d72e-75d4bd3b9f26"
      },
      "outputs": [
        {
          "output_type": "stream",
          "name": "stdout",
          "text": [
            "pr: 0.0029756904344108645, product: 26012\n",
            "pr: 0.0027317160968084743, product: 15398\n",
            "pr: 0.0025631570512565493, product: 34129\n",
            "pr: 0.002530913485544629, product: 32831\n",
            "pr: 0.002310719495768728, product: 58553\n",
            "pr: 0.0019120565771037015, product: 42359\n",
            "pr: 0.0018917481825906904, product: 50799\n",
            "pr: 0.0018198080148849728, product: 15633\n",
            "pr: 0.0017024009002907475, product: 38191\n",
            "pr: 0.0016219379151427601, product: 77448\n"
          ]
        }
      ],
      "source": [
        "#sorting of rank, displaying PR value and index of node (product)\n",
        "for product in list(zip(simple_rank.argsort()[::-1], simple_rank[simple_rank.argsort()[::-1]]))[:10]:\n",
        "    print(f\"pr: {product[1]}, product: {(product[0])}\")"
      ],
      "id": "H0o39HcMS-sh"
    },
    {
      "cell_type": "code",
      "execution_count": 27,
      "metadata": {
        "colab": {
          "base_uri": "https://localhost:8080/"
        },
        "outputId": "de1cfc83-8af5-40de-b6e4-9dc817aa5829",
        "id": "n8o--4Ulp4cw"
      },
      "outputs": [
        {
          "output_type": "stream",
          "name": "stdout",
          "text": [
            "       product_title  indexes\n",
            "154472   JOYO PEDALS    26012\n"
          ]
        }
      ],
      "source": [
        "pprint(instrumentsdef[instrumentsdef['indexes'] == 26012 ][['product_title','indexes']][:1]) #highest rank"
      ],
      "id": "n8o--4Ulp4cw"
    },
    {
      "cell_type": "code",
      "source": [
        "pprint(instrumentsdef[instrumentsdef['indexes'] == 15398 ][['product_title','indexes']][:1])"
      ],
      "metadata": {
        "colab": {
          "base_uri": "https://localhost:8080/"
        },
        "id": "MoOHZtW58Omm",
        "outputId": "d35aa281-b79f-4218-eb15-4d740563b7ea"
      },
      "id": "MoOHZtW58Omm",
      "execution_count": 28,
      "outputs": [
        {
          "output_type": "stream",
          "name": "stdout",
          "text": [
            "          product_title  indexes\n",
            "94019  Snark SN-1 Tuner    15398\n"
          ]
        }
      ]
    },
    {
      "cell_type": "code",
      "source": [
        "pprint(instrumentsdef[instrumentsdef['indexes'] == 34129][['product_title','indexes']][:1])"
      ],
      "metadata": {
        "colab": {
          "base_uri": "https://localhost:8080/"
        },
        "id": "8kXxSGfR8Our",
        "outputId": "8f06e472-eaae-4c42-c469-e7b5bc501879"
      },
      "id": "8kXxSGfR8Our",
      "execution_count": 29,
      "outputs": [
        {
          "output_type": "stream",
          "name": "stdout",
          "text": [
            "                   product_title  indexes\n",
            "204838  Ernie Ball slinky nickel    34129\n"
          ]
        }
      ]
    },
    {
      "cell_type": "code",
      "source": [
        "pprint(instrumentsdef[instrumentsdef['indexes'] == 32831][['product_title','indexes']][:1])"
      ],
      "metadata": {
        "colab": {
          "base_uri": "https://localhost:8080/"
        },
        "id": "mOtJev_e-RLq",
        "outputId": "ffd11878-9ac7-4b38-c2be-45dc10677f5a"
      },
      "id": "mOtJev_e-RLq",
      "execution_count": 30,
      "outputs": [
        {
          "output_type": "stream",
          "name": "stdout",
          "text": [
            "                                           product_title  indexes\n",
            "195220  Planet Waves Pro-Winder String Winder and Cutter    32831\n"
          ]
        }
      ]
    },
    {
      "cell_type": "code",
      "source": [
        "pprint(instrumentsdef[instrumentsdef['indexes'] == 58553][['product_title','indexes']][:1])"
      ],
      "metadata": {
        "colab": {
          "base_uri": "https://localhost:8080/"
        },
        "id": "mUuvGDt8-RV7",
        "outputId": "8592af73-9db4-426c-e5b6-3f6a4ea9e98d"
      },
      "id": "mUuvGDt8-RV7",
      "execution_count": 31,
      "outputs": [
        {
          "output_type": "stream",
          "name": "stdout",
          "text": [
            "                                            product_title  indexes\n",
            "350449  Elixir Strings 80/20 Bronze Acoustic Guitar St...    58553\n"
          ]
        }
      ]
    },
    {
      "cell_type": "code",
      "execution_count": 32,
      "metadata": {
        "id": "u1bx4Be-0RMU"
      },
      "outputs": [],
      "source": [
        "def l2distance(v, q):\n",
        "    \n",
        "    if len(v) != len(q):\n",
        "        raise ValueError('Cannot compute the distance'\n",
        "                         ' of two vectors of different size')\n",
        "    \n",
        "    return sum([(q_el - v_el)**2 for v_el, q_el in zip(v, q)])"
      ],
      "id": "u1bx4Be-0RMU"
    },
    {
      "cell_type": "code",
      "execution_count": 33,
      "metadata": {
        "id": "UE_Icp5jSvms"
      },
      "outputs": [],
      "source": [
        "def get_page_rank_distance(rdd, \n",
        "                  max_iterations=400, tolerance=1.e-8, verbose=False): #se non funziona fare alla -7 -8 ecc\n",
        "\n",
        "    \n",
        "    total_prod = max(rdd.max(lambda x:x[0])[0],rdd.max(lambda x:x[1])[1]) + 1\n",
        "    id2degree = rdd.countByKey()\n",
        "    \n",
        "    page_rank = np.full((total_prod,), 1/(total_prod))\n",
        "    old_page_rank = np.ones(total_prod)\n",
        "\n",
        "    connection_matrix = rdd.map(lambda x:(x[1],x[0],1/id2degree[x[0]]))\n",
        "    \n",
        "\n",
        "    iteration = 0\n",
        "    while l2distance(old_page_rank, page_rank) >= tolerance and \\\n",
        "          iteration < max_iterations:\n",
        "        old_page_rank = page_rank\n",
        "        page_rank_values = (connection_matrix\n",
        "                            .map(lambda t: (t[0], t[2]*page_rank[t[1]]))\n",
        "                            .reduceByKey(lambda a, b: a+b)\n",
        "                            .sortByKey()\n",
        "                            .collect()\n",
        "                           )\n",
        "        page_rank = np.array([c for (i, c) in page_rank_values])\n",
        "            \n",
        "        if verbose:\n",
        "            nice_print(page_rank)\n",
        "\n",
        "        iteration += 1\n",
        "\n",
        "    print('{} iterations'.format(iteration))\n",
        "    \n",
        "    return page_rank"
      ],
      "id": "UE_Icp5jSvms"
    },
    {
      "cell_type": "code",
      "execution_count": 34,
      "metadata": {
        "id": "F1PpE9y2TEI1",
        "colab": {
          "base_uri": "https://localhost:8080/"
        },
        "outputId": "b70d23db-02de-4a31-8803-a207286b8951"
      },
      "outputs": [
        {
          "output_type": "stream",
          "name": "stdout",
          "text": [
            "21 iterations\n"
          ]
        }
      ],
      "source": [
        "prdistance = get_page_rank_distance(edges)"
      ],
      "id": "F1PpE9y2TEI1"
    },
    {
      "cell_type": "code",
      "execution_count": 35,
      "metadata": {
        "id": "cf49zpgeTONl",
        "colab": {
          "base_uri": "https://localhost:8080/"
        },
        "outputId": "dca2b9b8-be4e-4481-ffec-e10baa427ca8"
      },
      "outputs": [
        {
          "output_type": "execute_result",
          "data": {
            "text/plain": [
              "array([3.75885748e-06, 1.71425738e-06, 5.73437816e-06, ...,\n",
              "       2.86855277e-07, 2.58325209e-06, 6.50733668e-06])"
            ]
          },
          "metadata": {},
          "execution_count": 35
        }
      ],
      "source": [
        "prdistance"
      ],
      "id": "cf49zpgeTONl"
    },
    {
      "cell_type": "code",
      "execution_count": 36,
      "metadata": {
        "id": "6NYuEUCWTaQr",
        "colab": {
          "base_uri": "https://localhost:8080/"
        },
        "outputId": "1e12ccfd-b587-4440-b04e-3058c97cf81b"
      },
      "outputs": [
        {
          "output_type": "stream",
          "name": "stdout",
          "text": [
            "pr: 0.0029913399160774556, product: 26012\n",
            "pr: 0.0027472324132232, product: 15398\n",
            "pr: 0.002576945790401992, product: 34129\n",
            "pr: 0.002544992787209787, product: 32831\n",
            "pr: 0.0023243036009685707, product: 58553\n",
            "pr: 0.0019246177392081396, product: 42359\n",
            "pr: 0.0019020018090063827, product: 50799\n",
            "pr: 0.0018301189652971815, product: 15633\n",
            "pr: 0.0017117720570050752, product: 38191\n",
            "pr: 0.001629897133761123, product: 77448\n"
          ]
        }
      ],
      "source": [
        "#sorting of rank, displaying PR value and index of node (product)\n",
        "for product in list(zip(prdistance.argsort()[::-1], prdistance[prdistance.argsort()[::-1]]))[:10]:\n",
        "    print(f\"pr: {product[1]}, product: {(product[0])}\")"
      ],
      "id": "6NYuEUCWTaQr"
    },
    {
      "cell_type": "code",
      "execution_count": 37,
      "metadata": {
        "id": "6OH4I1Vj0RN0"
      },
      "outputs": [],
      "source": [
        "def get_page_rank_taxation(rdd, beta=0.85,\n",
        "                  max_iterations=400, tolerance=1.e-10, verbose=False):\n",
        "\n",
        "    \n",
        "    total_prod = max(rdd.max(lambda x:x[0])[0],rdd.max(lambda x:x[1])[1]) + 1\n",
        "    id2degree = rdd.countByKey()\n",
        "    \n",
        "    page_rank = np.full((total_prod,), 1/(total_prod))\n",
        "    old_page_rank = np.ones(total_prod)\n",
        "\n",
        "    connection_matrix  = rdd.map(lambda x:(x[1],x[0],1/id2degree[x[0]]))\n",
        "  \n",
        "    \n",
        "    iteration = 0\n",
        "    while l2distance(old_page_rank, page_rank) >= tolerance and \\\n",
        "          iteration < max_iterations:\n",
        "        old_page_rank = page_rank\n",
        "        page_rank_values = (connection_matrix\n",
        "                            .map(lambda t: (t[0], t[2]*page_rank[t[1]]))\n",
        "                            .reduceByKey(lambda a, b: a+b)\n",
        "                            .sortByKey()\n",
        "                            .collect()\n",
        "                           )\n",
        "        page_rank = np.array([beta*c + (1-beta)/(total_prod)\n",
        "                              for (i, c) in page_rank_values])\n",
        "            \n",
        "        if verbose:\n",
        "            print(page_rank)\n",
        "\n",
        "        iteration += 1\n",
        "        \n",
        "    print('{} iterations'.format(iteration))\n",
        "    \n",
        "    return page_rank"
      ],
      "id": "6OH4I1Vj0RN0"
    },
    {
      "cell_type": "code",
      "execution_count": 38,
      "metadata": {
        "id": "xFvi_HfdRMmF",
        "colab": {
          "base_uri": "https://localhost:8080/"
        },
        "outputId": "9c9eccd7-0df4-4319-b098-3044e2338ee2"
      },
      "outputs": [
        {
          "output_type": "stream",
          "name": "stdout",
          "text": [
            "16 iterations\n"
          ]
        }
      ],
      "source": [
        "prtax = get_page_rank_taxation(edges)"
      ],
      "id": "xFvi_HfdRMmF"
    },
    {
      "cell_type": "code",
      "execution_count": 39,
      "metadata": {
        "id": "itWvqUx6RnJC",
        "colab": {
          "base_uri": "https://localhost:8080/"
        },
        "outputId": "c47b5b52-aadd-4ee4-f337-ceb3d25dfa98"
      },
      "outputs": [
        {
          "output_type": "execute_result",
          "data": {
            "text/plain": [
              "array([9.05558550e-06, 3.60473367e-06, 6.65642982e-06, ...,\n",
              "       2.22301469e-06, 3.73321794e-06, 8.84652921e-06])"
            ]
          },
          "metadata": {},
          "execution_count": 39
        }
      ],
      "source": [
        "prtax"
      ],
      "id": "itWvqUx6RnJC"
    },
    {
      "cell_type": "code",
      "execution_count": 40,
      "metadata": {
        "id": "K_INtXXjSXix",
        "colab": {
          "base_uri": "https://localhost:8080/"
        },
        "outputId": "a662b47f-04b7-4552-c12a-7772eaca330b"
      },
      "outputs": [
        {
          "output_type": "stream",
          "name": "stdout",
          "text": [
            "pr: 0.002320725883481306, product: 15398\n",
            "pr: 0.002317047863168403, product: 26012\n",
            "pr: 0.0020025939825207687, product: 34129\n",
            "pr: 0.0019827109283405493, product: 32831\n",
            "pr: 0.0018969709944813358, product: 58553\n",
            "pr: 0.0016924879657939172, product: 42359\n",
            "pr: 0.0016082182167982783, product: 50799\n",
            "pr: 0.001467785056985196, product: 15633\n",
            "pr: 0.0014610345911296428, product: 38191\n",
            "pr: 0.001350611468379184, product: 77448\n"
          ]
        }
      ],
      "source": [
        "#sorting of rank, displaying PR value and index of node (product)\n",
        "for product in list(zip(prtax.argsort()[::-1], prtax[prtax.argsort()[::-1]]))[:10]:\n",
        "    print(f\"pr: {product[1]}, product: {(product[0])}\")"
      ],
      "id": "K_INtXXjSXix"
    },
    {
      "cell_type": "markdown",
      "metadata": {
        "id": "fLHB35axx1f3"
      },
      "source": [
        "# Product Frequency: a check\n",
        "\n",
        "PageRank is considered a \"popularity\" index. When speaking about products, we can think that the most popular ones are also the ones that get reviewed more. It is reasonable to think that the more a product appears in the dataset, the higher the chance that it will have a consistent number of ingoing links, thus being well connected and raising its PageRank values. \n",
        "\n",
        "This last part of the project checks wheter the most frequent products correspond to the products with higher PageRank values.\n",
        "\n"
      ],
      "id": "fLHB35axx1f3"
    },
    {
      "cell_type": "code",
      "execution_count": 41,
      "metadata": {
        "id": "ILYIOYdIx0rr",
        "colab": {
          "base_uri": "https://localhost:8080/",
          "height": 206
        },
        "outputId": "a2744913-14ec-4571-8516-ba117d6be348"
      },
      "outputs": [
        {
          "output_type": "execute_result",
          "data": {
            "text/plain": [
              "   customer_id       review_id  product_id  product_parent  \\\n",
              "0     39745418   RIQS2872HL2BC  B003S7GAT2           27657   \n",
              "1     11944622  R15K6L7ZKJMTW5  B003S7GAT2           27657   \n",
              "2     14433458  R1U50ENAWMW7JK  B003S7GAT2           27657   \n",
              "3     25384250  R20ZG1DH5DE9IP  B003S7GAT2           27657   \n",
              "4     14174875   RAHGU6QRL392J  B003S7GAT2           27657   \n",
              "\n",
              "                                       product_title     product_category  \\\n",
              "0  Remo RH3100-00 3-Piece Drum Set Multi-colored ...  Musical Instruments   \n",
              "1  Remo RH3100-00 3-Piece Drum Set Multi-colored ...  Musical Instruments   \n",
              "2  Remo RH3100-00 3-Piece Drum Set Multi-colored ...  Musical Instruments   \n",
              "3  Remo RH3100-00 3-Piece Drum Set Multi-colored ...  Musical Instruments   \n",
              "4  Remo RH3100-00 3-Piece Drum Set Multi-colored ...  Musical Instruments   \n",
              "\n",
              "   custfreq  indexes  prodcount  \n",
              "0         3        0          5  \n",
              "1         6        0          5  \n",
              "2         4        0          5  \n",
              "3         2        0          5  \n",
              "4         3        0          5  "
            ],
            "text/html": [
              "\n",
              "  <div id=\"df-eb98b1c0-285f-4635-9cf9-62b260a2b4f5\">\n",
              "    <div class=\"colab-df-container\">\n",
              "      <div>\n",
              "<style scoped>\n",
              "    .dataframe tbody tr th:only-of-type {\n",
              "        vertical-align: middle;\n",
              "    }\n",
              "\n",
              "    .dataframe tbody tr th {\n",
              "        vertical-align: top;\n",
              "    }\n",
              "\n",
              "    .dataframe thead th {\n",
              "        text-align: right;\n",
              "    }\n",
              "</style>\n",
              "<table border=\"1\" class=\"dataframe\">\n",
              "  <thead>\n",
              "    <tr style=\"text-align: right;\">\n",
              "      <th></th>\n",
              "      <th>customer_id</th>\n",
              "      <th>review_id</th>\n",
              "      <th>product_id</th>\n",
              "      <th>product_parent</th>\n",
              "      <th>product_title</th>\n",
              "      <th>product_category</th>\n",
              "      <th>custfreq</th>\n",
              "      <th>indexes</th>\n",
              "      <th>prodcount</th>\n",
              "    </tr>\n",
              "  </thead>\n",
              "  <tbody>\n",
              "    <tr>\n",
              "      <th>0</th>\n",
              "      <td>39745418</td>\n",
              "      <td>RIQS2872HL2BC</td>\n",
              "      <td>B003S7GAT2</td>\n",
              "      <td>27657</td>\n",
              "      <td>Remo RH3100-00 3-Piece Drum Set Multi-colored ...</td>\n",
              "      <td>Musical Instruments</td>\n",
              "      <td>3</td>\n",
              "      <td>0</td>\n",
              "      <td>5</td>\n",
              "    </tr>\n",
              "    <tr>\n",
              "      <th>1</th>\n",
              "      <td>11944622</td>\n",
              "      <td>R15K6L7ZKJMTW5</td>\n",
              "      <td>B003S7GAT2</td>\n",
              "      <td>27657</td>\n",
              "      <td>Remo RH3100-00 3-Piece Drum Set Multi-colored ...</td>\n",
              "      <td>Musical Instruments</td>\n",
              "      <td>6</td>\n",
              "      <td>0</td>\n",
              "      <td>5</td>\n",
              "    </tr>\n",
              "    <tr>\n",
              "      <th>2</th>\n",
              "      <td>14433458</td>\n",
              "      <td>R1U50ENAWMW7JK</td>\n",
              "      <td>B003S7GAT2</td>\n",
              "      <td>27657</td>\n",
              "      <td>Remo RH3100-00 3-Piece Drum Set Multi-colored ...</td>\n",
              "      <td>Musical Instruments</td>\n",
              "      <td>4</td>\n",
              "      <td>0</td>\n",
              "      <td>5</td>\n",
              "    </tr>\n",
              "    <tr>\n",
              "      <th>3</th>\n",
              "      <td>25384250</td>\n",
              "      <td>R20ZG1DH5DE9IP</td>\n",
              "      <td>B003S7GAT2</td>\n",
              "      <td>27657</td>\n",
              "      <td>Remo RH3100-00 3-Piece Drum Set Multi-colored ...</td>\n",
              "      <td>Musical Instruments</td>\n",
              "      <td>2</td>\n",
              "      <td>0</td>\n",
              "      <td>5</td>\n",
              "    </tr>\n",
              "    <tr>\n",
              "      <th>4</th>\n",
              "      <td>14174875</td>\n",
              "      <td>RAHGU6QRL392J</td>\n",
              "      <td>B003S7GAT2</td>\n",
              "      <td>27657</td>\n",
              "      <td>Remo RH3100-00 3-Piece Drum Set Multi-colored ...</td>\n",
              "      <td>Musical Instruments</td>\n",
              "      <td>3</td>\n",
              "      <td>0</td>\n",
              "      <td>5</td>\n",
              "    </tr>\n",
              "  </tbody>\n",
              "</table>\n",
              "</div>\n",
              "      <button class=\"colab-df-convert\" onclick=\"convertToInteractive('df-eb98b1c0-285f-4635-9cf9-62b260a2b4f5')\"\n",
              "              title=\"Convert this dataframe to an interactive table.\"\n",
              "              style=\"display:none;\">\n",
              "        \n",
              "  <svg xmlns=\"http://www.w3.org/2000/svg\" height=\"24px\"viewBox=\"0 0 24 24\"\n",
              "       width=\"24px\">\n",
              "    <path d=\"M0 0h24v24H0V0z\" fill=\"none\"/>\n",
              "    <path d=\"M18.56 5.44l.94 2.06.94-2.06 2.06-.94-2.06-.94-.94-2.06-.94 2.06-2.06.94zm-11 1L8.5 8.5l.94-2.06 2.06-.94-2.06-.94L8.5 2.5l-.94 2.06-2.06.94zm10 10l.94 2.06.94-2.06 2.06-.94-2.06-.94-.94-2.06-.94 2.06-2.06.94z\"/><path d=\"M17.41 7.96l-1.37-1.37c-.4-.4-.92-.59-1.43-.59-.52 0-1.04.2-1.43.59L10.3 9.45l-7.72 7.72c-.78.78-.78 2.05 0 2.83L4 21.41c.39.39.9.59 1.41.59.51 0 1.02-.2 1.41-.59l7.78-7.78 2.81-2.81c.8-.78.8-2.07 0-2.86zM5.41 20L4 18.59l7.72-7.72 1.47 1.35L5.41 20z\"/>\n",
              "  </svg>\n",
              "      </button>\n",
              "      \n",
              "  <style>\n",
              "    .colab-df-container {\n",
              "      display:flex;\n",
              "      flex-wrap:wrap;\n",
              "      gap: 12px;\n",
              "    }\n",
              "\n",
              "    .colab-df-convert {\n",
              "      background-color: #E8F0FE;\n",
              "      border: none;\n",
              "      border-radius: 50%;\n",
              "      cursor: pointer;\n",
              "      display: none;\n",
              "      fill: #1967D2;\n",
              "      height: 32px;\n",
              "      padding: 0 0 0 0;\n",
              "      width: 32px;\n",
              "    }\n",
              "\n",
              "    .colab-df-convert:hover {\n",
              "      background-color: #E2EBFA;\n",
              "      box-shadow: 0px 1px 2px rgba(60, 64, 67, 0.3), 0px 1px 3px 1px rgba(60, 64, 67, 0.15);\n",
              "      fill: #174EA6;\n",
              "    }\n",
              "\n",
              "    [theme=dark] .colab-df-convert {\n",
              "      background-color: #3B4455;\n",
              "      fill: #D2E3FC;\n",
              "    }\n",
              "\n",
              "    [theme=dark] .colab-df-convert:hover {\n",
              "      background-color: #434B5C;\n",
              "      box-shadow: 0px 1px 3px 1px rgba(0, 0, 0, 0.15);\n",
              "      filter: drop-shadow(0px 1px 2px rgba(0, 0, 0, 0.3));\n",
              "      fill: #FFFFFF;\n",
              "    }\n",
              "  </style>\n",
              "\n",
              "      <script>\n",
              "        const buttonEl =\n",
              "          document.querySelector('#df-eb98b1c0-285f-4635-9cf9-62b260a2b4f5 button.colab-df-convert');\n",
              "        buttonEl.style.display =\n",
              "          google.colab.kernel.accessAllowed ? 'block' : 'none';\n",
              "\n",
              "        async function convertToInteractive(key) {\n",
              "          const element = document.querySelector('#df-eb98b1c0-285f-4635-9cf9-62b260a2b4f5');\n",
              "          const dataTable =\n",
              "            await google.colab.kernel.invokeFunction('convertToInteractive',\n",
              "                                                     [key], {});\n",
              "          if (!dataTable) return;\n",
              "\n",
              "          const docLinkHtml = 'Like what you see? Visit the ' +\n",
              "            '<a target=\"_blank\" href=https://colab.research.google.com/notebooks/data_table.ipynb>data table notebook</a>'\n",
              "            + ' to learn more about interactive tables.';\n",
              "          element.innerHTML = '';\n",
              "          dataTable['output_type'] = 'display_data';\n",
              "          await google.colab.output.renderOutput(dataTable, element);\n",
              "          const docLink = document.createElement('div');\n",
              "          docLink.innerHTML = docLinkHtml;\n",
              "          element.appendChild(docLink);\n",
              "        }\n",
              "      </script>\n",
              "    </div>\n",
              "  </div>\n",
              "  "
            ]
          },
          "metadata": {},
          "execution_count": 41
        }
      ],
      "source": [
        "instrumentsdef['prodcount'] = instrumentsdef.groupby('product_parent')['product_parent'].transform('count') #count number of times the product appears in the data\n",
        "instrumentsdef.head()"
      ],
      "id": "ILYIOYdIx0rr"
    },
    {
      "cell_type": "code",
      "source": [
        "instrumentsdef.loc[instrumentsdef['prodcount'].idxmax()] #product with highest count"
      ],
      "metadata": {
        "colab": {
          "base_uri": "https://localhost:8080/"
        },
        "id": "4i0uu3jj_IX7",
        "outputId": "a4acd282-2c17-48bb-f54d-b42b19718e4f"
      },
      "id": "4i0uu3jj_IX7",
      "execution_count": 42,
      "outputs": [
        {
          "output_type": "execute_result",
          "data": {
            "text/plain": [
              "customer_id                    10555415\n",
              "review_id                R2FEM1861T5RQO\n",
              "product_id                   B003VWJ2K8\n",
              "product_parent                195373332\n",
              "product_title          Snark SN-1 Tuner\n",
              "product_category    Musical Instruments\n",
              "custfreq                              4\n",
              "indexes                           15398\n",
              "prodcount                          1964\n",
              "Name: 94019, dtype: object"
            ]
          },
          "metadata": {},
          "execution_count": 42
        }
      ]
    },
    {
      "cell_type": "code",
      "execution_count": 43,
      "metadata": {
        "id": "ox2oasJWyBY3",
        "colab": {
          "base_uri": "https://localhost:8080/"
        },
        "outputId": "a6cc9e75-6389-41c6-8000-037f09c6ddae"
      },
      "outputs": [
        {
          "output_type": "stream",
          "name": "stdout",
          "text": [
            "          product_title  indexes\n",
            "94659  Snark SN-1 Tuner    15398\n"
          ]
        }
      ],
      "source": [
        "instrumentsdef = instrumentsdef.sort_values(\"prodcount\", ascending=False) #and manually\n",
        "pprint(instrumentsdef[['product_title','indexes']][:1])"
      ],
      "id": "ox2oasJWyBY3"
    },
    {
      "cell_type": "code",
      "source": [
        "pprint(instrumentsdef[['product_title','indexes']][1965:1966])"
      ],
      "metadata": {
        "colab": {
          "base_uri": "https://localhost:8080/"
        },
        "id": "UbDea5Fh8HzZ",
        "outputId": "a5686a6a-6516-44a1-d4c3-34ee6f2fe625"
      },
      "id": "UbDea5Fh8HzZ",
      "execution_count": 44,
      "outputs": [
        {
          "output_type": "stream",
          "name": "stdout",
          "text": [
            "                                            product_title  indexes\n",
            "351364  Elixir Strings 80/20 Bronze Acoustic Guitar St...    58553\n"
          ]
        }
      ]
    },
    {
      "cell_type": "code",
      "source": [
        "pprint(instrumentsdef[['product_title','indexes']][3340:3341])"
      ],
      "metadata": {
        "colab": {
          "base_uri": "https://localhost:8080/"
        },
        "id": "KcSeDJZC8IB6",
        "outputId": "190a032f-54ed-4949-cfda-e92787b975e5"
      },
      "id": "KcSeDJZC8IB6",
      "execution_count": 45,
      "outputs": [
        {
          "output_type": "stream",
          "name": "stdout",
          "text": [
            "                                            product_title  indexes\n",
            "255970  Snark SN-2 All Instrument Clip-On Chromatic Tuner    42359\n"
          ]
        }
      ]
    },
    {
      "cell_type": "code",
      "source": [
        "pprint(instrumentsdef[['product_title','indexes']][4687:4688])"
      ],
      "metadata": {
        "colab": {
          "base_uri": "https://localhost:8080/"
        },
        "id": "sgm4DB058IJJ",
        "outputId": "5821c0a4-8a2e-4b6d-daf5-14071db563e0"
      },
      "id": "sgm4DB058IJJ",
      "execution_count": 46,
      "outputs": [
        {
          "output_type": "stream",
          "name": "stdout",
          "text": [
            "       product_title  indexes\n",
            "230042         Snark    38191\n"
          ]
        }
      ]
    },
    {
      "cell_type": "code",
      "source": [
        "pprint(instrumentsdef[['product_title','indexes']][5922:5923])"
      ],
      "metadata": {
        "colab": {
          "base_uri": "https://localhost:8080/"
        },
        "id": "K_9wdIXb8IPm",
        "outputId": "2d7ba8e9-8794-446f-8441-9d7f64b68b72"
      },
      "id": "K_9wdIXb8IPm",
      "execution_count": 47,
      "outputs": [
        {
          "output_type": "stream",
          "name": "stdout",
          "text": [
            "                                            product_title  indexes\n",
            "459804  Musician's Gear Electric, Acoustic and Bass Gu...    77448\n"
          ]
        }
      ]
    },
    {
      "cell_type": "markdown",
      "source": [
        "# Addendum: file sizes and number of edges\n"
      ],
      "metadata": {
        "id": "TraqyGa9P0vG"
      },
      "id": "TraqyGa9P0vG"
    },
    {
      "cell_type": "code",
      "execution_count": 48,
      "metadata": {
        "id": "LWeyShoktx7b"
      },
      "outputs": [],
      "source": [
        " edges = edges.collect()"
      ],
      "id": "LWeyShoktx7b"
    },
    {
      "cell_type": "code",
      "execution_count": 49,
      "metadata": {
        "id": "9Ec1ftGr8yAg",
        "colab": {
          "base_uri": "https://localhost:8080/"
        },
        "outputId": "cf5bd33b-cb2b-4fa7-f993-29e3c057fef2"
      },
      "outputs": [
        {
          "output_type": "execute_result",
          "data": {
            "text/plain": [
              "[(0, 58314),\n",
              " (0, 64026),\n",
              " (0, 20748),\n",
              " (0, 29261),\n",
              " (0, 44894),\n",
              " (0, 48571),\n",
              " (0, 55869),\n",
              " (0, 8048),\n",
              " (0, 10759),\n",
              " (0, 42035),\n",
              " (0, 8213),\n",
              " (0, 24585),\n",
              " (0, 39937),\n",
              " (1, 25670),\n",
              " (1, 48142),\n",
              " (1, 17940),\n",
              " (1, 24149),\n",
              " (1, 55980),\n",
              " (1, 60467),\n",
              " (2, 4435)]"
            ]
          },
          "metadata": {},
          "execution_count": 49
        }
      ],
      "source": [
        "edges[0:20] #showing the edges "
      ],
      "id": "9Ec1ftGr8yAg"
    },
    {
      "cell_type": "code",
      "execution_count": 50,
      "metadata": {
        "id": "4rwDMFlvfCze",
        "colab": {
          "base_uri": "https://localhost:8080/"
        },
        "outputId": "3dacb261-29b7-4ebb-e2f0-199a4c7cf487"
      },
      "outputs": [
        {
          "output_type": "stream",
          "name": "stdout",
          "text": [
            "Size of rdd: 27.436344 Megabytes\n"
          ]
        }
      ],
      "source": [
        "#size of the edges file\n",
        "print(\"Size of rdd: \" + str(sys.getsizeof(edges)/1e6) + \" Megabytes\")"
      ],
      "id": "4rwDMFlvfCze"
    },
    {
      "cell_type": "code",
      "execution_count": 51,
      "metadata": {
        "id": "F4-mIdjGk047",
        "colab": {
          "base_uri": "https://localhost:8080/"
        },
        "outputId": "41653862-88e6-4c5e-dc3e-8c47b0e4418b"
      },
      "outputs": [
        {
          "output_type": "execute_result",
          "data": {
            "text/plain": [
              "3377442"
            ]
          },
          "metadata": {},
          "execution_count": 51
        }
      ],
      "source": [
        "len(edges) #number of edges"
      ],
      "id": "F4-mIdjGk047"
    },
    {
      "cell_type": "code",
      "source": [
        "setedges = set(edges) #there exist duplicate edges\n",
        "len(setedges) "
      ],
      "metadata": {
        "colab": {
          "base_uri": "https://localhost:8080/"
        },
        "id": "166FN5yoQEIA",
        "outputId": "7a134f75-18e6-4697-917e-e6f27bff0530"
      },
      "id": "166FN5yoQEIA",
      "execution_count": 52,
      "outputs": [
        {
          "output_type": "execute_result",
          "data": {
            "text/plain": [
              "2995259"
            ]
          },
          "metadata": {},
          "execution_count": 52
        }
      ]
    },
    {
      "cell_type": "code",
      "execution_count": 53,
      "metadata": {
        "id": "akMYAWv2aAvz"
      },
      "outputs": [],
      "source": [
        "page_rank = np.full((total_prod,), 1/(total_prod))"
      ],
      "id": "akMYAWv2aAvz"
    },
    {
      "cell_type": "code",
      "execution_count": 54,
      "metadata": {
        "id": "GvCXQGVzaKwt",
        "colab": {
          "base_uri": "https://localhost:8080/"
        },
        "outputId": "e072b1b0-8f77-4436-f8f0-646a937111bd"
      },
      "outputs": [
        {
          "output_type": "stream",
          "name": "stdout",
          "text": [
            "Size of vector: 0.624616 Megabytes\n"
          ]
        }
      ],
      "source": [
        "#size of the initial vector of probabilities\n",
        "print(\"Size of vector: \" + str(sys.getsizeof(page_rank)/1e6) + \" Megabytes\")"
      ],
      "id": "GvCXQGVzaKwt"
    },
    {
      "cell_type": "code",
      "source": [
        "#size of vector of final results\n",
        "print(\"Size of vector: \" + str(sys.getsizeof(simple_rank)/1e6) + \" Megabytes\")"
      ],
      "metadata": {
        "colab": {
          "base_uri": "https://localhost:8080/"
        },
        "id": "2NOoox-V92t8",
        "outputId": "1ab5e336-bc47-4f5d-b723-0ae59fec1f96"
      },
      "id": "2NOoox-V92t8",
      "execution_count": 55,
      "outputs": [
        {
          "output_type": "stream",
          "name": "stdout",
          "text": [
            "Size of vector: 0.624616 Megabytes\n"
          ]
        }
      ]
    }
  ],
  "metadata": {
    "colab": {
      "provenance": [],
      "include_colab_link": true
    },
    "kernelspec": {
      "display_name": "Python 3 (ipykernel)",
      "language": "python",
      "name": "python3"
    },
    "language_info": {
      "codemirror_mode": {
        "name": "ipython",
        "version": 3
      },
      "file_extension": ".py",
      "mimetype": "text/x-python",
      "name": "python",
      "nbconvert_exporter": "python",
      "pygments_lexer": "ipython3",
      "version": "3.9.13"
    },
    "widgets": {
      "application/vnd.jupyter.widget-state+json": {
        "ecc1f513b4994b3f9c0a7a46ece737f4": {
          "model_module": "@jupyter-widgets/controls",
          "model_name": "HBoxModel",
          "model_module_version": "1.5.0",
          "state": {
            "_dom_classes": [],
            "_model_module": "@jupyter-widgets/controls",
            "_model_module_version": "1.5.0",
            "_model_name": "HBoxModel",
            "_view_count": null,
            "_view_module": "@jupyter-widgets/controls",
            "_view_module_version": "1.5.0",
            "_view_name": "HBoxView",
            "box_style": "",
            "children": [
              "IPY_MODEL_332eb24127f74c2fa07bdf5e6a1792e6",
              "IPY_MODEL_1d3998d3dee148c2915a3f40dbc1bbf5",
              "IPY_MODEL_66dce93b6e9546b8830212d81fc130c4"
            ],
            "layout": "IPY_MODEL_07b0a4fec739480884d961feba6f40ed"
          }
        },
        "332eb24127f74c2fa07bdf5e6a1792e6": {
          "model_module": "@jupyter-widgets/controls",
          "model_name": "HTMLModel",
          "model_module_version": "1.5.0",
          "state": {
            "_dom_classes": [],
            "_model_module": "@jupyter-widgets/controls",
            "_model_module_version": "1.5.0",
            "_model_name": "HTMLModel",
            "_view_count": null,
            "_view_module": "@jupyter-widgets/controls",
            "_view_module_version": "1.5.0",
            "_view_name": "HTMLView",
            "description": "",
            "description_tooltip": null,
            "layout": "IPY_MODEL_5dcb93592b564f0ca033a2526e3f2466",
            "placeholder": "​",
            "style": "IPY_MODEL_889dd7752ee248eabf575a0d742df5f3",
            "value": "Reading DF: 100%"
          }
        },
        "1d3998d3dee148c2915a3f40dbc1bbf5": {
          "model_module": "@jupyter-widgets/controls",
          "model_name": "FloatProgressModel",
          "model_module_version": "1.5.0",
          "state": {
            "_dom_classes": [],
            "_model_module": "@jupyter-widgets/controls",
            "_model_module_version": "1.5.0",
            "_model_name": "FloatProgressModel",
            "_view_count": null,
            "_view_module": "@jupyter-widgets/controls",
            "_view_module_version": "1.5.0",
            "_view_name": "ProgressView",
            "bar_style": "success",
            "description": "",
            "description_tooltip": null,
            "layout": "IPY_MODEL_b81616db9b354585b99c65be16d1d277",
            "max": 463713,
            "min": 0,
            "orientation": "horizontal",
            "style": "IPY_MODEL_7c77d757cbd844f8a0f09eaeca8fdba1",
            "value": 463713
          }
        },
        "66dce93b6e9546b8830212d81fc130c4": {
          "model_module": "@jupyter-widgets/controls",
          "model_name": "HTMLModel",
          "model_module_version": "1.5.0",
          "state": {
            "_dom_classes": [],
            "_model_module": "@jupyter-widgets/controls",
            "_model_module_version": "1.5.0",
            "_model_name": "HTMLModel",
            "_view_count": null,
            "_view_module": "@jupyter-widgets/controls",
            "_view_module_version": "1.5.0",
            "_view_name": "HTMLView",
            "description": "",
            "description_tooltip": null,
            "layout": "IPY_MODEL_d924463dbf7b461699fb5fe88348fac8",
            "placeholder": "​",
            "style": "IPY_MODEL_0281290942f940f1bafc998a02ffd535",
            "value": " 463713/463713 [00:05&lt;00:00, 52156.18it/s]"
          }
        },
        "07b0a4fec739480884d961feba6f40ed": {
          "model_module": "@jupyter-widgets/base",
          "model_name": "LayoutModel",
          "model_module_version": "1.2.0",
          "state": {
            "_model_module": "@jupyter-widgets/base",
            "_model_module_version": "1.2.0",
            "_model_name": "LayoutModel",
            "_view_count": null,
            "_view_module": "@jupyter-widgets/base",
            "_view_module_version": "1.2.0",
            "_view_name": "LayoutView",
            "align_content": null,
            "align_items": null,
            "align_self": null,
            "border": null,
            "bottom": null,
            "display": null,
            "flex": null,
            "flex_flow": null,
            "grid_area": null,
            "grid_auto_columns": null,
            "grid_auto_flow": null,
            "grid_auto_rows": null,
            "grid_column": null,
            "grid_gap": null,
            "grid_row": null,
            "grid_template_areas": null,
            "grid_template_columns": null,
            "grid_template_rows": null,
            "height": null,
            "justify_content": null,
            "justify_items": null,
            "left": null,
            "margin": null,
            "max_height": null,
            "max_width": null,
            "min_height": null,
            "min_width": null,
            "object_fit": null,
            "object_position": null,
            "order": null,
            "overflow": null,
            "overflow_x": null,
            "overflow_y": null,
            "padding": null,
            "right": null,
            "top": null,
            "visibility": null,
            "width": null
          }
        },
        "5dcb93592b564f0ca033a2526e3f2466": {
          "model_module": "@jupyter-widgets/base",
          "model_name": "LayoutModel",
          "model_module_version": "1.2.0",
          "state": {
            "_model_module": "@jupyter-widgets/base",
            "_model_module_version": "1.2.0",
            "_model_name": "LayoutModel",
            "_view_count": null,
            "_view_module": "@jupyter-widgets/base",
            "_view_module_version": "1.2.0",
            "_view_name": "LayoutView",
            "align_content": null,
            "align_items": null,
            "align_self": null,
            "border": null,
            "bottom": null,
            "display": null,
            "flex": null,
            "flex_flow": null,
            "grid_area": null,
            "grid_auto_columns": null,
            "grid_auto_flow": null,
            "grid_auto_rows": null,
            "grid_column": null,
            "grid_gap": null,
            "grid_row": null,
            "grid_template_areas": null,
            "grid_template_columns": null,
            "grid_template_rows": null,
            "height": null,
            "justify_content": null,
            "justify_items": null,
            "left": null,
            "margin": null,
            "max_height": null,
            "max_width": null,
            "min_height": null,
            "min_width": null,
            "object_fit": null,
            "object_position": null,
            "order": null,
            "overflow": null,
            "overflow_x": null,
            "overflow_y": null,
            "padding": null,
            "right": null,
            "top": null,
            "visibility": null,
            "width": null
          }
        },
        "889dd7752ee248eabf575a0d742df5f3": {
          "model_module": "@jupyter-widgets/controls",
          "model_name": "DescriptionStyleModel",
          "model_module_version": "1.5.0",
          "state": {
            "_model_module": "@jupyter-widgets/controls",
            "_model_module_version": "1.5.0",
            "_model_name": "DescriptionStyleModel",
            "_view_count": null,
            "_view_module": "@jupyter-widgets/base",
            "_view_module_version": "1.2.0",
            "_view_name": "StyleView",
            "description_width": ""
          }
        },
        "b81616db9b354585b99c65be16d1d277": {
          "model_module": "@jupyter-widgets/base",
          "model_name": "LayoutModel",
          "model_module_version": "1.2.0",
          "state": {
            "_model_module": "@jupyter-widgets/base",
            "_model_module_version": "1.2.0",
            "_model_name": "LayoutModel",
            "_view_count": null,
            "_view_module": "@jupyter-widgets/base",
            "_view_module_version": "1.2.0",
            "_view_name": "LayoutView",
            "align_content": null,
            "align_items": null,
            "align_self": null,
            "border": null,
            "bottom": null,
            "display": null,
            "flex": null,
            "flex_flow": null,
            "grid_area": null,
            "grid_auto_columns": null,
            "grid_auto_flow": null,
            "grid_auto_rows": null,
            "grid_column": null,
            "grid_gap": null,
            "grid_row": null,
            "grid_template_areas": null,
            "grid_template_columns": null,
            "grid_template_rows": null,
            "height": null,
            "justify_content": null,
            "justify_items": null,
            "left": null,
            "margin": null,
            "max_height": null,
            "max_width": null,
            "min_height": null,
            "min_width": null,
            "object_fit": null,
            "object_position": null,
            "order": null,
            "overflow": null,
            "overflow_x": null,
            "overflow_y": null,
            "padding": null,
            "right": null,
            "top": null,
            "visibility": null,
            "width": null
          }
        },
        "7c77d757cbd844f8a0f09eaeca8fdba1": {
          "model_module": "@jupyter-widgets/controls",
          "model_name": "ProgressStyleModel",
          "model_module_version": "1.5.0",
          "state": {
            "_model_module": "@jupyter-widgets/controls",
            "_model_module_version": "1.5.0",
            "_model_name": "ProgressStyleModel",
            "_view_count": null,
            "_view_module": "@jupyter-widgets/base",
            "_view_module_version": "1.2.0",
            "_view_name": "StyleView",
            "bar_color": null,
            "description_width": ""
          }
        },
        "d924463dbf7b461699fb5fe88348fac8": {
          "model_module": "@jupyter-widgets/base",
          "model_name": "LayoutModel",
          "model_module_version": "1.2.0",
          "state": {
            "_model_module": "@jupyter-widgets/base",
            "_model_module_version": "1.2.0",
            "_model_name": "LayoutModel",
            "_view_count": null,
            "_view_module": "@jupyter-widgets/base",
            "_view_module_version": "1.2.0",
            "_view_name": "LayoutView",
            "align_content": null,
            "align_items": null,
            "align_self": null,
            "border": null,
            "bottom": null,
            "display": null,
            "flex": null,
            "flex_flow": null,
            "grid_area": null,
            "grid_auto_columns": null,
            "grid_auto_flow": null,
            "grid_auto_rows": null,
            "grid_column": null,
            "grid_gap": null,
            "grid_row": null,
            "grid_template_areas": null,
            "grid_template_columns": null,
            "grid_template_rows": null,
            "height": null,
            "justify_content": null,
            "justify_items": null,
            "left": null,
            "margin": null,
            "max_height": null,
            "max_width": null,
            "min_height": null,
            "min_width": null,
            "object_fit": null,
            "object_position": null,
            "order": null,
            "overflow": null,
            "overflow_x": null,
            "overflow_y": null,
            "padding": null,
            "right": null,
            "top": null,
            "visibility": null,
            "width": null
          }
        },
        "0281290942f940f1bafc998a02ffd535": {
          "model_module": "@jupyter-widgets/controls",
          "model_name": "DescriptionStyleModel",
          "model_module_version": "1.5.0",
          "state": {
            "_model_module": "@jupyter-widgets/controls",
            "_model_module_version": "1.5.0",
            "_model_name": "DescriptionStyleModel",
            "_view_count": null,
            "_view_module": "@jupyter-widgets/base",
            "_view_module_version": "1.2.0",
            "_view_name": "StyleView",
            "description_width": ""
          }
        }
      }
    }
  },
  "nbformat": 4,
  "nbformat_minor": 5
}