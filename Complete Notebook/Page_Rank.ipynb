{
  "cells": [
    {
      "cell_type": "markdown",
      "metadata": {
        "id": "view-in-github",
        "colab_type": "text"
      },
      "source": [
        "<a href=\"https://colab.research.google.com/github/MartaCampagnoli/PageRank-MovieActors/blob/main/Complete%20Notebook/Page_Rank.ipynb\" target=\"_parent\"><img src=\"https://colab.research.google.com/assets/colab-badge.svg\" alt=\"Open In Colab\"/></a>"
      ]
    },
    {
      "cell_type": "code",
      "execution_count": null,
      "id": "83ce9c0f",
      "metadata": {
        "id": "83ce9c0f",
        "outputId": "034e3e42-ebe2-48c1-ad57-c9fa9c92c2cf",
        "colab": {
          "base_uri": "https://localhost:8080/",
          "height": 34
        }
      },
      "outputs": [
        {
          "output_type": "display_data",
          "data": {
            "text/plain": [
              "<Figure size 8000x8000 with 0 Axes>"
            ]
          },
          "metadata": {}
        }
      ],
      "source": [
        "import pandas as pd\n",
        "import io\n",
        "import networkx as nx\n",
        "import matplotlib.pyplot as plt\n",
        "import numpy as np\n",
        "from matplotlib.pyplot import figure\n",
        "figure(figsize=(100, 100), dpi=80)\n",
        "from networkx import pagerank"
      ]
    },
    {
      "cell_type": "code",
      "source": [
        "pip install kaggle"
      ],
      "metadata": {
        "colab": {
          "base_uri": "https://localhost:8080/"
        },
        "id": "RnewUl6UPPIy",
        "outputId": "e1c99801-0a4b-4a5e-cd84-2821585ebfa8"
      },
      "id": "RnewUl6UPPIy",
      "execution_count": null,
      "outputs": [
        {
          "output_type": "stream",
          "name": "stdout",
          "text": [
            "Looking in indexes: https://pypi.org/simple, https://us-python.pkg.dev/colab-wheels/public/simple/\n",
            "Requirement already satisfied: kaggle in /usr/local/lib/python3.8/dist-packages (1.5.12)\n",
            "Requirement already satisfied: python-dateutil in /usr/local/lib/python3.8/dist-packages (from kaggle) (2.8.2)\n",
            "Requirement already satisfied: urllib3 in /usr/local/lib/python3.8/dist-packages (from kaggle) (1.24.3)\n",
            "Requirement already satisfied: requests in /usr/local/lib/python3.8/dist-packages (from kaggle) (2.23.0)\n",
            "Requirement already satisfied: six>=1.10 in /usr/local/lib/python3.8/dist-packages (from kaggle) (1.15.0)\n",
            "Requirement already satisfied: tqdm in /usr/local/lib/python3.8/dist-packages (from kaggle) (4.64.1)\n",
            "Requirement already satisfied: python-slugify in /usr/local/lib/python3.8/dist-packages (from kaggle) (7.0.0)\n",
            "Requirement already satisfied: certifi in /usr/local/lib/python3.8/dist-packages (from kaggle) (2022.9.24)\n",
            "Requirement already satisfied: text-unidecode>=1.3 in /usr/local/lib/python3.8/dist-packages (from python-slugify->kaggle) (1.3)\n",
            "Requirement already satisfied: chardet<4,>=3.0.2 in /usr/local/lib/python3.8/dist-packages (from requests->kaggle) (3.0.4)\n",
            "Requirement already satisfied: idna<3,>=2.5 in /usr/local/lib/python3.8/dist-packages (from requests->kaggle) (2.10)\n"
          ]
        }
      ]
    },
    {
      "cell_type": "markdown",
      "id": "296ac72f",
      "metadata": {
        "id": "296ac72f"
      },
      "source": [
        "## Functions"
      ]
    },
    {
      "cell_type": "code",
      "execution_count": null,
      "id": "7e94ec1b",
      "metadata": {
        "id": "7e94ec1b"
      },
      "outputs": [],
      "source": [
        "def edgelistdirected(l1, l2):\n",
        "    edgelist=[]\n",
        "    for i in l1:\n",
        "        for j in l2:\n",
        "            if i[0] != j[0]:\n",
        "                if i[1] == j [1] and i != j:\n",
        "                        edgelist.append((i[0], j[0]))\n",
        "    return edgelist\n",
        "\n",
        "def listcreation(d):\n",
        "    l1 =[]\n",
        "    l2=[]\n",
        "    l1 = d['movieactorlist'].values.tolist()\n",
        "    l2 = d['movieactorlist'].values.tolist()\n",
        "    return l1, l2\n",
        "\n",
        "def listcreation2(d):\n",
        "    l1 =[]\n",
        "    l2=[]\n",
        "    l1 = d['movieactorlist2'].values.tolist()\n",
        "    l2 = d['movieactorlist2'].values.tolist()\n",
        "    return l1, l2"
      ]
    },
    {
      "cell_type": "markdown",
      "id": "3f66179b",
      "metadata": {
        "id": "3f66179b"
      },
      "source": [
        "## Creating the Movie-Actors Network : merging data"
      ]
    },
    {
      "cell_type": "code",
      "source": [
        "from google.colab import files #kaggle.json import\n",
        "files.upload() "
      ],
      "metadata": {
        "id": "eYVUFu5LPYx-"
      },
      "id": "eYVUFu5LPYx-",
      "execution_count": null,
      "outputs": []
    },
    {
      "cell_type": "code",
      "source": [
        "!rm -r ~/.kaggle\n",
        "!mkdir ~/.kaggle\n",
        "!mv ./kaggle.json ~/.kaggle/\n",
        "!chmod 600 ~/.kaggle/kaggle.json\n",
        "! kaggle datasets download --d ashirwadsangwan/imdb-dataset\n",
        "! unzip imdb-dataset.zip"
      ],
      "metadata": {
        "id": "mCAFfC9BPczJ"
      },
      "id": "mCAFfC9BPczJ",
      "execution_count": null,
      "outputs": []
    },
    {
      "cell_type": "code",
      "source": [
        "file1 = ('title.principals.tsv/data.tsv')\n",
        "data = pd.read_csv(file1, sep='\\t')"
      ],
      "metadata": {
        "id": "2JfE_peKPf5Q"
      },
      "id": "2JfE_peKPf5Q",
      "execution_count": null,
      "outputs": []
    },
    {
      "cell_type": "code",
      "execution_count": null,
      "id": "d1a5262a",
      "metadata": {
        "id": "d1a5262a"
      },
      "outputs": [],
      "source": [
        "data.loc[data['category'].str.contains('actor', case=False), 'isactor'] = 'actor' #extract from category column actors and create a new column\n",
        "data.loc[data['category'].str.contains('actress', case=False), 'isactor'] = 'actor'"
      ]
    },
    {
      "cell_type": "code",
      "execution_count": null,
      "id": "fa55da0e",
      "metadata": {
        "id": "fa55da0e",
        "outputId": "50445e54-b6f3-40ad-d8e3-08f6c617110c"
      },
      "outputs": [
        {
          "data": {
            "text/plain": [
              "(20815083, 7)"
            ]
          },
          "execution_count": 6,
          "metadata": {},
          "output_type": "execute_result"
        }
      ],
      "source": [
        "data = data.dropna(subset=['isactor']) ##drop non actors\n",
        "data.shape"
      ]
    },
    {
      "cell_type": "code",
      "execution_count": null,
      "id": "f7d1152f",
      "metadata": {
        "id": "f7d1152f",
        "outputId": "7fdad0ee-42dd-43c9-e3f9-95abde6c7756"
      },
      "outputs": [
        {
          "data": {
            "text/html": [
              "<div>\n",
              "<style scoped>\n",
              "    .dataframe tbody tr th:only-of-type {\n",
              "        vertical-align: middle;\n",
              "    }\n",
              "\n",
              "    .dataframe tbody tr th {\n",
              "        vertical-align: top;\n",
              "    }\n",
              "\n",
              "    .dataframe thead th {\n",
              "        text-align: right;\n",
              "    }\n",
              "</style>\n",
              "<table border=\"1\" class=\"dataframe\">\n",
              "  <thead>\n",
              "    <tr style=\"text-align: right;\">\n",
              "      <th></th>\n",
              "      <th>tconst</th>\n",
              "      <th>ordering</th>\n",
              "      <th>nconst</th>\n",
              "      <th>category</th>\n",
              "      <th>job</th>\n",
              "      <th>characters</th>\n",
              "      <th>isactor</th>\n",
              "    </tr>\n",
              "  </thead>\n",
              "  <tbody>\n",
              "    <tr>\n",
              "      <th>11</th>\n",
              "      <td>tt0000005</td>\n",
              "      <td>1</td>\n",
              "      <td>nm0443482</td>\n",
              "      <td>actor</td>\n",
              "      <td>\\N</td>\n",
              "      <td>[\"Blacksmith\"]</td>\n",
              "      <td>actor</td>\n",
              "    </tr>\n",
              "    <tr>\n",
              "      <th>12</th>\n",
              "      <td>tt0000005</td>\n",
              "      <td>2</td>\n",
              "      <td>nm0653042</td>\n",
              "      <td>actor</td>\n",
              "      <td>\\N</td>\n",
              "      <td>[\"Assistant\"]</td>\n",
              "      <td>actor</td>\n",
              "    </tr>\n",
              "    <tr>\n",
              "      <th>16</th>\n",
              "      <td>tt0000007</td>\n",
              "      <td>1</td>\n",
              "      <td>nm0179163</td>\n",
              "      <td>actor</td>\n",
              "      <td>\\N</td>\n",
              "      <td>\\N</td>\n",
              "      <td>actor</td>\n",
              "    </tr>\n",
              "    <tr>\n",
              "      <th>17</th>\n",
              "      <td>tt0000007</td>\n",
              "      <td>2</td>\n",
              "      <td>nm0183947</td>\n",
              "      <td>actor</td>\n",
              "      <td>\\N</td>\n",
              "      <td>\\N</td>\n",
              "      <td>actor</td>\n",
              "    </tr>\n",
              "    <tr>\n",
              "      <th>21</th>\n",
              "      <td>tt0000008</td>\n",
              "      <td>1</td>\n",
              "      <td>nm0653028</td>\n",
              "      <td>actor</td>\n",
              "      <td>\\N</td>\n",
              "      <td>[\"Sneezing Man\"]</td>\n",
              "      <td>actor</td>\n",
              "    </tr>\n",
              "  </tbody>\n",
              "</table>\n",
              "</div>"
            ],
            "text/plain": [
              "       tconst  ordering     nconst category job        characters isactor\n",
              "11  tt0000005         1  nm0443482    actor  \\N    [\"Blacksmith\"]   actor\n",
              "12  tt0000005         2  nm0653042    actor  \\N     [\"Assistant\"]   actor\n",
              "16  tt0000007         1  nm0179163    actor  \\N                \\N   actor\n",
              "17  tt0000007         2  nm0183947    actor  \\N                \\N   actor\n",
              "21  tt0000008         1  nm0653028    actor  \\N  [\"Sneezing Man\"]   actor"
            ]
          },
          "execution_count": 7,
          "metadata": {},
          "output_type": "execute_result"
        }
      ],
      "source": [
        "data.head()"
      ]
    },
    {
      "cell_type": "code",
      "source": [
        "file2 = ('title.basics.tsv/data.tsv')\n",
        "data2 = pd.read_csv(file2, sep='\\t')"
      ],
      "metadata": {
        "id": "LjpSS2Z0PqHB"
      },
      "id": "LjpSS2Z0PqHB",
      "execution_count": null,
      "outputs": []
    },
    {
      "cell_type": "code",
      "execution_count": null,
      "id": "f31ffc80",
      "metadata": {
        "scrolled": true,
        "id": "f31ffc80",
        "outputId": "415a41c0-8769-46d5-f463-7963ab18565e"
      },
      "outputs": [
        {
          "name": "stderr",
          "output_type": "stream",
          "text": [
            "C:\\Users\\carla\\AppData\\Local\\Temp\\ipykernel_4692\\1169437740.py:1: DtypeWarning: Columns (4) have mixed types. Specify dtype option on import or set low_memory=False.\n",
            "  data2=pd.read_csv(\"C:/Users/carla/Downloads/archivio/title.basics.tsv/data.tsv\", sep='\\t')\n"
          ]
        },
        {
          "data": {
            "text/html": [
              "<div>\n",
              "<style scoped>\n",
              "    .dataframe tbody tr th:only-of-type {\n",
              "        vertical-align: middle;\n",
              "    }\n",
              "\n",
              "    .dataframe tbody tr th {\n",
              "        vertical-align: top;\n",
              "    }\n",
              "\n",
              "    .dataframe thead th {\n",
              "        text-align: right;\n",
              "    }\n",
              "</style>\n",
              "<table border=\"1\" class=\"dataframe\">\n",
              "  <thead>\n",
              "    <tr style=\"text-align: right;\">\n",
              "      <th></th>\n",
              "      <th>tconst</th>\n",
              "      <th>titleType</th>\n",
              "      <th>primaryTitle</th>\n",
              "      <th>originalTitle</th>\n",
              "      <th>isAdult</th>\n",
              "      <th>startYear</th>\n",
              "      <th>endYear</th>\n",
              "      <th>runtimeMinutes</th>\n",
              "      <th>genres</th>\n",
              "    </tr>\n",
              "  </thead>\n",
              "  <tbody>\n",
              "    <tr>\n",
              "      <th>0</th>\n",
              "      <td>tt0000001</td>\n",
              "      <td>short</td>\n",
              "      <td>Carmencita</td>\n",
              "      <td>Carmencita</td>\n",
              "      <td>0</td>\n",
              "      <td>1894</td>\n",
              "      <td>\\N</td>\n",
              "      <td>1</td>\n",
              "      <td>Documentary,Short</td>\n",
              "    </tr>\n",
              "    <tr>\n",
              "      <th>1</th>\n",
              "      <td>tt0000002</td>\n",
              "      <td>short</td>\n",
              "      <td>Le clown et ses chiens</td>\n",
              "      <td>Le clown et ses chiens</td>\n",
              "      <td>0</td>\n",
              "      <td>1892</td>\n",
              "      <td>\\N</td>\n",
              "      <td>5</td>\n",
              "      <td>Animation,Short</td>\n",
              "    </tr>\n",
              "    <tr>\n",
              "      <th>2</th>\n",
              "      <td>tt0000003</td>\n",
              "      <td>short</td>\n",
              "      <td>Pauvre Pierrot</td>\n",
              "      <td>Pauvre Pierrot</td>\n",
              "      <td>0</td>\n",
              "      <td>1892</td>\n",
              "      <td>\\N</td>\n",
              "      <td>4</td>\n",
              "      <td>Animation,Comedy,Romance</td>\n",
              "    </tr>\n",
              "    <tr>\n",
              "      <th>3</th>\n",
              "      <td>tt0000004</td>\n",
              "      <td>short</td>\n",
              "      <td>Un bon bock</td>\n",
              "      <td>Un bon bock</td>\n",
              "      <td>0</td>\n",
              "      <td>1892</td>\n",
              "      <td>\\N</td>\n",
              "      <td>12</td>\n",
              "      <td>Animation,Short</td>\n",
              "    </tr>\n",
              "    <tr>\n",
              "      <th>4</th>\n",
              "      <td>tt0000005</td>\n",
              "      <td>short</td>\n",
              "      <td>Blacksmith Scene</td>\n",
              "      <td>Blacksmith Scene</td>\n",
              "      <td>0</td>\n",
              "      <td>1893</td>\n",
              "      <td>\\N</td>\n",
              "      <td>1</td>\n",
              "      <td>Comedy,Short</td>\n",
              "    </tr>\n",
              "  </tbody>\n",
              "</table>\n",
              "</div>"
            ],
            "text/plain": [
              "      tconst titleType            primaryTitle           originalTitle  \\\n",
              "0  tt0000001     short              Carmencita              Carmencita   \n",
              "1  tt0000002     short  Le clown et ses chiens  Le clown et ses chiens   \n",
              "2  tt0000003     short          Pauvre Pierrot          Pauvre Pierrot   \n",
              "3  tt0000004     short             Un bon bock             Un bon bock   \n",
              "4  tt0000005     short        Blacksmith Scene        Blacksmith Scene   \n",
              "\n",
              "  isAdult startYear endYear runtimeMinutes                    genres  \n",
              "0       0      1894      \\N              1         Documentary,Short  \n",
              "1       0      1892      \\N              5           Animation,Short  \n",
              "2       0      1892      \\N              4  Animation,Comedy,Romance  \n",
              "3       0      1892      \\N             12           Animation,Short  \n",
              "4       0      1893      \\N              1              Comedy,Short  "
            ]
          },
          "execution_count": 10,
          "metadata": {},
          "output_type": "execute_result"
        }
      ],
      "source": [
        "data2.head()"
      ]
    },
    {
      "cell_type": "code",
      "execution_count": null,
      "id": "df104152",
      "metadata": {
        "id": "df104152",
        "outputId": "f64cb97a-36a3-4249-bba1-5293e396a929"
      },
      "outputs": [
        {
          "data": {
            "text/html": [
              "<div>\n",
              "<style scoped>\n",
              "    .dataframe tbody tr th:only-of-type {\n",
              "        vertical-align: middle;\n",
              "    }\n",
              "\n",
              "    .dataframe tbody tr th {\n",
              "        vertical-align: top;\n",
              "    }\n",
              "\n",
              "    .dataframe thead th {\n",
              "        text-align: right;\n",
              "    }\n",
              "</style>\n",
              "<table border=\"1\" class=\"dataframe\">\n",
              "  <thead>\n",
              "    <tr style=\"text-align: right;\">\n",
              "      <th></th>\n",
              "      <th>tconst</th>\n",
              "      <th>titleType</th>\n",
              "      <th>primaryTitle</th>\n",
              "      <th>originalTitle</th>\n",
              "      <th>isAdult</th>\n",
              "      <th>startYear</th>\n",
              "      <th>endYear</th>\n",
              "      <th>runtimeMinutes</th>\n",
              "      <th>genres</th>\n",
              "    </tr>\n",
              "  </thead>\n",
              "  <tbody>\n",
              "    <tr>\n",
              "      <th>8</th>\n",
              "      <td>tt0000009</td>\n",
              "      <td>movie</td>\n",
              "      <td>Miss Jerry</td>\n",
              "      <td>Miss Jerry</td>\n",
              "      <td>0</td>\n",
              "      <td>1894</td>\n",
              "      <td>\\N</td>\n",
              "      <td>45</td>\n",
              "      <td>Romance</td>\n",
              "    </tr>\n",
              "    <tr>\n",
              "      <th>498</th>\n",
              "      <td>tt0000502</td>\n",
              "      <td>movie</td>\n",
              "      <td>Bohemios</td>\n",
              "      <td>Bohemios</td>\n",
              "      <td>0</td>\n",
              "      <td>1905</td>\n",
              "      <td>\\N</td>\n",
              "      <td>100</td>\n",
              "      <td>\\N</td>\n",
              "    </tr>\n",
              "    <tr>\n",
              "      <th>570</th>\n",
              "      <td>tt0000574</td>\n",
              "      <td>movie</td>\n",
              "      <td>The Story of the Kelly Gang</td>\n",
              "      <td>The Story of the Kelly Gang</td>\n",
              "      <td>0</td>\n",
              "      <td>1906</td>\n",
              "      <td>\\N</td>\n",
              "      <td>70</td>\n",
              "      <td>Action,Adventure,Biography</td>\n",
              "    </tr>\n",
              "    <tr>\n",
              "      <th>587</th>\n",
              "      <td>tt0000591</td>\n",
              "      <td>movie</td>\n",
              "      <td>The Prodigal Son</td>\n",
              "      <td>L'enfant prodigue</td>\n",
              "      <td>0</td>\n",
              "      <td>1907</td>\n",
              "      <td>\\N</td>\n",
              "      <td>90</td>\n",
              "      <td>Drama</td>\n",
              "    </tr>\n",
              "    <tr>\n",
              "      <th>610</th>\n",
              "      <td>tt0000615</td>\n",
              "      <td>movie</td>\n",
              "      <td>Robbery Under Arms</td>\n",
              "      <td>Robbery Under Arms</td>\n",
              "      <td>0</td>\n",
              "      <td>1907</td>\n",
              "      <td>\\N</td>\n",
              "      <td>\\N</td>\n",
              "      <td>Drama</td>\n",
              "    </tr>\n",
              "  </tbody>\n",
              "</table>\n",
              "</div>"
            ],
            "text/plain": [
              "        tconst titleType                 primaryTitle  \\\n",
              "8    tt0000009     movie                   Miss Jerry   \n",
              "498  tt0000502     movie                     Bohemios   \n",
              "570  tt0000574     movie  The Story of the Kelly Gang   \n",
              "587  tt0000591     movie             The Prodigal Son   \n",
              "610  tt0000615     movie           Robbery Under Arms   \n",
              "\n",
              "                   originalTitle isAdult startYear endYear runtimeMinutes  \\\n",
              "8                     Miss Jerry       0      1894      \\N             45   \n",
              "498                     Bohemios       0      1905      \\N            100   \n",
              "570  The Story of the Kelly Gang       0      1906      \\N             70   \n",
              "587            L'enfant prodigue       0      1907      \\N             90   \n",
              "610           Robbery Under Arms       0      1907      \\N             \\N   \n",
              "\n",
              "                         genres  \n",
              "8                       Romance  \n",
              "498                          \\N  \n",
              "570  Action,Adventure,Biography  \n",
              "587                       Drama  \n",
              "610                       Drama  "
            ]
          },
          "execution_count": 12,
          "metadata": {},
          "output_type": "execute_result"
        }
      ],
      "source": [
        "data2b = data2[(data2.titleType == \"movie\")| (data2.titleType == \"tvMovie\")] #we filter other media type so to only have movies\n",
        "data2b.head()"
      ]
    },
    {
      "cell_type": "code",
      "source": [
        "file4 = ('name.basics.tsv/data.tsv')\n",
        "data4 = pd.read_csv(file4, sep='\\t')"
      ],
      "metadata": {
        "id": "2UPkYoLPP6_1"
      },
      "id": "2UPkYoLPP6_1",
      "execution_count": null,
      "outputs": []
    },
    {
      "cell_type": "code",
      "execution_count": null,
      "id": "bf1c7a48",
      "metadata": {
        "id": "bf1c7a48"
      },
      "outputs": [],
      "source": [
        "data4a = data4.dropna()"
      ]
    },
    {
      "cell_type": "code",
      "execution_count": null,
      "id": "aa6dee43",
      "metadata": {
        "id": "aa6dee43",
        "outputId": "ac885315-6a34-4e5c-a15d-65ea88ad3d35"
      },
      "outputs": [
        {
          "name": "stderr",
          "output_type": "stream",
          "text": [
            "C:\\Users\\carla\\AppData\\Local\\Temp\\ipykernel_4692\\4286391651.py:1: SettingWithCopyWarning: \n",
            "A value is trying to be set on a copy of a slice from a DataFrame.\n",
            "Try using .loc[row_indexer,col_indexer] = value instead\n",
            "\n",
            "See the caveats in the documentation: https://pandas.pydata.org/pandas-docs/stable/user_guide/indexing.html#returning-a-view-versus-a-copy\n",
            "  data4a.loc[data4a['primaryProfession'].str.contains('actor', case=False, na=False), 'isactor'] = 'actor'\n"
          ]
        },
        {
          "data": {
            "text/html": [
              "<div>\n",
              "<style scoped>\n",
              "    .dataframe tbody tr th:only-of-type {\n",
              "        vertical-align: middle;\n",
              "    }\n",
              "\n",
              "    .dataframe tbody tr th {\n",
              "        vertical-align: top;\n",
              "    }\n",
              "\n",
              "    .dataframe thead th {\n",
              "        text-align: right;\n",
              "    }\n",
              "</style>\n",
              "<table border=\"1\" class=\"dataframe\">\n",
              "  <thead>\n",
              "    <tr style=\"text-align: right;\">\n",
              "      <th></th>\n",
              "      <th>nconst</th>\n",
              "      <th>primaryName</th>\n",
              "      <th>birthYear</th>\n",
              "      <th>deathYear</th>\n",
              "      <th>primaryProfession</th>\n",
              "      <th>knownForTitles</th>\n",
              "      <th>isactor</th>\n",
              "    </tr>\n",
              "  </thead>\n",
              "  <tbody>\n",
              "    <tr>\n",
              "      <th>0</th>\n",
              "      <td>nm0000001</td>\n",
              "      <td>Fred Astaire</td>\n",
              "      <td>1899</td>\n",
              "      <td>1987</td>\n",
              "      <td>soundtrack,actor,miscellaneous</td>\n",
              "      <td>tt0072308,tt0053137,tt0050419,tt0031983</td>\n",
              "      <td>actor</td>\n",
              "    </tr>\n",
              "    <tr>\n",
              "      <th>1</th>\n",
              "      <td>nm0000002</td>\n",
              "      <td>Lauren Bacall</td>\n",
              "      <td>1924</td>\n",
              "      <td>2014</td>\n",
              "      <td>actress,soundtrack</td>\n",
              "      <td>tt0117057,tt0038355,tt0037382,tt0071877</td>\n",
              "      <td>actor</td>\n",
              "    </tr>\n",
              "    <tr>\n",
              "      <th>2</th>\n",
              "      <td>nm0000003</td>\n",
              "      <td>Brigitte Bardot</td>\n",
              "      <td>1934</td>\n",
              "      <td>\\N</td>\n",
              "      <td>actress,soundtrack,music_department</td>\n",
              "      <td>tt0056404,tt0057345,tt0049189,tt0054452</td>\n",
              "      <td>actor</td>\n",
              "    </tr>\n",
              "    <tr>\n",
              "      <th>3</th>\n",
              "      <td>nm0000004</td>\n",
              "      <td>John Belushi</td>\n",
              "      <td>1949</td>\n",
              "      <td>1982</td>\n",
              "      <td>actor,soundtrack,writer</td>\n",
              "      <td>tt0078723,tt0080455,tt0072562,tt0077975</td>\n",
              "      <td>actor</td>\n",
              "    </tr>\n",
              "    <tr>\n",
              "      <th>4</th>\n",
              "      <td>nm0000005</td>\n",
              "      <td>Ingmar Bergman</td>\n",
              "      <td>1918</td>\n",
              "      <td>2007</td>\n",
              "      <td>writer,director,actor</td>\n",
              "      <td>tt0050976,tt0083922,tt0060827,tt0050986</td>\n",
              "      <td>actor</td>\n",
              "    </tr>\n",
              "  </tbody>\n",
              "</table>\n",
              "</div>"
            ],
            "text/plain": [
              "      nconst      primaryName birthYear deathYear  \\\n",
              "0  nm0000001     Fred Astaire      1899      1987   \n",
              "1  nm0000002    Lauren Bacall      1924      2014   \n",
              "2  nm0000003  Brigitte Bardot      1934        \\N   \n",
              "3  nm0000004     John Belushi      1949      1982   \n",
              "4  nm0000005   Ingmar Bergman      1918      2007   \n",
              "\n",
              "                     primaryProfession  \\\n",
              "0       soundtrack,actor,miscellaneous   \n",
              "1                   actress,soundtrack   \n",
              "2  actress,soundtrack,music_department   \n",
              "3              actor,soundtrack,writer   \n",
              "4                writer,director,actor   \n",
              "\n",
              "                            knownForTitles isactor  \n",
              "0  tt0072308,tt0053137,tt0050419,tt0031983   actor  \n",
              "1  tt0117057,tt0038355,tt0037382,tt0071877   actor  \n",
              "2  tt0056404,tt0057345,tt0049189,tt0054452   actor  \n",
              "3  tt0078723,tt0080455,tt0072562,tt0077975   actor  \n",
              "4  tt0050976,tt0083922,tt0060827,tt0050986   actor  "
            ]
          },
          "execution_count": 16,
          "metadata": {},
          "output_type": "execute_result"
        }
      ],
      "source": [
        "data4a.loc[data4a['primaryProfession'].str.contains('actor', case=False, na=False), 'isactor'] = 'actor''\n",
        "data4a.loc[data4a['primaryProfession'].str.contains('actress', case=False,na=False), 'isactor'] = 'actor'\n",
        "data4a = data4a.dropna(subset=['isactor'])\n",
        "data4a.head() #extract people who have worked as actors at least once"
      ]
    },
    {
      "cell_type": "code",
      "execution_count": null,
      "id": "c7cd1486",
      "metadata": {
        "id": "c7cd1486",
        "outputId": "2b8230f8-a334-4baf-de7e-8cf7dc5f10ac"
      },
      "outputs": [
        {
          "data": {
            "text/plain": [
              "(9479708, 7)"
            ]
          },
          "execution_count": 17,
          "metadata": {},
          "output_type": "execute_result"
        }
      ],
      "source": [
        "data4a.shape"
      ]
    },
    {
      "cell_type": "code",
      "execution_count": null,
      "id": "b1889f95",
      "metadata": {
        "id": "b1889f95"
      },
      "outputs": [],
      "source": [
        "datanew = pd.merge(left=data4a, right=data, on='nconst') #match actors with their code in order to have a row for each movie any actor worked in \n",
        "#quicker than cleaning and duplicating the knownForTitles column"
      ]
    },
    {
      "cell_type": "code",
      "execution_count": null,
      "id": "33c862c9",
      "metadata": {
        "id": "33c862c9",
        "outputId": "d016ca6d-49ab-4bec-9be3-4ed3b471db94"
      },
      "outputs": [
        {
          "data": {
            "text/html": [
              "<div>\n",
              "<style scoped>\n",
              "    .dataframe tbody tr th:only-of-type {\n",
              "        vertical-align: middle;\n",
              "    }\n",
              "\n",
              "    .dataframe tbody tr th {\n",
              "        vertical-align: top;\n",
              "    }\n",
              "\n",
              "    .dataframe thead th {\n",
              "        text-align: right;\n",
              "    }\n",
              "</style>\n",
              "<table border=\"1\" class=\"dataframe\">\n",
              "  <thead>\n",
              "    <tr style=\"text-align: right;\">\n",
              "      <th></th>\n",
              "      <th>nconst</th>\n",
              "      <th>primaryName</th>\n",
              "      <th>birthYear</th>\n",
              "      <th>deathYear</th>\n",
              "      <th>primaryProfession</th>\n",
              "      <th>knownForTitles</th>\n",
              "      <th>isactor_x</th>\n",
              "      <th>tconst</th>\n",
              "      <th>ordering</th>\n",
              "      <th>category</th>\n",
              "      <th>job</th>\n",
              "      <th>characters</th>\n",
              "      <th>isactor_y</th>\n",
              "    </tr>\n",
              "  </thead>\n",
              "  <tbody>\n",
              "    <tr>\n",
              "      <th>0</th>\n",
              "      <td>nm0000001</td>\n",
              "      <td>Fred Astaire</td>\n",
              "      <td>1899</td>\n",
              "      <td>1987</td>\n",
              "      <td>soundtrack,actor,miscellaneous</td>\n",
              "      <td>tt0072308,tt0053137,tt0050419,tt0031983</td>\n",
              "      <td>actor</td>\n",
              "      <td>tt0025164</td>\n",
              "      <td>1</td>\n",
              "      <td>actor</td>\n",
              "      <td>\\N</td>\n",
              "      <td>[\"Guy Holden\"]</td>\n",
              "      <td>actor</td>\n",
              "    </tr>\n",
              "    <tr>\n",
              "      <th>1</th>\n",
              "      <td>nm0000001</td>\n",
              "      <td>Fred Astaire</td>\n",
              "      <td>1899</td>\n",
              "      <td>1987</td>\n",
              "      <td>soundtrack,actor,miscellaneous</td>\n",
              "      <td>tt0072308,tt0053137,tt0050419,tt0031983</td>\n",
              "      <td>actor</td>\n",
              "      <td>tt0026942</td>\n",
              "      <td>2</td>\n",
              "      <td>actor</td>\n",
              "      <td>\\N</td>\n",
              "      <td>[\"Huck Haines\"]</td>\n",
              "      <td>actor</td>\n",
              "    </tr>\n",
              "    <tr>\n",
              "      <th>2</th>\n",
              "      <td>nm0000001</td>\n",
              "      <td>Fred Astaire</td>\n",
              "      <td>1899</td>\n",
              "      <td>1987</td>\n",
              "      <td>soundtrack,actor,miscellaneous</td>\n",
              "      <td>tt0072308,tt0053137,tt0050419,tt0031983</td>\n",
              "      <td>actor</td>\n",
              "      <td>tt0027125</td>\n",
              "      <td>1</td>\n",
              "      <td>actor</td>\n",
              "      <td>\\N</td>\n",
              "      <td>[\"Jerry Travers\"]</td>\n",
              "      <td>actor</td>\n",
              "    </tr>\n",
              "    <tr>\n",
              "      <th>3</th>\n",
              "      <td>nm0000001</td>\n",
              "      <td>Fred Astaire</td>\n",
              "      <td>1899</td>\n",
              "      <td>1987</td>\n",
              "      <td>soundtrack,actor,miscellaneous</td>\n",
              "      <td>tt0072308,tt0053137,tt0050419,tt0031983</td>\n",
              "      <td>actor</td>\n",
              "      <td>tt0027630</td>\n",
              "      <td>1</td>\n",
              "      <td>actor</td>\n",
              "      <td>\\N</td>\n",
              "      <td>[\"Bake Baker\"]</td>\n",
              "      <td>actor</td>\n",
              "    </tr>\n",
              "    <tr>\n",
              "      <th>4</th>\n",
              "      <td>nm0000001</td>\n",
              "      <td>Fred Astaire</td>\n",
              "      <td>1899</td>\n",
              "      <td>1987</td>\n",
              "      <td>soundtrack,actor,miscellaneous</td>\n",
              "      <td>tt0072308,tt0053137,tt0050419,tt0031983</td>\n",
              "      <td>actor</td>\n",
              "      <td>tt0028333</td>\n",
              "      <td>1</td>\n",
              "      <td>actor</td>\n",
              "      <td>\\N</td>\n",
              "      <td>[\"Lucky Garnett\"]</td>\n",
              "      <td>actor</td>\n",
              "    </tr>\n",
              "  </tbody>\n",
              "</table>\n",
              "</div>"
            ],
            "text/plain": [
              "      nconst   primaryName birthYear deathYear  \\\n",
              "0  nm0000001  Fred Astaire      1899      1987   \n",
              "1  nm0000001  Fred Astaire      1899      1987   \n",
              "2  nm0000001  Fred Astaire      1899      1987   \n",
              "3  nm0000001  Fred Astaire      1899      1987   \n",
              "4  nm0000001  Fred Astaire      1899      1987   \n",
              "\n",
              "                primaryProfession                           knownForTitles  \\\n",
              "0  soundtrack,actor,miscellaneous  tt0072308,tt0053137,tt0050419,tt0031983   \n",
              "1  soundtrack,actor,miscellaneous  tt0072308,tt0053137,tt0050419,tt0031983   \n",
              "2  soundtrack,actor,miscellaneous  tt0072308,tt0053137,tt0050419,tt0031983   \n",
              "3  soundtrack,actor,miscellaneous  tt0072308,tt0053137,tt0050419,tt0031983   \n",
              "4  soundtrack,actor,miscellaneous  tt0072308,tt0053137,tt0050419,tt0031983   \n",
              "\n",
              "  isactor_x     tconst  ordering category job         characters isactor_y  \n",
              "0     actor  tt0025164         1    actor  \\N     [\"Guy Holden\"]     actor  \n",
              "1     actor  tt0026942         2    actor  \\N    [\"Huck Haines\"]     actor  \n",
              "2     actor  tt0027125         1    actor  \\N  [\"Jerry Travers\"]     actor  \n",
              "3     actor  tt0027630         1    actor  \\N     [\"Bake Baker\"]     actor  \n",
              "4     actor  tt0028333         1    actor  \\N  [\"Lucky Garnett\"]     actor  "
            ]
          },
          "execution_count": 19,
          "metadata": {},
          "output_type": "execute_result"
        }
      ],
      "source": [
        "datanew.head()"
      ]
    },
    {
      "cell_type": "code",
      "execution_count": null,
      "id": "0e9f3b18",
      "metadata": {
        "id": "0e9f3b18"
      },
      "outputs": [],
      "source": [
        "datanew2 = pd.merge(left=data2b, right=datanew, on='tconst') #match each movie with every actor that worked in the movie"
      ]
    },
    {
      "cell_type": "code",
      "execution_count": null,
      "id": "ae1110d5",
      "metadata": {
        "id": "ae1110d5",
        "outputId": "6b3b3d95-ba18-488e-f800-998805c4c4d2"
      },
      "outputs": [
        {
          "data": {
            "text/html": [
              "<div>\n",
              "<style scoped>\n",
              "    .dataframe tbody tr th:only-of-type {\n",
              "        vertical-align: middle;\n",
              "    }\n",
              "\n",
              "    .dataframe tbody tr th {\n",
              "        vertical-align: top;\n",
              "    }\n",
              "\n",
              "    .dataframe thead th {\n",
              "        text-align: right;\n",
              "    }\n",
              "</style>\n",
              "<table border=\"1\" class=\"dataframe\">\n",
              "  <thead>\n",
              "    <tr style=\"text-align: right;\">\n",
              "      <th></th>\n",
              "      <th>tconst</th>\n",
              "      <th>titleType</th>\n",
              "      <th>primaryTitle</th>\n",
              "      <th>originalTitle</th>\n",
              "      <th>isAdult</th>\n",
              "      <th>startYear</th>\n",
              "      <th>endYear</th>\n",
              "      <th>runtimeMinutes</th>\n",
              "      <th>genres</th>\n",
              "      <th>nconst</th>\n",
              "      <th>...</th>\n",
              "      <th>birthYear</th>\n",
              "      <th>deathYear</th>\n",
              "      <th>primaryProfession</th>\n",
              "      <th>knownForTitles</th>\n",
              "      <th>isactor_x</th>\n",
              "      <th>ordering</th>\n",
              "      <th>category</th>\n",
              "      <th>job</th>\n",
              "      <th>characters</th>\n",
              "      <th>isactor_y</th>\n",
              "    </tr>\n",
              "  </thead>\n",
              "  <tbody>\n",
              "    <tr>\n",
              "      <th>0</th>\n",
              "      <td>tt0000009</td>\n",
              "      <td>movie</td>\n",
              "      <td>Miss Jerry</td>\n",
              "      <td>Miss Jerry</td>\n",
              "      <td>0</td>\n",
              "      <td>1894</td>\n",
              "      <td>\\N</td>\n",
              "      <td>45</td>\n",
              "      <td>Romance</td>\n",
              "      <td>nm0063086</td>\n",
              "      <td>...</td>\n",
              "      <td>1878</td>\n",
              "      <td>1951</td>\n",
              "      <td>actress</td>\n",
              "      <td>tt0000009</td>\n",
              "      <td>actor</td>\n",
              "      <td>1</td>\n",
              "      <td>actress</td>\n",
              "      <td>\\N</td>\n",
              "      <td>[\"Miss Geraldine Holbrook (Miss Jerry)\"]</td>\n",
              "      <td>actor</td>\n",
              "    </tr>\n",
              "    <tr>\n",
              "      <th>1</th>\n",
              "      <td>tt0000009</td>\n",
              "      <td>movie</td>\n",
              "      <td>Miss Jerry</td>\n",
              "      <td>Miss Jerry</td>\n",
              "      <td>0</td>\n",
              "      <td>1894</td>\n",
              "      <td>\\N</td>\n",
              "      <td>45</td>\n",
              "      <td>Romance</td>\n",
              "      <td>nm0183823</td>\n",
              "      <td>...</td>\n",
              "      <td>1875</td>\n",
              "      <td>1933</td>\n",
              "      <td>actor</td>\n",
              "      <td>tt0021535,tt0020355,tt0000009,tt0020403</td>\n",
              "      <td>actor</td>\n",
              "      <td>2</td>\n",
              "      <td>actor</td>\n",
              "      <td>\\N</td>\n",
              "      <td>[\"Mr. Hamilton\"]</td>\n",
              "      <td>actor</td>\n",
              "    </tr>\n",
              "    <tr>\n",
              "      <th>2</th>\n",
              "      <td>tt0000009</td>\n",
              "      <td>movie</td>\n",
              "      <td>Miss Jerry</td>\n",
              "      <td>Miss Jerry</td>\n",
              "      <td>0</td>\n",
              "      <td>1894</td>\n",
              "      <td>\\N</td>\n",
              "      <td>45</td>\n",
              "      <td>Romance</td>\n",
              "      <td>nm1309758</td>\n",
              "      <td>...</td>\n",
              "      <td>1834</td>\n",
              "      <td>1928</td>\n",
              "      <td>actor,writer</td>\n",
              "      <td>tt0000009,tt1076833,tt0490842,tt4484306</td>\n",
              "      <td>actor</td>\n",
              "      <td>3</td>\n",
              "      <td>actor</td>\n",
              "      <td>\\N</td>\n",
              "      <td>[\"Chauncey Depew - the Director of the New Yor...</td>\n",
              "      <td>actor</td>\n",
              "    </tr>\n",
              "    <tr>\n",
              "      <th>3</th>\n",
              "      <td>tt0000502</td>\n",
              "      <td>movie</td>\n",
              "      <td>Bohemios</td>\n",
              "      <td>Bohemios</td>\n",
              "      <td>0</td>\n",
              "      <td>1905</td>\n",
              "      <td>\\N</td>\n",
              "      <td>100</td>\n",
              "      <td>\\N</td>\n",
              "      <td>nm0215752</td>\n",
              "      <td>...</td>\n",
              "      <td>\\N</td>\n",
              "      <td>\\N</td>\n",
              "      <td>actor</td>\n",
              "      <td>tt0000502</td>\n",
              "      <td>actor</td>\n",
              "      <td>1</td>\n",
              "      <td>actor</td>\n",
              "      <td>\\N</td>\n",
              "      <td>\\N</td>\n",
              "      <td>actor</td>\n",
              "    </tr>\n",
              "    <tr>\n",
              "      <th>4</th>\n",
              "      <td>tt0000502</td>\n",
              "      <td>movie</td>\n",
              "      <td>Bohemios</td>\n",
              "      <td>Bohemios</td>\n",
              "      <td>0</td>\n",
              "      <td>1905</td>\n",
              "      <td>\\N</td>\n",
              "      <td>100</td>\n",
              "      <td>\\N</td>\n",
              "      <td>nm0252720</td>\n",
              "      <td>...</td>\n",
              "      <td>\\N</td>\n",
              "      <td>\\N</td>\n",
              "      <td>actor</td>\n",
              "      <td>tt0000502</td>\n",
              "      <td>actor</td>\n",
              "      <td>2</td>\n",
              "      <td>actor</td>\n",
              "      <td>\\N</td>\n",
              "      <td>\\N</td>\n",
              "      <td>actor</td>\n",
              "    </tr>\n",
              "  </tbody>\n",
              "</table>\n",
              "<p>5 rows × 21 columns</p>\n",
              "</div>"
            ],
            "text/plain": [
              "      tconst titleType primaryTitle originalTitle isAdult startYear endYear  \\\n",
              "0  tt0000009     movie   Miss Jerry    Miss Jerry       0      1894      \\N   \n",
              "1  tt0000009     movie   Miss Jerry    Miss Jerry       0      1894      \\N   \n",
              "2  tt0000009     movie   Miss Jerry    Miss Jerry       0      1894      \\N   \n",
              "3  tt0000502     movie     Bohemios      Bohemios       0      1905      \\N   \n",
              "4  tt0000502     movie     Bohemios      Bohemios       0      1905      \\N   \n",
              "\n",
              "  runtimeMinutes   genres     nconst  ... birthYear deathYear  \\\n",
              "0             45  Romance  nm0063086  ...      1878      1951   \n",
              "1             45  Romance  nm0183823  ...      1875      1933   \n",
              "2             45  Romance  nm1309758  ...      1834      1928   \n",
              "3            100       \\N  nm0215752  ...        \\N        \\N   \n",
              "4            100       \\N  nm0252720  ...        \\N        \\N   \n",
              "\n",
              "  primaryProfession                           knownForTitles isactor_x  \\\n",
              "0           actress                                tt0000009     actor   \n",
              "1             actor  tt0021535,tt0020355,tt0000009,tt0020403     actor   \n",
              "2      actor,writer  tt0000009,tt1076833,tt0490842,tt4484306     actor   \n",
              "3             actor                                tt0000502     actor   \n",
              "4             actor                                tt0000502     actor   \n",
              "\n",
              "  ordering  category job                                         characters  \\\n",
              "0        1   actress  \\N           [\"Miss Geraldine Holbrook (Miss Jerry)\"]   \n",
              "1        2     actor  \\N                                   [\"Mr. Hamilton\"]   \n",
              "2        3     actor  \\N  [\"Chauncey Depew - the Director of the New Yor...   \n",
              "3        1     actor  \\N                                                 \\N   \n",
              "4        2     actor  \\N                                                 \\N   \n",
              "\n",
              "  isactor_y  \n",
              "0     actor  \n",
              "1     actor  \n",
              "2     actor  \n",
              "3     actor  \n",
              "4     actor  \n",
              "\n",
              "[5 rows x 21 columns]"
            ]
          },
          "execution_count": 21,
          "metadata": {},
          "output_type": "execute_result"
        }
      ],
      "source": [
        "datanew2.head()"
      ]
    },
    {
      "cell_type": "code",
      "execution_count": null,
      "id": "df4bad69",
      "metadata": {
        "id": "df4bad69"
      },
      "outputs": [],
      "source": [
        "datanew3 = datanew2.drop(['titleType', 'originalTitle', 'isAdult', 'endYear', 'job', 'isactor_x', 'isactor_y', 'knownForTitles'], axis = 1)"
      ]
    },
    {
      "cell_type": "code",
      "execution_count": null,
      "id": "267a617e",
      "metadata": {
        "id": "267a617e"
      },
      "outputs": [],
      "source": [
        "datanew4 = datanew3.sort_values(\"primaryName\")"
      ]
    },
    {
      "cell_type": "code",
      "execution_count": null,
      "id": "f4b69d80",
      "metadata": {
        "id": "f4b69d80",
        "outputId": "3587e3b4-419e-46f6-edd0-6c5a2495cf3f"
      },
      "outputs": [
        {
          "data": {
            "text/html": [
              "<div>\n",
              "<style scoped>\n",
              "    .dataframe tbody tr th:only-of-type {\n",
              "        vertical-align: middle;\n",
              "    }\n",
              "\n",
              "    .dataframe tbody tr th {\n",
              "        vertical-align: top;\n",
              "    }\n",
              "\n",
              "    .dataframe thead th {\n",
              "        text-align: right;\n",
              "    }\n",
              "</style>\n",
              "<table border=\"1\" class=\"dataframe\">\n",
              "  <thead>\n",
              "    <tr style=\"text-align: right;\">\n",
              "      <th></th>\n",
              "      <th>tconst</th>\n",
              "      <th>primaryTitle</th>\n",
              "      <th>startYear</th>\n",
              "      <th>runtimeMinutes</th>\n",
              "      <th>genres</th>\n",
              "      <th>nconst</th>\n",
              "      <th>primaryName</th>\n",
              "      <th>birthYear</th>\n",
              "      <th>deathYear</th>\n",
              "      <th>primaryProfession</th>\n",
              "      <th>ordering</th>\n",
              "      <th>category</th>\n",
              "      <th>characters</th>\n",
              "    </tr>\n",
              "  </thead>\n",
              "  <tbody>\n",
              "    <tr>\n",
              "      <th>1035398</th>\n",
              "      <td>tt10039392</td>\n",
              "      <td>The Ghindaring</td>\n",
              "      <td>\\N</td>\n",
              "      <td>80</td>\n",
              "      <td>Adventure,Drama,Family</td>\n",
              "      <td>nm10555718</td>\n",
              "      <td>'Aunty' Mary Hooker</td>\n",
              "      <td>\\N</td>\n",
              "      <td>\\N</td>\n",
              "      <td>actress</td>\n",
              "      <td>1</td>\n",
              "      <td>actress</td>\n",
              "      <td>[\"Nan\"]</td>\n",
              "    </tr>\n",
              "    <tr>\n",
              "      <th>10655</th>\n",
              "      <td>tt0007353</td>\n",
              "      <td>A Sister of Six</td>\n",
              "      <td>1916</td>\n",
              "      <td>50</td>\n",
              "      <td>Adventure,Drama,Western</td>\n",
              "      <td>nm0211329</td>\n",
              "      <td>'Baby' Carmen De Rue</td>\n",
              "      <td>1908</td>\n",
              "      <td>1986</td>\n",
              "      <td>actress</td>\n",
              "      <td>9</td>\n",
              "      <td>actress</td>\n",
              "      <td>[\"Priscilla\"]</td>\n",
              "    </tr>\n",
              "    <tr>\n",
              "      <th>17338</th>\n",
              "      <td>tt0009055</td>\n",
              "      <td>Fan Fan</td>\n",
              "      <td>1918</td>\n",
              "      <td>50</td>\n",
              "      <td>Comedy,Drama</td>\n",
              "      <td>nm0211329</td>\n",
              "      <td>'Baby' Carmen De Rue</td>\n",
              "      <td>1908</td>\n",
              "      <td>1986</td>\n",
              "      <td>actress</td>\n",
              "      <td>3</td>\n",
              "      <td>actress</td>\n",
              "      <td>[\"Lady Shoo\"]</td>\n",
              "    </tr>\n",
              "    <tr>\n",
              "      <th>7162</th>\n",
              "      <td>tt0006338</td>\n",
              "      <td>Acquitted</td>\n",
              "      <td>1916</td>\n",
              "      <td>50</td>\n",
              "      <td>Drama</td>\n",
              "      <td>nm0211329</td>\n",
              "      <td>'Baby' Carmen De Rue</td>\n",
              "      <td>1908</td>\n",
              "      <td>1986</td>\n",
              "      <td>actress</td>\n",
              "      <td>4</td>\n",
              "      <td>actress</td>\n",
              "      <td>[\"Nellie Carter\"]</td>\n",
              "    </tr>\n",
              "    <tr>\n",
              "      <th>11843</th>\n",
              "      <td>tt0007669</td>\n",
              "      <td>The Babes in the Woods</td>\n",
              "      <td>1917</td>\n",
              "      <td>50</td>\n",
              "      <td>Drama,Family,Fantasy</td>\n",
              "      <td>nm0211329</td>\n",
              "      <td>'Baby' Carmen De Rue</td>\n",
              "      <td>1908</td>\n",
              "      <td>1986</td>\n",
              "      <td>actress</td>\n",
              "      <td>4</td>\n",
              "      <td>actress</td>\n",
              "      <td>[\"The Good Fairy\"]</td>\n",
              "    </tr>\n",
              "  </tbody>\n",
              "</table>\n",
              "</div>"
            ],
            "text/plain": [
              "             tconst            primaryTitle startYear runtimeMinutes  \\\n",
              "1035398  tt10039392          The Ghindaring        \\N             80   \n",
              "10655     tt0007353         A Sister of Six      1916             50   \n",
              "17338     tt0009055                 Fan Fan      1918             50   \n",
              "7162      tt0006338               Acquitted      1916             50   \n",
              "11843     tt0007669  The Babes in the Woods      1917             50   \n",
              "\n",
              "                          genres      nconst           primaryName birthYear  \\\n",
              "1035398   Adventure,Drama,Family  nm10555718   'Aunty' Mary Hooker        \\N   \n",
              "10655    Adventure,Drama,Western   nm0211329  'Baby' Carmen De Rue      1908   \n",
              "17338               Comedy,Drama   nm0211329  'Baby' Carmen De Rue      1908   \n",
              "7162                       Drama   nm0211329  'Baby' Carmen De Rue      1908   \n",
              "11843       Drama,Family,Fantasy   nm0211329  'Baby' Carmen De Rue      1908   \n",
              "\n",
              "        deathYear primaryProfession  ordering category          characters  \n",
              "1035398        \\N           actress         1  actress             [\"Nan\"]  \n",
              "10655        1986           actress         9  actress       [\"Priscilla\"]  \n",
              "17338        1986           actress         3  actress       [\"Lady Shoo\"]  \n",
              "7162         1986           actress         4  actress   [\"Nellie Carter\"]  \n",
              "11843        1986           actress         4  actress  [\"The Good Fairy\"]  "
            ]
          },
          "execution_count": 26,
          "metadata": {},
          "output_type": "execute_result"
        }
      ],
      "source": [
        "datanew4.head()"
      ]
    },
    {
      "cell_type": "code",
      "execution_count": null,
      "id": "0a1120ef",
      "metadata": {
        "id": "0a1120ef",
        "outputId": "e4567849-026f-47b1-8bd2-a1757299f96f"
      },
      "outputs": [
        {
          "data": {
            "text/html": [
              "<div>\n",
              "<style scoped>\n",
              "    .dataframe tbody tr th:only-of-type {\n",
              "        vertical-align: middle;\n",
              "    }\n",
              "\n",
              "    .dataframe tbody tr th {\n",
              "        vertical-align: top;\n",
              "    }\n",
              "\n",
              "    .dataframe thead th {\n",
              "        text-align: right;\n",
              "    }\n",
              "</style>\n",
              "<table border=\"1\" class=\"dataframe\">\n",
              "  <thead>\n",
              "    <tr style=\"text-align: right;\">\n",
              "      <th></th>\n",
              "      <th>tconst</th>\n",
              "      <th>primaryTitle</th>\n",
              "      <th>startYear</th>\n",
              "      <th>runtimeMinutes</th>\n",
              "      <th>genres</th>\n",
              "      <th>nconst</th>\n",
              "      <th>primaryName</th>\n",
              "      <th>birthYear</th>\n",
              "      <th>deathYear</th>\n",
              "      <th>primaryProfession</th>\n",
              "      <th>ordering</th>\n",
              "      <th>category</th>\n",
              "      <th>characters</th>\n",
              "      <th>freq</th>\n",
              "    </tr>\n",
              "  </thead>\n",
              "  <tbody>\n",
              "    <tr>\n",
              "      <th>1035398</th>\n",
              "      <td>tt10039392</td>\n",
              "      <td>The Ghindaring</td>\n",
              "      <td>\\N</td>\n",
              "      <td>80</td>\n",
              "      <td>Adventure,Drama,Family</td>\n",
              "      <td>nm10555718</td>\n",
              "      <td>'Aunty' Mary Hooker</td>\n",
              "      <td>\\N</td>\n",
              "      <td>\\N</td>\n",
              "      <td>actress</td>\n",
              "      <td>1</td>\n",
              "      <td>actress</td>\n",
              "      <td>[\"Nan\"]</td>\n",
              "      <td>1</td>\n",
              "    </tr>\n",
              "    <tr>\n",
              "      <th>10655</th>\n",
              "      <td>tt0007353</td>\n",
              "      <td>A Sister of Six</td>\n",
              "      <td>1916</td>\n",
              "      <td>50</td>\n",
              "      <td>Adventure,Drama,Western</td>\n",
              "      <td>nm0211329</td>\n",
              "      <td>'Baby' Carmen De Rue</td>\n",
              "      <td>1908</td>\n",
              "      <td>1986</td>\n",
              "      <td>actress</td>\n",
              "      <td>9</td>\n",
              "      <td>actress</td>\n",
              "      <td>[\"Priscilla\"]</td>\n",
              "      <td>5</td>\n",
              "    </tr>\n",
              "    <tr>\n",
              "      <th>17338</th>\n",
              "      <td>tt0009055</td>\n",
              "      <td>Fan Fan</td>\n",
              "      <td>1918</td>\n",
              "      <td>50</td>\n",
              "      <td>Comedy,Drama</td>\n",
              "      <td>nm0211329</td>\n",
              "      <td>'Baby' Carmen De Rue</td>\n",
              "      <td>1908</td>\n",
              "      <td>1986</td>\n",
              "      <td>actress</td>\n",
              "      <td>3</td>\n",
              "      <td>actress</td>\n",
              "      <td>[\"Lady Shoo\"]</td>\n",
              "      <td>5</td>\n",
              "    </tr>\n",
              "    <tr>\n",
              "      <th>7162</th>\n",
              "      <td>tt0006338</td>\n",
              "      <td>Acquitted</td>\n",
              "      <td>1916</td>\n",
              "      <td>50</td>\n",
              "      <td>Drama</td>\n",
              "      <td>nm0211329</td>\n",
              "      <td>'Baby' Carmen De Rue</td>\n",
              "      <td>1908</td>\n",
              "      <td>1986</td>\n",
              "      <td>actress</td>\n",
              "      <td>4</td>\n",
              "      <td>actress</td>\n",
              "      <td>[\"Nellie Carter\"]</td>\n",
              "      <td>5</td>\n",
              "    </tr>\n",
              "    <tr>\n",
              "      <th>11843</th>\n",
              "      <td>tt0007669</td>\n",
              "      <td>The Babes in the Woods</td>\n",
              "      <td>1917</td>\n",
              "      <td>50</td>\n",
              "      <td>Drama,Family,Fantasy</td>\n",
              "      <td>nm0211329</td>\n",
              "      <td>'Baby' Carmen De Rue</td>\n",
              "      <td>1908</td>\n",
              "      <td>1986</td>\n",
              "      <td>actress</td>\n",
              "      <td>4</td>\n",
              "      <td>actress</td>\n",
              "      <td>[\"The Good Fairy\"]</td>\n",
              "      <td>5</td>\n",
              "    </tr>\n",
              "  </tbody>\n",
              "</table>\n",
              "</div>"
            ],
            "text/plain": [
              "             tconst            primaryTitle startYear runtimeMinutes  \\\n",
              "1035398  tt10039392          The Ghindaring        \\N             80   \n",
              "10655     tt0007353         A Sister of Six      1916             50   \n",
              "17338     tt0009055                 Fan Fan      1918             50   \n",
              "7162      tt0006338               Acquitted      1916             50   \n",
              "11843     tt0007669  The Babes in the Woods      1917             50   \n",
              "\n",
              "                          genres      nconst           primaryName birthYear  \\\n",
              "1035398   Adventure,Drama,Family  nm10555718   'Aunty' Mary Hooker        \\N   \n",
              "10655    Adventure,Drama,Western   nm0211329  'Baby' Carmen De Rue      1908   \n",
              "17338               Comedy,Drama   nm0211329  'Baby' Carmen De Rue      1908   \n",
              "7162                       Drama   nm0211329  'Baby' Carmen De Rue      1908   \n",
              "11843       Drama,Family,Fantasy   nm0211329  'Baby' Carmen De Rue      1908   \n",
              "\n",
              "        deathYear primaryProfession  ordering category          characters  \\\n",
              "1035398        \\N           actress         1  actress             [\"Nan\"]   \n",
              "10655        1986           actress         9  actress       [\"Priscilla\"]   \n",
              "17338        1986           actress         3  actress       [\"Lady Shoo\"]   \n",
              "7162         1986           actress         4  actress   [\"Nellie Carter\"]   \n",
              "11843        1986           actress         4  actress  [\"The Good Fairy\"]   \n",
              "\n",
              "         freq  \n",
              "1035398     1  \n",
              "10655       5  \n",
              "17338       5  \n",
              "7162        5  \n",
              "11843       5  "
            ]
          },
          "execution_count": 27,
          "metadata": {},
          "output_type": "execute_result"
        }
      ],
      "source": [
        "datanew4['freq'] = datanew4.groupby('primaryName')['primaryName'].transform('count') #count how many movies every actor has been in\n",
        "datanew4.head()"
      ]
    },
    {
      "cell_type": "code",
      "execution_count": null,
      "id": "919e4436",
      "metadata": {
        "id": "919e4436",
        "outputId": "988faa74-0f21-4731-cf49-8e3d6c93e369"
      },
      "outputs": [
        {
          "data": {
            "text/html": [
              "<div>\n",
              "<style scoped>\n",
              "    .dataframe tbody tr th:only-of-type {\n",
              "        vertical-align: middle;\n",
              "    }\n",
              "\n",
              "    .dataframe tbody tr th {\n",
              "        vertical-align: top;\n",
              "    }\n",
              "\n",
              "    .dataframe thead th {\n",
              "        text-align: right;\n",
              "    }\n",
              "</style>\n",
              "<table border=\"1\" class=\"dataframe\">\n",
              "  <thead>\n",
              "    <tr style=\"text-align: right;\">\n",
              "      <th></th>\n",
              "      <th>tconst</th>\n",
              "      <th>primaryTitle</th>\n",
              "      <th>startYear</th>\n",
              "      <th>runtimeMinutes</th>\n",
              "      <th>genres</th>\n",
              "      <th>nconst</th>\n",
              "      <th>primaryName</th>\n",
              "      <th>birthYear</th>\n",
              "      <th>deathYear</th>\n",
              "      <th>primaryProfession</th>\n",
              "      <th>ordering</th>\n",
              "      <th>category</th>\n",
              "      <th>characters</th>\n",
              "      <th>freq</th>\n",
              "    </tr>\n",
              "  </thead>\n",
              "  <tbody>\n",
              "    <tr>\n",
              "      <th>10655</th>\n",
              "      <td>tt0007353</td>\n",
              "      <td>A Sister of Six</td>\n",
              "      <td>1916</td>\n",
              "      <td>50</td>\n",
              "      <td>Adventure,Drama,Western</td>\n",
              "      <td>nm0211329</td>\n",
              "      <td>'Baby' Carmen De Rue</td>\n",
              "      <td>1908</td>\n",
              "      <td>1986</td>\n",
              "      <td>actress</td>\n",
              "      <td>9</td>\n",
              "      <td>actress</td>\n",
              "      <td>[\"Priscilla\"]</td>\n",
              "      <td>5</td>\n",
              "    </tr>\n",
              "    <tr>\n",
              "      <th>17338</th>\n",
              "      <td>tt0009055</td>\n",
              "      <td>Fan Fan</td>\n",
              "      <td>1918</td>\n",
              "      <td>50</td>\n",
              "      <td>Comedy,Drama</td>\n",
              "      <td>nm0211329</td>\n",
              "      <td>'Baby' Carmen De Rue</td>\n",
              "      <td>1908</td>\n",
              "      <td>1986</td>\n",
              "      <td>actress</td>\n",
              "      <td>3</td>\n",
              "      <td>actress</td>\n",
              "      <td>[\"Lady Shoo\"]</td>\n",
              "      <td>5</td>\n",
              "    </tr>\n",
              "    <tr>\n",
              "      <th>7162</th>\n",
              "      <td>tt0006338</td>\n",
              "      <td>Acquitted</td>\n",
              "      <td>1916</td>\n",
              "      <td>50</td>\n",
              "      <td>Drama</td>\n",
              "      <td>nm0211329</td>\n",
              "      <td>'Baby' Carmen De Rue</td>\n",
              "      <td>1908</td>\n",
              "      <td>1986</td>\n",
              "      <td>actress</td>\n",
              "      <td>4</td>\n",
              "      <td>actress</td>\n",
              "      <td>[\"Nellie Carter\"]</td>\n",
              "      <td>5</td>\n",
              "    </tr>\n",
              "    <tr>\n",
              "      <th>11843</th>\n",
              "      <td>tt0007669</td>\n",
              "      <td>The Babes in the Woods</td>\n",
              "      <td>1917</td>\n",
              "      <td>50</td>\n",
              "      <td>Drama,Family,Fantasy</td>\n",
              "      <td>nm0211329</td>\n",
              "      <td>'Baby' Carmen De Rue</td>\n",
              "      <td>1908</td>\n",
              "      <td>1986</td>\n",
              "      <td>actress</td>\n",
              "      <td>4</td>\n",
              "      <td>actress</td>\n",
              "      <td>[\"The Good Fairy\"]</td>\n",
              "      <td>5</td>\n",
              "    </tr>\n",
              "    <tr>\n",
              "      <th>13616</th>\n",
              "      <td>tt0008144</td>\n",
              "      <td>Jack and the Beanstalk</td>\n",
              "      <td>1917</td>\n",
              "      <td>100</td>\n",
              "      <td>Fantasy</td>\n",
              "      <td>nm0211329</td>\n",
              "      <td>'Baby' Carmen De Rue</td>\n",
              "      <td>1908</td>\n",
              "      <td>1986</td>\n",
              "      <td>actress</td>\n",
              "      <td>4</td>\n",
              "      <td>actress</td>\n",
              "      <td>[\"The King of Cornwall\"]</td>\n",
              "      <td>5</td>\n",
              "    </tr>\n",
              "  </tbody>\n",
              "</table>\n",
              "</div>"
            ],
            "text/plain": [
              "          tconst            primaryTitle startYear runtimeMinutes  \\\n",
              "10655  tt0007353         A Sister of Six      1916             50   \n",
              "17338  tt0009055                 Fan Fan      1918             50   \n",
              "7162   tt0006338               Acquitted      1916             50   \n",
              "11843  tt0007669  The Babes in the Woods      1917             50   \n",
              "13616  tt0008144  Jack and the Beanstalk      1917            100   \n",
              "\n",
              "                        genres     nconst           primaryName birthYear  \\\n",
              "10655  Adventure,Drama,Western  nm0211329  'Baby' Carmen De Rue      1908   \n",
              "17338             Comedy,Drama  nm0211329  'Baby' Carmen De Rue      1908   \n",
              "7162                     Drama  nm0211329  'Baby' Carmen De Rue      1908   \n",
              "11843     Drama,Family,Fantasy  nm0211329  'Baby' Carmen De Rue      1908   \n",
              "13616                  Fantasy  nm0211329  'Baby' Carmen De Rue      1908   \n",
              "\n",
              "      deathYear primaryProfession  ordering category  \\\n",
              "10655      1986           actress         9  actress   \n",
              "17338      1986           actress         3  actress   \n",
              "7162       1986           actress         4  actress   \n",
              "11843      1986           actress         4  actress   \n",
              "13616      1986           actress         4  actress   \n",
              "\n",
              "                     characters  freq  \n",
              "10655             [\"Priscilla\"]     5  \n",
              "17338             [\"Lady Shoo\"]     5  \n",
              "7162          [\"Nellie Carter\"]     5  \n",
              "11843        [\"The Good Fairy\"]     5  \n",
              "13616  [\"The King of Cornwall\"]     5  "
            ]
          },
          "execution_count": 28,
          "metadata": {},
          "output_type": "execute_result"
        }
      ],
      "source": [
        "datanew4 = datanew4[(datanew4.freq != 1 )] #drop all actors that have been in only one movie: they will not connect any two movies\n"
      ]
    },
    {
      "cell_type": "code",
      "execution_count": null,
      "id": "a782402b",
      "metadata": {
        "id": "a782402b"
      },
      "outputs": [],
      "source": [
        "datanew5= datanew4.sort_values(\"primaryTitle\")"
      ]
    },
    {
      "cell_type": "markdown",
      "id": "7ec1a275",
      "metadata": {
        "id": "7ec1a275"
      },
      "source": [
        "The network now contains all necessary data to create nodes and edges to create a network. Using the Networkx package, the \"Primary Title\" column can be used to create nodes (double nodes arenot allowed, so the fact that each title appears more than once does not constitue a problem). A function has been created to get edges, which, once the nodes have been properly mapped to indeces, are the data we need for the PageRank algorithm.\n",
        "\n",
        "In order to avoid repeating the first part of the process for later use, we save this version of the file for further processing."
      ]
    },
    {
      "cell_type": "code",
      "execution_count": null,
      "id": "5c5791be",
      "metadata": {
        "id": "5c5791be"
      },
      "outputs": [],
      "source": [
        "## compression_opts = dict(method='zip',archive_name='out2.csv')  \n",
        "## datanew5.to_csv('out2.zip', index=False, compression=compression_opts) #save file for future use "
      ]
    },
    {
      "cell_type": "markdown",
      "id": "b6eda011",
      "metadata": {
        "id": "b6eda011"
      },
      "source": [
        "## Creating the Movie-Actors Network : nodes, edges, preliminary visualization"
      ]
    },
    {
      "cell_type": "markdown",
      "id": "e9b3db13",
      "metadata": {
        "id": "e9b3db13"
      },
      "source": [
        "Because of hardware limitations, the following part of the project contains the same process twice; the first is a simplified process to create a small network of only two actors on which I tested the various steps of the work to check for its functioning; the second part creates a larger (although restricted with respect to the entire dataset) network on which i ran the algorithm."
      ]
    },
    {
      "cell_type": "code",
      "execution_count": null,
      "id": "81f60601",
      "metadata": {
        "id": "81f60601"
      },
      "outputs": [],
      "source": [
        "## datanew5 = pd.read_csv(\"./networkprep.csv\") #import file from the Dataset Preparation (Kaggle and Google Drive) folder "
      ]
    },
    {
      "cell_type": "code",
      "execution_count": null,
      "id": "5497d1e1",
      "metadata": {
        "id": "5497d1e1",
        "outputId": "957da872-cf06-4138-9e0d-96e944c2b355"
      },
      "outputs": [
        {
          "data": {
            "text/html": [
              "<div>\n",
              "<style scoped>\n",
              "    .dataframe tbody tr th:only-of-type {\n",
              "        vertical-align: middle;\n",
              "    }\n",
              "\n",
              "    .dataframe tbody tr th {\n",
              "        vertical-align: top;\n",
              "    }\n",
              "\n",
              "    .dataframe thead th {\n",
              "        text-align: right;\n",
              "    }\n",
              "</style>\n",
              "<table border=\"1\" class=\"dataframe\">\n",
              "  <thead>\n",
              "    <tr style=\"text-align: right;\">\n",
              "      <th></th>\n",
              "      <th>tconst</th>\n",
              "      <th>primaryTitle</th>\n",
              "      <th>startYear</th>\n",
              "      <th>runtimeMinutes</th>\n",
              "      <th>genres</th>\n",
              "      <th>nconst</th>\n",
              "      <th>primaryName</th>\n",
              "      <th>birthYear</th>\n",
              "      <th>deathYear</th>\n",
              "      <th>primaryProfession</th>\n",
              "      <th>ordering</th>\n",
              "      <th>category</th>\n",
              "      <th>characters</th>\n",
              "      <th>freq</th>\n",
              "    </tr>\n",
              "  </thead>\n",
              "  <tbody>\n",
              "    <tr>\n",
              "      <th>0</th>\n",
              "      <td>tt6915008</td>\n",
              "      <td>#1</td>\n",
              "      <td>\\N</td>\n",
              "      <td>\\N</td>\n",
              "      <td>Documentary</td>\n",
              "      <td>nm0285330</td>\n",
              "      <td>Forbes Riley</td>\n",
              "      <td>1960</td>\n",
              "      <td>\\N</td>\n",
              "      <td>actress,producer</td>\n",
              "      <td>2</td>\n",
              "      <td>actress</td>\n",
              "      <td>\\N</td>\n",
              "      <td>6</td>\n",
              "    </tr>\n",
              "    <tr>\n",
              "      <th>1</th>\n",
              "      <td>tt6915008</td>\n",
              "      <td>#1</td>\n",
              "      <td>\\N</td>\n",
              "      <td>\\N</td>\n",
              "      <td>Documentary</td>\n",
              "      <td>nm0634760</td>\n",
              "      <td>Peter Noone</td>\n",
              "      <td>1947</td>\n",
              "      <td>\\N</td>\n",
              "      <td>actor,soundtrack</td>\n",
              "      <td>1</td>\n",
              "      <td>actor</td>\n",
              "      <td>\\N</td>\n",
              "      <td>6</td>\n",
              "    </tr>\n",
              "    <tr>\n",
              "      <th>2</th>\n",
              "      <td>tt6915008</td>\n",
              "      <td>#1</td>\n",
              "      <td>\\N</td>\n",
              "      <td>\\N</td>\n",
              "      <td>Documentary</td>\n",
              "      <td>nm1643411</td>\n",
              "      <td>Tommy James</td>\n",
              "      <td>1947</td>\n",
              "      <td>\\N</td>\n",
              "      <td>soundtrack,composer</td>\n",
              "      <td>5</td>\n",
              "      <td>actor</td>\n",
              "      <td>\\N</td>\n",
              "      <td>2</td>\n",
              "    </tr>\n",
              "    <tr>\n",
              "      <th>3</th>\n",
              "      <td>tt6915008</td>\n",
              "      <td>#1</td>\n",
              "      <td>\\N</td>\n",
              "      <td>\\N</td>\n",
              "      <td>Documentary</td>\n",
              "      <td>nm1866067</td>\n",
              "      <td>Scotty Bowman</td>\n",
              "      <td>1933</td>\n",
              "      <td>\\N</td>\n",
              "      <td>actor</td>\n",
              "      <td>6</td>\n",
              "      <td>actor</td>\n",
              "      <td>\\N</td>\n",
              "      <td>2</td>\n",
              "    </tr>\n",
              "    <tr>\n",
              "      <th>4</th>\n",
              "      <td>tt2346170</td>\n",
              "      <td>#1 Serial Killer</td>\n",
              "      <td>2013</td>\n",
              "      <td>87</td>\n",
              "      <td>Horror</td>\n",
              "      <td>nm0002245</td>\n",
              "      <td>Tzi Ma</td>\n",
              "      <td>\\N</td>\n",
              "      <td>\\N</td>\n",
              "      <td>actor,producer</td>\n",
              "      <td>3</td>\n",
              "      <td>actor</td>\n",
              "      <td>[\"Mr. Chang\"]</td>\n",
              "      <td>15</td>\n",
              "    </tr>\n",
              "  </tbody>\n",
              "</table>\n",
              "</div>"
            ],
            "text/plain": [
              "      tconst      primaryTitle startYear runtimeMinutes       genres  \\\n",
              "0  tt6915008                #1        \\N             \\N  Documentary   \n",
              "1  tt6915008                #1        \\N             \\N  Documentary   \n",
              "2  tt6915008                #1        \\N             \\N  Documentary   \n",
              "3  tt6915008                #1        \\N             \\N  Documentary   \n",
              "4  tt2346170  #1 Serial Killer      2013             87       Horror   \n",
              "\n",
              "      nconst    primaryName birthYear deathYear    primaryProfession  \\\n",
              "0  nm0285330   Forbes Riley      1960        \\N     actress,producer   \n",
              "1  nm0634760    Peter Noone      1947        \\N     actor,soundtrack   \n",
              "2  nm1643411    Tommy James      1947        \\N  soundtrack,composer   \n",
              "3  nm1866067  Scotty Bowman      1933        \\N                actor   \n",
              "4  nm0002245         Tzi Ma        \\N        \\N       actor,producer   \n",
              "\n",
              "   ordering category     characters  freq  \n",
              "0         2  actress             \\N     6  \n",
              "1         1    actor             \\N     6  \n",
              "2         5    actor             \\N     2  \n",
              "3         6    actor             \\N     2  \n",
              "4         3    actor  [\"Mr. Chang\"]    15  "
            ]
          },
          "execution_count": 44,
          "metadata": {},
          "output_type": "execute_result"
        }
      ],
      "source": [
        "datanew5.head()"
      ]
    },
    {
      "cell_type": "code",
      "execution_count": null,
      "id": "51ff49df",
      "metadata": {
        "id": "51ff49df",
        "outputId": "ed1ebc09-0ad5-4439-f28e-693abe04b931"
      },
      "outputs": [
        {
          "data": {
            "text/html": [
              "<div>\n",
              "<style scoped>\n",
              "    .dataframe tbody tr th:only-of-type {\n",
              "        vertical-align: middle;\n",
              "    }\n",
              "\n",
              "    .dataframe tbody tr th {\n",
              "        vertical-align: top;\n",
              "    }\n",
              "\n",
              "    .dataframe thead th {\n",
              "        text-align: right;\n",
              "    }\n",
              "</style>\n",
              "<table border=\"1\" class=\"dataframe\">\n",
              "  <thead>\n",
              "    <tr style=\"text-align: right;\">\n",
              "      <th></th>\n",
              "      <th>tconst</th>\n",
              "      <th>primaryTitle</th>\n",
              "      <th>nconst</th>\n",
              "      <th>primaryName</th>\n",
              "    </tr>\n",
              "  </thead>\n",
              "  <tbody>\n",
              "    <tr>\n",
              "      <th>0</th>\n",
              "      <td>tt6915008</td>\n",
              "      <td>#1</td>\n",
              "      <td>nm0285330</td>\n",
              "      <td>Forbes Riley</td>\n",
              "    </tr>\n",
              "    <tr>\n",
              "      <th>1</th>\n",
              "      <td>tt6915008</td>\n",
              "      <td>#1</td>\n",
              "      <td>nm0634760</td>\n",
              "      <td>Peter Noone</td>\n",
              "    </tr>\n",
              "    <tr>\n",
              "      <th>2</th>\n",
              "      <td>tt6915008</td>\n",
              "      <td>#1</td>\n",
              "      <td>nm1643411</td>\n",
              "      <td>Tommy James</td>\n",
              "    </tr>\n",
              "    <tr>\n",
              "      <th>3</th>\n",
              "      <td>tt6915008</td>\n",
              "      <td>#1</td>\n",
              "      <td>nm1866067</td>\n",
              "      <td>Scotty Bowman</td>\n",
              "    </tr>\n",
              "    <tr>\n",
              "      <th>4</th>\n",
              "      <td>tt2346170</td>\n",
              "      <td>#1 Serial Killer</td>\n",
              "      <td>nm0002245</td>\n",
              "      <td>Tzi Ma</td>\n",
              "    </tr>\n",
              "  </tbody>\n",
              "</table>\n",
              "</div>"
            ],
            "text/plain": [
              "      tconst      primaryTitle     nconst    primaryName\n",
              "0  tt6915008                #1  nm0285330   Forbes Riley\n",
              "1  tt6915008                #1  nm0634760    Peter Noone\n",
              "2  tt6915008                #1  nm1643411    Tommy James\n",
              "3  tt6915008                #1  nm1866067  Scotty Bowman\n",
              "4  tt2346170  #1 Serial Killer  nm0002245         Tzi Ma"
            ]
          },
          "execution_count": 55,
          "metadata": {},
          "output_type": "execute_result"
        }
      ],
      "source": [
        "datanew5a = datanew5[['tconst', 'primaryTitle', 'nconst', 'primaryName']] \n",
        "datanew5a.head()\n",
        "\n",
        "#for ease of visualisation we reduce the dataset to movie, actors, and corresponding codes"
      ]
    },
    {
      "cell_type": "code",
      "source": [
        "##reduntant, but added here to merge notebooks\n",
        "\n",
        "datanew5b = datanew5[['tconst', 'primaryTitle', 'nconst', 'primaryName']] "
      ],
      "metadata": {
        "id": "gwVL744a-WT0"
      },
      "id": "gwVL744a-WT0",
      "execution_count": null,
      "outputs": []
    },
    {
      "cell_type": "code",
      "execution_count": null,
      "id": "a7cd3817",
      "metadata": {
        "id": "a7cd3817"
      },
      "outputs": [],
      "source": [
        "##compression_opts = dict(method='zip',archive_name='out7.csv')  \n",
        "## datanew5a.to_csv('out7.zip', index=False,compression=compression_opts)"
      ]
    },
    {
      "cell_type": "markdown",
      "id": "b7610bb1",
      "metadata": {
        "id": "b7610bb1"
      },
      "source": [
        "A limitation of the process I used is that the data needs to be reprocessed from here each time we need or want to use a different subset as a network; saving the list of tuples created in the following steps for later use will make it difficult to access them to create edges. I show how the tuples are created, then repeat the testing process for creating a network on the two aforementioned examples."
      ]
    },
    {
      "cell_type": "code",
      "execution_count": null,
      "id": "2f484d60",
      "metadata": {
        "scrolled": true,
        "id": "2f484d60",
        "outputId": "7a47442e-1c61-4be8-d51f-7c6ea3303ad3"
      },
      "outputs": [
        {
          "name": "stderr",
          "output_type": "stream",
          "text": [
            "C:\\Users\\carla\\AppData\\Local\\Temp\\ipykernel_4896\\2153704073.py:1: SettingWithCopyWarning: \n",
            "A value is trying to be set on a copy of a slice from a DataFrame.\n",
            "Try using .loc[row_indexer,col_indexer] = value instead\n",
            "\n",
            "See the caveats in the documentation: https://pandas.pydata.org/pandas-docs/stable/user_guide/indexing.html#returning-a-view-versus-a-copy\n",
            "  datanew5a['movieactorlist'] = list(zip(datanew5a.primaryTitle, datanew5a.primaryName))\n"
          ]
        }
      ],
      "source": [
        "datanew5a['movieactorlist'] = list(zip(datanew5a.primaryTitle, datanew5a.primaryName))\n",
        "\n",
        "#we create a new column with a list of tuples each containing a movie and an actor"
      ]
    },
    {
      "cell_type": "code",
      "execution_count": null,
      "id": "94f80d10",
      "metadata": {
        "scrolled": true,
        "id": "94f80d10",
        "outputId": "c8bae8e2-7cb0-4261-f4b3-f1075e0361d4"
      },
      "outputs": [
        {
          "data": {
            "text/html": [
              "<div>\n",
              "<style scoped>\n",
              "    .dataframe tbody tr th:only-of-type {\n",
              "        vertical-align: middle;\n",
              "    }\n",
              "\n",
              "    .dataframe tbody tr th {\n",
              "        vertical-align: top;\n",
              "    }\n",
              "\n",
              "    .dataframe thead th {\n",
              "        text-align: right;\n",
              "    }\n",
              "</style>\n",
              "<table border=\"1\" class=\"dataframe\">\n",
              "  <thead>\n",
              "    <tr style=\"text-align: right;\">\n",
              "      <th></th>\n",
              "      <th>tconst</th>\n",
              "      <th>primaryTitle</th>\n",
              "      <th>nconst</th>\n",
              "      <th>primaryName</th>\n",
              "      <th>movieactorlist</th>\n",
              "    </tr>\n",
              "  </thead>\n",
              "  <tbody>\n",
              "    <tr>\n",
              "      <th>0</th>\n",
              "      <td>tt6915008</td>\n",
              "      <td>#1</td>\n",
              "      <td>nm0285330</td>\n",
              "      <td>Forbes Riley</td>\n",
              "      <td>(#1, Forbes Riley)</td>\n",
              "    </tr>\n",
              "    <tr>\n",
              "      <th>1</th>\n",
              "      <td>tt6915008</td>\n",
              "      <td>#1</td>\n",
              "      <td>nm0634760</td>\n",
              "      <td>Peter Noone</td>\n",
              "      <td>(#1, Peter Noone)</td>\n",
              "    </tr>\n",
              "    <tr>\n",
              "      <th>2</th>\n",
              "      <td>tt6915008</td>\n",
              "      <td>#1</td>\n",
              "      <td>nm1643411</td>\n",
              "      <td>Tommy James</td>\n",
              "      <td>(#1, Tommy James)</td>\n",
              "    </tr>\n",
              "    <tr>\n",
              "      <th>3</th>\n",
              "      <td>tt6915008</td>\n",
              "      <td>#1</td>\n",
              "      <td>nm1866067</td>\n",
              "      <td>Scotty Bowman</td>\n",
              "      <td>(#1, Scotty Bowman)</td>\n",
              "    </tr>\n",
              "    <tr>\n",
              "      <th>4</th>\n",
              "      <td>tt2346170</td>\n",
              "      <td>#1 Serial Killer</td>\n",
              "      <td>nm0002245</td>\n",
              "      <td>Tzi Ma</td>\n",
              "      <td>(#1 Serial Killer, Tzi Ma)</td>\n",
              "    </tr>\n",
              "  </tbody>\n",
              "</table>\n",
              "</div>"
            ],
            "text/plain": [
              "      tconst      primaryTitle     nconst    primaryName  \\\n",
              "0  tt6915008                #1  nm0285330   Forbes Riley   \n",
              "1  tt6915008                #1  nm0634760    Peter Noone   \n",
              "2  tt6915008                #1  nm1643411    Tommy James   \n",
              "3  tt6915008                #1  nm1866067  Scotty Bowman   \n",
              "4  tt2346170  #1 Serial Killer  nm0002245         Tzi Ma   \n",
              "\n",
              "               movieactorlist  \n",
              "0          (#1, Forbes Riley)  \n",
              "1           (#1, Peter Noone)  \n",
              "2           (#1, Tommy James)  \n",
              "3         (#1, Scotty Bowman)  \n",
              "4  (#1 Serial Killer, Tzi Ma)  "
            ]
          },
          "execution_count": 33,
          "metadata": {},
          "output_type": "execute_result"
        }
      ],
      "source": [
        "datanew5a.head()"
      ]
    },
    {
      "cell_type": "markdown",
      "id": "972cebba",
      "metadata": {
        "id": "972cebba"
      },
      "source": [
        "For the first netwok for testing, I created a very small network of two actors who share a single working credit in the same movie."
      ]
    },
    {
      "cell_type": "code",
      "execution_count": null,
      "id": "f93d6c21",
      "metadata": {
        "id": "f93d6c21"
      },
      "outputs": [],
      "source": [
        "##filter for two actors and and test if it works"
      ]
    },
    {
      "cell_type": "code",
      "execution_count": null,
      "id": "a78a56f1",
      "metadata": {
        "id": "a78a56f1",
        "outputId": "8894f3f3-97f3-40d1-ab18-6167963acc22"
      },
      "outputs": [
        {
          "data": {
            "text/html": [
              "<div>\n",
              "<style scoped>\n",
              "    .dataframe tbody tr th:only-of-type {\n",
              "        vertical-align: middle;\n",
              "    }\n",
              "\n",
              "    .dataframe tbody tr th {\n",
              "        vertical-align: top;\n",
              "    }\n",
              "\n",
              "    .dataframe thead th {\n",
              "        text-align: right;\n",
              "    }\n",
              "</style>\n",
              "<table border=\"1\" class=\"dataframe\">\n",
              "  <thead>\n",
              "    <tr style=\"text-align: right;\">\n",
              "      <th></th>\n",
              "      <th>tconst</th>\n",
              "      <th>primaryTitle</th>\n",
              "      <th>nconst</th>\n",
              "      <th>primaryName</th>\n",
              "    </tr>\n",
              "  </thead>\n",
              "  <tbody>\n",
              "    <tr>\n",
              "      <th>0</th>\n",
              "      <td>tt6915008</td>\n",
              "      <td>#1</td>\n",
              "      <td>nm0285330</td>\n",
              "      <td>Forbes Riley</td>\n",
              "    </tr>\n",
              "    <tr>\n",
              "      <th>1</th>\n",
              "      <td>tt6915008</td>\n",
              "      <td>#1</td>\n",
              "      <td>nm0634760</td>\n",
              "      <td>Peter Noone</td>\n",
              "    </tr>\n",
              "    <tr>\n",
              "      <th>2</th>\n",
              "      <td>tt6915008</td>\n",
              "      <td>#1</td>\n",
              "      <td>nm1643411</td>\n",
              "      <td>Tommy James</td>\n",
              "    </tr>\n",
              "    <tr>\n",
              "      <th>3</th>\n",
              "      <td>tt6915008</td>\n",
              "      <td>#1</td>\n",
              "      <td>nm1866067</td>\n",
              "      <td>Scotty Bowman</td>\n",
              "    </tr>\n",
              "    <tr>\n",
              "      <th>4</th>\n",
              "      <td>tt2346170</td>\n",
              "      <td>#1 Serial Killer</td>\n",
              "      <td>nm0002245</td>\n",
              "      <td>Tzi Ma</td>\n",
              "    </tr>\n",
              "  </tbody>\n",
              "</table>\n",
              "</div>"
            ],
            "text/plain": [
              "      tconst      primaryTitle     nconst    primaryName\n",
              "0  tt6915008                #1  nm0285330   Forbes Riley\n",
              "1  tt6915008                #1  nm0634760    Peter Noone\n",
              "2  tt6915008                #1  nm1643411    Tommy James\n",
              "3  tt6915008                #1  nm1866067  Scotty Bowman\n",
              "4  tt2346170  #1 Serial Killer  nm0002245         Tzi Ma"
            ]
          },
          "execution_count": 58,
          "metadata": {},
          "output_type": "execute_result"
        }
      ],
      "source": [
        "datanew5b.head()"
      ]
    },
    {
      "cell_type": "code",
      "execution_count": null,
      "id": "a03b001a",
      "metadata": {
        "scrolled": true,
        "id": "a03b001a"
      },
      "outputs": [],
      "source": [
        "datanew6a = datanew5b[datanew5b.primaryName.isin([\"Jemaine Clement\", \"Taika Waititi\"])]"
      ]
    },
    {
      "cell_type": "code",
      "execution_count": null,
      "id": "3a0f23b0",
      "metadata": {
        "id": "3a0f23b0",
        "outputId": "31b99493-a44b-4b0e-b8d3-087cb7ac4552"
      },
      "outputs": [
        {
          "data": {
            "text/html": [
              "<div>\n",
              "<style scoped>\n",
              "    .dataframe tbody tr th:only-of-type {\n",
              "        vertical-align: middle;\n",
              "    }\n",
              "\n",
              "    .dataframe tbody tr th {\n",
              "        vertical-align: top;\n",
              "    }\n",
              "\n",
              "    .dataframe thead th {\n",
              "        text-align: right;\n",
              "    }\n",
              "</style>\n",
              "<table border=\"1\" class=\"dataframe\">\n",
              "  <thead>\n",
              "    <tr style=\"text-align: right;\">\n",
              "      <th></th>\n",
              "      <th>tconst</th>\n",
              "      <th>primaryTitle</th>\n",
              "      <th>nconst</th>\n",
              "      <th>primaryName</th>\n",
              "    </tr>\n",
              "  </thead>\n",
              "  <tbody>\n",
              "    <tr>\n",
              "      <th>98043</th>\n",
              "      <td>tt10303630</td>\n",
              "      <td>An American in Whakataki</td>\n",
              "      <td>nm1318596</td>\n",
              "      <td>Jemaine Clement</td>\n",
              "    </tr>\n",
              "    <tr>\n",
              "      <th>98588</th>\n",
              "      <td>tt6518270</td>\n",
              "      <td>An Evening with Beverly Luff Linn</td>\n",
              "      <td>nm1318596</td>\n",
              "      <td>Jemaine Clement</td>\n",
              "    </tr>\n",
              "    <tr>\n",
              "      <th>139953</th>\n",
              "      <td>tt5637536</td>\n",
              "      <td>Avatar 5</td>\n",
              "      <td>nm1318596</td>\n",
              "      <td>Jemaine Clement</td>\n",
              "    </tr>\n",
              "    <tr>\n",
              "      <th>217917</th>\n",
              "      <td>tt1560139</td>\n",
              "      <td>Boy</td>\n",
              "      <td>nm0169806</td>\n",
              "      <td>Taika Waititi</td>\n",
              "    </tr>\n",
              "    <tr>\n",
              "      <th>416238</th>\n",
              "      <td>tt3534282</td>\n",
              "      <td>Don Verdean</td>\n",
              "      <td>nm1318596</td>\n",
              "      <td>Jemaine Clement</td>\n",
              "    </tr>\n",
              "  </tbody>\n",
              "</table>\n",
              "</div>"
            ],
            "text/plain": [
              "            tconst                       primaryTitle     nconst  \\\n",
              "98043   tt10303630           An American in Whakataki  nm1318596   \n",
              "98588    tt6518270  An Evening with Beverly Luff Linn  nm1318596   \n",
              "139953   tt5637536                           Avatar 5  nm1318596   \n",
              "217917   tt1560139                                Boy  nm0169806   \n",
              "416238   tt3534282                        Don Verdean  nm1318596   \n",
              "\n",
              "            primaryName  \n",
              "98043   Jemaine Clement  \n",
              "98588   Jemaine Clement  \n",
              "139953  Jemaine Clement  \n",
              "217917    Taika Waititi  \n",
              "416238  Jemaine Clement  "
            ]
          },
          "execution_count": 60,
          "metadata": {},
          "output_type": "execute_result"
        }
      ],
      "source": [
        "datanew6a.head()"
      ]
    },
    {
      "cell_type": "code",
      "execution_count": null,
      "id": "5bd2caab",
      "metadata": {
        "id": "5bd2caab",
        "outputId": "6a42160a-794a-47a8-b5e8-a78c27fb68dc"
      },
      "outputs": [
        {
          "name": "stderr",
          "output_type": "stream",
          "text": [
            "C:\\Users\\carla\\AppData\\Local\\Temp\\ipykernel_4896\\2195516999.py:1: SettingWithCopyWarning: \n",
            "A value is trying to be set on a copy of a slice from a DataFrame.\n",
            "Try using .loc[row_indexer,col_indexer] = value instead\n",
            "\n",
            "See the caveats in the documentation: https://pandas.pydata.org/pandas-docs/stable/user_guide/indexing.html#returning-a-view-versus-a-copy\n",
            "  datanew6a['movieactorlist'] = list(zip(datanew6a.primaryTitle, datanew6a.primaryName))\n"
          ]
        },
        {
          "data": {
            "text/html": [
              "<div>\n",
              "<style scoped>\n",
              "    .dataframe tbody tr th:only-of-type {\n",
              "        vertical-align: middle;\n",
              "    }\n",
              "\n",
              "    .dataframe tbody tr th {\n",
              "        vertical-align: top;\n",
              "    }\n",
              "\n",
              "    .dataframe thead th {\n",
              "        text-align: right;\n",
              "    }\n",
              "</style>\n",
              "<table border=\"1\" class=\"dataframe\">\n",
              "  <thead>\n",
              "    <tr style=\"text-align: right;\">\n",
              "      <th></th>\n",
              "      <th>tconst</th>\n",
              "      <th>primaryTitle</th>\n",
              "      <th>nconst</th>\n",
              "      <th>primaryName</th>\n",
              "      <th>movieactorlist</th>\n",
              "    </tr>\n",
              "  </thead>\n",
              "  <tbody>\n",
              "    <tr>\n",
              "      <th>98043</th>\n",
              "      <td>tt10303630</td>\n",
              "      <td>An American in Whakataki</td>\n",
              "      <td>nm1318596</td>\n",
              "      <td>Jemaine Clement</td>\n",
              "      <td>(An American in Whakataki, Jemaine Clement)</td>\n",
              "    </tr>\n",
              "    <tr>\n",
              "      <th>98588</th>\n",
              "      <td>tt6518270</td>\n",
              "      <td>An Evening with Beverly Luff Linn</td>\n",
              "      <td>nm1318596</td>\n",
              "      <td>Jemaine Clement</td>\n",
              "      <td>(An Evening with Beverly Luff Linn, Jemaine Cl...</td>\n",
              "    </tr>\n",
              "    <tr>\n",
              "      <th>139953</th>\n",
              "      <td>tt5637536</td>\n",
              "      <td>Avatar 5</td>\n",
              "      <td>nm1318596</td>\n",
              "      <td>Jemaine Clement</td>\n",
              "      <td>(Avatar 5, Jemaine Clement)</td>\n",
              "    </tr>\n",
              "    <tr>\n",
              "      <th>217917</th>\n",
              "      <td>tt1560139</td>\n",
              "      <td>Boy</td>\n",
              "      <td>nm0169806</td>\n",
              "      <td>Taika Waititi</td>\n",
              "      <td>(Boy, Taika Waititi)</td>\n",
              "    </tr>\n",
              "    <tr>\n",
              "      <th>416238</th>\n",
              "      <td>tt3534282</td>\n",
              "      <td>Don Verdean</td>\n",
              "      <td>nm1318596</td>\n",
              "      <td>Jemaine Clement</td>\n",
              "      <td>(Don Verdean, Jemaine Clement)</td>\n",
              "    </tr>\n",
              "  </tbody>\n",
              "</table>\n",
              "</div>"
            ],
            "text/plain": [
              "            tconst                       primaryTitle     nconst  \\\n",
              "98043   tt10303630           An American in Whakataki  nm1318596   \n",
              "98588    tt6518270  An Evening with Beverly Luff Linn  nm1318596   \n",
              "139953   tt5637536                           Avatar 5  nm1318596   \n",
              "217917   tt1560139                                Boy  nm0169806   \n",
              "416238   tt3534282                        Don Verdean  nm1318596   \n",
              "\n",
              "            primaryName                                     movieactorlist  \n",
              "98043   Jemaine Clement        (An American in Whakataki, Jemaine Clement)  \n",
              "98588   Jemaine Clement  (An Evening with Beverly Luff Linn, Jemaine Cl...  \n",
              "139953  Jemaine Clement                        (Avatar 5, Jemaine Clement)  \n",
              "217917    Taika Waititi                               (Boy, Taika Waititi)  \n",
              "416238  Jemaine Clement                     (Don Verdean, Jemaine Clement)  "
            ]
          },
          "execution_count": 62,
          "metadata": {},
          "output_type": "execute_result"
        }
      ],
      "source": [
        "datanew6a['movieactorlist'] = list(zip(datanew6a.primaryTitle, datanew6a.primaryName))\n",
        "datanew6a.head()"
      ]
    },
    {
      "cell_type": "code",
      "execution_count": null,
      "id": "97b60f73",
      "metadata": {
        "id": "97b60f73"
      },
      "outputs": [],
      "source": [
        "l1, l2 = listcreation(datanew6a)\n",
        "l1,l2"
      ]
    },
    {
      "cell_type": "code",
      "execution_count": null,
      "id": "b132df22",
      "metadata": {
        "id": "b132df22"
      },
      "outputs": [],
      "source": [
        "edgel1l2directed = edgelistdirected(l1, l2)"
      ]
    },
    {
      "cell_type": "code",
      "execution_count": null,
      "id": "7451263a",
      "metadata": {
        "id": "7451263a"
      },
      "outputs": [],
      "source": [
        "edgel1l2directed"
      ]
    },
    {
      "cell_type": "markdown",
      "id": "40bde406",
      "metadata": {
        "id": "40bde406"
      },
      "source": [
        "While each relation is of course bidirectional, I create directed edges because the PageRank algorithm works on directed graphs."
      ]
    },
    {
      "cell_type": "code",
      "execution_count": null,
      "id": "fa01d24d",
      "metadata": {
        "scrolled": true,
        "id": "fa01d24d",
        "outputId": "5ab63ec0-7849-4d5e-cad2-08167c26ccbe"
      },
      "outputs": [
        {
          "data": {
            "image/png": "[encoded data removed]",
            "text/plain": [
              "<Figure size 640x480 with 1 Axes>"
            ]
          },
          "metadata": {},
          "output_type": "display_data"
        }
      ],
      "source": [
        "G1d = nx.DiGraph() #creation of a directed graph\n",
        "G1d.add_nodes_from(datanew6a[\"primaryTitle\"]) #nodes\n",
        "G1d.add_edges_from(edgel1l2directed) #edges\n",
        "nx.draw_networkx(G1d)"
      ]
    },
    {
      "cell_type": "code",
      "execution_count": null,
      "id": "0dce572c",
      "metadata": {
        "id": "0dce572c",
        "outputId": "364ae708-832d-404c-bb01-2e3496bfee81"
      },
      "outputs": [
        {
          "data": {
            "text/plain": [
              "{'An American in Whakataki': 0.045513937404677615,\n",
              " 'An Evening with Beverly Luff Linn': 0.045513937404677615,\n",
              " 'Avatar 5': 0.045513937404677615,\n",
              " 'Boy': 0.03466009967403101,\n",
              " 'Don Verdean': 0.045513937404677615,\n",
              " 'Eagle vs Shark': 0.045513937404677615,\n",
              " 'Free Guy': 0.03466009967403101,\n",
              " 'Frodo Is Great... Who Is That?!!': 0.03466009967403101,\n",
              " 'Gentlemen Broncos': 0.045513937404677615,\n",
              " 'I Used to Go Here': 0.045513937404677615,\n",
              " 'Jojo Rabbit': 0.03466009967403101,\n",
              " 'Lightyear': 0.03466009967403101,\n",
              " 'Men in Black 3': 0.045513937404677615,\n",
              " 'Nude Tuesday': 0.045513937404677615,\n",
              " 'Patrick': 0.045513937404677615,\n",
              " 'People Places Things': 0.045513937404677615,\n",
              " 'Predicament': 0.045513937404677615,\n",
              " 'Rio 2': 0.045513937404677615,\n",
              " 'Scarfies': 0.03466009967403101,\n",
              " 'Seven Stages to Achieve Eternal Bliss': 0.03466009967403101,\n",
              " 'The BFG': 0.045513937404677615,\n",
              " 'Tongan Ninja': 0.045513937404677615,\n",
              " 'What We Do in the Shadows': 0.07467024121161804}"
            ]
          },
          "execution_count": 67,
          "metadata": {},
          "output_type": "execute_result"
        }
      ],
      "source": [
        "pagerank(G1d) #testing with the prebuild pagerank algorithm with Networkx"
      ]
    },
    {
      "cell_type": "code",
      "execution_count": null,
      "id": "dd6fae5b",
      "metadata": {
        "id": "dd6fae5b"
      },
      "outputs": [],
      "source": [
        "nx. write_gexf(G1d, \"test5.gexf\")"
      ]
    },
    {
      "cell_type": "code",
      "execution_count": null,
      "id": "dbb0e327",
      "metadata": {
        "id": "dbb0e327"
      },
      "outputs": [],
      "source": [
        "##not everyone is correctly credited so the graphic won't be perfect, ex: Taika Waititi isn't credited for Thor: Love and Thunder as an actor "
      ]
    },
    {
      "cell_type": "markdown",
      "id": "04509a83",
      "metadata": {
        "id": "04509a83"
      },
      "source": [
        "In order to create a bigger network to test, I now further filter the dataset, restricting the time window to the last 5 years, to 2020 and 2021, and to 2020 only and avoiding title repetition by filtering out movie titles used outside of the US."
      ]
    },
    {
      "cell_type": "code",
      "execution_count": null,
      "id": "380be2dd",
      "metadata": {
        "id": "380be2dd",
        "outputId": "cd301fda-d6a4-4a79-ab04-e202c409822c"
      },
      "outputs": [
        {
          "data": {
            "text/html": [
              "<div>\n",
              "<style scoped>\n",
              "    .dataframe tbody tr th:only-of-type {\n",
              "        vertical-align: middle;\n",
              "    }\n",
              "\n",
              "    .dataframe tbody tr th {\n",
              "        vertical-align: top;\n",
              "    }\n",
              "\n",
              "    .dataframe thead th {\n",
              "        text-align: right;\n",
              "    }\n",
              "</style>\n",
              "<table border=\"1\" class=\"dataframe\">\n",
              "  <thead>\n",
              "    <tr style=\"text-align: right;\">\n",
              "      <th></th>\n",
              "      <th>tconst</th>\n",
              "      <th>primaryTitle</th>\n",
              "      <th>startYear</th>\n",
              "      <th>runtimeMinutes</th>\n",
              "      <th>genres</th>\n",
              "      <th>nconst</th>\n",
              "      <th>primaryName</th>\n",
              "      <th>birthYear</th>\n",
              "      <th>deathYear</th>\n",
              "      <th>primaryProfession</th>\n",
              "      <th>ordering</th>\n",
              "      <th>category</th>\n",
              "      <th>characters</th>\n",
              "      <th>freq</th>\n",
              "    </tr>\n",
              "  </thead>\n",
              "  <tbody>\n",
              "    <tr>\n",
              "      <th>0</th>\n",
              "      <td>tt6915008</td>\n",
              "      <td>#1</td>\n",
              "      <td>\\N</td>\n",
              "      <td>\\N</td>\n",
              "      <td>Documentary</td>\n",
              "      <td>nm0285330</td>\n",
              "      <td>Forbes Riley</td>\n",
              "      <td>1960</td>\n",
              "      <td>\\N</td>\n",
              "      <td>actress,producer</td>\n",
              "      <td>2</td>\n",
              "      <td>actress</td>\n",
              "      <td>\\N</td>\n",
              "      <td>6</td>\n",
              "    </tr>\n",
              "    <tr>\n",
              "      <th>1</th>\n",
              "      <td>tt6915008</td>\n",
              "      <td>#1</td>\n",
              "      <td>\\N</td>\n",
              "      <td>\\N</td>\n",
              "      <td>Documentary</td>\n",
              "      <td>nm0634760</td>\n",
              "      <td>Peter Noone</td>\n",
              "      <td>1947</td>\n",
              "      <td>\\N</td>\n",
              "      <td>actor,soundtrack</td>\n",
              "      <td>1</td>\n",
              "      <td>actor</td>\n",
              "      <td>\\N</td>\n",
              "      <td>6</td>\n",
              "    </tr>\n",
              "    <tr>\n",
              "      <th>2</th>\n",
              "      <td>tt6915008</td>\n",
              "      <td>#1</td>\n",
              "      <td>\\N</td>\n",
              "      <td>\\N</td>\n",
              "      <td>Documentary</td>\n",
              "      <td>nm1643411</td>\n",
              "      <td>Tommy James</td>\n",
              "      <td>1947</td>\n",
              "      <td>\\N</td>\n",
              "      <td>soundtrack,composer</td>\n",
              "      <td>5</td>\n",
              "      <td>actor</td>\n",
              "      <td>\\N</td>\n",
              "      <td>2</td>\n",
              "    </tr>\n",
              "    <tr>\n",
              "      <th>3</th>\n",
              "      <td>tt6915008</td>\n",
              "      <td>#1</td>\n",
              "      <td>\\N</td>\n",
              "      <td>\\N</td>\n",
              "      <td>Documentary</td>\n",
              "      <td>nm1866067</td>\n",
              "      <td>Scotty Bowman</td>\n",
              "      <td>1933</td>\n",
              "      <td>\\N</td>\n",
              "      <td>actor</td>\n",
              "      <td>6</td>\n",
              "      <td>actor</td>\n",
              "      <td>\\N</td>\n",
              "      <td>2</td>\n",
              "    </tr>\n",
              "    <tr>\n",
              "      <th>4</th>\n",
              "      <td>tt2346170</td>\n",
              "      <td>#1 Serial Killer</td>\n",
              "      <td>2013</td>\n",
              "      <td>87</td>\n",
              "      <td>Horror</td>\n",
              "      <td>nm0002245</td>\n",
              "      <td>Tzi Ma</td>\n",
              "      <td>\\N</td>\n",
              "      <td>\\N</td>\n",
              "      <td>actor,producer</td>\n",
              "      <td>3</td>\n",
              "      <td>actor</td>\n",
              "      <td>[\"Mr. Chang\"]</td>\n",
              "      <td>15</td>\n",
              "    </tr>\n",
              "  </tbody>\n",
              "</table>\n",
              "</div>"
            ],
            "text/plain": [
              "      tconst      primaryTitle startYear runtimeMinutes       genres  \\\n",
              "0  tt6915008                #1        \\N             \\N  Documentary   \n",
              "1  tt6915008                #1        \\N             \\N  Documentary   \n",
              "2  tt6915008                #1        \\N             \\N  Documentary   \n",
              "3  tt6915008                #1        \\N             \\N  Documentary   \n",
              "4  tt2346170  #1 Serial Killer      2013             87       Horror   \n",
              "\n",
              "      nconst    primaryName birthYear deathYear    primaryProfession  \\\n",
              "0  nm0285330   Forbes Riley      1960        \\N     actress,producer   \n",
              "1  nm0634760    Peter Noone      1947        \\N     actor,soundtrack   \n",
              "2  nm1643411    Tommy James      1947        \\N  soundtrack,composer   \n",
              "3  nm1866067  Scotty Bowman      1933        \\N                actor   \n",
              "4  nm0002245         Tzi Ma        \\N        \\N       actor,producer   \n",
              "\n",
              "   ordering category     characters  freq  \n",
              "0         2  actress             \\N     6  \n",
              "1         1    actor             \\N     6  \n",
              "2         5    actor             \\N     2  \n",
              "3         6    actor             \\N     2  \n",
              "4         3    actor  [\"Mr. Chang\"]    15  "
            ]
          },
          "execution_count": 3,
          "metadata": {},
          "output_type": "execute_result"
        }
      ],
      "source": [
        "datatoprep2 = datanew5  #originally I reuploaded a saved file here\n",
        "datatoprep2.head()"
      ]
    },
    {
      "cell_type": "code",
      "execution_count": null,
      "id": "632b0c2e",
      "metadata": {
        "id": "632b0c2e"
      },
      "outputs": [],
      "source": [
        "datatoprep3= datatoprep2.dropna(subset=['startYear'])\n",
        "datatoprep3a= datatoprep3[(datatoprep3[\"startYear\"] != \"\\\\N\")]\n",
        "datatoprep3b= datatoprep3a[(datatoprep3a[\"startYear\"] >= \"1992\")]"
      ]
    },
    {
      "cell_type": "code",
      "execution_count": null,
      "id": "e8eae65f",
      "metadata": {
        "scrolled": true,
        "id": "e8eae65f",
        "outputId": "1186133e-1056-46e6-e400-97896952f9a7"
      },
      "outputs": [
        {
          "data": {
            "text/html": [
              "<div>\n",
              "<style scoped>\n",
              "    .dataframe tbody tr th:only-of-type {\n",
              "        vertical-align: middle;\n",
              "    }\n",
              "\n",
              "    .dataframe tbody tr th {\n",
              "        vertical-align: top;\n",
              "    }\n",
              "\n",
              "    .dataframe thead th {\n",
              "        text-align: right;\n",
              "    }\n",
              "</style>\n",
              "<table border=\"1\" class=\"dataframe\">\n",
              "  <thead>\n",
              "    <tr style=\"text-align: right;\">\n",
              "      <th></th>\n",
              "      <th>tconst</th>\n",
              "      <th>primaryTitle</th>\n",
              "      <th>startYear</th>\n",
              "      <th>runtimeMinutes</th>\n",
              "      <th>genres</th>\n",
              "      <th>nconst</th>\n",
              "      <th>primaryName</th>\n",
              "      <th>birthYear</th>\n",
              "      <th>deathYear</th>\n",
              "      <th>primaryProfession</th>\n",
              "      <th>ordering</th>\n",
              "      <th>category</th>\n",
              "      <th>characters</th>\n",
              "      <th>freq</th>\n",
              "    </tr>\n",
              "  </thead>\n",
              "  <tbody>\n",
              "    <tr>\n",
              "      <th>4</th>\n",
              "      <td>tt2346170</td>\n",
              "      <td>#1 Serial Killer</td>\n",
              "      <td>2013</td>\n",
              "      <td>87</td>\n",
              "      <td>Horror</td>\n",
              "      <td>nm0002245</td>\n",
              "      <td>Tzi Ma</td>\n",
              "      <td>\\N</td>\n",
              "      <td>\\N</td>\n",
              "      <td>actor,producer</td>\n",
              "      <td>3</td>\n",
              "      <td>actor</td>\n",
              "      <td>[\"Mr. Chang\"]</td>\n",
              "      <td>15</td>\n",
              "    </tr>\n",
              "    <tr>\n",
              "      <th>5</th>\n",
              "      <td>tt2346170</td>\n",
              "      <td>#1 Serial Killer</td>\n",
              "      <td>2013</td>\n",
              "      <td>87</td>\n",
              "      <td>Horror</td>\n",
              "      <td>nm2104193</td>\n",
              "      <td>Shoshana Bush</td>\n",
              "      <td>1988</td>\n",
              "      <td>\\N</td>\n",
              "      <td>actress,director,writer</td>\n",
              "      <td>4</td>\n",
              "      <td>actress</td>\n",
              "      <td>[\"Tricia Arnold\"]</td>\n",
              "      <td>7</td>\n",
              "    </tr>\n",
              "    <tr>\n",
              "      <th>6</th>\n",
              "      <td>tt2346170</td>\n",
              "      <td>#1 Serial Killer</td>\n",
              "      <td>2013</td>\n",
              "      <td>87</td>\n",
              "      <td>Horror</td>\n",
              "      <td>nm0864937</td>\n",
              "      <td>Jason Tobin</td>\n",
              "      <td>\\N</td>\n",
              "      <td>\\N</td>\n",
              "      <td>actor,director,writer</td>\n",
              "      <td>1</td>\n",
              "      <td>actor</td>\n",
              "      <td>[\"Eddy Tsai\"]</td>\n",
              "      <td>7</td>\n",
              "    </tr>\n",
              "    <tr>\n",
              "      <th>7</th>\n",
              "      <td>tt2346170</td>\n",
              "      <td>#1 Serial Killer</td>\n",
              "      <td>2013</td>\n",
              "      <td>87</td>\n",
              "      <td>Horror</td>\n",
              "      <td>nm1067699</td>\n",
              "      <td>Eugenia Yuan</td>\n",
              "      <td>1976</td>\n",
              "      <td>\\N</td>\n",
              "      <td>actress,miscellaneous,sound_department</td>\n",
              "      <td>2</td>\n",
              "      <td>actress</td>\n",
              "      <td>[\"Karena Lee\"]</td>\n",
              "      <td>12</td>\n",
              "    </tr>\n",
              "    <tr>\n",
              "      <th>8</th>\n",
              "      <td>tt21982418</td>\n",
              "      <td>#4 Mangifera</td>\n",
              "      <td>2022</td>\n",
              "      <td>52</td>\n",
              "      <td>Biography,Documentary,Drama</td>\n",
              "      <td>nm1411240</td>\n",
              "      <td>Flávia Gusmão</td>\n",
              "      <td>1978</td>\n",
              "      <td>\\N</td>\n",
              "      <td>miscellaneous,actress,producer</td>\n",
              "      <td>1</td>\n",
              "      <td>actress</td>\n",
              "      <td>[\"(Self)\"]</td>\n",
              "      <td>6</td>\n",
              "    </tr>\n",
              "  </tbody>\n",
              "</table>\n",
              "</div>"
            ],
            "text/plain": [
              "       tconst      primaryTitle startYear runtimeMinutes  \\\n",
              "4   tt2346170  #1 Serial Killer      2013             87   \n",
              "5   tt2346170  #1 Serial Killer      2013             87   \n",
              "6   tt2346170  #1 Serial Killer      2013             87   \n",
              "7   tt2346170  #1 Serial Killer      2013             87   \n",
              "8  tt21982418      #4 Mangifera      2022             52   \n",
              "\n",
              "                        genres     nconst    primaryName birthYear deathYear  \\\n",
              "4                       Horror  nm0002245         Tzi Ma        \\N        \\N   \n",
              "5                       Horror  nm2104193  Shoshana Bush      1988        \\N   \n",
              "6                       Horror  nm0864937    Jason Tobin        \\N        \\N   \n",
              "7                       Horror  nm1067699   Eugenia Yuan      1976        \\N   \n",
              "8  Biography,Documentary,Drama  nm1411240  Flávia Gusmão      1978        \\N   \n",
              "\n",
              "                        primaryProfession  ordering category  \\\n",
              "4                          actor,producer         3    actor   \n",
              "5                 actress,director,writer         4  actress   \n",
              "6                   actor,director,writer         1    actor   \n",
              "7  actress,miscellaneous,sound_department         2  actress   \n",
              "8          miscellaneous,actress,producer         1  actress   \n",
              "\n",
              "          characters  freq  \n",
              "4      [\"Mr. Chang\"]    15  \n",
              "5  [\"Tricia Arnold\"]     7  \n",
              "6      [\"Eddy Tsai\"]     7  \n",
              "7     [\"Karena Lee\"]    12  \n",
              "8         [\"(Self)\"]     6  "
            ]
          },
          "execution_count": 5,
          "metadata": {},
          "output_type": "execute_result"
        }
      ],
      "source": [
        "datatoprep3b.head()"
      ]
    },
    {
      "cell_type": "code",
      "execution_count": null,
      "id": "c0b9c4df",
      "metadata": {
        "id": "c0b9c4df",
        "outputId": "293505ca-9fce-4ac6-ce1e-ff9ba8d7b604"
      },
      "outputs": [
        {
          "data": {
            "text/plain": [
              "(809321, 14)"
            ]
          },
          "execution_count": 6,
          "metadata": {},
          "output_type": "execute_result"
        }
      ],
      "source": [
        "datatoprep3b.shape"
      ]
    },
    {
      "cell_type": "code",
      "execution_count": null,
      "id": "c6125995",
      "metadata": {
        "id": "c6125995",
        "outputId": "64735a24-1d7d-4c14-a81c-98c5125dcd1c"
      },
      "outputs": [
        {
          "name": "stderr",
          "output_type": "stream",
          "text": [
            "C:\\Users\\carla\\AppData\\Local\\Temp\\ipykernel_12520\\1821293280.py:1: SettingWithCopyWarning: \n",
            "A value is trying to be set on a copy of a slice from a DataFrame.\n",
            "Try using .loc[row_indexer,col_indexer] = value instead\n",
            "\n",
            "See the caveats in the documentation: https://pandas.pydata.org/pandas-docs/stable/user_guide/indexing.html#returning-a-view-versus-a-copy\n",
            "  datatoprep3b.loc[datatoprep3b['genres'].str.contains('documentary', case=False), 'isdocu'] = 'docu'\n"
          ]
        }
      ],
      "source": [
        "datatoprep3b.loc[datatoprep3b['genres'].str.contains('documentary', case=False), 'isdocu'] = 'docu' "
      ]
    },
    {
      "cell_type": "code",
      "execution_count": null,
      "id": "b7e4b06d",
      "metadata": {
        "id": "b7e4b06d",
        "outputId": "762e49fa-78b8-4870-f883-42f6f9707be8"
      },
      "outputs": [
        {
          "data": {
            "text/html": [
              "<div>\n",
              "<style scoped>\n",
              "    .dataframe tbody tr th:only-of-type {\n",
              "        vertical-align: middle;\n",
              "    }\n",
              "\n",
              "    .dataframe tbody tr th {\n",
              "        vertical-align: top;\n",
              "    }\n",
              "\n",
              "    .dataframe thead th {\n",
              "        text-align: right;\n",
              "    }\n",
              "</style>\n",
              "<table border=\"1\" class=\"dataframe\">\n",
              "  <thead>\n",
              "    <tr style=\"text-align: right;\">\n",
              "      <th></th>\n",
              "      <th>tconst</th>\n",
              "      <th>primaryTitle</th>\n",
              "      <th>startYear</th>\n",
              "      <th>runtimeMinutes</th>\n",
              "      <th>genres</th>\n",
              "      <th>nconst</th>\n",
              "      <th>primaryName</th>\n",
              "      <th>birthYear</th>\n",
              "      <th>deathYear</th>\n",
              "      <th>primaryProfession</th>\n",
              "      <th>ordering</th>\n",
              "      <th>category</th>\n",
              "      <th>characters</th>\n",
              "      <th>freq</th>\n",
              "      <th>isdocu</th>\n",
              "    </tr>\n",
              "  </thead>\n",
              "  <tbody>\n",
              "    <tr>\n",
              "      <th>4</th>\n",
              "      <td>tt2346170</td>\n",
              "      <td>#1 Serial Killer</td>\n",
              "      <td>2013</td>\n",
              "      <td>87</td>\n",
              "      <td>Horror</td>\n",
              "      <td>nm0002245</td>\n",
              "      <td>Tzi Ma</td>\n",
              "      <td>\\N</td>\n",
              "      <td>\\N</td>\n",
              "      <td>actor,producer</td>\n",
              "      <td>3</td>\n",
              "      <td>actor</td>\n",
              "      <td>[\"Mr. Chang\"]</td>\n",
              "      <td>15</td>\n",
              "      <td>NaN</td>\n",
              "    </tr>\n",
              "    <tr>\n",
              "      <th>5</th>\n",
              "      <td>tt2346170</td>\n",
              "      <td>#1 Serial Killer</td>\n",
              "      <td>2013</td>\n",
              "      <td>87</td>\n",
              "      <td>Horror</td>\n",
              "      <td>nm2104193</td>\n",
              "      <td>Shoshana Bush</td>\n",
              "      <td>1988</td>\n",
              "      <td>\\N</td>\n",
              "      <td>actress,director,writer</td>\n",
              "      <td>4</td>\n",
              "      <td>actress</td>\n",
              "      <td>[\"Tricia Arnold\"]</td>\n",
              "      <td>7</td>\n",
              "      <td>NaN</td>\n",
              "    </tr>\n",
              "    <tr>\n",
              "      <th>6</th>\n",
              "      <td>tt2346170</td>\n",
              "      <td>#1 Serial Killer</td>\n",
              "      <td>2013</td>\n",
              "      <td>87</td>\n",
              "      <td>Horror</td>\n",
              "      <td>nm0864937</td>\n",
              "      <td>Jason Tobin</td>\n",
              "      <td>\\N</td>\n",
              "      <td>\\N</td>\n",
              "      <td>actor,director,writer</td>\n",
              "      <td>1</td>\n",
              "      <td>actor</td>\n",
              "      <td>[\"Eddy Tsai\"]</td>\n",
              "      <td>7</td>\n",
              "      <td>NaN</td>\n",
              "    </tr>\n",
              "    <tr>\n",
              "      <th>7</th>\n",
              "      <td>tt2346170</td>\n",
              "      <td>#1 Serial Killer</td>\n",
              "      <td>2013</td>\n",
              "      <td>87</td>\n",
              "      <td>Horror</td>\n",
              "      <td>nm1067699</td>\n",
              "      <td>Eugenia Yuan</td>\n",
              "      <td>1976</td>\n",
              "      <td>\\N</td>\n",
              "      <td>actress,miscellaneous,sound_department</td>\n",
              "      <td>2</td>\n",
              "      <td>actress</td>\n",
              "      <td>[\"Karena Lee\"]</td>\n",
              "      <td>12</td>\n",
              "      <td>NaN</td>\n",
              "    </tr>\n",
              "    <tr>\n",
              "      <th>8</th>\n",
              "      <td>tt21982418</td>\n",
              "      <td>#4 Mangifera</td>\n",
              "      <td>2022</td>\n",
              "      <td>52</td>\n",
              "      <td>Biography,Documentary,Drama</td>\n",
              "      <td>nm1411240</td>\n",
              "      <td>Flávia Gusmão</td>\n",
              "      <td>1978</td>\n",
              "      <td>\\N</td>\n",
              "      <td>miscellaneous,actress,producer</td>\n",
              "      <td>1</td>\n",
              "      <td>actress</td>\n",
              "      <td>[\"(Self)\"]</td>\n",
              "      <td>6</td>\n",
              "      <td>docu</td>\n",
              "    </tr>\n",
              "  </tbody>\n",
              "</table>\n",
              "</div>"
            ],
            "text/plain": [
              "       tconst      primaryTitle startYear runtimeMinutes  \\\n",
              "4   tt2346170  #1 Serial Killer      2013             87   \n",
              "5   tt2346170  #1 Serial Killer      2013             87   \n",
              "6   tt2346170  #1 Serial Killer      2013             87   \n",
              "7   tt2346170  #1 Serial Killer      2013             87   \n",
              "8  tt21982418      #4 Mangifera      2022             52   \n",
              "\n",
              "                        genres     nconst    primaryName birthYear deathYear  \\\n",
              "4                       Horror  nm0002245         Tzi Ma        \\N        \\N   \n",
              "5                       Horror  nm2104193  Shoshana Bush      1988        \\N   \n",
              "6                       Horror  nm0864937    Jason Tobin        \\N        \\N   \n",
              "7                       Horror  nm1067699   Eugenia Yuan      1976        \\N   \n",
              "8  Biography,Documentary,Drama  nm1411240  Flávia Gusmão      1978        \\N   \n",
              "\n",
              "                        primaryProfession  ordering category  \\\n",
              "4                          actor,producer         3    actor   \n",
              "5                 actress,director,writer         4  actress   \n",
              "6                   actor,director,writer         1    actor   \n",
              "7  actress,miscellaneous,sound_department         2  actress   \n",
              "8          miscellaneous,actress,producer         1  actress   \n",
              "\n",
              "          characters  freq isdocu  \n",
              "4      [\"Mr. Chang\"]    15    NaN  \n",
              "5  [\"Tricia Arnold\"]     7    NaN  \n",
              "6      [\"Eddy Tsai\"]     7    NaN  \n",
              "7     [\"Karena Lee\"]    12    NaN  \n",
              "8         [\"(Self)\"]     6   docu  "
            ]
          },
          "execution_count": 8,
          "metadata": {},
          "output_type": "execute_result"
        }
      ],
      "source": [
        "datatoprep3b.head()"
      ]
    },
    {
      "cell_type": "code",
      "execution_count": null,
      "id": "ca2f6305",
      "metadata": {
        "id": "ca2f6305"
      },
      "outputs": [],
      "source": [
        "datatoprep3c= datatoprep3b[(datatoprep3b[\"isdocu\"] != \"docu\")] #filter out most documentaries"
      ]
    },
    {
      "cell_type": "code",
      "execution_count": null,
      "id": "f923964a",
      "metadata": {
        "id": "f923964a",
        "outputId": "24327347-fa76-48aa-847c-2cd55269f3a6"
      },
      "outputs": [
        {
          "data": {
            "text/plain": [
              "(781581, 15)"
            ]
          },
          "execution_count": 10,
          "metadata": {},
          "output_type": "execute_result"
        }
      ],
      "source": [
        "datatoprep3c.shape"
      ]
    },
    {
      "cell_type": "code",
      "source": [
        "filelang = ('title.akas.tsv/data.tsv')\n",
        "datalang = pd.read_csv(filelang, sep='\\t')"
      ],
      "metadata": {
        "id": "wVYBqhkXUM98"
      },
      "id": "wVYBqhkXUM98",
      "execution_count": null,
      "outputs": []
    },
    {
      "cell_type": "code",
      "execution_count": null,
      "id": "6f3b5d02",
      "metadata": {
        "id": "6f3b5d02",
        "outputId": "a5c8dac7-3f78-4df9-e85b-a1d3721fbbef"
      },
      "outputs": [
        {
          "name": "stderr",
          "output_type": "stream",
          "text": [
            "C:\\Users\\carla\\AppData\\Local\\Temp\\ipykernel_4896\\101735126.py:1: DtypeWarning: Columns (7) have mixed types. Specify dtype option on import or set low_memory=False.\n",
            "  datalang=pd.read_csv(\"C:/Users/carla/Downloads/archivio/title.akas.tsv/data.tsv\", sep='\\t')\n"
          ]
        },
        {
          "data": {
            "text/html": [
              "<div>\n",
              "<style scoped>\n",
              "    .dataframe tbody tr th:only-of-type {\n",
              "        vertical-align: middle;\n",
              "    }\n",
              "\n",
              "    .dataframe tbody tr th {\n",
              "        vertical-align: top;\n",
              "    }\n",
              "\n",
              "    .dataframe thead th {\n",
              "        text-align: right;\n",
              "    }\n",
              "</style>\n",
              "<table border=\"1\" class=\"dataframe\">\n",
              "  <thead>\n",
              "    <tr style=\"text-align: right;\">\n",
              "      <th></th>\n",
              "      <th>titleId</th>\n",
              "      <th>ordering</th>\n",
              "      <th>title</th>\n",
              "      <th>region</th>\n",
              "      <th>language</th>\n",
              "      <th>types</th>\n",
              "      <th>attributes</th>\n",
              "      <th>isOriginalTitle</th>\n",
              "    </tr>\n",
              "  </thead>\n",
              "  <tbody>\n",
              "    <tr>\n",
              "      <th>0</th>\n",
              "      <td>tt0000001</td>\n",
              "      <td>1</td>\n",
              "      <td>Карменсіта</td>\n",
              "      <td>UA</td>\n",
              "      <td>\\N</td>\n",
              "      <td>imdbDisplay</td>\n",
              "      <td>\\N</td>\n",
              "      <td>0</td>\n",
              "    </tr>\n",
              "    <tr>\n",
              "      <th>1</th>\n",
              "      <td>tt0000001</td>\n",
              "      <td>2</td>\n",
              "      <td>Carmencita</td>\n",
              "      <td>DE</td>\n",
              "      <td>\\N</td>\n",
              "      <td>\\N</td>\n",
              "      <td>literal title</td>\n",
              "      <td>0</td>\n",
              "    </tr>\n",
              "    <tr>\n",
              "      <th>2</th>\n",
              "      <td>tt0000001</td>\n",
              "      <td>3</td>\n",
              "      <td>Carmencita - spanyol tánc</td>\n",
              "      <td>HU</td>\n",
              "      <td>\\N</td>\n",
              "      <td>imdbDisplay</td>\n",
              "      <td>\\N</td>\n",
              "      <td>0</td>\n",
              "    </tr>\n",
              "    <tr>\n",
              "      <th>3</th>\n",
              "      <td>tt0000001</td>\n",
              "      <td>4</td>\n",
              "      <td>Καρμενσίτα</td>\n",
              "      <td>GR</td>\n",
              "      <td>\\N</td>\n",
              "      <td>imdbDisplay</td>\n",
              "      <td>\\N</td>\n",
              "      <td>0</td>\n",
              "    </tr>\n",
              "    <tr>\n",
              "      <th>4</th>\n",
              "      <td>tt0000001</td>\n",
              "      <td>5</td>\n",
              "      <td>Карменсита</td>\n",
              "      <td>RU</td>\n",
              "      <td>\\N</td>\n",
              "      <td>imdbDisplay</td>\n",
              "      <td>\\N</td>\n",
              "      <td>0</td>\n",
              "    </tr>\n",
              "  </tbody>\n",
              "</table>\n",
              "</div>"
            ],
            "text/plain": [
              "     titleId  ordering                      title region language  \\\n",
              "0  tt0000001         1                 Карменсіта     UA       \\N   \n",
              "1  tt0000001         2                 Carmencita     DE       \\N   \n",
              "2  tt0000001         3  Carmencita - spanyol tánc     HU       \\N   \n",
              "3  tt0000001         4                 Καρμενσίτα     GR       \\N   \n",
              "4  tt0000001         5                 Карменсита     RU       \\N   \n",
              "\n",
              "         types     attributes isOriginalTitle  \n",
              "0  imdbDisplay             \\N               0  \n",
              "1           \\N  literal title               0  \n",
              "2  imdbDisplay             \\N               0  \n",
              "3  imdbDisplay             \\N               0  \n",
              "4  imdbDisplay             \\N               0  "
            ]
          },
          "execution_count": 84,
          "metadata": {},
          "output_type": "execute_result"
        }
      ],
      "source": [
        "\n",
        "datalang.head()"
      ]
    },
    {
      "cell_type": "code",
      "execution_count": null,
      "id": "72ad2515",
      "metadata": {
        "id": "72ad2515"
      },
      "outputs": [],
      "source": [
        "#needed to filter out titles for international release"
      ]
    },
    {
      "cell_type": "code",
      "execution_count": null,
      "id": "b07def41",
      "metadata": {
        "id": "b07def41"
      },
      "outputs": [],
      "source": [
        "datalang = datalang.rename(columns={\"titleId\": \"tconst\"}, errors=\"raise\")"
      ]
    },
    {
      "cell_type": "code",
      "execution_count": null,
      "id": "74cc9d91",
      "metadata": {
        "id": "74cc9d91"
      },
      "outputs": [],
      "source": [
        "datatoprep3d = pd.merge(left=datatoprep3c, right=datalang, on='tconst')"
      ]
    },
    {
      "cell_type": "code",
      "execution_count": null,
      "id": "2aa5df0b",
      "metadata": {
        "id": "2aa5df0b",
        "outputId": "4fa1c0af-ac6f-4c46-8de1-f11f4dd13cc0"
      },
      "outputs": [
        {
          "data": {
            "text/html": [
              "<div>\n",
              "<style scoped>\n",
              "    .dataframe tbody tr th:only-of-type {\n",
              "        vertical-align: middle;\n",
              "    }\n",
              "\n",
              "    .dataframe tbody tr th {\n",
              "        vertical-align: top;\n",
              "    }\n",
              "\n",
              "    .dataframe thead th {\n",
              "        text-align: right;\n",
              "    }\n",
              "</style>\n",
              "<table border=\"1\" class=\"dataframe\">\n",
              "  <thead>\n",
              "    <tr style=\"text-align: right;\">\n",
              "      <th></th>\n",
              "      <th>tconst</th>\n",
              "      <th>primaryTitle</th>\n",
              "      <th>startYear</th>\n",
              "      <th>runtimeMinutes</th>\n",
              "      <th>genres</th>\n",
              "      <th>nconst</th>\n",
              "      <th>primaryName</th>\n",
              "      <th>birthYear</th>\n",
              "      <th>deathYear</th>\n",
              "      <th>primaryProfession</th>\n",
              "      <th>...</th>\n",
              "      <th>category</th>\n",
              "      <th>characters</th>\n",
              "      <th>freq</th>\n",
              "      <th>ordering_y</th>\n",
              "      <th>title</th>\n",
              "      <th>region</th>\n",
              "      <th>language</th>\n",
              "      <th>types</th>\n",
              "      <th>attributes</th>\n",
              "      <th>isOriginalTitle</th>\n",
              "    </tr>\n",
              "  </thead>\n",
              "  <tbody>\n",
              "    <tr>\n",
              "      <th>0</th>\n",
              "      <td>tt2346170</td>\n",
              "      <td>#1 Serial Killer</td>\n",
              "      <td>2013</td>\n",
              "      <td>87</td>\n",
              "      <td>Horror</td>\n",
              "      <td>nm0002245</td>\n",
              "      <td>Tzi Ma</td>\n",
              "      <td>\\N</td>\n",
              "      <td>\\N</td>\n",
              "      <td>actor,producer</td>\n",
              "      <td>...</td>\n",
              "      <td>actor</td>\n",
              "      <td>[\"Mr. Chang\"]</td>\n",
              "      <td>15</td>\n",
              "      <td>1</td>\n",
              "      <td>Chink</td>\n",
              "      <td>\\N</td>\n",
              "      <td>\\N</td>\n",
              "      <td>working</td>\n",
              "      <td>\\N</td>\n",
              "      <td>0</td>\n",
              "    </tr>\n",
              "    <tr>\n",
              "      <th>1</th>\n",
              "      <td>tt2346170</td>\n",
              "      <td>#1 Serial Killer</td>\n",
              "      <td>2013</td>\n",
              "      <td>87</td>\n",
              "      <td>Horror</td>\n",
              "      <td>nm0002245</td>\n",
              "      <td>Tzi Ma</td>\n",
              "      <td>\\N</td>\n",
              "      <td>\\N</td>\n",
              "      <td>actor,producer</td>\n",
              "      <td>...</td>\n",
              "      <td>actor</td>\n",
              "      <td>[\"Mr. Chang\"]</td>\n",
              "      <td>15</td>\n",
              "      <td>2</td>\n",
              "      <td>#1 Serial Killer</td>\n",
              "      <td>\\N</td>\n",
              "      <td>\\N</td>\n",
              "      <td>original</td>\n",
              "      <td>\\N</td>\n",
              "      <td>1</td>\n",
              "    </tr>\n",
              "    <tr>\n",
              "      <th>2</th>\n",
              "      <td>tt2346170</td>\n",
              "      <td>#1 Serial Killer</td>\n",
              "      <td>2013</td>\n",
              "      <td>87</td>\n",
              "      <td>Horror</td>\n",
              "      <td>nm0002245</td>\n",
              "      <td>Tzi Ma</td>\n",
              "      <td>\\N</td>\n",
              "      <td>\\N</td>\n",
              "      <td>actor,producer</td>\n",
              "      <td>...</td>\n",
              "      <td>actor</td>\n",
              "      <td>[\"Mr. Chang\"]</td>\n",
              "      <td>15</td>\n",
              "      <td>3</td>\n",
              "      <td>#1 Serial Killer</td>\n",
              "      <td>US</td>\n",
              "      <td>\\N</td>\n",
              "      <td>imdbDisplay</td>\n",
              "      <td>\\N</td>\n",
              "      <td>0</td>\n",
              "    </tr>\n",
              "    <tr>\n",
              "      <th>3</th>\n",
              "      <td>tt2346170</td>\n",
              "      <td>#1 Serial Killer</td>\n",
              "      <td>2013</td>\n",
              "      <td>87</td>\n",
              "      <td>Horror</td>\n",
              "      <td>nm2104193</td>\n",
              "      <td>Shoshana Bush</td>\n",
              "      <td>1988</td>\n",
              "      <td>\\N</td>\n",
              "      <td>actress,director,writer</td>\n",
              "      <td>...</td>\n",
              "      <td>actress</td>\n",
              "      <td>[\"Tricia Arnold\"]</td>\n",
              "      <td>7</td>\n",
              "      <td>1</td>\n",
              "      <td>Chink</td>\n",
              "      <td>\\N</td>\n",
              "      <td>\\N</td>\n",
              "      <td>working</td>\n",
              "      <td>\\N</td>\n",
              "      <td>0</td>\n",
              "    </tr>\n",
              "    <tr>\n",
              "      <th>4</th>\n",
              "      <td>tt2346170</td>\n",
              "      <td>#1 Serial Killer</td>\n",
              "      <td>2013</td>\n",
              "      <td>87</td>\n",
              "      <td>Horror</td>\n",
              "      <td>nm2104193</td>\n",
              "      <td>Shoshana Bush</td>\n",
              "      <td>1988</td>\n",
              "      <td>\\N</td>\n",
              "      <td>actress,director,writer</td>\n",
              "      <td>...</td>\n",
              "      <td>actress</td>\n",
              "      <td>[\"Tricia Arnold\"]</td>\n",
              "      <td>7</td>\n",
              "      <td>2</td>\n",
              "      <td>#1 Serial Killer</td>\n",
              "      <td>\\N</td>\n",
              "      <td>\\N</td>\n",
              "      <td>original</td>\n",
              "      <td>\\N</td>\n",
              "      <td>1</td>\n",
              "    </tr>\n",
              "  </tbody>\n",
              "</table>\n",
              "<p>5 rows × 21 columns</p>\n",
              "</div>"
            ],
            "text/plain": [
              "      tconst      primaryTitle startYear runtimeMinutes  genres     nconst  \\\n",
              "0  tt2346170  #1 Serial Killer      2013             87  Horror  nm0002245   \n",
              "1  tt2346170  #1 Serial Killer      2013             87  Horror  nm0002245   \n",
              "2  tt2346170  #1 Serial Killer      2013             87  Horror  nm0002245   \n",
              "3  tt2346170  #1 Serial Killer      2013             87  Horror  nm2104193   \n",
              "4  tt2346170  #1 Serial Killer      2013             87  Horror  nm2104193   \n",
              "\n",
              "     primaryName birthYear deathYear        primaryProfession  ...  category  \\\n",
              "0         Tzi Ma        \\N        \\N           actor,producer  ...     actor   \n",
              "1         Tzi Ma        \\N        \\N           actor,producer  ...     actor   \n",
              "2         Tzi Ma        \\N        \\N           actor,producer  ...     actor   \n",
              "3  Shoshana Bush      1988        \\N  actress,director,writer  ...   actress   \n",
              "4  Shoshana Bush      1988        \\N  actress,director,writer  ...   actress   \n",
              "\n",
              "          characters freq  ordering_y             title region language  \\\n",
              "0      [\"Mr. Chang\"]   15           1             Chink     \\N       \\N   \n",
              "1      [\"Mr. Chang\"]   15           2  #1 Serial Killer     \\N       \\N   \n",
              "2      [\"Mr. Chang\"]   15           3  #1 Serial Killer     US       \\N   \n",
              "3  [\"Tricia Arnold\"]    7           1             Chink     \\N       \\N   \n",
              "4  [\"Tricia Arnold\"]    7           2  #1 Serial Killer     \\N       \\N   \n",
              "\n",
              "         types attributes isOriginalTitle  \n",
              "0      working         \\N               0  \n",
              "1     original         \\N               1  \n",
              "2  imdbDisplay         \\N               0  \n",
              "3      working         \\N               0  \n",
              "4     original         \\N               1  \n",
              "\n",
              "[5 rows x 21 columns]"
            ]
          },
          "execution_count": 29,
          "metadata": {},
          "output_type": "execute_result"
        }
      ],
      "source": [
        "datatoprep3d.head()"
      ]
    },
    {
      "cell_type": "code",
      "execution_count": null,
      "id": "d808388f",
      "metadata": {
        "id": "d808388f"
      },
      "outputs": [],
      "source": [
        "datatoprep3d = datatoprep3d.dropna(subset=['region'])"
      ]
    },
    {
      "cell_type": "code",
      "execution_count": null,
      "id": "a5a79e1e",
      "metadata": {
        "id": "a5a79e1e"
      },
      "outputs": [],
      "source": [
        "datatoprep3d = datatoprep3d[(datatoprep3d[\"region\"] == \"US\")] #each movie has several potential release names. we restrict at the one used in the US"
      ]
    },
    {
      "cell_type": "code",
      "execution_count": null,
      "id": "78ae7db5",
      "metadata": {
        "id": "78ae7db5",
        "outputId": "2e94fcbc-6a4a-4f8e-85ad-a79cf8c03d33"
      },
      "outputs": [
        {
          "data": {
            "text/html": [
              "<div>\n",
              "<style scoped>\n",
              "    .dataframe tbody tr th:only-of-type {\n",
              "        vertical-align: middle;\n",
              "    }\n",
              "\n",
              "    .dataframe tbody tr th {\n",
              "        vertical-align: top;\n",
              "    }\n",
              "\n",
              "    .dataframe thead th {\n",
              "        text-align: right;\n",
              "    }\n",
              "</style>\n",
              "<table border=\"1\" class=\"dataframe\">\n",
              "  <thead>\n",
              "    <tr style=\"text-align: right;\">\n",
              "      <th></th>\n",
              "      <th>tconst</th>\n",
              "      <th>primaryTitle</th>\n",
              "      <th>startYear</th>\n",
              "      <th>runtimeMinutes</th>\n",
              "      <th>genres</th>\n",
              "      <th>nconst</th>\n",
              "      <th>primaryName</th>\n",
              "      <th>birthYear</th>\n",
              "      <th>deathYear</th>\n",
              "      <th>primaryProfession</th>\n",
              "      <th>...</th>\n",
              "      <th>characters</th>\n",
              "      <th>freq</th>\n",
              "      <th>isdocu</th>\n",
              "      <th>ordering_y</th>\n",
              "      <th>title</th>\n",
              "      <th>region</th>\n",
              "      <th>language</th>\n",
              "      <th>types</th>\n",
              "      <th>attributes</th>\n",
              "      <th>isOriginalTitle</th>\n",
              "    </tr>\n",
              "  </thead>\n",
              "  <tbody>\n",
              "    <tr>\n",
              "      <th>2</th>\n",
              "      <td>tt2346170</td>\n",
              "      <td>#1 Serial Killer</td>\n",
              "      <td>2013</td>\n",
              "      <td>87</td>\n",
              "      <td>Horror</td>\n",
              "      <td>nm0002245</td>\n",
              "      <td>Tzi Ma</td>\n",
              "      <td>\\N</td>\n",
              "      <td>\\N</td>\n",
              "      <td>actor,producer</td>\n",
              "      <td>...</td>\n",
              "      <td>[\"Mr. Chang\"]</td>\n",
              "      <td>15</td>\n",
              "      <td>NaN</td>\n",
              "      <td>3</td>\n",
              "      <td>#1 Serial Killer</td>\n",
              "      <td>US</td>\n",
              "      <td>\\N</td>\n",
              "      <td>imdbDisplay</td>\n",
              "      <td>\\N</td>\n",
              "      <td>0</td>\n",
              "    </tr>\n",
              "    <tr>\n",
              "      <th>5</th>\n",
              "      <td>tt2346170</td>\n",
              "      <td>#1 Serial Killer</td>\n",
              "      <td>2013</td>\n",
              "      <td>87</td>\n",
              "      <td>Horror</td>\n",
              "      <td>nm2104193</td>\n",
              "      <td>Shoshana Bush</td>\n",
              "      <td>1988</td>\n",
              "      <td>\\N</td>\n",
              "      <td>actress,director,writer</td>\n",
              "      <td>...</td>\n",
              "      <td>[\"Tricia Arnold\"]</td>\n",
              "      <td>7</td>\n",
              "      <td>NaN</td>\n",
              "      <td>3</td>\n",
              "      <td>#1 Serial Killer</td>\n",
              "      <td>US</td>\n",
              "      <td>\\N</td>\n",
              "      <td>imdbDisplay</td>\n",
              "      <td>\\N</td>\n",
              "      <td>0</td>\n",
              "    </tr>\n",
              "    <tr>\n",
              "      <th>8</th>\n",
              "      <td>tt2346170</td>\n",
              "      <td>#1 Serial Killer</td>\n",
              "      <td>2013</td>\n",
              "      <td>87</td>\n",
              "      <td>Horror</td>\n",
              "      <td>nm0864937</td>\n",
              "      <td>Jason Tobin</td>\n",
              "      <td>\\N</td>\n",
              "      <td>\\N</td>\n",
              "      <td>actor,director,writer</td>\n",
              "      <td>...</td>\n",
              "      <td>[\"Eddy Tsai\"]</td>\n",
              "      <td>7</td>\n",
              "      <td>NaN</td>\n",
              "      <td>3</td>\n",
              "      <td>#1 Serial Killer</td>\n",
              "      <td>US</td>\n",
              "      <td>\\N</td>\n",
              "      <td>imdbDisplay</td>\n",
              "      <td>\\N</td>\n",
              "      <td>0</td>\n",
              "    </tr>\n",
              "    <tr>\n",
              "      <th>11</th>\n",
              "      <td>tt2346170</td>\n",
              "      <td>#1 Serial Killer</td>\n",
              "      <td>2013</td>\n",
              "      <td>87</td>\n",
              "      <td>Horror</td>\n",
              "      <td>nm1067699</td>\n",
              "      <td>Eugenia Yuan</td>\n",
              "      <td>1976</td>\n",
              "      <td>\\N</td>\n",
              "      <td>actress,miscellaneous,sound_department</td>\n",
              "      <td>...</td>\n",
              "      <td>[\"Karena Lee\"]</td>\n",
              "      <td>12</td>\n",
              "      <td>NaN</td>\n",
              "      <td>3</td>\n",
              "      <td>#1 Serial Killer</td>\n",
              "      <td>US</td>\n",
              "      <td>\\N</td>\n",
              "      <td>imdbDisplay</td>\n",
              "      <td>\\N</td>\n",
              "      <td>0</td>\n",
              "    </tr>\n",
              "    <tr>\n",
              "      <th>13</th>\n",
              "      <td>tt4470336</td>\n",
              "      <td>#50Fathers</td>\n",
              "      <td>2015</td>\n",
              "      <td>132</td>\n",
              "      <td>Comedy</td>\n",
              "      <td>nm7388410</td>\n",
              "      <td>Antonio Barrios</td>\n",
              "      <td>\\N</td>\n",
              "      <td>\\N</td>\n",
              "      <td>actor</td>\n",
              "      <td>...</td>\n",
              "      <td>[\"Broadway Social Club Thug\"]</td>\n",
              "      <td>3</td>\n",
              "      <td>NaN</td>\n",
              "      <td>2</td>\n",
              "      <td>#50Fathers</td>\n",
              "      <td>US</td>\n",
              "      <td>\\N</td>\n",
              "      <td>imdbDisplay</td>\n",
              "      <td>\\N</td>\n",
              "      <td>0</td>\n",
              "    </tr>\n",
              "  </tbody>\n",
              "</table>\n",
              "<p>5 rows × 22 columns</p>\n",
              "</div>"
            ],
            "text/plain": [
              "       tconst      primaryTitle startYear runtimeMinutes  genres     nconst  \\\n",
              "2   tt2346170  #1 Serial Killer      2013             87  Horror  nm0002245   \n",
              "5   tt2346170  #1 Serial Killer      2013             87  Horror  nm2104193   \n",
              "8   tt2346170  #1 Serial Killer      2013             87  Horror  nm0864937   \n",
              "11  tt2346170  #1 Serial Killer      2013             87  Horror  nm1067699   \n",
              "13  tt4470336        #50Fathers      2015            132  Comedy  nm7388410   \n",
              "\n",
              "        primaryName birthYear deathYear  \\\n",
              "2            Tzi Ma        \\N        \\N   \n",
              "5     Shoshana Bush      1988        \\N   \n",
              "8       Jason Tobin        \\N        \\N   \n",
              "11     Eugenia Yuan      1976        \\N   \n",
              "13  Antonio Barrios        \\N        \\N   \n",
              "\n",
              "                         primaryProfession  ...  \\\n",
              "2                           actor,producer  ...   \n",
              "5                  actress,director,writer  ...   \n",
              "8                    actor,director,writer  ...   \n",
              "11  actress,miscellaneous,sound_department  ...   \n",
              "13                                   actor  ...   \n",
              "\n",
              "                       characters freq isdocu  ordering_y             title  \\\n",
              "2                   [\"Mr. Chang\"]   15    NaN           3  #1 Serial Killer   \n",
              "5               [\"Tricia Arnold\"]    7    NaN           3  #1 Serial Killer   \n",
              "8                   [\"Eddy Tsai\"]    7    NaN           3  #1 Serial Killer   \n",
              "11                 [\"Karena Lee\"]   12    NaN           3  #1 Serial Killer   \n",
              "13  [\"Broadway Social Club Thug\"]    3    NaN           2        #50Fathers   \n",
              "\n",
              "    region language        types attributes isOriginalTitle  \n",
              "2       US       \\N  imdbDisplay         \\N               0  \n",
              "5       US       \\N  imdbDisplay         \\N               0  \n",
              "8       US       \\N  imdbDisplay         \\N               0  \n",
              "11      US       \\N  imdbDisplay         \\N               0  \n",
              "13      US       \\N  imdbDisplay         \\N               0  \n",
              "\n",
              "[5 rows x 22 columns]"
            ]
          },
          "execution_count": 89,
          "metadata": {},
          "output_type": "execute_result"
        }
      ],
      "source": [
        "datatoprep3d.head()"
      ]
    },
    {
      "cell_type": "code",
      "execution_count": null,
      "id": "38453e35",
      "metadata": {
        "id": "38453e35",
        "outputId": "c2ea3141-a5b1-4639-a329-00f4d7cc03b2"
      },
      "outputs": [
        {
          "data": {
            "text/plain": [
              "(428517, 22)"
            ]
          },
          "execution_count": 90,
          "metadata": {},
          "output_type": "execute_result"
        }
      ],
      "source": [
        "datatoprep3d.shape"
      ]
    },
    {
      "cell_type": "code",
      "execution_count": null,
      "id": "fa447a90",
      "metadata": {
        "id": "fa447a90"
      },
      "outputs": [],
      "source": [
        "datatoprep3g= datatoprep3d[(datatoprep3d[\"startYear\"] >= \"2017\")]"
      ]
    },
    {
      "cell_type": "code",
      "execution_count": null,
      "id": "feb5bda7",
      "metadata": {
        "id": "feb5bda7",
        "outputId": "5a52dd94-1db9-4fcc-b787-579616b8e3a1"
      },
      "outputs": [
        {
          "data": {
            "text/plain": [
              "(134857, 22)"
            ]
          },
          "execution_count": 92,
          "metadata": {},
          "output_type": "execute_result"
        }
      ],
      "source": [
        "datatoprep3g.shape"
      ]
    },
    {
      "cell_type": "code",
      "execution_count": null,
      "id": "fdf7b194",
      "metadata": {
        "id": "fdf7b194",
        "outputId": "f7c7b43d-84d5-4a45-8d6e-4adba3f899fe"
      },
      "outputs": [
        {
          "data": {
            "text/html": [
              "<div>\n",
              "<style scoped>\n",
              "    .dataframe tbody tr th:only-of-type {\n",
              "        vertical-align: middle;\n",
              "    }\n",
              "\n",
              "    .dataframe tbody tr th {\n",
              "        vertical-align: top;\n",
              "    }\n",
              "\n",
              "    .dataframe thead th {\n",
              "        text-align: right;\n",
              "    }\n",
              "</style>\n",
              "<table border=\"1\" class=\"dataframe\">\n",
              "  <thead>\n",
              "    <tr style=\"text-align: right;\">\n",
              "      <th></th>\n",
              "      <th>tconst</th>\n",
              "      <th>primaryTitle</th>\n",
              "      <th>nconst</th>\n",
              "      <th>primaryName</th>\n",
              "    </tr>\n",
              "  </thead>\n",
              "  <tbody>\n",
              "    <tr>\n",
              "      <th>32</th>\n",
              "      <td>tt18673736</td>\n",
              "      <td>#69 Samskar Colony</td>\n",
              "      <td>nm2496992</td>\n",
              "      <td>Ajay</td>\n",
              "    </tr>\n",
              "    <tr>\n",
              "      <th>42</th>\n",
              "      <td>tt18673736</td>\n",
              "      <td>#69 Samskar Colony</td>\n",
              "      <td>nm9855560</td>\n",
              "      <td>Fm Babai</td>\n",
              "    </tr>\n",
              "    <tr>\n",
              "      <th>52</th>\n",
              "      <td>tt18673736</td>\n",
              "      <td>#69 Samskar Colony</td>\n",
              "      <td>nm12269045</td>\n",
              "      <td>Badram</td>\n",
              "    </tr>\n",
              "    <tr>\n",
              "      <th>81</th>\n",
              "      <td>tt10620868</td>\n",
              "      <td>#Alive</td>\n",
              "      <td>nm2584860</td>\n",
              "      <td>Yoo Ah-in</td>\n",
              "    </tr>\n",
              "    <tr>\n",
              "      <th>117</th>\n",
              "      <td>tt10620868</td>\n",
              "      <td>#Alive</td>\n",
              "      <td>nm7270573</td>\n",
              "      <td>Hyun-Wook Lee</td>\n",
              "    </tr>\n",
              "  </tbody>\n",
              "</table>\n",
              "</div>"
            ],
            "text/plain": [
              "         tconst        primaryTitle      nconst    primaryName\n",
              "32   tt18673736  #69 Samskar Colony   nm2496992           Ajay\n",
              "42   tt18673736  #69 Samskar Colony   nm9855560       Fm Babai\n",
              "52   tt18673736  #69 Samskar Colony  nm12269045         Badram\n",
              "81   tt10620868              #Alive   nm2584860      Yoo Ah-in\n",
              "117  tt10620868              #Alive   nm7270573  Hyun-Wook Lee"
            ]
          },
          "execution_count": 93,
          "metadata": {},
          "output_type": "execute_result"
        }
      ],
      "source": [
        "datatoprep3g= datatoprep3g[['tconst', 'primaryTitle', 'nconst', 'primaryName']]\n",
        "datatoprep3g.head()"
      ]
    },
    {
      "cell_type": "code",
      "execution_count": null,
      "id": "510b7373",
      "metadata": {
        "id": "510b7373"
      },
      "outputs": [],
      "source": [
        "datatoprep4= datatoprep3d[(datatoprep3d[\"startYear\"] == \"2020\") |(datatoprep3d[\"startYear\"] == \"2021\")]"
      ]
    },
    {
      "cell_type": "code",
      "execution_count": null,
      "id": "1e1dd7f5",
      "metadata": {
        "id": "1e1dd7f5"
      },
      "outputs": [],
      "source": [
        "datatoprep4= datatoprep4[['tconst', 'primaryTitle', 'nconst', 'primaryName']]"
      ]
    },
    {
      "cell_type": "code",
      "execution_count": null,
      "id": "f2e810be",
      "metadata": {
        "scrolled": true,
        "id": "f2e810be",
        "outputId": "920bde6a-76ed-4048-cc2b-d50d75370ff4"
      },
      "outputs": [
        {
          "data": {
            "text/html": [
              "<div>\n",
              "<style scoped>\n",
              "    .dataframe tbody tr th:only-of-type {\n",
              "        vertical-align: middle;\n",
              "    }\n",
              "\n",
              "    .dataframe tbody tr th {\n",
              "        vertical-align: top;\n",
              "    }\n",
              "\n",
              "    .dataframe thead th {\n",
              "        text-align: right;\n",
              "    }\n",
              "</style>\n",
              "<table border=\"1\" class=\"dataframe\">\n",
              "  <thead>\n",
              "    <tr style=\"text-align: right;\">\n",
              "      <th></th>\n",
              "      <th>tconst</th>\n",
              "      <th>primaryTitle</th>\n",
              "      <th>nconst</th>\n",
              "      <th>primaryName</th>\n",
              "    </tr>\n",
              "  </thead>\n",
              "  <tbody>\n",
              "    <tr>\n",
              "      <th>81</th>\n",
              "      <td>tt10620868</td>\n",
              "      <td>#Alive</td>\n",
              "      <td>nm2584860</td>\n",
              "      <td>Yoo Ah-in</td>\n",
              "    </tr>\n",
              "    <tr>\n",
              "      <th>117</th>\n",
              "      <td>tt10620868</td>\n",
              "      <td>#Alive</td>\n",
              "      <td>nm7270573</td>\n",
              "      <td>Hyun-Wook Lee</td>\n",
              "    </tr>\n",
              "    <tr>\n",
              "      <th>153</th>\n",
              "      <td>tt10620868</td>\n",
              "      <td>#Alive</td>\n",
              "      <td>nm3482978</td>\n",
              "      <td>Jeon Bae-soo</td>\n",
              "    </tr>\n",
              "    <tr>\n",
              "      <th>189</th>\n",
              "      <td>tt10620868</td>\n",
              "      <td>#Alive</td>\n",
              "      <td>nm2339975</td>\n",
              "      <td>Park Shin-Hye</td>\n",
              "    </tr>\n",
              "    <tr>\n",
              "      <th>296</th>\n",
              "      <td>tt14676376</td>\n",
              "      <td>#Challenge</td>\n",
              "      <td>nm0639232</td>\n",
              "      <td>Flor Núñez</td>\n",
              "    </tr>\n",
              "    <tr>\n",
              "      <th>...</th>\n",
              "      <td>...</td>\n",
              "      <td>...</td>\n",
              "      <td>...</td>\n",
              "      <td>...</td>\n",
              "    </tr>\n",
              "    <tr>\n",
              "      <th>4601353</th>\n",
              "      <td>tt14050808</td>\n",
              "      <td>Întregalde</td>\n",
              "      <td>nm1574827</td>\n",
              "      <td>Maria Popistasu</td>\n",
              "    </tr>\n",
              "    <tr>\n",
              "      <th>4601365</th>\n",
              "      <td>tt14050808</td>\n",
              "      <td>Întregalde</td>\n",
              "      <td>nm3712654</td>\n",
              "      <td>Alex Bogdan</td>\n",
              "    </tr>\n",
              "    <tr>\n",
              "      <th>4602511</th>\n",
              "      <td>tt12283154</td>\n",
              "      <td>Самая любимая</td>\n",
              "      <td>nm2798316</td>\n",
              "      <td>Yuriy Baturin</td>\n",
              "    </tr>\n",
              "    <tr>\n",
              "      <th>4602516</th>\n",
              "      <td>tt12283154</td>\n",
              "      <td>Самая любимая</td>\n",
              "      <td>nm4535020</td>\n",
              "      <td>Larisa Karasina</td>\n",
              "    </tr>\n",
              "    <tr>\n",
              "      <th>4602521</th>\n",
              "      <td>tt12283154</td>\n",
              "      <td>Самая любимая</td>\n",
              "      <td>nm9341315</td>\n",
              "      <td>Valeriya Burduzha</td>\n",
              "    </tr>\n",
              "  </tbody>\n",
              "</table>\n",
              "<p>41261 rows × 4 columns</p>\n",
              "</div>"
            ],
            "text/plain": [
              "             tconst   primaryTitle     nconst        primaryName\n",
              "81       tt10620868         #Alive  nm2584860          Yoo Ah-in\n",
              "117      tt10620868         #Alive  nm7270573      Hyun-Wook Lee\n",
              "153      tt10620868         #Alive  nm3482978       Jeon Bae-soo\n",
              "189      tt10620868         #Alive  nm2339975      Park Shin-Hye\n",
              "296      tt14676376     #Challenge  nm0639232         Flor Núñez\n",
              "...             ...            ...        ...                ...\n",
              "4601353  tt14050808     Întregalde  nm1574827    Maria Popistasu\n",
              "4601365  tt14050808     Întregalde  nm3712654        Alex Bogdan\n",
              "4602511  tt12283154  Самая любимая  nm2798316      Yuriy Baturin\n",
              "4602516  tt12283154  Самая любимая  nm4535020    Larisa Karasina\n",
              "4602521  tt12283154  Самая любимая  nm9341315  Valeriya Burduzha\n",
              "\n",
              "[41261 rows x 4 columns]"
            ]
          },
          "execution_count": 106,
          "metadata": {},
          "output_type": "execute_result"
        }
      ],
      "source": [
        "compression_opts = dict(method='zip',\n",
        "                        archive_name='data2021forjson.csv')  \n",
        "datatoprep4.to_csv('data2021forjson.zip', index=False,\n",
        "          compression=compression_opts)\n",
        "datatoprep4\n"
      ]
    },
    {
      "cell_type": "markdown",
      "metadata": {
        "id": "2c6e718f"
      },
      "source": [
        "# Indexing and Edges"
      ],
      "id": "2c6e718f"
    },
    {
      "cell_type": "markdown",
      "metadata": {
        "id": "7489a2cf"
      },
      "source": [
        "In this second part, I created separate files from the datasets to use in the PageRank Algorithm. Movie titles are indexed and the edges file is saved for later use."
      ],
      "id": "7489a2cf"
    },
    {
      "cell_type": "code",
      "execution_count": null,
      "metadata": {
        "id": "4b2c6031"
      },
      "outputs": [],
      "source": [
        "import pandas as pd\n",
        "import json\n",
        "import numpy as np"
      ],
      "id": "4b2c6031"
    },
    {
      "cell_type": "code",
      "execution_count": null,
      "metadata": {
        "id": "789eadf7"
      },
      "outputs": [],
      "source": [
        "def edgelistdirected(l1, l2):\n",
        "    edgelist=[]\n",
        "    for i in l1:\n",
        "        for j in l2:\n",
        "            if i[0] != j[0]:\n",
        "                if i[1] == j [1] and i != j:\n",
        "                        edgelist.append((i[0], j[0]))\n",
        "    return edgelist\n",
        "\n",
        "def listcreation(d):\n",
        "    l1 =[]\n",
        "    l2=[]\n",
        "    l1 = d['movieactorlist'].values.tolist()\n",
        "    l2 = d['movieactorlist'].values.tolist()\n",
        "    return l1, l2\n",
        "\n",
        "def listcreation2(d):\n",
        "    l1 =[]\n",
        "    l2=[]\n",
        "    l1 = d['movieactorlist2'].values.tolist()\n",
        "    l2 = d['movieactorlist2'].values.tolist()\n",
        "    return l1, l2\n",
        "\n",
        "def indeces(d):\n",
        "    indeces = []\n",
        "    dummy = []\n",
        "    count = -1\n",
        "    for index, row in d.iterrows():\n",
        "        if row['primaryTitle'] in dummy:\n",
        "            indeces.append(count)\n",
        "        else:       \n",
        "            count = count + 1\n",
        "            dummy.append(row['primaryTitle'])\n",
        "            indeces.append(count)\n",
        "    return indeces"
      ],
      "id": "789eadf7"
    },
    {
      "cell_type": "markdown",
      "metadata": {
        "id": "01d1384a"
      },
      "source": [
        "## Network of two actors"
      ],
      "id": "01d1384a"
    },
    {
      "cell_type": "code",
      "execution_count": null,
      "metadata": {
        "id": "960f238f"
      },
      "outputs": [],
      "source": [
        "##datanew5b = pd.read_csv(\"C:/Users/carla/Downloads/archivio/netprep2.csv\") ##should the rest of the notebook not work, this is the correct file in the google drive "
      ],
      "id": "960f238f"
    },
    {
      "cell_type": "code",
      "execution_count": null,
      "metadata": {
        "id": "eb32d73a",
        "outputId": "9856deef-f458-4613-f585-ced952d4fe9b"
      },
      "outputs": [
        {
          "data": {
            "text/html": [
              "<div>\n",
              "<style scoped>\n",
              "    .dataframe tbody tr th:only-of-type {\n",
              "        vertical-align: middle;\n",
              "    }\n",
              "\n",
              "    .dataframe tbody tr th {\n",
              "        vertical-align: top;\n",
              "    }\n",
              "\n",
              "    .dataframe thead th {\n",
              "        text-align: right;\n",
              "    }\n",
              "</style>\n",
              "<table border=\"1\" class=\"dataframe\">\n",
              "  <thead>\n",
              "    <tr style=\"text-align: right;\">\n",
              "      <th></th>\n",
              "      <th>tconst</th>\n",
              "      <th>primaryTitle</th>\n",
              "      <th>nconst</th>\n",
              "      <th>primaryName</th>\n",
              "    </tr>\n",
              "  </thead>\n",
              "  <tbody>\n",
              "    <tr>\n",
              "      <th>0</th>\n",
              "      <td>tt6915008</td>\n",
              "      <td>#1</td>\n",
              "      <td>nm0285330</td>\n",
              "      <td>Forbes Riley</td>\n",
              "    </tr>\n",
              "    <tr>\n",
              "      <th>1</th>\n",
              "      <td>tt6915008</td>\n",
              "      <td>#1</td>\n",
              "      <td>nm0634760</td>\n",
              "      <td>Peter Noone</td>\n",
              "    </tr>\n",
              "    <tr>\n",
              "      <th>2</th>\n",
              "      <td>tt6915008</td>\n",
              "      <td>#1</td>\n",
              "      <td>nm1643411</td>\n",
              "      <td>Tommy James</td>\n",
              "    </tr>\n",
              "    <tr>\n",
              "      <th>3</th>\n",
              "      <td>tt6915008</td>\n",
              "      <td>#1</td>\n",
              "      <td>nm1866067</td>\n",
              "      <td>Scotty Bowman</td>\n",
              "    </tr>\n",
              "    <tr>\n",
              "      <th>4</th>\n",
              "      <td>tt2346170</td>\n",
              "      <td>#1 Serial Killer</td>\n",
              "      <td>nm0002245</td>\n",
              "      <td>Tzi Ma</td>\n",
              "    </tr>\n",
              "  </tbody>\n",
              "</table>\n",
              "</div>"
            ],
            "text/plain": [
              "      tconst      primaryTitle     nconst    primaryName\n",
              "0  tt6915008                #1  nm0285330   Forbes Riley\n",
              "1  tt6915008                #1  nm0634760    Peter Noone\n",
              "2  tt6915008                #1  nm1643411    Tommy James\n",
              "3  tt6915008                #1  nm1866067  Scotty Bowman\n",
              "4  tt2346170  #1 Serial Killer  nm0002245         Tzi Ma"
            ]
          },
          "execution_count": 13,
          "metadata": {},
          "output_type": "execute_result"
        }
      ],
      "source": [
        "datanew5b.head() ##redundant, added as a check"
      ],
      "id": "eb32d73a"
    },
    {
      "cell_type": "code",
      "execution_count": null,
      "metadata": {
        "id": "9795d6f0"
      },
      "outputs": [],
      "source": [
        "jt = datanew5b[datanew5b.primaryName.isin([\"Jemaine Clement\", \"Taika Waititi\"])] "
      ],
      "id": "9795d6f0"
    },
    {
      "cell_type": "code",
      "execution_count": null,
      "metadata": {
        "id": "d17ba653"
      },
      "outputs": [],
      "source": [
        "indexing = indeces(jt)"
      ],
      "id": "d17ba653"
    },
    {
      "cell_type": "code",
      "execution_count": null,
      "metadata": {
        "id": "1ae2e255",
        "outputId": "60bfb2df-8974-4c2b-d994-d2fa7ad4103a"
      },
      "outputs": [
        {
          "name": "stderr",
          "output_type": "stream",
          "text": [
            "C:\\Users\\carla\\AppData\\Local\\Temp\\ipykernel_17668\\1122159922.py:1: SettingWithCopyWarning: \n",
            "A value is trying to be set on a copy of a slice from a DataFrame.\n",
            "Try using .loc[row_indexer,col_indexer] = value instead\n",
            "\n",
            "See the caveats in the documentation: https://pandas.pydata.org/pandas-docs/stable/user_guide/indexing.html#returning-a-view-versus-a-copy\n",
            "  datanew6a['indeces'] = indexing\n"
          ]
        }
      ],
      "source": [
        "jt['indeces'] = indexing"
      ],
      "id": "1ae2e255"
    },
    {
      "cell_type": "code",
      "execution_count": null,
      "metadata": {
        "scrolled": true,
        "id": "9e37028a",
        "outputId": "eb9d0ab7-0a36-4652-e8f9-04fbd16806e2"
      },
      "outputs": [
        {
          "data": {
            "text/html": [
              "<div>\n",
              "<style scoped>\n",
              "    .dataframe tbody tr th:only-of-type {\n",
              "        vertical-align: middle;\n",
              "    }\n",
              "\n",
              "    .dataframe tbody tr th {\n",
              "        vertical-align: top;\n",
              "    }\n",
              "\n",
              "    .dataframe thead th {\n",
              "        text-align: right;\n",
              "    }\n",
              "</style>\n",
              "<table border=\"1\" class=\"dataframe\">\n",
              "  <thead>\n",
              "    <tr style=\"text-align: right;\">\n",
              "      <th></th>\n",
              "      <th>tconst</th>\n",
              "      <th>primaryTitle</th>\n",
              "      <th>nconst</th>\n",
              "      <th>primaryName</th>\n",
              "      <th>indeces</th>\n",
              "    </tr>\n",
              "  </thead>\n",
              "  <tbody>\n",
              "    <tr>\n",
              "      <th>98043</th>\n",
              "      <td>tt10303630</td>\n",
              "      <td>An American in Whakataki</td>\n",
              "      <td>nm1318596</td>\n",
              "      <td>Jemaine Clement</td>\n",
              "      <td>0</td>\n",
              "    </tr>\n",
              "    <tr>\n",
              "      <th>98588</th>\n",
              "      <td>tt6518270</td>\n",
              "      <td>An Evening with Beverly Luff Linn</td>\n",
              "      <td>nm1318596</td>\n",
              "      <td>Jemaine Clement</td>\n",
              "      <td>1</td>\n",
              "    </tr>\n",
              "    <tr>\n",
              "      <th>139953</th>\n",
              "      <td>tt5637536</td>\n",
              "      <td>Avatar 5</td>\n",
              "      <td>nm1318596</td>\n",
              "      <td>Jemaine Clement</td>\n",
              "      <td>2</td>\n",
              "    </tr>\n",
              "    <tr>\n",
              "      <th>217917</th>\n",
              "      <td>tt1560139</td>\n",
              "      <td>Boy</td>\n",
              "      <td>nm0169806</td>\n",
              "      <td>Taika Waititi</td>\n",
              "      <td>3</td>\n",
              "    </tr>\n",
              "    <tr>\n",
              "      <th>416238</th>\n",
              "      <td>tt3534282</td>\n",
              "      <td>Don Verdean</td>\n",
              "      <td>nm1318596</td>\n",
              "      <td>Jemaine Clement</td>\n",
              "      <td>4</td>\n",
              "    </tr>\n",
              "    <tr>\n",
              "      <th>440153</th>\n",
              "      <td>tt0494222</td>\n",
              "      <td>Eagle vs Shark</td>\n",
              "      <td>nm1318596</td>\n",
              "      <td>Jemaine Clement</td>\n",
              "      <td>5</td>\n",
              "    </tr>\n",
              "    <tr>\n",
              "      <th>533370</th>\n",
              "      <td>tt6264654</td>\n",
              "      <td>Free Guy</td>\n",
              "      <td>nm0169806</td>\n",
              "      <td>Taika Waititi</td>\n",
              "      <td>6</td>\n",
              "    </tr>\n",
              "    <tr>\n",
              "      <th>536474</th>\n",
              "      <td>tt0425993</td>\n",
              "      <td>Frodo Is Great... Who Is That?!!</td>\n",
              "      <td>nm0169806</td>\n",
              "      <td>Taika Waititi</td>\n",
              "      <td>7</td>\n",
              "    </tr>\n",
              "    <tr>\n",
              "      <th>556876</th>\n",
              "      <td>tt1161418</td>\n",
              "      <td>Gentlemen Broncos</td>\n",
              "      <td>nm1318596</td>\n",
              "      <td>Jemaine Clement</td>\n",
              "      <td>8</td>\n",
              "    </tr>\n",
              "    <tr>\n",
              "      <th>670295</th>\n",
              "      <td>tt10887902</td>\n",
              "      <td>I Used to Go Here</td>\n",
              "      <td>nm1318596</td>\n",
              "      <td>Jemaine Clement</td>\n",
              "      <td>9</td>\n",
              "    </tr>\n",
              "    <tr>\n",
              "      <th>738880</th>\n",
              "      <td>tt2584384</td>\n",
              "      <td>Jojo Rabbit</td>\n",
              "      <td>nm0169806</td>\n",
              "      <td>Taika Waititi</td>\n",
              "      <td>10</td>\n",
              "    </tr>\n",
              "    <tr>\n",
              "      <th>893347</th>\n",
              "      <td>tt10298810</td>\n",
              "      <td>Lightyear</td>\n",
              "      <td>nm0169806</td>\n",
              "      <td>Taika Waititi</td>\n",
              "      <td>11</td>\n",
              "    </tr>\n",
              "    <tr>\n",
              "      <th>978831</th>\n",
              "      <td>tt1409024</td>\n",
              "      <td>Men in Black 3</td>\n",
              "      <td>nm1318596</td>\n",
              "      <td>Jemaine Clement</td>\n",
              "      <td>12</td>\n",
              "    </tr>\n",
              "    <tr>\n",
              "      <th>1087282</th>\n",
              "      <td>tt14036602</td>\n",
              "      <td>Nude Tuesday</td>\n",
              "      <td>nm1318596</td>\n",
              "      <td>Jemaine Clement</td>\n",
              "      <td>13</td>\n",
              "    </tr>\n",
              "    <tr>\n",
              "      <th>1153308</th>\n",
              "      <td>tt7618604</td>\n",
              "      <td>Patrick</td>\n",
              "      <td>nm1318596</td>\n",
              "      <td>Jemaine Clement</td>\n",
              "      <td>14</td>\n",
              "    </tr>\n",
              "    <tr>\n",
              "      <th>1159296</th>\n",
              "      <td>tt4104022</td>\n",
              "      <td>People Places Things</td>\n",
              "      <td>nm1318596</td>\n",
              "      <td>Jemaine Clement</td>\n",
              "      <td>15</td>\n",
              "    </tr>\n",
              "    <tr>\n",
              "      <th>1190902</th>\n",
              "      <td>tt1574639</td>\n",
              "      <td>Predicament</td>\n",
              "      <td>nm1318596</td>\n",
              "      <td>Jemaine Clement</td>\n",
              "      <td>16</td>\n",
              "    </tr>\n",
              "    <tr>\n",
              "      <th>1250451</th>\n",
              "      <td>tt2357291</td>\n",
              "      <td>Rio 2</td>\n",
              "      <td>nm1318596</td>\n",
              "      <td>Jemaine Clement</td>\n",
              "      <td>17</td>\n",
              "    </tr>\n",
              "    <tr>\n",
              "      <th>1297411</th>\n",
              "      <td>tt0189981</td>\n",
              "      <td>Scarfies</td>\n",
              "      <td>nm0169806</td>\n",
              "      <td>Taika Waititi</td>\n",
              "      <td>18</td>\n",
              "    </tr>\n",
              "    <tr>\n",
              "      <th>1318712</th>\n",
              "      <td>tt4270452</td>\n",
              "      <td>Seven Stages to Achieve Eternal Bliss</td>\n",
              "      <td>nm0169806</td>\n",
              "      <td>Taika Waititi</td>\n",
              "      <td>19</td>\n",
              "    </tr>\n",
              "    <tr>\n",
              "      <th>1462397</th>\n",
              "      <td>tt3691740</td>\n",
              "      <td>The BFG</td>\n",
              "      <td>nm1318596</td>\n",
              "      <td>Jemaine Clement</td>\n",
              "      <td>20</td>\n",
              "    </tr>\n",
              "    <tr>\n",
              "      <th>1674144</th>\n",
              "      <td>tt0352925</td>\n",
              "      <td>Tongan Ninja</td>\n",
              "      <td>nm1318596</td>\n",
              "      <td>Jemaine Clement</td>\n",
              "      <td>21</td>\n",
              "    </tr>\n",
              "    <tr>\n",
              "      <th>1779114</th>\n",
              "      <td>tt3416742</td>\n",
              "      <td>What We Do in the Shadows</td>\n",
              "      <td>nm1318596</td>\n",
              "      <td>Jemaine Clement</td>\n",
              "      <td>22</td>\n",
              "    </tr>\n",
              "    <tr>\n",
              "      <th>1779115</th>\n",
              "      <td>tt3416742</td>\n",
              "      <td>What We Do in the Shadows</td>\n",
              "      <td>nm0169806</td>\n",
              "      <td>Taika Waititi</td>\n",
              "      <td>22</td>\n",
              "    </tr>\n",
              "  </tbody>\n",
              "</table>\n",
              "</div>"
            ],
            "text/plain": [
              "             tconst                           primaryTitle     nconst  \\\n",
              "98043    tt10303630               An American in Whakataki  nm1318596   \n",
              "98588     tt6518270      An Evening with Beverly Luff Linn  nm1318596   \n",
              "139953    tt5637536                               Avatar 5  nm1318596   \n",
              "217917    tt1560139                                    Boy  nm0169806   \n",
              "416238    tt3534282                            Don Verdean  nm1318596   \n",
              "440153    tt0494222                         Eagle vs Shark  nm1318596   \n",
              "533370    tt6264654                               Free Guy  nm0169806   \n",
              "536474    tt0425993       Frodo Is Great... Who Is That?!!  nm0169806   \n",
              "556876    tt1161418                      Gentlemen Broncos  nm1318596   \n",
              "670295   tt10887902                      I Used to Go Here  nm1318596   \n",
              "738880    tt2584384                            Jojo Rabbit  nm0169806   \n",
              "893347   tt10298810                              Lightyear  nm0169806   \n",
              "978831    tt1409024                         Men in Black 3  nm1318596   \n",
              "1087282  tt14036602                           Nude Tuesday  nm1318596   \n",
              "1153308   tt7618604                                Patrick  nm1318596   \n",
              "1159296   tt4104022                   People Places Things  nm1318596   \n",
              "1190902   tt1574639                            Predicament  nm1318596   \n",
              "1250451   tt2357291                                  Rio 2  nm1318596   \n",
              "1297411   tt0189981                               Scarfies  nm0169806   \n",
              "1318712   tt4270452  Seven Stages to Achieve Eternal Bliss  nm0169806   \n",
              "1462397   tt3691740                                The BFG  nm1318596   \n",
              "1674144   tt0352925                           Tongan Ninja  nm1318596   \n",
              "1779114   tt3416742              What We Do in the Shadows  nm1318596   \n",
              "1779115   tt3416742              What We Do in the Shadows  nm0169806   \n",
              "\n",
              "             primaryName  indeces  \n",
              "98043    Jemaine Clement        0  \n",
              "98588    Jemaine Clement        1  \n",
              "139953   Jemaine Clement        2  \n",
              "217917     Taika Waititi        3  \n",
              "416238   Jemaine Clement        4  \n",
              "440153   Jemaine Clement        5  \n",
              "533370     Taika Waititi        6  \n",
              "536474     Taika Waititi        7  \n",
              "556876   Jemaine Clement        8  \n",
              "670295   Jemaine Clement        9  \n",
              "738880     Taika Waititi       10  \n",
              "893347     Taika Waititi       11  \n",
              "978831   Jemaine Clement       12  \n",
              "1087282  Jemaine Clement       13  \n",
              "1153308  Jemaine Clement       14  \n",
              "1159296  Jemaine Clement       15  \n",
              "1190902  Jemaine Clement       16  \n",
              "1250451  Jemaine Clement       17  \n",
              "1297411    Taika Waititi       18  \n",
              "1318712    Taika Waititi       19  \n",
              "1462397  Jemaine Clement       20  \n",
              "1674144  Jemaine Clement       21  \n",
              "1779114  Jemaine Clement       22  \n",
              "1779115    Taika Waititi       22  "
            ]
          },
          "execution_count": 17,
          "metadata": {},
          "output_type": "execute_result"
        }
      ],
      "source": [
        "jt"
      ],
      "id": "9e37028a"
    },
    {
      "cell_type": "code",
      "execution_count": null,
      "metadata": {
        "id": "16f3160d",
        "outputId": "674a1bf8-4fab-4666-e7e6-e6b24ae10589"
      },
      "outputs": [
        {
          "name": "stderr",
          "output_type": "stream",
          "text": [
            "C:\\Users\\carla\\AppData\\Local\\Temp\\ipykernel_15692\\1395411429.py:1: SettingWithCopyWarning: \n",
            "A value is trying to be set on a copy of a slice from a DataFrame.\n",
            "Try using .loc[row_indexer,col_indexer] = value instead\n",
            "\n",
            "See the caveats in the documentation: https://pandas.pydata.org/pandas-docs/stable/user_guide/indexing.html#returning-a-view-versus-a-copy\n",
            "  datanew6a['movieactorlist'] = list(zip(datanew6a.primaryTitle, datanew6a.primaryName))\n"
          ]
        }
      ],
      "source": [
        "jt['movieactorlist'] = list(zip(jt.primaryTitle, jt.primaryName))"
      ],
      "id": "16f3160d"
    },
    {
      "cell_type": "code",
      "execution_count": null,
      "metadata": {
        "id": "a0d16d12",
        "outputId": "85fbbcfc-eedd-435e-d088-3195a27e1cfb"
      },
      "outputs": [
        {
          "name": "stderr",
          "output_type": "stream",
          "text": [
            "C:\\Users\\carla\\AppData\\Local\\Temp\\ipykernel_15692\\1745744269.py:1: SettingWithCopyWarning: \n",
            "A value is trying to be set on a copy of a slice from a DataFrame.\n",
            "Try using .loc[row_indexer,col_indexer] = value instead\n",
            "\n",
            "See the caveats in the documentation: https://pandas.pydata.org/pandas-docs/stable/user_guide/indexing.html#returning-a-view-versus-a-copy\n",
            "  datanew6a['movieactorlist2'] = list(zip(datanew6a.indeces, datanew6a.primaryName)) #cannot be stored in a datset but created\n"
          ]
        }
      ],
      "source": [
        "jt['movieactorlist2'] = list(zip(jt.indeces, jt.primaryName)) #cannot be stored in a datset but created\n",
        "#if it's stored the edges just won't work"
      ],
      "id": "a0d16d12"
    },
    {
      "cell_type": "code",
      "execution_count": null,
      "metadata": {
        "id": "f105a96a",
        "outputId": "0afb9bb7-92d5-47a3-f744-b453dbcd4d15"
      },
      "outputs": [
        {
          "data": {
            "text/html": [
              "<div>\n",
              "<style scoped>\n",
              "    .dataframe tbody tr th:only-of-type {\n",
              "        vertical-align: middle;\n",
              "    }\n",
              "\n",
              "    .dataframe tbody tr th {\n",
              "        vertical-align: top;\n",
              "    }\n",
              "\n",
              "    .dataframe thead th {\n",
              "        text-align: right;\n",
              "    }\n",
              "</style>\n",
              "<table border=\"1\" class=\"dataframe\">\n",
              "  <thead>\n",
              "    <tr style=\"text-align: right;\">\n",
              "      <th></th>\n",
              "      <th>tconst</th>\n",
              "      <th>primaryTitle</th>\n",
              "      <th>nconst</th>\n",
              "      <th>primaryName</th>\n",
              "      <th>indeces</th>\n",
              "      <th>movieactorlist</th>\n",
              "      <th>movieactorlist2</th>\n",
              "    </tr>\n",
              "  </thead>\n",
              "  <tbody>\n",
              "    <tr>\n",
              "      <th>98043</th>\n",
              "      <td>tt10303630</td>\n",
              "      <td>An American in Whakataki</td>\n",
              "      <td>nm1318596</td>\n",
              "      <td>Jemaine Clement</td>\n",
              "      <td>0</td>\n",
              "      <td>(An American in Whakataki, Jemaine Clement)</td>\n",
              "      <td>(0, Jemaine Clement)</td>\n",
              "    </tr>\n",
              "    <tr>\n",
              "      <th>98588</th>\n",
              "      <td>tt6518270</td>\n",
              "      <td>An Evening with Beverly Luff Linn</td>\n",
              "      <td>nm1318596</td>\n",
              "      <td>Jemaine Clement</td>\n",
              "      <td>1</td>\n",
              "      <td>(An Evening with Beverly Luff Linn, Jemaine Cl...</td>\n",
              "      <td>(1, Jemaine Clement)</td>\n",
              "    </tr>\n",
              "    <tr>\n",
              "      <th>139953</th>\n",
              "      <td>tt5637536</td>\n",
              "      <td>Avatar 5</td>\n",
              "      <td>nm1318596</td>\n",
              "      <td>Jemaine Clement</td>\n",
              "      <td>2</td>\n",
              "      <td>(Avatar 5, Jemaine Clement)</td>\n",
              "      <td>(2, Jemaine Clement)</td>\n",
              "    </tr>\n",
              "    <tr>\n",
              "      <th>217917</th>\n",
              "      <td>tt1560139</td>\n",
              "      <td>Boy</td>\n",
              "      <td>nm0169806</td>\n",
              "      <td>Taika Waititi</td>\n",
              "      <td>3</td>\n",
              "      <td>(Boy, Taika Waititi)</td>\n",
              "      <td>(3, Taika Waititi)</td>\n",
              "    </tr>\n",
              "    <tr>\n",
              "      <th>416238</th>\n",
              "      <td>tt3534282</td>\n",
              "      <td>Don Verdean</td>\n",
              "      <td>nm1318596</td>\n",
              "      <td>Jemaine Clement</td>\n",
              "      <td>4</td>\n",
              "      <td>(Don Verdean, Jemaine Clement)</td>\n",
              "      <td>(4, Jemaine Clement)</td>\n",
              "    </tr>\n",
              "    <tr>\n",
              "      <th>440153</th>\n",
              "      <td>tt0494222</td>\n",
              "      <td>Eagle vs Shark</td>\n",
              "      <td>nm1318596</td>\n",
              "      <td>Jemaine Clement</td>\n",
              "      <td>5</td>\n",
              "      <td>(Eagle vs Shark, Jemaine Clement)</td>\n",
              "      <td>(5, Jemaine Clement)</td>\n",
              "    </tr>\n",
              "    <tr>\n",
              "      <th>533370</th>\n",
              "      <td>tt6264654</td>\n",
              "      <td>Free Guy</td>\n",
              "      <td>nm0169806</td>\n",
              "      <td>Taika Waititi</td>\n",
              "      <td>6</td>\n",
              "      <td>(Free Guy, Taika Waititi)</td>\n",
              "      <td>(6, Taika Waititi)</td>\n",
              "    </tr>\n",
              "    <tr>\n",
              "      <th>536474</th>\n",
              "      <td>tt0425993</td>\n",
              "      <td>Frodo Is Great... Who Is That?!!</td>\n",
              "      <td>nm0169806</td>\n",
              "      <td>Taika Waititi</td>\n",
              "      <td>7</td>\n",
              "      <td>(Frodo Is Great... Who Is That?!!, Taika Waititi)</td>\n",
              "      <td>(7, Taika Waititi)</td>\n",
              "    </tr>\n",
              "    <tr>\n",
              "      <th>556876</th>\n",
              "      <td>tt1161418</td>\n",
              "      <td>Gentlemen Broncos</td>\n",
              "      <td>nm1318596</td>\n",
              "      <td>Jemaine Clement</td>\n",
              "      <td>8</td>\n",
              "      <td>(Gentlemen Broncos, Jemaine Clement)</td>\n",
              "      <td>(8, Jemaine Clement)</td>\n",
              "    </tr>\n",
              "    <tr>\n",
              "      <th>670295</th>\n",
              "      <td>tt10887902</td>\n",
              "      <td>I Used to Go Here</td>\n",
              "      <td>nm1318596</td>\n",
              "      <td>Jemaine Clement</td>\n",
              "      <td>9</td>\n",
              "      <td>(I Used to Go Here, Jemaine Clement)</td>\n",
              "      <td>(9, Jemaine Clement)</td>\n",
              "    </tr>\n",
              "    <tr>\n",
              "      <th>738880</th>\n",
              "      <td>tt2584384</td>\n",
              "      <td>Jojo Rabbit</td>\n",
              "      <td>nm0169806</td>\n",
              "      <td>Taika Waititi</td>\n",
              "      <td>10</td>\n",
              "      <td>(Jojo Rabbit, Taika Waititi)</td>\n",
              "      <td>(10, Taika Waititi)</td>\n",
              "    </tr>\n",
              "    <tr>\n",
              "      <th>893347</th>\n",
              "      <td>tt10298810</td>\n",
              "      <td>Lightyear</td>\n",
              "      <td>nm0169806</td>\n",
              "      <td>Taika Waititi</td>\n",
              "      <td>11</td>\n",
              "      <td>(Lightyear, Taika Waititi)</td>\n",
              "      <td>(11, Taika Waititi)</td>\n",
              "    </tr>\n",
              "    <tr>\n",
              "      <th>978831</th>\n",
              "      <td>tt1409024</td>\n",
              "      <td>Men in Black 3</td>\n",
              "      <td>nm1318596</td>\n",
              "      <td>Jemaine Clement</td>\n",
              "      <td>12</td>\n",
              "      <td>(Men in Black 3, Jemaine Clement)</td>\n",
              "      <td>(12, Jemaine Clement)</td>\n",
              "    </tr>\n",
              "    <tr>\n",
              "      <th>1087282</th>\n",
              "      <td>tt14036602</td>\n",
              "      <td>Nude Tuesday</td>\n",
              "      <td>nm1318596</td>\n",
              "      <td>Jemaine Clement</td>\n",
              "      <td>13</td>\n",
              "      <td>(Nude Tuesday, Jemaine Clement)</td>\n",
              "      <td>(13, Jemaine Clement)</td>\n",
              "    </tr>\n",
              "    <tr>\n",
              "      <th>1153308</th>\n",
              "      <td>tt7618604</td>\n",
              "      <td>Patrick</td>\n",
              "      <td>nm1318596</td>\n",
              "      <td>Jemaine Clement</td>\n",
              "      <td>14</td>\n",
              "      <td>(Patrick, Jemaine Clement)</td>\n",
              "      <td>(14, Jemaine Clement)</td>\n",
              "    </tr>\n",
              "    <tr>\n",
              "      <th>1159296</th>\n",
              "      <td>tt4104022</td>\n",
              "      <td>People Places Things</td>\n",
              "      <td>nm1318596</td>\n",
              "      <td>Jemaine Clement</td>\n",
              "      <td>15</td>\n",
              "      <td>(People Places Things, Jemaine Clement)</td>\n",
              "      <td>(15, Jemaine Clement)</td>\n",
              "    </tr>\n",
              "    <tr>\n",
              "      <th>1190902</th>\n",
              "      <td>tt1574639</td>\n",
              "      <td>Predicament</td>\n",
              "      <td>nm1318596</td>\n",
              "      <td>Jemaine Clement</td>\n",
              "      <td>16</td>\n",
              "      <td>(Predicament, Jemaine Clement)</td>\n",
              "      <td>(16, Jemaine Clement)</td>\n",
              "    </tr>\n",
              "    <tr>\n",
              "      <th>1250451</th>\n",
              "      <td>tt2357291</td>\n",
              "      <td>Rio 2</td>\n",
              "      <td>nm1318596</td>\n",
              "      <td>Jemaine Clement</td>\n",
              "      <td>17</td>\n",
              "      <td>(Rio 2, Jemaine Clement)</td>\n",
              "      <td>(17, Jemaine Clement)</td>\n",
              "    </tr>\n",
              "    <tr>\n",
              "      <th>1297411</th>\n",
              "      <td>tt0189981</td>\n",
              "      <td>Scarfies</td>\n",
              "      <td>nm0169806</td>\n",
              "      <td>Taika Waititi</td>\n",
              "      <td>18</td>\n",
              "      <td>(Scarfies, Taika Waititi)</td>\n",
              "      <td>(18, Taika Waititi)</td>\n",
              "    </tr>\n",
              "    <tr>\n",
              "      <th>1318712</th>\n",
              "      <td>tt4270452</td>\n",
              "      <td>Seven Stages to Achieve Eternal Bliss</td>\n",
              "      <td>nm0169806</td>\n",
              "      <td>Taika Waititi</td>\n",
              "      <td>19</td>\n",
              "      <td>(Seven Stages to Achieve Eternal Bliss, Taika ...</td>\n",
              "      <td>(19, Taika Waititi)</td>\n",
              "    </tr>\n",
              "    <tr>\n",
              "      <th>1462397</th>\n",
              "      <td>tt3691740</td>\n",
              "      <td>The BFG</td>\n",
              "      <td>nm1318596</td>\n",
              "      <td>Jemaine Clement</td>\n",
              "      <td>20</td>\n",
              "      <td>(The BFG, Jemaine Clement)</td>\n",
              "      <td>(20, Jemaine Clement)</td>\n",
              "    </tr>\n",
              "    <tr>\n",
              "      <th>1674144</th>\n",
              "      <td>tt0352925</td>\n",
              "      <td>Tongan Ninja</td>\n",
              "      <td>nm1318596</td>\n",
              "      <td>Jemaine Clement</td>\n",
              "      <td>21</td>\n",
              "      <td>(Tongan Ninja, Jemaine Clement)</td>\n",
              "      <td>(21, Jemaine Clement)</td>\n",
              "    </tr>\n",
              "    <tr>\n",
              "      <th>1779114</th>\n",
              "      <td>tt3416742</td>\n",
              "      <td>What We Do in the Shadows</td>\n",
              "      <td>nm1318596</td>\n",
              "      <td>Jemaine Clement</td>\n",
              "      <td>22</td>\n",
              "      <td>(What We Do in the Shadows, Jemaine Clement)</td>\n",
              "      <td>(22, Jemaine Clement)</td>\n",
              "    </tr>\n",
              "    <tr>\n",
              "      <th>1779115</th>\n",
              "      <td>tt3416742</td>\n",
              "      <td>What We Do in the Shadows</td>\n",
              "      <td>nm0169806</td>\n",
              "      <td>Taika Waititi</td>\n",
              "      <td>22</td>\n",
              "      <td>(What We Do in the Shadows, Taika Waititi)</td>\n",
              "      <td>(22, Taika Waititi)</td>\n",
              "    </tr>\n",
              "  </tbody>\n",
              "</table>\n",
              "</div>"
            ],
            "text/plain": [
              "             tconst                           primaryTitle     nconst  \\\n",
              "98043    tt10303630               An American in Whakataki  nm1318596   \n",
              "98588     tt6518270      An Evening with Beverly Luff Linn  nm1318596   \n",
              "139953    tt5637536                               Avatar 5  nm1318596   \n",
              "217917    tt1560139                                    Boy  nm0169806   \n",
              "416238    tt3534282                            Don Verdean  nm1318596   \n",
              "440153    tt0494222                         Eagle vs Shark  nm1318596   \n",
              "533370    tt6264654                               Free Guy  nm0169806   \n",
              "536474    tt0425993       Frodo Is Great... Who Is That?!!  nm0169806   \n",
              "556876    tt1161418                      Gentlemen Broncos  nm1318596   \n",
              "670295   tt10887902                      I Used to Go Here  nm1318596   \n",
              "738880    tt2584384                            Jojo Rabbit  nm0169806   \n",
              "893347   tt10298810                              Lightyear  nm0169806   \n",
              "978831    tt1409024                         Men in Black 3  nm1318596   \n",
              "1087282  tt14036602                           Nude Tuesday  nm1318596   \n",
              "1153308   tt7618604                                Patrick  nm1318596   \n",
              "1159296   tt4104022                   People Places Things  nm1318596   \n",
              "1190902   tt1574639                            Predicament  nm1318596   \n",
              "1250451   tt2357291                                  Rio 2  nm1318596   \n",
              "1297411   tt0189981                               Scarfies  nm0169806   \n",
              "1318712   tt4270452  Seven Stages to Achieve Eternal Bliss  nm0169806   \n",
              "1462397   tt3691740                                The BFG  nm1318596   \n",
              "1674144   tt0352925                           Tongan Ninja  nm1318596   \n",
              "1779114   tt3416742              What We Do in the Shadows  nm1318596   \n",
              "1779115   tt3416742              What We Do in the Shadows  nm0169806   \n",
              "\n",
              "             primaryName  indeces  \\\n",
              "98043    Jemaine Clement        0   \n",
              "98588    Jemaine Clement        1   \n",
              "139953   Jemaine Clement        2   \n",
              "217917     Taika Waititi        3   \n",
              "416238   Jemaine Clement        4   \n",
              "440153   Jemaine Clement        5   \n",
              "533370     Taika Waititi        6   \n",
              "536474     Taika Waititi        7   \n",
              "556876   Jemaine Clement        8   \n",
              "670295   Jemaine Clement        9   \n",
              "738880     Taika Waititi       10   \n",
              "893347     Taika Waititi       11   \n",
              "978831   Jemaine Clement       12   \n",
              "1087282  Jemaine Clement       13   \n",
              "1153308  Jemaine Clement       14   \n",
              "1159296  Jemaine Clement       15   \n",
              "1190902  Jemaine Clement       16   \n",
              "1250451  Jemaine Clement       17   \n",
              "1297411    Taika Waititi       18   \n",
              "1318712    Taika Waititi       19   \n",
              "1462397  Jemaine Clement       20   \n",
              "1674144  Jemaine Clement       21   \n",
              "1779114  Jemaine Clement       22   \n",
              "1779115    Taika Waititi       22   \n",
              "\n",
              "                                            movieactorlist  \\\n",
              "98043          (An American in Whakataki, Jemaine Clement)   \n",
              "98588    (An Evening with Beverly Luff Linn, Jemaine Cl...   \n",
              "139953                         (Avatar 5, Jemaine Clement)   \n",
              "217917                                (Boy, Taika Waititi)   \n",
              "416238                      (Don Verdean, Jemaine Clement)   \n",
              "440153                   (Eagle vs Shark, Jemaine Clement)   \n",
              "533370                           (Free Guy, Taika Waititi)   \n",
              "536474   (Frodo Is Great... Who Is That?!!, Taika Waititi)   \n",
              "556876                (Gentlemen Broncos, Jemaine Clement)   \n",
              "670295                (I Used to Go Here, Jemaine Clement)   \n",
              "738880                        (Jojo Rabbit, Taika Waititi)   \n",
              "893347                          (Lightyear, Taika Waititi)   \n",
              "978831                   (Men in Black 3, Jemaine Clement)   \n",
              "1087282                    (Nude Tuesday, Jemaine Clement)   \n",
              "1153308                         (Patrick, Jemaine Clement)   \n",
              "1159296            (People Places Things, Jemaine Clement)   \n",
              "1190902                     (Predicament, Jemaine Clement)   \n",
              "1250451                           (Rio 2, Jemaine Clement)   \n",
              "1297411                          (Scarfies, Taika Waititi)   \n",
              "1318712  (Seven Stages to Achieve Eternal Bliss, Taika ...   \n",
              "1462397                         (The BFG, Jemaine Clement)   \n",
              "1674144                    (Tongan Ninja, Jemaine Clement)   \n",
              "1779114       (What We Do in the Shadows, Jemaine Clement)   \n",
              "1779115         (What We Do in the Shadows, Taika Waititi)   \n",
              "\n",
              "               movieactorlist2  \n",
              "98043     (0, Jemaine Clement)  \n",
              "98588     (1, Jemaine Clement)  \n",
              "139953    (2, Jemaine Clement)  \n",
              "217917      (3, Taika Waititi)  \n",
              "416238    (4, Jemaine Clement)  \n",
              "440153    (5, Jemaine Clement)  \n",
              "533370      (6, Taika Waititi)  \n",
              "536474      (7, Taika Waititi)  \n",
              "556876    (8, Jemaine Clement)  \n",
              "670295    (9, Jemaine Clement)  \n",
              "738880     (10, Taika Waititi)  \n",
              "893347     (11, Taika Waititi)  \n",
              "978831   (12, Jemaine Clement)  \n",
              "1087282  (13, Jemaine Clement)  \n",
              "1153308  (14, Jemaine Clement)  \n",
              "1159296  (15, Jemaine Clement)  \n",
              "1190902  (16, Jemaine Clement)  \n",
              "1250451  (17, Jemaine Clement)  \n",
              "1297411    (18, Taika Waititi)  \n",
              "1318712    (19, Taika Waititi)  \n",
              "1462397  (20, Jemaine Clement)  \n",
              "1674144  (21, Jemaine Clement)  \n",
              "1779114  (22, Jemaine Clement)  \n",
              "1779115    (22, Taika Waititi)  "
            ]
          },
          "execution_count": 65,
          "metadata": {},
          "output_type": "execute_result"
        }
      ],
      "source": [
        "jt"
      ],
      "id": "f105a96a"
    },
    {
      "cell_type": "code",
      "execution_count": null,
      "metadata": {
        "id": "66fe457e"
      },
      "outputs": [],
      "source": [
        "a,b = listcreation2(jt)"
      ],
      "id": "66fe457e"
    },
    {
      "cell_type": "code",
      "execution_count": null,
      "metadata": {
        "id": "77bc7e80"
      },
      "outputs": [],
      "source": [
        "edge = edgelistdirected(a,b)"
      ],
      "id": "77bc7e80"
    },
    {
      "cell_type": "code",
      "execution_count": null,
      "metadata": {
        "id": "4acaf92a"
      },
      "outputs": [],
      "source": [
        "with open('taikajemcountminusone.json', 'w') as f:\n",
        "    json.dump(edge,f)"
      ],
      "id": "4acaf92a"
    },
    {
      "cell_type": "markdown",
      "metadata": {
        "id": "7adc4104"
      },
      "source": [
        "## Network of years 2020-2021: filter out actors with one credit only"
      ],
      "id": "7adc4104"
    },
    {
      "cell_type": "markdown",
      "metadata": {
        "id": "632fcad6"
      },
      "source": [
        "By restricting the dataset some actors now have one credit only, giving way to a discrepancy between total indexes (labels) and nodes that have at leat one edge. I filter out those actors between indexing and creating the edges file again."
      ],
      "id": "632fcad6"
    },
    {
      "cell_type": "code",
      "execution_count": null,
      "metadata": {
        "id": "554aa779"
      },
      "outputs": [],
      "source": [
        "## datanew5 = pd.read_csv(\"C:/Users/carla/Downloads/archivio/data2021forjson.csv\")"
      ],
      "id": "554aa779"
    },
    {
      "cell_type": "code",
      "source": [
        "nw2021 = datatoprep4"
      ],
      "metadata": {
        "id": "h27791p_Hd_R"
      },
      "id": "h27791p_Hd_R",
      "execution_count": null,
      "outputs": []
    },
    {
      "cell_type": "code",
      "execution_count": null,
      "metadata": {
        "id": "ad1251d7",
        "outputId": "70df71d0-f9ce-4a29-fbad-3d09789345a3"
      },
      "outputs": [
        {
          "data": {
            "text/html": [
              "<div>\n",
              "<style scoped>\n",
              "    .dataframe tbody tr th:only-of-type {\n",
              "        vertical-align: middle;\n",
              "    }\n",
              "\n",
              "    .dataframe tbody tr th {\n",
              "        vertical-align: top;\n",
              "    }\n",
              "\n",
              "    .dataframe thead th {\n",
              "        text-align: right;\n",
              "    }\n",
              "</style>\n",
              "<table border=\"1\" class=\"dataframe\">\n",
              "  <thead>\n",
              "    <tr style=\"text-align: right;\">\n",
              "      <th></th>\n",
              "      <th>tconst</th>\n",
              "      <th>primaryTitle</th>\n",
              "      <th>nconst</th>\n",
              "      <th>primaryName</th>\n",
              "      <th>freq</th>\n",
              "    </tr>\n",
              "  </thead>\n",
              "  <tbody>\n",
              "    <tr>\n",
              "      <th>0</th>\n",
              "      <td>tt10620868</td>\n",
              "      <td>#Alive</td>\n",
              "      <td>nm2584860</td>\n",
              "      <td>Yoo Ah-in</td>\n",
              "      <td>2</td>\n",
              "    </tr>\n",
              "    <tr>\n",
              "      <th>1</th>\n",
              "      <td>tt10620868</td>\n",
              "      <td>#Alive</td>\n",
              "      <td>nm7270573</td>\n",
              "      <td>Hyun-Wook Lee</td>\n",
              "      <td>1</td>\n",
              "    </tr>\n",
              "    <tr>\n",
              "      <th>2</th>\n",
              "      <td>tt10620868</td>\n",
              "      <td>#Alive</td>\n",
              "      <td>nm3482978</td>\n",
              "      <td>Jeon Bae-soo</td>\n",
              "      <td>2</td>\n",
              "    </tr>\n",
              "    <tr>\n",
              "      <th>3</th>\n",
              "      <td>tt10620868</td>\n",
              "      <td>#Alive</td>\n",
              "      <td>nm2339975</td>\n",
              "      <td>Park Shin-Hye</td>\n",
              "      <td>2</td>\n",
              "    </tr>\n",
              "    <tr>\n",
              "      <th>4</th>\n",
              "      <td>tt14676376</td>\n",
              "      <td>#Challenge</td>\n",
              "      <td>nm0639232</td>\n",
              "      <td>Flor Núñez</td>\n",
              "      <td>1</td>\n",
              "    </tr>\n",
              "  </tbody>\n",
              "</table>\n",
              "</div>"
            ],
            "text/plain": [
              "       tconst primaryTitle     nconst    primaryName  freq\n",
              "0  tt10620868       #Alive  nm2584860      Yoo Ah-in     2\n",
              "1  tt10620868       #Alive  nm7270573  Hyun-Wook Lee     1\n",
              "2  tt10620868       #Alive  nm3482978   Jeon Bae-soo     2\n",
              "3  tt10620868       #Alive  nm2339975  Park Shin-Hye     2\n",
              "4  tt14676376   #Challenge  nm0639232     Flor Núñez     1"
            ]
          },
          "execution_count": 4,
          "metadata": {},
          "output_type": "execute_result"
        }
      ],
      "source": [
        "nw2021['freq'] = nw2021.groupby('primaryName')['primaryName'].transform('count') #count how many movies every actor has been in\n",
        "nw2021.head()"
      ],
      "id": "ad1251d7"
    },
    {
      "cell_type": "code",
      "execution_count": null,
      "metadata": {
        "id": "3225faa2"
      },
      "outputs": [],
      "source": [
        "nw2021 = nw2021[(nw2021.freq != 1 )]"
      ],
      "id": "3225faa2"
    },
    {
      "cell_type": "code",
      "execution_count": null,
      "metadata": {
        "id": "a9f249aa",
        "outputId": "a35db347-9678-447a-b664-b2107efa087b"
      },
      "outputs": [
        {
          "data": {
            "text/html": [
              "<div>\n",
              "<style scoped>\n",
              "    .dataframe tbody tr th:only-of-type {\n",
              "        vertical-align: middle;\n",
              "    }\n",
              "\n",
              "    .dataframe tbody tr th {\n",
              "        vertical-align: top;\n",
              "    }\n",
              "\n",
              "    .dataframe thead th {\n",
              "        text-align: right;\n",
              "    }\n",
              "</style>\n",
              "<table border=\"1\" class=\"dataframe\">\n",
              "  <thead>\n",
              "    <tr style=\"text-align: right;\">\n",
              "      <th></th>\n",
              "      <th>tconst</th>\n",
              "      <th>primaryTitle</th>\n",
              "      <th>nconst</th>\n",
              "      <th>primaryName</th>\n",
              "      <th>freq</th>\n",
              "    </tr>\n",
              "  </thead>\n",
              "  <tbody>\n",
              "    <tr>\n",
              "      <th>0</th>\n",
              "      <td>tt10620868</td>\n",
              "      <td>#Alive</td>\n",
              "      <td>nm2584860</td>\n",
              "      <td>Yoo Ah-in</td>\n",
              "      <td>2</td>\n",
              "    </tr>\n",
              "    <tr>\n",
              "      <th>2</th>\n",
              "      <td>tt10620868</td>\n",
              "      <td>#Alive</td>\n",
              "      <td>nm3482978</td>\n",
              "      <td>Jeon Bae-soo</td>\n",
              "      <td>2</td>\n",
              "    </tr>\n",
              "    <tr>\n",
              "      <th>3</th>\n",
              "      <td>tt10620868</td>\n",
              "      <td>#Alive</td>\n",
              "      <td>nm2339975</td>\n",
              "      <td>Park Shin-Hye</td>\n",
              "      <td>2</td>\n",
              "    </tr>\n",
              "    <tr>\n",
              "      <th>13</th>\n",
              "      <td>tt11640412</td>\n",
              "      <td>#FriendButMarried 2</td>\n",
              "      <td>nm9762527</td>\n",
              "      <td>Mawar Eva de Jongh</td>\n",
              "      <td>3</td>\n",
              "    </tr>\n",
              "    <tr>\n",
              "      <th>12</th>\n",
              "      <td>tt11640412</td>\n",
              "      <td>#FriendButMarried 2</td>\n",
              "      <td>nm9762527</td>\n",
              "      <td>Mawar Eva de Jongh</td>\n",
              "      <td>3</td>\n",
              "    </tr>\n",
              "  </tbody>\n",
              "</table>\n",
              "</div>"
            ],
            "text/plain": [
              "        tconst         primaryTitle     nconst         primaryName  freq\n",
              "0   tt10620868               #Alive  nm2584860           Yoo Ah-in     2\n",
              "2   tt10620868               #Alive  nm3482978        Jeon Bae-soo     2\n",
              "3   tt10620868               #Alive  nm2339975       Park Shin-Hye     2\n",
              "13  tt11640412  #FriendButMarried 2  nm9762527  Mawar Eva de Jongh     3\n",
              "12  tt11640412  #FriendButMarried 2  nm9762527  Mawar Eva de Jongh     3"
            ]
          },
          "execution_count": 6,
          "metadata": {},
          "output_type": "execute_result"
        }
      ],
      "source": [
        "nw2021= nw2021.sort_values(\"primaryTitle\")\n",
        "nw2021.head()"
      ],
      "id": "a9f249aa"
    },
    {
      "cell_type": "code",
      "execution_count": null,
      "metadata": {
        "id": "6c10010a"
      },
      "outputs": [],
      "source": [
        "nw2021 = nw2021.drop_duplicates()"
      ],
      "id": "6c10010a"
    },
    {
      "cell_type": "code",
      "execution_count": null,
      "metadata": {
        "id": "773f1689"
      },
      "outputs": [],
      "source": [
        "nw2021['movieactorlist'] = list(zip(nw2021.primaryTitle, nw2021.primaryName))"
      ],
      "id": "773f1689"
    },
    {
      "cell_type": "code",
      "execution_count": null,
      "metadata": {
        "id": "4ab86d1b"
      },
      "outputs": [],
      "source": [
        "indexing2 = indeces(nw2021)"
      ],
      "id": "4ab86d1b"
    },
    {
      "cell_type": "code",
      "execution_count": null,
      "metadata": {
        "id": "092fbf38"
      },
      "outputs": [],
      "source": [
        "nw2021['indeces'] = indexing2"
      ],
      "id": "092fbf38"
    },
    {
      "cell_type": "code",
      "execution_count": null,
      "metadata": {
        "id": "9c71433e",
        "outputId": "f68cb317-9768-40f6-d4e3-66b4daa59875"
      },
      "outputs": [
        {
          "data": {
            "text/html": [
              "<div>\n",
              "<style scoped>\n",
              "    .dataframe tbody tr th:only-of-type {\n",
              "        vertical-align: middle;\n",
              "    }\n",
              "\n",
              "    .dataframe tbody tr th {\n",
              "        vertical-align: top;\n",
              "    }\n",
              "\n",
              "    .dataframe thead th {\n",
              "        text-align: right;\n",
              "    }\n",
              "</style>\n",
              "<table border=\"1\" class=\"dataframe\">\n",
              "  <thead>\n",
              "    <tr style=\"text-align: right;\">\n",
              "      <th></th>\n",
              "      <th>tconst</th>\n",
              "      <th>primaryTitle</th>\n",
              "      <th>nconst</th>\n",
              "      <th>primaryName</th>\n",
              "      <th>freq</th>\n",
              "      <th>indeces</th>\n",
              "    </tr>\n",
              "  </thead>\n",
              "  <tbody>\n",
              "    <tr>\n",
              "      <th>0</th>\n",
              "      <td>tt10620868</td>\n",
              "      <td>#Alive</td>\n",
              "      <td>nm2584860</td>\n",
              "      <td>Yoo Ah-in</td>\n",
              "      <td>2</td>\n",
              "      <td>0</td>\n",
              "    </tr>\n",
              "    <tr>\n",
              "      <th>2</th>\n",
              "      <td>tt10620868</td>\n",
              "      <td>#Alive</td>\n",
              "      <td>nm3482978</td>\n",
              "      <td>Jeon Bae-soo</td>\n",
              "      <td>2</td>\n",
              "      <td>0</td>\n",
              "    </tr>\n",
              "    <tr>\n",
              "      <th>3</th>\n",
              "      <td>tt10620868</td>\n",
              "      <td>#Alive</td>\n",
              "      <td>nm2339975</td>\n",
              "      <td>Park Shin-Hye</td>\n",
              "      <td>2</td>\n",
              "      <td>0</td>\n",
              "    </tr>\n",
              "    <tr>\n",
              "      <th>13</th>\n",
              "      <td>tt11640412</td>\n",
              "      <td>#FriendButMarried 2</td>\n",
              "      <td>nm9762527</td>\n",
              "      <td>Mawar Eva de Jongh</td>\n",
              "      <td>3</td>\n",
              "      <td>1</td>\n",
              "    </tr>\n",
              "    <tr>\n",
              "      <th>10</th>\n",
              "      <td>tt11640412</td>\n",
              "      <td>#FriendButMarried 2</td>\n",
              "      <td>nm3668024</td>\n",
              "      <td>Adipati Dolken</td>\n",
              "      <td>4</td>\n",
              "      <td>1</td>\n",
              "    </tr>\n",
              "    <tr>\n",
              "      <th>...</th>\n",
              "      <td>...</td>\n",
              "      <td>...</td>\n",
              "      <td>...</td>\n",
              "      <td>...</td>\n",
              "      <td>...</td>\n",
              "      <td>...</td>\n",
              "    </tr>\n",
              "    <tr>\n",
              "      <th>41248</th>\n",
              "      <td>tt8721424</td>\n",
              "      <td>tick, tick... BOOM!</td>\n",
              "      <td>nm1940449</td>\n",
              "      <td>Andrew Garfield</td>\n",
              "      <td>3</td>\n",
              "      <td>8458</td>\n",
              "    </tr>\n",
              "    <tr>\n",
              "      <th>41247</th>\n",
              "      <td>tt8721424</td>\n",
              "      <td>tick, tick... BOOM!</td>\n",
              "      <td>nm3381295</td>\n",
              "      <td>Alexandra Shipp</td>\n",
              "      <td>5</td>\n",
              "      <td>8458</td>\n",
              "    </tr>\n",
              "    <tr>\n",
              "      <th>41250</th>\n",
              "      <td>tt8721424</td>\n",
              "      <td>tick, tick... BOOM!</td>\n",
              "      <td>nm1227814</td>\n",
              "      <td>Vanessa Hudgens</td>\n",
              "      <td>11</td>\n",
              "      <td>8458</td>\n",
              "    </tr>\n",
              "    <tr>\n",
              "      <th>41251</th>\n",
              "      <td>tt9755630</td>\n",
              "      <td>walledWITHOUT</td>\n",
              "      <td>nm0375532</td>\n",
              "      <td>Scott Hellon</td>\n",
              "      <td>12</td>\n",
              "      <td>8459</td>\n",
              "    </tr>\n",
              "    <tr>\n",
              "      <th>41254</th>\n",
              "      <td>tt13150080</td>\n",
              "      <td>¡A todo tren! Destino Asturias</td>\n",
              "      <td>nm0782213</td>\n",
              "      <td>Santiago Segura</td>\n",
              "      <td>3</td>\n",
              "      <td>8460</td>\n",
              "    </tr>\n",
              "  </tbody>\n",
              "</table>\n",
              "<p>18669 rows × 6 columns</p>\n",
              "</div>"
            ],
            "text/plain": [
              "           tconst                    primaryTitle     nconst  \\\n",
              "0      tt10620868                          #Alive  nm2584860   \n",
              "2      tt10620868                          #Alive  nm3482978   \n",
              "3      tt10620868                          #Alive  nm2339975   \n",
              "13     tt11640412             #FriendButMarried 2  nm9762527   \n",
              "10     tt11640412             #FriendButMarried 2  nm3668024   \n",
              "...           ...                             ...        ...   \n",
              "41248   tt8721424             tick, tick... BOOM!  nm1940449   \n",
              "41247   tt8721424             tick, tick... BOOM!  nm3381295   \n",
              "41250   tt8721424             tick, tick... BOOM!  nm1227814   \n",
              "41251   tt9755630                   walledWITHOUT  nm0375532   \n",
              "41254  tt13150080  ¡A todo tren! Destino Asturias  nm0782213   \n",
              "\n",
              "              primaryName  freq  indeces  \n",
              "0               Yoo Ah-in     2        0  \n",
              "2            Jeon Bae-soo     2        0  \n",
              "3           Park Shin-Hye     2        0  \n",
              "13     Mawar Eva de Jongh     3        1  \n",
              "10         Adipati Dolken     4        1  \n",
              "...                   ...   ...      ...  \n",
              "41248     Andrew Garfield     3     8458  \n",
              "41247     Alexandra Shipp     5     8458  \n",
              "41250     Vanessa Hudgens    11     8458  \n",
              "41251        Scott Hellon    12     8459  \n",
              "41254     Santiago Segura     3     8460  \n",
              "\n",
              "[18669 rows x 6 columns]"
            ]
          },
          "execution_count": 33,
          "metadata": {},
          "output_type": "execute_result"
        }
      ],
      "source": [
        "nw2021"
      ],
      "id": "9c71433e"
    },
    {
      "cell_type": "code",
      "execution_count": null,
      "metadata": {
        "id": "7ad2693b",
        "outputId": "3f1a189d-a6be-47d4-e588-7c71988b57a5"
      },
      "outputs": [
        {
          "data": {
            "text/html": [
              "<div>\n",
              "<style scoped>\n",
              "    .dataframe tbody tr th:only-of-type {\n",
              "        vertical-align: middle;\n",
              "    }\n",
              "\n",
              "    .dataframe tbody tr th {\n",
              "        vertical-align: top;\n",
              "    }\n",
              "\n",
              "    .dataframe thead th {\n",
              "        text-align: right;\n",
              "    }\n",
              "</style>\n",
              "<table border=\"1\" class=\"dataframe\">\n",
              "  <thead>\n",
              "    <tr style=\"text-align: right;\">\n",
              "      <th></th>\n",
              "      <th>tconst</th>\n",
              "      <th>primaryTitle</th>\n",
              "      <th>nconst</th>\n",
              "      <th>primaryName</th>\n",
              "      <th>freq</th>\n",
              "      <th>indeces</th>\n",
              "      <th>movieactorlist</th>\n",
              "      <th>movieactorlist2</th>\n",
              "    </tr>\n",
              "  </thead>\n",
              "  <tbody>\n",
              "    <tr>\n",
              "      <th>0</th>\n",
              "      <td>tt10620868</td>\n",
              "      <td>#Alive</td>\n",
              "      <td>nm2584860</td>\n",
              "      <td>Yoo Ah-in</td>\n",
              "      <td>2</td>\n",
              "      <td>0</td>\n",
              "      <td>(#Alive, Yoo Ah-in)</td>\n",
              "      <td>(0, Yoo Ah-in)</td>\n",
              "    </tr>\n",
              "    <tr>\n",
              "      <th>2</th>\n",
              "      <td>tt10620868</td>\n",
              "      <td>#Alive</td>\n",
              "      <td>nm3482978</td>\n",
              "      <td>Jeon Bae-soo</td>\n",
              "      <td>2</td>\n",
              "      <td>0</td>\n",
              "      <td>(#Alive, Jeon Bae-soo)</td>\n",
              "      <td>(0, Jeon Bae-soo)</td>\n",
              "    </tr>\n",
              "    <tr>\n",
              "      <th>3</th>\n",
              "      <td>tt10620868</td>\n",
              "      <td>#Alive</td>\n",
              "      <td>nm2339975</td>\n",
              "      <td>Park Shin-Hye</td>\n",
              "      <td>2</td>\n",
              "      <td>0</td>\n",
              "      <td>(#Alive, Park Shin-Hye)</td>\n",
              "      <td>(0, Park Shin-Hye)</td>\n",
              "    </tr>\n",
              "    <tr>\n",
              "      <th>13</th>\n",
              "      <td>tt11640412</td>\n",
              "      <td>#FriendButMarried 2</td>\n",
              "      <td>nm9762527</td>\n",
              "      <td>Mawar Eva de Jongh</td>\n",
              "      <td>3</td>\n",
              "      <td>1</td>\n",
              "      <td>(#FriendButMarried 2, Mawar Eva de Jongh)</td>\n",
              "      <td>(1, Mawar Eva de Jongh)</td>\n",
              "    </tr>\n",
              "    <tr>\n",
              "      <th>10</th>\n",
              "      <td>tt11640412</td>\n",
              "      <td>#FriendButMarried 2</td>\n",
              "      <td>nm3668024</td>\n",
              "      <td>Adipati Dolken</td>\n",
              "      <td>4</td>\n",
              "      <td>1</td>\n",
              "      <td>(#FriendButMarried 2, Adipati Dolken)</td>\n",
              "      <td>(1, Adipati Dolken)</td>\n",
              "    </tr>\n",
              "    <tr>\n",
              "      <th>...</th>\n",
              "      <td>...</td>\n",
              "      <td>...</td>\n",
              "      <td>...</td>\n",
              "      <td>...</td>\n",
              "      <td>...</td>\n",
              "      <td>...</td>\n",
              "      <td>...</td>\n",
              "      <td>...</td>\n",
              "    </tr>\n",
              "    <tr>\n",
              "      <th>41248</th>\n",
              "      <td>tt8721424</td>\n",
              "      <td>tick, tick... BOOM!</td>\n",
              "      <td>nm1940449</td>\n",
              "      <td>Andrew Garfield</td>\n",
              "      <td>3</td>\n",
              "      <td>8458</td>\n",
              "      <td>(tick, tick... BOOM!, Andrew Garfield)</td>\n",
              "      <td>(8458, Andrew Garfield)</td>\n",
              "    </tr>\n",
              "    <tr>\n",
              "      <th>41247</th>\n",
              "      <td>tt8721424</td>\n",
              "      <td>tick, tick... BOOM!</td>\n",
              "      <td>nm3381295</td>\n",
              "      <td>Alexandra Shipp</td>\n",
              "      <td>5</td>\n",
              "      <td>8458</td>\n",
              "      <td>(tick, tick... BOOM!, Alexandra Shipp)</td>\n",
              "      <td>(8458, Alexandra Shipp)</td>\n",
              "    </tr>\n",
              "    <tr>\n",
              "      <th>41250</th>\n",
              "      <td>tt8721424</td>\n",
              "      <td>tick, tick... BOOM!</td>\n",
              "      <td>nm1227814</td>\n",
              "      <td>Vanessa Hudgens</td>\n",
              "      <td>11</td>\n",
              "      <td>8458</td>\n",
              "      <td>(tick, tick... BOOM!, Vanessa Hudgens)</td>\n",
              "      <td>(8458, Vanessa Hudgens)</td>\n",
              "    </tr>\n",
              "    <tr>\n",
              "      <th>41251</th>\n",
              "      <td>tt9755630</td>\n",
              "      <td>walledWITHOUT</td>\n",
              "      <td>nm0375532</td>\n",
              "      <td>Scott Hellon</td>\n",
              "      <td>12</td>\n",
              "      <td>8459</td>\n",
              "      <td>(walledWITHOUT, Scott Hellon)</td>\n",
              "      <td>(8459, Scott Hellon)</td>\n",
              "    </tr>\n",
              "    <tr>\n",
              "      <th>41254</th>\n",
              "      <td>tt13150080</td>\n",
              "      <td>¡A todo tren! Destino Asturias</td>\n",
              "      <td>nm0782213</td>\n",
              "      <td>Santiago Segura</td>\n",
              "      <td>3</td>\n",
              "      <td>8460</td>\n",
              "      <td>(¡A todo tren! Destino Asturias, Santiago Segura)</td>\n",
              "      <td>(8460, Santiago Segura)</td>\n",
              "    </tr>\n",
              "  </tbody>\n",
              "</table>\n",
              "<p>18669 rows × 8 columns</p>\n",
              "</div>"
            ],
            "text/plain": [
              "           tconst                    primaryTitle     nconst  \\\n",
              "0      tt10620868                          #Alive  nm2584860   \n",
              "2      tt10620868                          #Alive  nm3482978   \n",
              "3      tt10620868                          #Alive  nm2339975   \n",
              "13     tt11640412             #FriendButMarried 2  nm9762527   \n",
              "10     tt11640412             #FriendButMarried 2  nm3668024   \n",
              "...           ...                             ...        ...   \n",
              "41248   tt8721424             tick, tick... BOOM!  nm1940449   \n",
              "41247   tt8721424             tick, tick... BOOM!  nm3381295   \n",
              "41250   tt8721424             tick, tick... BOOM!  nm1227814   \n",
              "41251   tt9755630                   walledWITHOUT  nm0375532   \n",
              "41254  tt13150080  ¡A todo tren! Destino Asturias  nm0782213   \n",
              "\n",
              "              primaryName  freq  indeces  \\\n",
              "0               Yoo Ah-in     2        0   \n",
              "2            Jeon Bae-soo     2        0   \n",
              "3           Park Shin-Hye     2        0   \n",
              "13     Mawar Eva de Jongh     3        1   \n",
              "10         Adipati Dolken     4        1   \n",
              "...                   ...   ...      ...   \n",
              "41248     Andrew Garfield     3     8458   \n",
              "41247     Alexandra Shipp     5     8458   \n",
              "41250     Vanessa Hudgens    11     8458   \n",
              "41251        Scott Hellon    12     8459   \n",
              "41254     Santiago Segura     3     8460   \n",
              "\n",
              "                                          movieactorlist  \\\n",
              "0                                    (#Alive, Yoo Ah-in)   \n",
              "2                                 (#Alive, Jeon Bae-soo)   \n",
              "3                                (#Alive, Park Shin-Hye)   \n",
              "13             (#FriendButMarried 2, Mawar Eva de Jongh)   \n",
              "10                 (#FriendButMarried 2, Adipati Dolken)   \n",
              "...                                                  ...   \n",
              "41248             (tick, tick... BOOM!, Andrew Garfield)   \n",
              "41247             (tick, tick... BOOM!, Alexandra Shipp)   \n",
              "41250             (tick, tick... BOOM!, Vanessa Hudgens)   \n",
              "41251                      (walledWITHOUT, Scott Hellon)   \n",
              "41254  (¡A todo tren! Destino Asturias, Santiago Segura)   \n",
              "\n",
              "               movieactorlist2  \n",
              "0               (0, Yoo Ah-in)  \n",
              "2            (0, Jeon Bae-soo)  \n",
              "3           (0, Park Shin-Hye)  \n",
              "13     (1, Mawar Eva de Jongh)  \n",
              "10         (1, Adipati Dolken)  \n",
              "...                        ...  \n",
              "41248  (8458, Andrew Garfield)  \n",
              "41247  (8458, Alexandra Shipp)  \n",
              "41250  (8458, Vanessa Hudgens)  \n",
              "41251     (8459, Scott Hellon)  \n",
              "41254  (8460, Santiago Segura)  \n",
              "\n",
              "[18669 rows x 8 columns]"
            ]
          },
          "execution_count": 34,
          "metadata": {},
          "output_type": "execute_result"
        }
      ],
      "source": [
        "nw2021['movieactorlist'] = list(zip(nw2021.primaryTitle, nw2021.primaryName))\n",
        "nw2021['movieactorlist2'] = list(zip(nw2021.indeces, nw2021.primaryName))\n",
        "nw2021"
      ],
      "id": "7ad2693b"
    },
    {
      "cell_type": "code",
      "execution_count": null,
      "metadata": {
        "id": "14aca3f6"
      },
      "outputs": [],
      "source": [
        "a,b = listcreation2(nw2021)\n",
        "\n",
        "edge = edgelistdirected(a,b)\n",
        "\n",
        "edge"
      ],
      "id": "14aca3f6"
    },
    {
      "cell_type": "code",
      "execution_count": null,
      "metadata": {
        "id": "7efb9ec3"
      },
      "outputs": [],
      "source": [
        "import json\n",
        "# save as json\n",
        "with open('ventiventuno.json', 'w') as f:\n",
        "    json.dump(edge,f)"
      ],
      "id": "7efb9ec3"
    },
    {
      "cell_type": "code",
      "execution_count": null,
      "metadata": {
        "id": "9f97d303"
      },
      "outputs": [],
      "source": [
        "##save the indeces list for eventual later use"
      ],
      "id": "9f97d303"
    },
    {
      "cell_type": "code",
      "execution_count": null,
      "metadata": {
        "id": "c958f71d"
      },
      "outputs": [],
      "source": [
        "titles = set(nw2021['primaryTitle'].values.tolist())"
      ],
      "id": "c958f71d"
    },
    {
      "cell_type": "code",
      "execution_count": null,
      "metadata": {
        "id": "e60f17d9"
      },
      "outputs": [],
      "source": [
        "titles = sorted(titles)\n",
        "titles"
      ],
      "id": "e60f17d9"
    },
    {
      "cell_type": "code",
      "execution_count": null,
      "metadata": {
        "id": "6fd7f751"
      },
      "outputs": [],
      "source": [
        "import json\n",
        "# save as json\n",
        "with open('titles2021.json', 'w') as f:\n",
        "    json.dump(titles,f)"
      ],
      "id": "6fd7f751"
    },
    {
      "cell_type": "code",
      "execution_count": null,
      "metadata": {
        "id": "0eed3ea8"
      },
      "outputs": [],
      "source": [
        "titlesjemtaika = (jt['primaryTitle'].values.tolist())"
      ],
      "id": "0eed3ea8"
    },
    {
      "cell_type": "code",
      "execution_count": null,
      "metadata": {
        "id": "69ffa36c",
        "outputId": "7895367a-1798-4f4f-c921-ada536a7d9e5"
      },
      "outputs": [
        {
          "data": {
            "text/plain": [
              "['An American in Whakataki',\n",
              " 'An Evening with Beverly Luff Linn',\n",
              " 'Avatar 5',\n",
              " 'Boy',\n",
              " 'Don Verdean',\n",
              " 'Eagle vs Shark',\n",
              " 'Free Guy',\n",
              " 'Frodo Is Great... Who Is That?!!',\n",
              " 'Gentlemen Broncos',\n",
              " 'I Used to Go Here',\n",
              " 'Jojo Rabbit',\n",
              " 'Lightyear',\n",
              " 'Men in Black 3',\n",
              " 'Nude Tuesday',\n",
              " 'Patrick',\n",
              " 'People Places Things',\n",
              " 'Predicament',\n",
              " 'Rio 2',\n",
              " 'Scarfies',\n",
              " 'Seven Stages to Achieve Eternal Bliss',\n",
              " 'The BFG',\n",
              " 'Tongan Ninja',\n",
              " 'What We Do in the Shadows',\n",
              " 'What We Do in the Shadows']"
            ]
          },
          "execution_count": 38,
          "metadata": {},
          "output_type": "execute_result"
        }
      ],
      "source": [
        "titlesjemtaika"
      ],
      "id": "69ffa36c"
    },
    {
      "cell_type": "code",
      "execution_count": null,
      "metadata": {
        "id": "45460136",
        "outputId": "81ad9fe6-9954-489e-d99d-82dbcb118b0d"
      },
      "outputs": [
        {
          "data": {
            "text/plain": [
              "['An American in Whakataki',\n",
              " 'An Evening with Beverly Luff Linn',\n",
              " 'Avatar 5',\n",
              " 'Boy',\n",
              " 'Don Verdean',\n",
              " 'Eagle vs Shark',\n",
              " 'Free Guy',\n",
              " 'Frodo Is Great... Who Is That?!!',\n",
              " 'Gentlemen Broncos',\n",
              " 'I Used to Go Here',\n",
              " 'Jojo Rabbit',\n",
              " 'Lightyear',\n",
              " 'Men in Black 3',\n",
              " 'Nude Tuesday',\n",
              " 'Patrick',\n",
              " 'People Places Things',\n",
              " 'Predicament',\n",
              " 'Rio 2',\n",
              " 'Scarfies',\n",
              " 'Seven Stages to Achieve Eternal Bliss',\n",
              " 'The BFG',\n",
              " 'Tongan Ninja',\n",
              " 'What We Do in the Shadows']"
            ]
          },
          "execution_count": 39,
          "metadata": {},
          "output_type": "execute_result"
        }
      ],
      "source": [
        "titlesjemtaika = set(titlesjemtaika)\n",
        "titlesjemtaika = sorted(titlesjemtaika)\n",
        "titlesjemtaika"
      ],
      "id": "45460136"
    },
    {
      "cell_type": "code",
      "execution_count": null,
      "metadata": {
        "id": "6c42c234"
      },
      "outputs": [],
      "source": [
        "import json\n",
        "# save as json\n",
        "with open('titlesjemtaika.json', 'w') as f:\n",
        "    json.dump(titlesjemtaika,f)"
      ],
      "id": "6c42c234"
    },
    {
      "cell_type": "markdown",
      "source": [
        "# PageRank"
      ],
      "metadata": {
        "id": "a78kMLnLDrvn"
      },
      "id": "a78kMLnLDrvn"
    },
    {
      "cell_type": "markdown",
      "source": [
        "The following part is based on an adaptation of the code for the Page Rank algorithm seen during the course and tutoring lessons. Particularly, I found that the adaptation of the code that removes the Euclidean distance function and only bases the iterations on a range lenght (as seen during tutoring) works on both the small network of 23 nodes (movies) and two actors and a network of 8461 nodes (2020-2021 dataset).\n",
        "\n",
        "When using the algorithm as seen in class the adaptation only works on the small network, due to an error in the computation of the Euclidean distance. For completeness reasons, I decided to keep the implementation in the project to show my attempt at implementing the solution.\n",
        "\n",
        "For scaling up replicability, the algorithms have been implemented using Spark."
      ],
      "metadata": {
        "id": "seWcUaBBDj-w"
      },
      "id": "seWcUaBBDj-w"
    },
    {
      "cell_type": "code",
      "execution_count": null,
      "metadata": {
        "id": "Xj4ROC_zNLbY"
      },
      "outputs": [],
      "source": [
        "!apt-get install openjdk-8-jdk-headless -qq > /dev/null\n",
        "!wget -q https://dlcdn.apache.org/spark/spark-3.3.1/spark-3.3.1-bin-hadoop3.tgz\n",
        "!tar xf spark-3.3.1-bin-hadoop3.tgz\n",
        "!pip install -q findspark\n",
        "\n",
        "import os\n",
        "os.environ[\"JAVA_HOME\"] = \"/usr/lib/jvm/java-8-openjdk-amd64\"\n",
        "os.environ[\"SPARK_HOME\"] = \"/spark-3.3.1-bin-hadoop3\"\n",
        "\n",
        "import findspark\n",
        "findspark.init(\"spark-3.3.1-bin-hadoop3\")# SPARK_HOME\n",
        "from pyspark.sql import SparkSession\n",
        "spark = SparkSession.builder.master(\"local[*]\").getOrCreate()\n",
        "\n",
        "sc = spark.sparkContext"
      ],
      "id": "Xj4ROC_zNLbY"
    },
    {
      "cell_type": "code",
      "source": [
        "import pandas as pd\n",
        "import io\n",
        "import networkx as nx\n",
        "import matplotlib.pyplot as plt\n",
        "import numpy as np\n",
        "from matplotlib.pyplot import figure\n",
        "figure(figsize=(100, 100), dpi=80)\n",
        "from networkx import pagerank"
      ],
      "metadata": {
        "colab": {
          "base_uri": "https://localhost:8080/",
          "height": 34
        },
        "id": "Tyl0b57jNPBQ",
        "outputId": "3af159e3-c5c8-4b40-c576-2eb77a63ee33"
      },
      "execution_count": null,
      "outputs": [
        {
          "output_type": "display_data",
          "data": {
            "text/plain": [
              "<Figure size 8000x8000 with 0 Axes>"
            ]
          },
          "metadata": {}
        }
      ],
      "id": "Tyl0b57jNPBQ"
    },
    {
      "cell_type": "markdown",
      "source": [
        "# PageRank (Iterations only) on small network"
      ],
      "metadata": {
        "id": "7VLkMcOXDi36"
      },
      "id": "7VLkMcOXDi36"
    },
    {
      "cell_type": "code",
      "source": [
        "from google.colab import files \n",
        "titles = files.upload()"
      ],
      "metadata": {
        "colab": {
          "base_uri": "https://localhost:8080/",
          "height": 74
        },
        "id": "aMC3PRBdVhSR",
        "outputId": "f45a8957-bd63-41d9-9605-4e505d3e57a1"
      },
      "execution_count": null,
      "outputs": [
        {
          "output_type": "display_data",
          "data": {
            "text/plain": [
              "<IPython.core.display.HTML object>"
            ],
            "text/html": [
              "\n",
              "     <input type=\"file\" id=\"files-ee755c15-f858-49df-8b37-0c79f796d6bc\" name=\"files[]\" multiple disabled\n",
              "        style=\"border:none\" />\n",
              "     <output id=\"result-ee755c15-f858-49df-8b37-0c79f796d6bc\">\n",
              "      Upload widget is only available when the cell has been executed in the\n",
              "      current browser session. Please rerun this cell to enable.\n",
              "      </output>\n",
              "      <script>// Copyright 2017 Google LLC\n",
              "//\n",
              "// Licensed under the Apache License, Version 2.0 (the \"License\");\n",
              "// you may not use this file except in compliance with the License.\n",
              "// You may obtain a copy of the License at\n",
              "//\n",
              "//      http://www.apache.org/licenses/LICENSE-2.0\n",
              "//\n",
              "// Unless required by applicable law or agreed to in writing, software\n",
              "// distributed under the License is distributed on an \"AS IS\" BASIS,\n",
              "// WITHOUT WARRANTIES OR CONDITIONS OF ANY KIND, either express or implied.\n",
              "// See the License for the specific language governing permissions and\n",
              "// limitations under the License.\n",
              "\n",
              "/**\n",
              " * @fileoverview Helpers for google.colab Python module.\n",
              " */\n",
              "(function(scope) {\n",
              "function span(text, styleAttributes = {}) {\n",
              "  const element = document.createElement('span');\n",
              "  element.textContent = text;\n",
              "  for (const key of Object.keys(styleAttributes)) {\n",
              "    element.style[key] = styleAttributes[key];\n",
              "  }\n",
              "  return element;\n",
              "}\n",
              "\n",
              "// Max number of bytes which will be uploaded at a time.\n",
              "const MAX_PAYLOAD_SIZE = 100 * 1024;\n",
              "\n",
              "function _uploadFiles(inputId, outputId) {\n",
              "  const steps = uploadFilesStep(inputId, outputId);\n",
              "  const outputElement = document.getElementById(outputId);\n",
              "  // Cache steps on the outputElement to make it available for the next call\n",
              "  // to uploadFilesContinue from Python.\n",
              "  outputElement.steps = steps;\n",
              "\n",
              "  return _uploadFilesContinue(outputId);\n",
              "}\n",
              "\n",
              "// This is roughly an async generator (not supported in the browser yet),\n",
              "// where there are multiple asynchronous steps and the Python side is going\n",
              "// to poll for completion of each step.\n",
              "// This uses a Promise to block the python side on completion of each step,\n",
              "// then passes the result of the previous step as the input to the next step.\n",
              "function _uploadFilesContinue(outputId) {\n",
              "  const outputElement = document.getElementById(outputId);\n",
              "  const steps = outputElement.steps;\n",
              "\n",
              "  const next = steps.next(outputElement.lastPromiseValue);\n",
              "  return Promise.resolve(next.value.promise).then((value) => {\n",
              "    // Cache the last promise value to make it available to the next\n",
              "    // step of the generator.\n",
              "    outputElement.lastPromiseValue = value;\n",
              "    return next.value.response;\n",
              "  });\n",
              "}\n",
              "\n",
              "/**\n",
              " * Generator function which is called between each async step of the upload\n",
              " * process.\n",
              " * @param {string} inputId Element ID of the input file picker element.\n",
              " * @param {string} outputId Element ID of the output display.\n",
              " * @return {!Iterable<!Object>} Iterable of next steps.\n",
              " */\n",
              "function* uploadFilesStep(inputId, outputId) {\n",
              "  const inputElement = document.getElementById(inputId);\n",
              "  inputElement.disabled = false;\n",
              "\n",
              "  const outputElement = document.getElementById(outputId);\n",
              "  outputElement.innerHTML = '';\n",
              "\n",
              "  const pickedPromise = new Promise((resolve) => {\n",
              "    inputElement.addEventListener('change', (e) => {\n",
              "      resolve(e.target.files);\n",
              "    });\n",
              "  });\n",
              "\n",
              "  const cancel = document.createElement('button');\n",
              "  inputElement.parentElement.appendChild(cancel);\n",
              "  cancel.textContent = 'Cancel upload';\n",
              "  const cancelPromise = new Promise((resolve) => {\n",
              "    cancel.onclick = () => {\n",
              "      resolve(null);\n",
              "    };\n",
              "  });\n",
              "\n",
              "  // Wait for the user to pick the files.\n",
              "  const files = yield {\n",
              "    promise: Promise.race([pickedPromise, cancelPromise]),\n",
              "    response: {\n",
              "      action: 'starting',\n",
              "    }\n",
              "  };\n",
              "\n",
              "  cancel.remove();\n",
              "\n",
              "  // Disable the input element since further picks are not allowed.\n",
              "  inputElement.disabled = true;\n",
              "\n",
              "  if (!files) {\n",
              "    return {\n",
              "      response: {\n",
              "        action: 'complete',\n",
              "      }\n",
              "    };\n",
              "  }\n",
              "\n",
              "  for (const file of files) {\n",
              "    const li = document.createElement('li');\n",
              "    li.append(span(file.name, {fontWeight: 'bold'}));\n",
              "    li.append(span(\n",
              "        `(${file.type || 'n/a'}) - ${file.size} bytes, ` +\n",
              "        `last modified: ${\n",
              "            file.lastModifiedDate ? file.lastModifiedDate.toLocaleDateString() :\n",
              "                                    'n/a'} - `));\n",
              "    const percent = span('0% done');\n",
              "    li.appendChild(percent);\n",
              "\n",
              "    outputElement.appendChild(li);\n",
              "\n",
              "    const fileDataPromise = new Promise((resolve) => {\n",
              "      const reader = new FileReader();\n",
              "      reader.onload = (e) => {\n",
              "        resolve(e.target.result);\n",
              "      };\n",
              "      reader.readAsArrayBuffer(file);\n",
              "    });\n",
              "    // Wait for the data to be ready.\n",
              "    let fileData = yield {\n",
              "      promise: fileDataPromise,\n",
              "      response: {\n",
              "        action: 'continue',\n",
              "      }\n",
              "    };\n",
              "\n",
              "    // Use a chunked sending to avoid message size limits. See b/62115660.\n",
              "    let position = 0;\n",
              "    do {\n",
              "      const length = Math.min(fileData.byteLength - position, MAX_PAYLOAD_SIZE);\n",
              "      const chunk = new Uint8Array(fileData, position, length);\n",
              "      position += length;\n",
              "\n",
              "      const base64 = btoa(String.fromCharCode.apply(null, chunk));\n",
              "      yield {\n",
              "        response: {\n",
              "          action: 'append',\n",
              "          file: file.name,\n",
              "          data: base64,\n",
              "        },\n",
              "      };\n",
              "\n",
              "      let percentDone = fileData.byteLength === 0 ?\n",
              "          100 :\n",
              "          Math.round((position / fileData.byteLength) * 100);\n",
              "      percent.textContent = `${percentDone}% done`;\n",
              "\n",
              "    } while (position < fileData.byteLength);\n",
              "  }\n",
              "\n",
              "  // All done.\n",
              "  yield {\n",
              "    response: {\n",
              "      action: 'complete',\n",
              "    }\n",
              "  };\n",
              "}\n",
              "\n",
              "scope.google = scope.google || {};\n",
              "scope.google.colab = scope.google.colab || {};\n",
              "scope.google.colab._files = {\n",
              "  _uploadFiles,\n",
              "  _uploadFilesContinue,\n",
              "};\n",
              "})(self);\n",
              "</script> "
            ]
          },
          "metadata": {}
        },
        {
          "output_type": "stream",
          "name": "stdout",
          "text": [
            "Saving titlesjemtaika.json to titlesjemtaika.json\n"
          ]
        }
      ],
      "id": "aMC3PRBdVhSR"
    },
    {
      "cell_type": "code",
      "source": [
        "titles = pd.read_json(io.StringIO(titles.get('titlesjemtaika.json').decode('utf-8')))"
      ],
      "metadata": {
        "id": "ZN6vsfqvVhZB"
      },
      "execution_count": null,
      "outputs": [],
      "id": "ZN6vsfqvVhZB"
    },
    {
      "cell_type": "code",
      "source": [
        "titles = list(titles[0])"
      ],
      "metadata": {
        "id": "d86U_SlEVhdW"
      },
      "execution_count": null,
      "outputs": [],
      "id": "d86U_SlEVhdW"
    },
    {
      "cell_type": "code",
      "source": [
        "nodes = range(len(titles))\n",
        "nodes_index = {p: l for p, l in zip(nodes, titles)}\n",
        "nodes_index"
      ],
      "metadata": {
        "colab": {
          "base_uri": "https://localhost:8080/"
        },
        "id": "wJZ4CrCvVhgk",
        "outputId": "7d7aa5ed-8969-4e50-de16-d9e7b85b9f21"
      },
      "execution_count": null,
      "outputs": [
        {
          "output_type": "execute_result",
          "data": {
            "text/plain": [
              "{0: 'An American in Whakataki',\n",
              " 1: 'An Evening with Beverly Luff Linn',\n",
              " 2: 'Avatar 5',\n",
              " 3: 'Boy',\n",
              " 4: 'Don Verdean',\n",
              " 5: 'Eagle vs Shark',\n",
              " 6: 'Free Guy',\n",
              " 7: 'Frodo Is Great... Who Is That?!!',\n",
              " 8: 'Gentlemen Broncos',\n",
              " 9: 'I Used to Go Here',\n",
              " 10: 'Jojo Rabbit',\n",
              " 11: 'Lightyear',\n",
              " 12: 'Men in Black 3',\n",
              " 13: 'Nude Tuesday',\n",
              " 14: 'Patrick',\n",
              " 15: 'People Places Things',\n",
              " 16: 'Predicament',\n",
              " 17: 'Rio 2',\n",
              " 18: 'Scarfies',\n",
              " 19: 'Seven Stages to Achieve Eternal Bliss',\n",
              " 20: 'The BFG',\n",
              " 21: 'Tongan Ninja',\n",
              " 22: 'What We Do in the Shadows'}"
            ]
          },
          "metadata": {},
          "execution_count": 8
        }
      ],
      "id": "wJZ4CrCvVhgk"
    },
    {
      "cell_type": "code",
      "source": [
        "from google.colab import files\n",
        "uploaded = files.upload()"
      ],
      "metadata": {
        "colab": {
          "base_uri": "https://localhost:8080/",
          "height": 74
        },
        "outputId": "0711afdd-ae29-4a0e-eeec-d96074b39e59",
        "id": "128jcblANpFT"
      },
      "execution_count": null,
      "outputs": [
        {
          "output_type": "display_data",
          "data": {
            "text/plain": [
              "<IPython.core.display.HTML object>"
            ],
            "text/html": [
              "\n",
              "     <input type=\"file\" id=\"files-8622b92d-52c5-4eda-af23-0dd4538c3aee\" name=\"files[]\" multiple disabled\n",
              "        style=\"border:none\" />\n",
              "     <output id=\"result-8622b92d-52c5-4eda-af23-0dd4538c3aee\">\n",
              "      Upload widget is only available when the cell has been executed in the\n",
              "      current browser session. Please rerun this cell to enable.\n",
              "      </output>\n",
              "      <script>// Copyright 2017 Google LLC\n",
              "//\n",
              "// Licensed under the Apache License, Version 2.0 (the \"License\");\n",
              "// you may not use this file except in compliance with the License.\n",
              "// You may obtain a copy of the License at\n",
              "//\n",
              "//      http://www.apache.org/licenses/LICENSE-2.0\n",
              "//\n",
              "// Unless required by applicable law or agreed to in writing, software\n",
              "// distributed under the License is distributed on an \"AS IS\" BASIS,\n",
              "// WITHOUT WARRANTIES OR CONDITIONS OF ANY KIND, either express or implied.\n",
              "// See the License for the specific language governing permissions and\n",
              "// limitations under the License.\n",
              "\n",
              "/**\n",
              " * @fileoverview Helpers for google.colab Python module.\n",
              " */\n",
              "(function(scope) {\n",
              "function span(text, styleAttributes = {}) {\n",
              "  const element = document.createElement('span');\n",
              "  element.textContent = text;\n",
              "  for (const key of Object.keys(styleAttributes)) {\n",
              "    element.style[key] = styleAttributes[key];\n",
              "  }\n",
              "  return element;\n",
              "}\n",
              "\n",
              "// Max number of bytes which will be uploaded at a time.\n",
              "const MAX_PAYLOAD_SIZE = 100 * 1024;\n",
              "\n",
              "function _uploadFiles(inputId, outputId) {\n",
              "  const steps = uploadFilesStep(inputId, outputId);\n",
              "  const outputElement = document.getElementById(outputId);\n",
              "  // Cache steps on the outputElement to make it available for the next call\n",
              "  // to uploadFilesContinue from Python.\n",
              "  outputElement.steps = steps;\n",
              "\n",
              "  return _uploadFilesContinue(outputId);\n",
              "}\n",
              "\n",
              "// This is roughly an async generator (not supported in the browser yet),\n",
              "// where there are multiple asynchronous steps and the Python side is going\n",
              "// to poll for completion of each step.\n",
              "// This uses a Promise to block the python side on completion of each step,\n",
              "// then passes the result of the previous step as the input to the next step.\n",
              "function _uploadFilesContinue(outputId) {\n",
              "  const outputElement = document.getElementById(outputId);\n",
              "  const steps = outputElement.steps;\n",
              "\n",
              "  const next = steps.next(outputElement.lastPromiseValue);\n",
              "  return Promise.resolve(next.value.promise).then((value) => {\n",
              "    // Cache the last promise value to make it available to the next\n",
              "    // step of the generator.\n",
              "    outputElement.lastPromiseValue = value;\n",
              "    return next.value.response;\n",
              "  });\n",
              "}\n",
              "\n",
              "/**\n",
              " * Generator function which is called between each async step of the upload\n",
              " * process.\n",
              " * @param {string} inputId Element ID of the input file picker element.\n",
              " * @param {string} outputId Element ID of the output display.\n",
              " * @return {!Iterable<!Object>} Iterable of next steps.\n",
              " */\n",
              "function* uploadFilesStep(inputId, outputId) {\n",
              "  const inputElement = document.getElementById(inputId);\n",
              "  inputElement.disabled = false;\n",
              "\n",
              "  const outputElement = document.getElementById(outputId);\n",
              "  outputElement.innerHTML = '';\n",
              "\n",
              "  const pickedPromise = new Promise((resolve) => {\n",
              "    inputElement.addEventListener('change', (e) => {\n",
              "      resolve(e.target.files);\n",
              "    });\n",
              "  });\n",
              "\n",
              "  const cancel = document.createElement('button');\n",
              "  inputElement.parentElement.appendChild(cancel);\n",
              "  cancel.textContent = 'Cancel upload';\n",
              "  const cancelPromise = new Promise((resolve) => {\n",
              "    cancel.onclick = () => {\n",
              "      resolve(null);\n",
              "    };\n",
              "  });\n",
              "\n",
              "  // Wait for the user to pick the files.\n",
              "  const files = yield {\n",
              "    promise: Promise.race([pickedPromise, cancelPromise]),\n",
              "    response: {\n",
              "      action: 'starting',\n",
              "    }\n",
              "  };\n",
              "\n",
              "  cancel.remove();\n",
              "\n",
              "  // Disable the input element since further picks are not allowed.\n",
              "  inputElement.disabled = true;\n",
              "\n",
              "  if (!files) {\n",
              "    return {\n",
              "      response: {\n",
              "        action: 'complete',\n",
              "      }\n",
              "    };\n",
              "  }\n",
              "\n",
              "  for (const file of files) {\n",
              "    const li = document.createElement('li');\n",
              "    li.append(span(file.name, {fontWeight: 'bold'}));\n",
              "    li.append(span(\n",
              "        `(${file.type || 'n/a'}) - ${file.size} bytes, ` +\n",
              "        `last modified: ${\n",
              "            file.lastModifiedDate ? file.lastModifiedDate.toLocaleDateString() :\n",
              "                                    'n/a'} - `));\n",
              "    const percent = span('0% done');\n",
              "    li.appendChild(percent);\n",
              "\n",
              "    outputElement.appendChild(li);\n",
              "\n",
              "    const fileDataPromise = new Promise((resolve) => {\n",
              "      const reader = new FileReader();\n",
              "      reader.onload = (e) => {\n",
              "        resolve(e.target.result);\n",
              "      };\n",
              "      reader.readAsArrayBuffer(file);\n",
              "    });\n",
              "    // Wait for the data to be ready.\n",
              "    let fileData = yield {\n",
              "      promise: fileDataPromise,\n",
              "      response: {\n",
              "        action: 'continue',\n",
              "      }\n",
              "    };\n",
              "\n",
              "    // Use a chunked sending to avoid message size limits. See b/62115660.\n",
              "    let position = 0;\n",
              "    do {\n",
              "      const length = Math.min(fileData.byteLength - position, MAX_PAYLOAD_SIZE);\n",
              "      const chunk = new Uint8Array(fileData, position, length);\n",
              "      position += length;\n",
              "\n",
              "      const base64 = btoa(String.fromCharCode.apply(null, chunk));\n",
              "      yield {\n",
              "        response: {\n",
              "          action: 'append',\n",
              "          file: file.name,\n",
              "          data: base64,\n",
              "        },\n",
              "      };\n",
              "\n",
              "      let percentDone = fileData.byteLength === 0 ?\n",
              "          100 :\n",
              "          Math.round((position / fileData.byteLength) * 100);\n",
              "      percent.textContent = `${percentDone}% done`;\n",
              "\n",
              "    } while (position < fileData.byteLength);\n",
              "  }\n",
              "\n",
              "  // All done.\n",
              "  yield {\n",
              "    response: {\n",
              "      action: 'complete',\n",
              "    }\n",
              "  };\n",
              "}\n",
              "\n",
              "scope.google = scope.google || {};\n",
              "scope.google.colab = scope.google.colab || {};\n",
              "scope.google.colab._files = {\n",
              "  _uploadFiles,\n",
              "  _uploadFilesContinue,\n",
              "};\n",
              "})(self);\n",
              "</script> "
            ]
          },
          "metadata": {}
        },
        {
          "output_type": "stream",
          "name": "stdout",
          "text": [
            "Saving taikajemcountminusone.json to taikajemcountminusone.json\n"
          ]
        }
      ],
      "id": "128jcblANpFT"
    },
    {
      "cell_type": "code",
      "source": [
        "df = pd.read_json(io.StringIO(uploaded.get('taikajemcountminusone.json').decode('utf-8')))"
      ],
      "metadata": {
        "id": "grOoTy50NpFU"
      },
      "execution_count": null,
      "outputs": [],
      "id": "grOoTy50NpFU"
    },
    {
      "cell_type": "code",
      "source": [
        "l1 = list(zip(df[0], df[1])) #creating links"
      ],
      "metadata": {
        "id": "fw2Zm4V1WF2s"
      },
      "execution_count": null,
      "outputs": [],
      "id": "fw2Zm4V1WF2s"
    },
    {
      "cell_type": "code",
      "source": [
        "g = nx.DiGraph()\n",
        "\n",
        "for p in nodes:\n",
        "    g.add_node(p)\n",
        "\n",
        "for (a, b) in l1:\n",
        "    g.add_edge(nodes[a], nodes[b])"
      ],
      "metadata": {
        "id": "oK22ofn5W24u"
      },
      "execution_count": null,
      "outputs": [],
      "id": "oK22ofn5W24u"
    },
    {
      "cell_type": "code",
      "source": [
        "opts = {'node_size': 400, \n",
        "        'font_color': 'b',\n",
        "        'font_size': 10,\n",
        "        'font_weight': 'bold'}\n",
        "\n",
        "nx.draw(g, with_labels=True, labels=nodes_index,\n",
        "       node_color='#AAAAEE', **opts)\n",
        "plt.show()"
      ],
      "metadata": {
        "colab": {
          "base_uri": "https://localhost:8080/",
          "height": 319
        },
        "id": "MQVKClPkW3CP",
        "outputId": "734f3390-dace-4c46-f1c8-a85b79dd9483"
      },
      "execution_count": null,
      "outputs": [
        {
          "output_type": "display_data",
          "data": {
            "text/plain": [
              "<Figure size 432x288 with 1 Axes>"
            ],
            "image/png": "[encoded data removed]"
          },
          "metadata": {}
        }
      ],
      "id": "MQVKClPkW3CP"
    },
    {
      "cell_type": "code",
      "source": [
        "dataset = sc.parallelize(l1).cache()"
      ],
      "metadata": {
        "id": "3UFZWa50NpFW"
      },
      "execution_count": null,
      "outputs": [],
      "id": "3UFZWa50NpFW"
    },
    {
      "cell_type": "code",
      "source": [
        "total_movies = max(dataset.max(lambda x:x[0])[0],dataset.max(lambda x:x[1])[1])\n",
        "print(total_movies) #counting nodes by index: the indeces start from 0 so we have 23 movies"
      ],
      "metadata": {
        "colab": {
          "base_uri": "https://localhost:8080/"
        },
        "outputId": "fc7a1fc8-ef20-4966-fdd6-74334590315b",
        "id": "L4tLvycINpFW"
      },
      "execution_count": null,
      "outputs": [
        {
          "output_type": "stream",
          "name": "stdout",
          "text": [
            "22\n"
          ]
        }
      ],
      "id": "L4tLvycINpFW"
    },
    {
      "cell_type": "code",
      "source": [
        "outdegree = dataset.countByKey() #computing outdegree\n",
        "outdegree[0], outdegree[2], outdegree[18], outdegree[22]"
      ],
      "metadata": {
        "id": "GhjA9_fANpFX",
        "colab": {
          "base_uri": "https://localhost:8080/"
        },
        "outputId": "910e2ab5-1306-47eb-cd4c-7cd708fef11c"
      },
      "execution_count": null,
      "outputs": [
        {
          "output_type": "execute_result",
          "data": {
            "text/plain": [
              "(15, 15, 7, 22)"
            ]
          },
          "metadata": {},
          "execution_count": 18
        }
      ],
      "id": "GhjA9_fANpFX"
    },
    {
      "cell_type": "code",
      "source": [
        "\n",
        "P = dataset.map(lambda x:(x[0],x[1],1/outdegree[x[0]]))\n",
        "P.take(20) #connection matrix"
      ],
      "metadata": {
        "colab": {
          "base_uri": "https://localhost:8080/"
        },
        "outputId": "72357418-f8a2-4280-a2c7-9091736e79c7",
        "id": "pJWUwvyrNpFX"
      },
      "execution_count": null,
      "outputs": [
        {
          "output_type": "execute_result",
          "data": {
            "text/plain": [
              "[(0, 1, 0.06666666666666667),\n",
              " (0, 2, 0.06666666666666667),\n",
              " (0, 4, 0.06666666666666667),\n",
              " (0, 5, 0.06666666666666667),\n",
              " (0, 8, 0.06666666666666667),\n",
              " (0, 9, 0.06666666666666667),\n",
              " (0, 12, 0.06666666666666667),\n",
              " (0, 13, 0.06666666666666667),\n",
              " (0, 14, 0.06666666666666667),\n",
              " (0, 15, 0.06666666666666667),\n",
              " (0, 16, 0.06666666666666667),\n",
              " (0, 17, 0.06666666666666667),\n",
              " (0, 20, 0.06666666666666667),\n",
              " (0, 21, 0.06666666666666667),\n",
              " (0, 22, 0.06666666666666667),\n",
              " (1, 0, 0.06666666666666667),\n",
              " (1, 2, 0.06666666666666667),\n",
              " (1, 4, 0.06666666666666667),\n",
              " (1, 5, 0.06666666666666667),\n",
              " (1, 8, 0.06666666666666667)]"
            ]
          },
          "metadata": {},
          "execution_count": 11
        }
      ],
      "id": "pJWUwvyrNpFX"
    },
    {
      "cell_type": "code",
      "source": [
        "import numpy as np\n",
        "p = np.full((total_movies+1,), 1/(total_movies+1))\n",
        "p[:10] #setting probability vector"
      ],
      "metadata": {
        "colab": {
          "base_uri": "https://localhost:8080/"
        },
        "outputId": "f37bd8e1-b93b-4fc3-c68b-5882b00d50db",
        "id": "3Vj3yqZnNpFX"
      },
      "execution_count": null,
      "outputs": [
        {
          "output_type": "execute_result",
          "data": {
            "text/plain": [
              "array([0.04347826, 0.04347826, 0.04347826, 0.04347826, 0.04347826,\n",
              "       0.04347826, 0.04347826, 0.04347826, 0.04347826, 0.04347826])"
            ]
          },
          "metadata": {},
          "execution_count": 21
        }
      ],
      "id": "3Vj3yqZnNpFX"
    },
    {
      "cell_type": "code",
      "source": [
        "# inverting the order of nodes in the matrix\n",
        "PT = P.map(lambda x: (x[1],x[0],x[2]))"
      ],
      "metadata": {
        "id": "BI9HzuypNpFX"
      },
      "execution_count": null,
      "outputs": [],
      "id": "BI9HzuypNpFX"
    },
    {
      "cell_type": "markdown",
      "source": [
        "The number of iterations is kept small because we are dealing with a very small network; we will see in the PageRank with Euclidean distance that the algorithm automatically stops at 17 iterations."
      ],
      "metadata": {
        "id": "0WQ79AjLdLye"
      },
      "id": "0WQ79AjLdLye"
    },
    {
      "cell_type": "code",
      "source": [
        "#computing pagerank\n",
        "for i in range(50):\n",
        "    new_p = PT.map(lambda x:(x[0],(x[2]*p[x[1]])))\\\n",
        "              .reduceByKey(lambda x,y: x+y)\\\n",
        "              .collect()\n",
        "    for idx,prb in new_p:\n",
        "        p[idx] = prb\n",
        "    \n",
        "    print(f\"iteration {i}\")\n"
      ],
      "metadata": {
        "colab": {
          "base_uri": "https://localhost:8080/"
        },
        "outputId": "7601a233-d82c-4cdc-a226-6baa73c619b7",
        "id": "C11Ec9bYNpFY"
      },
      "execution_count": null,
      "outputs": [
        {
          "output_type": "stream",
          "name": "stdout",
          "text": [
            "iteration 0\n",
            "iteration 1\n",
            "iteration 2\n",
            "iteration 3\n",
            "iteration 4\n",
            "iteration 5\n",
            "iteration 6\n",
            "iteration 7\n",
            "iteration 8\n",
            "iteration 9\n",
            "iteration 10\n",
            "iteration 11\n",
            "iteration 12\n",
            "iteration 13\n",
            "iteration 14\n",
            "iteration 15\n",
            "iteration 16\n",
            "iteration 17\n",
            "iteration 18\n",
            "iteration 19\n",
            "iteration 20\n",
            "iteration 21\n",
            "iteration 22\n",
            "iteration 23\n",
            "iteration 24\n",
            "iteration 25\n",
            "iteration 26\n",
            "iteration 27\n",
            "iteration 28\n",
            "iteration 29\n",
            "iteration 30\n",
            "iteration 31\n",
            "iteration 32\n",
            "iteration 33\n",
            "iteration 34\n",
            "iteration 35\n",
            "iteration 36\n",
            "iteration 37\n",
            "iteration 38\n",
            "iteration 39\n",
            "iteration 40\n",
            "iteration 41\n",
            "iteration 42\n",
            "iteration 43\n",
            "iteration 44\n",
            "iteration 45\n",
            "iteration 46\n",
            "iteration 47\n",
            "iteration 48\n",
            "iteration 49\n"
          ]
        }
      ],
      "id": "C11Ec9bYNpFY"
    },
    {
      "cell_type": "code",
      "source": [
        "list(zip(p.argsort()[::-1], p[p.argsort()[::-1]])) #showing results by value. they resemble the ones computed on the same graph through Networkx"
      ],
      "metadata": {
        "colab": {
          "base_uri": "https://localhost:8080/"
        },
        "outputId": "26100a21-7821-4843-aa88-e2d32817f4e3",
        "id": "cZuR3w7mNpFY"
      },
      "execution_count": null,
      "outputs": [
        {
          "output_type": "execute_result",
          "data": {
            "text/plain": [
              "[(22, 0.07434390743481965),\n",
              " (12, 0.05065810289007957),\n",
              " (1, 0.05065810289007957),\n",
              " (2, 0.05065810289007957),\n",
              " (4, 0.05065810289007957),\n",
              " (5, 0.05065810289007957),\n",
              " (8, 0.05065810289007957),\n",
              " (9, 0.05065810289007957),\n",
              " (21, 0.05065810289007957),\n",
              " (0, 0.05065810289007957),\n",
              " (13, 0.05065810289007957),\n",
              " (14, 0.05065810289007957),\n",
              " (15, 0.05065810289007957),\n",
              " (16, 0.05065810289007957),\n",
              " (17, 0.05065810289007957),\n",
              " (20, 0.05065810289007957),\n",
              " (10, 0.023683507030569467),\n",
              " (7, 0.023683507030569467),\n",
              " (6, 0.023683507030569467),\n",
              " (18, 0.023683507030569467),\n",
              " (3, 0.023683507030569467),\n",
              " (19, 0.023683507030569467),\n",
              " (11, 0.023683507030569467)]"
            ]
          },
          "metadata": {},
          "execution_count": 25
        }
      ],
      "id": "cZuR3w7mNpFY"
    },
    {
      "cell_type": "markdown",
      "source": [
        "Checking the index with the source dataset containing movies and their corresponding index (as done in the next example) we would see that this result is coherent with reality; node 22 corresponds to \"What We Do in The Shadows\" the only movie that has higher probability to be reached, since it's connected to movies where both Taika Waititi and Jemaine Clement acted in. It is in fact the only movie where the two worked together as actors. The following image shows the graph colored by pagerank value."
      ],
      "metadata": {
        "id": "kGtrdCgeRp7Q"
      },
      "id": "kGtrdCgeRp7Q"
    },
    {
      "cell_type": "code",
      "execution_count": null,
      "metadata": {
        "colab": {
          "base_uri": "https://localhost:8080/",
          "height": 319
        },
        "id": "QOZL6R8f0RMl",
        "outputId": "8ae65689-44cb-4947-d32e-24578db21147"
      },
      "outputs": [
        {
          "output_type": "display_data",
          "data": {
            "text/plain": [
              "<Figure size 432x288 with 1 Axes>"
            ],
            "image/png": "[encoded data removed]"
          },
          "metadata": {}
        }
      ],
      "source": [
        "nx.draw(g, with_labels=True, labels=nodes_index,\n",
        "        node_color=p, cmap=plt.cm.summer, **opts)\n",
        "plt.show()"
      ],
      "id": "QOZL6R8f0RMl"
    },
    {
      "cell_type": "markdown",
      "source": [
        "# PageRank (Iterations only) on 2020-2021 movies Network"
      ],
      "metadata": {
        "id": "K2g0PkYaSzrl"
      },
      "id": "K2g0PkYaSzrl"
    },
    {
      "cell_type": "markdown",
      "source": [
        "The following code has been run on a larger dataset with 8641 movies, with actors that have only acted in one movie released in the 2020-2021 years removed."
      ],
      "metadata": {
        "id": "mfFGrZc0UE7j"
      },
      "id": "mfFGrZc0UE7j"
    },
    {
      "cell_type": "code",
      "source": [
        "from google.colab import files\n",
        "uploaded = files.upload()"
      ],
      "metadata": {
        "colab": {
          "base_uri": "https://localhost:8080/",
          "height": 74
        },
        "id": "3lej8mh7NRxk",
        "outputId": "10c0cb27-0506-499b-a7ae-518d496a5ad0"
      },
      "execution_count": null,
      "outputs": [
        {
          "output_type": "display_data",
          "data": {
            "text/plain": [
              "<IPython.core.display.HTML object>"
            ],
            "text/html": [
              "\n",
              "     <input type=\"file\" id=\"files-5f51fc8d-13bb-4891-84fb-b5d582792e1d\" name=\"files[]\" multiple disabled\n",
              "        style=\"border:none\" />\n",
              "     <output id=\"result-5f51fc8d-13bb-4891-84fb-b5d582792e1d\">\n",
              "      Upload widget is only available when the cell has been executed in the\n",
              "      current browser session. Please rerun this cell to enable.\n",
              "      </output>\n",
              "      <script>// Copyright 2017 Google LLC\n",
              "//\n",
              "// Licensed under the Apache License, Version 2.0 (the \"License\");\n",
              "// you may not use this file except in compliance with the License.\n",
              "// You may obtain a copy of the License at\n",
              "//\n",
              "//      http://www.apache.org/licenses/LICENSE-2.0\n",
              "//\n",
              "// Unless required by applicable law or agreed to in writing, software\n",
              "// distributed under the License is distributed on an \"AS IS\" BASIS,\n",
              "// WITHOUT WARRANTIES OR CONDITIONS OF ANY KIND, either express or implied.\n",
              "// See the License for the specific language governing permissions and\n",
              "// limitations under the License.\n",
              "\n",
              "/**\n",
              " * @fileoverview Helpers for google.colab Python module.\n",
              " */\n",
              "(function(scope) {\n",
              "function span(text, styleAttributes = {}) {\n",
              "  const element = document.createElement('span');\n",
              "  element.textContent = text;\n",
              "  for (const key of Object.keys(styleAttributes)) {\n",
              "    element.style[key] = styleAttributes[key];\n",
              "  }\n",
              "  return element;\n",
              "}\n",
              "\n",
              "// Max number of bytes which will be uploaded at a time.\n",
              "const MAX_PAYLOAD_SIZE = 100 * 1024;\n",
              "\n",
              "function _uploadFiles(inputId, outputId) {\n",
              "  const steps = uploadFilesStep(inputId, outputId);\n",
              "  const outputElement = document.getElementById(outputId);\n",
              "  // Cache steps on the outputElement to make it available for the next call\n",
              "  // to uploadFilesContinue from Python.\n",
              "  outputElement.steps = steps;\n",
              "\n",
              "  return _uploadFilesContinue(outputId);\n",
              "}\n",
              "\n",
              "// This is roughly an async generator (not supported in the browser yet),\n",
              "// where there are multiple asynchronous steps and the Python side is going\n",
              "// to poll for completion of each step.\n",
              "// This uses a Promise to block the python side on completion of each step,\n",
              "// then passes the result of the previous step as the input to the next step.\n",
              "function _uploadFilesContinue(outputId) {\n",
              "  const outputElement = document.getElementById(outputId);\n",
              "  const steps = outputElement.steps;\n",
              "\n",
              "  const next = steps.next(outputElement.lastPromiseValue);\n",
              "  return Promise.resolve(next.value.promise).then((value) => {\n",
              "    // Cache the last promise value to make it available to the next\n",
              "    // step of the generator.\n",
              "    outputElement.lastPromiseValue = value;\n",
              "    return next.value.response;\n",
              "  });\n",
              "}\n",
              "\n",
              "/**\n",
              " * Generator function which is called between each async step of the upload\n",
              " * process.\n",
              " * @param {string} inputId Element ID of the input file picker element.\n",
              " * @param {string} outputId Element ID of the output display.\n",
              " * @return {!Iterable<!Object>} Iterable of next steps.\n",
              " */\n",
              "function* uploadFilesStep(inputId, outputId) {\n",
              "  const inputElement = document.getElementById(inputId);\n",
              "  inputElement.disabled = false;\n",
              "\n",
              "  const outputElement = document.getElementById(outputId);\n",
              "  outputElement.innerHTML = '';\n",
              "\n",
              "  const pickedPromise = new Promise((resolve) => {\n",
              "    inputElement.addEventListener('change', (e) => {\n",
              "      resolve(e.target.files);\n",
              "    });\n",
              "  });\n",
              "\n",
              "  const cancel = document.createElement('button');\n",
              "  inputElement.parentElement.appendChild(cancel);\n",
              "  cancel.textContent = 'Cancel upload';\n",
              "  const cancelPromise = new Promise((resolve) => {\n",
              "    cancel.onclick = () => {\n",
              "      resolve(null);\n",
              "    };\n",
              "  });\n",
              "\n",
              "  // Wait for the user to pick the files.\n",
              "  const files = yield {\n",
              "    promise: Promise.race([pickedPromise, cancelPromise]),\n",
              "    response: {\n",
              "      action: 'starting',\n",
              "    }\n",
              "  };\n",
              "\n",
              "  cancel.remove();\n",
              "\n",
              "  // Disable the input element since further picks are not allowed.\n",
              "  inputElement.disabled = true;\n",
              "\n",
              "  if (!files) {\n",
              "    return {\n",
              "      response: {\n",
              "        action: 'complete',\n",
              "      }\n",
              "    };\n",
              "  }\n",
              "\n",
              "  for (const file of files) {\n",
              "    const li = document.createElement('li');\n",
              "    li.append(span(file.name, {fontWeight: 'bold'}));\n",
              "    li.append(span(\n",
              "        `(${file.type || 'n/a'}) - ${file.size} bytes, ` +\n",
              "        `last modified: ${\n",
              "            file.lastModifiedDate ? file.lastModifiedDate.toLocaleDateString() :\n",
              "                                    'n/a'} - `));\n",
              "    const percent = span('0% done');\n",
              "    li.appendChild(percent);\n",
              "\n",
              "    outputElement.appendChild(li);\n",
              "\n",
              "    const fileDataPromise = new Promise((resolve) => {\n",
              "      const reader = new FileReader();\n",
              "      reader.onload = (e) => {\n",
              "        resolve(e.target.result);\n",
              "      };\n",
              "      reader.readAsArrayBuffer(file);\n",
              "    });\n",
              "    // Wait for the data to be ready.\n",
              "    let fileData = yield {\n",
              "      promise: fileDataPromise,\n",
              "      response: {\n",
              "        action: 'continue',\n",
              "      }\n",
              "    };\n",
              "\n",
              "    // Use a chunked sending to avoid message size limits. See b/62115660.\n",
              "    let position = 0;\n",
              "    do {\n",
              "      const length = Math.min(fileData.byteLength - position, MAX_PAYLOAD_SIZE);\n",
              "      const chunk = new Uint8Array(fileData, position, length);\n",
              "      position += length;\n",
              "\n",
              "      const base64 = btoa(String.fromCharCode.apply(null, chunk));\n",
              "      yield {\n",
              "        response: {\n",
              "          action: 'append',\n",
              "          file: file.name,\n",
              "          data: base64,\n",
              "        },\n",
              "      };\n",
              "\n",
              "      let percentDone = fileData.byteLength === 0 ?\n",
              "          100 :\n",
              "          Math.round((position / fileData.byteLength) * 100);\n",
              "      percent.textContent = `${percentDone}% done`;\n",
              "\n",
              "    } while (position < fileData.byteLength);\n",
              "  }\n",
              "\n",
              "  // All done.\n",
              "  yield {\n",
              "    response: {\n",
              "      action: 'complete',\n",
              "    }\n",
              "  };\n",
              "}\n",
              "\n",
              "scope.google = scope.google || {};\n",
              "scope.google.colab = scope.google.colab || {};\n",
              "scope.google.colab._files = {\n",
              "  _uploadFiles,\n",
              "  _uploadFilesContinue,\n",
              "};\n",
              "})(self);\n",
              "</script> "
            ]
          },
          "metadata": {}
        },
        {
          "output_type": "stream",
          "name": "stdout",
          "text": [
            "Saving ventiventuno.json to ventiventuno.json\n"
          ]
        }
      ],
      "id": "3lej8mh7NRxk"
    },
    {
      "cell_type": "code",
      "source": [
        "df = pd.read_json(io.StringIO(uploaded.get('ventiventuno.json').decode('utf-8')))"
      ],
      "metadata": {
        "id": "2dP-H_52NgKb"
      },
      "execution_count": null,
      "outputs": [],
      "id": "2dP-H_52NgKb"
    },
    {
      "cell_type": "code",
      "source": [
        "l1 = list(zip(df[0], df[1]))"
      ],
      "metadata": {
        "id": "wGGPF1FuNxGy"
      },
      "execution_count": null,
      "outputs": [],
      "id": "wGGPF1FuNxGy"
    },
    {
      "cell_type": "code",
      "source": [
        "dataset = sc.parallelize(l1).cache()"
      ],
      "metadata": {
        "id": "eMLVPfjB9eK_"
      },
      "execution_count": null,
      "outputs": [],
      "id": "eMLVPfjB9eK_"
    },
    {
      "cell_type": "code",
      "source": [
        "total_movies = max(dataset.max(lambda x:x[0])[0],dataset.max(lambda x:x[1])[1])\n",
        "print(total_movies)"
      ],
      "metadata": {
        "id": "c9f1lM6W-GyU",
        "colab": {
          "base_uri": "https://localhost:8080/"
        },
        "outputId": "27ae675b-141b-4d3e-81e4-c7ed370ffb61"
      },
      "execution_count": null,
      "outputs": [
        {
          "output_type": "stream",
          "name": "stdout",
          "text": [
            "8460\n"
          ]
        }
      ],
      "id": "c9f1lM6W-GyU"
    },
    {
      "cell_type": "code",
      "source": [
        "outdegree = dataset.countByKey()"
      ],
      "metadata": {
        "id": "L2MsohOw-Y0Y"
      },
      "execution_count": null,
      "outputs": [],
      "id": "L2MsohOw-Y0Y"
    },
    {
      "cell_type": "code",
      "source": [
        "P = dataset.map(lambda x:(x[0],x[1],1/outdegree[x[0]]))\n",
        "P.take(20)"
      ],
      "metadata": {
        "id": "QexisyaoLSRw",
        "colab": {
          "base_uri": "https://localhost:8080/"
        },
        "outputId": "7dff0fcc-040e-4990-ed6e-707331159de3"
      },
      "execution_count": null,
      "outputs": [
        {
          "output_type": "execute_result",
          "data": {
            "text/plain": [
              "[(0, 8092, 0.3333333333333333),\n",
              " (0, 4899, 0.3333333333333333),\n",
              " (0, 6579, 0.3333333333333333),\n",
              " (1, 3279, 0.16666666666666666),\n",
              " (1, 3279, 0.16666666666666666),\n",
              " (1, 3279, 0.16666666666666666),\n",
              " (1, 3279, 0.16666666666666666),\n",
              " (1, 3279, 0.16666666666666666),\n",
              " (1, 3279, 0.16666666666666666),\n",
              " (2, 3784, 0.2),\n",
              " (2, 3697, 0.2),\n",
              " (2, 642, 0.2),\n",
              " (2, 3678, 0.2),\n",
              " (2, 6253, 0.2),\n",
              " (3, 4236, 0.5),\n",
              " (3, 4236, 0.5),\n",
              " (4, 470, 0.05263157894736842),\n",
              " (4, 684, 0.05263157894736842),\n",
              " (4, 1384, 0.05263157894736842),\n",
              " (4, 3080, 0.05263157894736842)]"
            ]
          },
          "metadata": {},
          "execution_count": 48
        }
      ],
      "id": "QexisyaoLSRw"
    },
    {
      "cell_type": "code",
      "source": [
        "p = np.full((total_movies+1,), 1/(total_movies+1))\n",
        "p[:10]"
      ],
      "metadata": {
        "id": "gdIM6-izLUcr",
        "colab": {
          "base_uri": "https://localhost:8080/"
        },
        "outputId": "07d17755-995a-4ffb-d118-bd8b76f158c2"
      },
      "execution_count": null,
      "outputs": [
        {
          "output_type": "execute_result",
          "data": {
            "text/plain": [
              "array([0.00011819, 0.00011819, 0.00011819, 0.00011819, 0.00011819,\n",
              "       0.00011819, 0.00011819, 0.00011819, 0.00011819, 0.00011819])"
            ]
          },
          "metadata": {},
          "execution_count": 49
        }
      ],
      "id": "gdIM6-izLUcr"
    },
    {
      "cell_type": "code",
      "source": [
        "PT = P.map(lambda x: (x[1],x[0],x[2]))   "
      ],
      "metadata": {
        "id": "hezbzedTLYLb"
      },
      "execution_count": null,
      "outputs": [],
      "id": "hezbzedTLYLb"
    },
    {
      "cell_type": "code",
      "source": [
        "for i in range(1000): #takes approximately 5/7 minutes \n",
        "    new_p = PT.map(lambda x:(x[0],(x[2]*p[x[1]])))\\\n",
        "              .reduceByKey(lambda x,y: x+y)\\\n",
        "              .collect()\n",
        "    for idx,prb in new_p:\n",
        "        p[idx] = prb"
      ],
      "metadata": {
        "id": "RTryDHWqLb1z"
      },
      "execution_count": null,
      "outputs": [],
      "id": "RTryDHWqLb1z"
    },
    {
      "cell_type": "code",
      "source": [
        "list(zip(p.argsort()[::-1], p[p.argsort()[::-1]])) #sorted results, output removed for space reason. top value (4442, 0.002052534354076937)"
      ],
      "metadata": {
        "id": "J_vL6zUSLhNK"
      },
      "execution_count": null,
      "outputs": [],
      "id": "J_vL6zUSLhNK"
    },
    {
      "cell_type": "markdown",
      "source": [
        "Because the dataset has been sorted by name, we can retrieve the movie titles of the highest result by either accessing a list of title by index of by creating a dictionary of titles. Both methods bring the same result."
      ],
      "metadata": {
        "id": "K2gk9dAgU98G"
      },
      "id": "K2gk9dAgU98G"
    },
    {
      "cell_type": "code",
      "source": [
        "from google.colab import files\n",
        "uploaded = files.upload()"
      ],
      "metadata": {
        "colab": {
          "base_uri": "https://localhost:8080/",
          "height": 74
        },
        "outputId": "06a40381-0f8b-4f1e-c6b6-3f1afc231a19",
        "id": "RUa0ebxPWMxy"
      },
      "execution_count": null,
      "outputs": [
        {
          "output_type": "display_data",
          "data": {
            "text/plain": [
              "<IPython.core.display.HTML object>"
            ],
            "text/html": [
              "\n",
              "     <input type=\"file\" id=\"files-b3867326-57bb-4de3-a32d-e20b14364de6\" name=\"files[]\" multiple disabled\n",
              "        style=\"border:none\" />\n",
              "     <output id=\"result-b3867326-57bb-4de3-a32d-e20b14364de6\">\n",
              "      Upload widget is only available when the cell has been executed in the\n",
              "      current browser session. Please rerun this cell to enable.\n",
              "      </output>\n",
              "      <script>// Copyright 2017 Google LLC\n",
              "//\n",
              "// Licensed under the Apache License, Version 2.0 (the \"License\");\n",
              "// you may not use this file except in compliance with the License.\n",
              "// You may obtain a copy of the License at\n",
              "//\n",
              "//      http://www.apache.org/licenses/LICENSE-2.0\n",
              "//\n",
              "// Unless required by applicable law or agreed to in writing, software\n",
              "// distributed under the License is distributed on an \"AS IS\" BASIS,\n",
              "// WITHOUT WARRANTIES OR CONDITIONS OF ANY KIND, either express or implied.\n",
              "// See the License for the specific language governing permissions and\n",
              "// limitations under the License.\n",
              "\n",
              "/**\n",
              " * @fileoverview Helpers for google.colab Python module.\n",
              " */\n",
              "(function(scope) {\n",
              "function span(text, styleAttributes = {}) {\n",
              "  const element = document.createElement('span');\n",
              "  element.textContent = text;\n",
              "  for (const key of Object.keys(styleAttributes)) {\n",
              "    element.style[key] = styleAttributes[key];\n",
              "  }\n",
              "  return element;\n",
              "}\n",
              "\n",
              "// Max number of bytes which will be uploaded at a time.\n",
              "const MAX_PAYLOAD_SIZE = 100 * 1024;\n",
              "\n",
              "function _uploadFiles(inputId, outputId) {\n",
              "  const steps = uploadFilesStep(inputId, outputId);\n",
              "  const outputElement = document.getElementById(outputId);\n",
              "  // Cache steps on the outputElement to make it available for the next call\n",
              "  // to uploadFilesContinue from Python.\n",
              "  outputElement.steps = steps;\n",
              "\n",
              "  return _uploadFilesContinue(outputId);\n",
              "}\n",
              "\n",
              "// This is roughly an async generator (not supported in the browser yet),\n",
              "// where there are multiple asynchronous steps and the Python side is going\n",
              "// to poll for completion of each step.\n",
              "// This uses a Promise to block the python side on completion of each step,\n",
              "// then passes the result of the previous step as the input to the next step.\n",
              "function _uploadFilesContinue(outputId) {\n",
              "  const outputElement = document.getElementById(outputId);\n",
              "  const steps = outputElement.steps;\n",
              "\n",
              "  const next = steps.next(outputElement.lastPromiseValue);\n",
              "  return Promise.resolve(next.value.promise).then((value) => {\n",
              "    // Cache the last promise value to make it available to the next\n",
              "    // step of the generator.\n",
              "    outputElement.lastPromiseValue = value;\n",
              "    return next.value.response;\n",
              "  });\n",
              "}\n",
              "\n",
              "/**\n",
              " * Generator function which is called between each async step of the upload\n",
              " * process.\n",
              " * @param {string} inputId Element ID of the input file picker element.\n",
              " * @param {string} outputId Element ID of the output display.\n",
              " * @return {!Iterable<!Object>} Iterable of next steps.\n",
              " */\n",
              "function* uploadFilesStep(inputId, outputId) {\n",
              "  const inputElement = document.getElementById(inputId);\n",
              "  inputElement.disabled = false;\n",
              "\n",
              "  const outputElement = document.getElementById(outputId);\n",
              "  outputElement.innerHTML = '';\n",
              "\n",
              "  const pickedPromise = new Promise((resolve) => {\n",
              "    inputElement.addEventListener('change', (e) => {\n",
              "      resolve(e.target.files);\n",
              "    });\n",
              "  });\n",
              "\n",
              "  const cancel = document.createElement('button');\n",
              "  inputElement.parentElement.appendChild(cancel);\n",
              "  cancel.textContent = 'Cancel upload';\n",
              "  const cancelPromise = new Promise((resolve) => {\n",
              "    cancel.onclick = () => {\n",
              "      resolve(null);\n",
              "    };\n",
              "  });\n",
              "\n",
              "  // Wait for the user to pick the files.\n",
              "  const files = yield {\n",
              "    promise: Promise.race([pickedPromise, cancelPromise]),\n",
              "    response: {\n",
              "      action: 'starting',\n",
              "    }\n",
              "  };\n",
              "\n",
              "  cancel.remove();\n",
              "\n",
              "  // Disable the input element since further picks are not allowed.\n",
              "  inputElement.disabled = true;\n",
              "\n",
              "  if (!files) {\n",
              "    return {\n",
              "      response: {\n",
              "        action: 'complete',\n",
              "      }\n",
              "    };\n",
              "  }\n",
              "\n",
              "  for (const file of files) {\n",
              "    const li = document.createElement('li');\n",
              "    li.append(span(file.name, {fontWeight: 'bold'}));\n",
              "    li.append(span(\n",
              "        `(${file.type || 'n/a'}) - ${file.size} bytes, ` +\n",
              "        `last modified: ${\n",
              "            file.lastModifiedDate ? file.lastModifiedDate.toLocaleDateString() :\n",
              "                                    'n/a'} - `));\n",
              "    const percent = span('0% done');\n",
              "    li.appendChild(percent);\n",
              "\n",
              "    outputElement.appendChild(li);\n",
              "\n",
              "    const fileDataPromise = new Promise((resolve) => {\n",
              "      const reader = new FileReader();\n",
              "      reader.onload = (e) => {\n",
              "        resolve(e.target.result);\n",
              "      };\n",
              "      reader.readAsArrayBuffer(file);\n",
              "    });\n",
              "    // Wait for the data to be ready.\n",
              "    let fileData = yield {\n",
              "      promise: fileDataPromise,\n",
              "      response: {\n",
              "        action: 'continue',\n",
              "      }\n",
              "    };\n",
              "\n",
              "    // Use a chunked sending to avoid message size limits. See b/62115660.\n",
              "    let position = 0;\n",
              "    do {\n",
              "      const length = Math.min(fileData.byteLength - position, MAX_PAYLOAD_SIZE);\n",
              "      const chunk = new Uint8Array(fileData, position, length);\n",
              "      position += length;\n",
              "\n",
              "      const base64 = btoa(String.fromCharCode.apply(null, chunk));\n",
              "      yield {\n",
              "        response: {\n",
              "          action: 'append',\n",
              "          file: file.name,\n",
              "          data: base64,\n",
              "        },\n",
              "      };\n",
              "\n",
              "      let percentDone = fileData.byteLength === 0 ?\n",
              "          100 :\n",
              "          Math.round((position / fileData.byteLength) * 100);\n",
              "      percent.textContent = `${percentDone}% done`;\n",
              "\n",
              "    } while (position < fileData.byteLength);\n",
              "  }\n",
              "\n",
              "  // All done.\n",
              "  yield {\n",
              "    response: {\n",
              "      action: 'complete',\n",
              "    }\n",
              "  };\n",
              "}\n",
              "\n",
              "scope.google = scope.google || {};\n",
              "scope.google.colab = scope.google.colab || {};\n",
              "scope.google.colab._files = {\n",
              "  _uploadFiles,\n",
              "  _uploadFilesContinue,\n",
              "};\n",
              "})(self);\n",
              "</script> "
            ]
          },
          "metadata": {}
        },
        {
          "output_type": "stream",
          "name": "stdout",
          "text": [
            "Saving titles2021.json to titles2021.json\n"
          ]
        }
      ],
      "id": "RUa0ebxPWMxy"
    },
    {
      "cell_type": "code",
      "source": [
        "titles = pd.read_json(io.StringIO(uploaded.get('titles2021.json').decode('utf-8')))"
      ],
      "metadata": {
        "id": "tiTUdXooWU5W"
      },
      "execution_count": null,
      "outputs": [],
      "id": "tiTUdXooWU5W"
    },
    {
      "cell_type": "code",
      "source": [
        "titles[0][4442]"
      ],
      "metadata": {
        "colab": {
          "base_uri": "https://localhost:8080/",
          "height": 36
        },
        "id": "rltdKxJtWa6U",
        "outputId": "0ebbc103-6523-408c-aded-6a82d98a9b13"
      },
      "execution_count": null,
      "outputs": [
        {
          "output_type": "execute_result",
          "data": {
            "text/plain": [
              "'Mission: The Prophet'"
            ],
            "application/vnd.google.colaboratory.intrinsic+json": {
              "type": "string"
            }
          },
          "metadata": {},
          "execution_count": 42
        }
      ],
      "id": "rltdKxJtWa6U"
    },
    {
      "cell_type": "markdown",
      "source": [
        "Dictionary alternative:"
      ],
      "metadata": {
        "id": "rKV_gw8SX4rX"
      },
      "id": "rKV_gw8SX4rX"
    },
    {
      "cell_type": "code",
      "source": [
        "titles2 = list(titles[0].values.tolist())"
      ],
      "metadata": {
        "id": "di4FE7tNWcOJ"
      },
      "execution_count": null,
      "outputs": [],
      "id": "di4FE7tNWcOJ"
    },
    {
      "cell_type": "code",
      "source": [
        "titles2 # output removed for space reason"
      ],
      "metadata": {
        "id": "LCQdSyAtWw7Q"
      },
      "execution_count": null,
      "outputs": [],
      "id": "LCQdSyAtWw7Q"
    },
    {
      "cell_type": "code",
      "source": [
        "movies = range(len(titles2))\n",
        "movie_titles = {p: l for p, l in zip(movies, titles2)}\n",
        "movie_titles #output removed for space reason."
      ],
      "metadata": {
        "id": "RVSHi9WcXDFw"
      },
      "execution_count": null,
      "outputs": [],
      "id": "RVSHi9WcXDFw"
    },
    {
      "cell_type": "code",
      "source": [
        "movie_titles[4442]"
      ],
      "metadata": {
        "colab": {
          "base_uri": "https://localhost:8080/",
          "height": 36
        },
        "id": "ypt39FB6XJuQ",
        "outputId": "a626456d-9630-442e-f885-533022fefdb1"
      },
      "execution_count": null,
      "outputs": [
        {
          "output_type": "execute_result",
          "data": {
            "text/plain": [
              "'Mission: The Prophet'"
            ],
            "application/vnd.google.colaboratory.intrinsic+json": {
              "type": "string"
            }
          },
          "metadata": {},
          "execution_count": 48
        }
      ],
      "id": "ypt39FB6XJuQ"
    },
    {
      "cell_type": "markdown",
      "source": [
        "#PageRank Euclidean Distance Small network"
      ],
      "metadata": {
        "id": "9V2qU23IaaT9"
      },
      "id": "9V2qU23IaaT9"
    },
    {
      "cell_type": "markdown",
      "source": [
        "After defining the Euclidean distance function, we see that the process as seen is class, adapted for this dataset, works on the small dataset leading to similar results."
      ],
      "metadata": {
        "id": "NznBeYt-aoVr"
      },
      "id": "NznBeYt-aoVr"
    },
    {
      "cell_type": "code",
      "execution_count": null,
      "metadata": {
        "id": "u1bx4Be-0RMU"
      },
      "outputs": [],
      "source": [
        "def l2distance(v, q):\n",
        "    \n",
        "    if len(v) != len(q):\n",
        "        raise ValueError('Vectors of different lenght'\n",
        "                         ' error')\n",
        "    \n",
        "    return sum([(q_el - v_el)**2 for v_el, q_el in zip(v, q)])"
      ],
      "id": "u1bx4Be-0RMU"
    },
    {
      "cell_type": "code",
      "source": [
        "from google.colab import files\n",
        "uploaded = files.upload()"
      ],
      "metadata": {
        "colab": {
          "base_uri": "https://localhost:8080/",
          "height": 74
        },
        "id": "DtCodLVnKwf0",
        "outputId": "15392034-75b8-40de-eb81-0c0c1cda90cf"
      },
      "execution_count": null,
      "outputs": [
        {
          "output_type": "display_data",
          "data": {
            "text/plain": [
              "<IPython.core.display.HTML object>"
            ],
            "text/html": [
              "\n",
              "     <input type=\"file\" id=\"files-7cb995bb-e23e-45d4-9d84-b6a969e40c60\" name=\"files[]\" multiple disabled\n",
              "        style=\"border:none\" />\n",
              "     <output id=\"result-7cb995bb-e23e-45d4-9d84-b6a969e40c60\">\n",
              "      Upload widget is only available when the cell has been executed in the\n",
              "      current browser session. Please rerun this cell to enable.\n",
              "      </output>\n",
              "      <script>// Copyright 2017 Google LLC\n",
              "//\n",
              "// Licensed under the Apache License, Version 2.0 (the \"License\");\n",
              "// you may not use this file except in compliance with the License.\n",
              "// You may obtain a copy of the License at\n",
              "//\n",
              "//      http://www.apache.org/licenses/LICENSE-2.0\n",
              "//\n",
              "// Unless required by applicable law or agreed to in writing, software\n",
              "// distributed under the License is distributed on an \"AS IS\" BASIS,\n",
              "// WITHOUT WARRANTIES OR CONDITIONS OF ANY KIND, either express or implied.\n",
              "// See the License for the specific language governing permissions and\n",
              "// limitations under the License.\n",
              "\n",
              "/**\n",
              " * @fileoverview Helpers for google.colab Python module.\n",
              " */\n",
              "(function(scope) {\n",
              "function span(text, styleAttributes = {}) {\n",
              "  const element = document.createElement('span');\n",
              "  element.textContent = text;\n",
              "  for (const key of Object.keys(styleAttributes)) {\n",
              "    element.style[key] = styleAttributes[key];\n",
              "  }\n",
              "  return element;\n",
              "}\n",
              "\n",
              "// Max number of bytes which will be uploaded at a time.\n",
              "const MAX_PAYLOAD_SIZE = 100 * 1024;\n",
              "\n",
              "function _uploadFiles(inputId, outputId) {\n",
              "  const steps = uploadFilesStep(inputId, outputId);\n",
              "  const outputElement = document.getElementById(outputId);\n",
              "  // Cache steps on the outputElement to make it available for the next call\n",
              "  // to uploadFilesContinue from Python.\n",
              "  outputElement.steps = steps;\n",
              "\n",
              "  return _uploadFilesContinue(outputId);\n",
              "}\n",
              "\n",
              "// This is roughly an async generator (not supported in the browser yet),\n",
              "// where there are multiple asynchronous steps and the Python side is going\n",
              "// to poll for completion of each step.\n",
              "// This uses a Promise to block the python side on completion of each step,\n",
              "// then passes the result of the previous step as the input to the next step.\n",
              "function _uploadFilesContinue(outputId) {\n",
              "  const outputElement = document.getElementById(outputId);\n",
              "  const steps = outputElement.steps;\n",
              "\n",
              "  const next = steps.next(outputElement.lastPromiseValue);\n",
              "  return Promise.resolve(next.value.promise).then((value) => {\n",
              "    // Cache the last promise value to make it available to the next\n",
              "    // step of the generator.\n",
              "    outputElement.lastPromiseValue = value;\n",
              "    return next.value.response;\n",
              "  });\n",
              "}\n",
              "\n",
              "/**\n",
              " * Generator function which is called between each async step of the upload\n",
              " * process.\n",
              " * @param {string} inputId Element ID of the input file picker element.\n",
              " * @param {string} outputId Element ID of the output display.\n",
              " * @return {!Iterable<!Object>} Iterable of next steps.\n",
              " */\n",
              "function* uploadFilesStep(inputId, outputId) {\n",
              "  const inputElement = document.getElementById(inputId);\n",
              "  inputElement.disabled = false;\n",
              "\n",
              "  const outputElement = document.getElementById(outputId);\n",
              "  outputElement.innerHTML = '';\n",
              "\n",
              "  const pickedPromise = new Promise((resolve) => {\n",
              "    inputElement.addEventListener('change', (e) => {\n",
              "      resolve(e.target.files);\n",
              "    });\n",
              "  });\n",
              "\n",
              "  const cancel = document.createElement('button');\n",
              "  inputElement.parentElement.appendChild(cancel);\n",
              "  cancel.textContent = 'Cancel upload';\n",
              "  const cancelPromise = new Promise((resolve) => {\n",
              "    cancel.onclick = () => {\n",
              "      resolve(null);\n",
              "    };\n",
              "  });\n",
              "\n",
              "  // Wait for the user to pick the files.\n",
              "  const files = yield {\n",
              "    promise: Promise.race([pickedPromise, cancelPromise]),\n",
              "    response: {\n",
              "      action: 'starting',\n",
              "    }\n",
              "  };\n",
              "\n",
              "  cancel.remove();\n",
              "\n",
              "  // Disable the input element since further picks are not allowed.\n",
              "  inputElement.disabled = true;\n",
              "\n",
              "  if (!files) {\n",
              "    return {\n",
              "      response: {\n",
              "        action: 'complete',\n",
              "      }\n",
              "    };\n",
              "  }\n",
              "\n",
              "  for (const file of files) {\n",
              "    const li = document.createElement('li');\n",
              "    li.append(span(file.name, {fontWeight: 'bold'}));\n",
              "    li.append(span(\n",
              "        `(${file.type || 'n/a'}) - ${file.size} bytes, ` +\n",
              "        `last modified: ${\n",
              "            file.lastModifiedDate ? file.lastModifiedDate.toLocaleDateString() :\n",
              "                                    'n/a'} - `));\n",
              "    const percent = span('0% done');\n",
              "    li.appendChild(percent);\n",
              "\n",
              "    outputElement.appendChild(li);\n",
              "\n",
              "    const fileDataPromise = new Promise((resolve) => {\n",
              "      const reader = new FileReader();\n",
              "      reader.onload = (e) => {\n",
              "        resolve(e.target.result);\n",
              "      };\n",
              "      reader.readAsArrayBuffer(file);\n",
              "    });\n",
              "    // Wait for the data to be ready.\n",
              "    let fileData = yield {\n",
              "      promise: fileDataPromise,\n",
              "      response: {\n",
              "        action: 'continue',\n",
              "      }\n",
              "    };\n",
              "\n",
              "    // Use a chunked sending to avoid message size limits. See b/62115660.\n",
              "    let position = 0;\n",
              "    do {\n",
              "      const length = Math.min(fileData.byteLength - position, MAX_PAYLOAD_SIZE);\n",
              "      const chunk = new Uint8Array(fileData, position, length);\n",
              "      position += length;\n",
              "\n",
              "      const base64 = btoa(String.fromCharCode.apply(null, chunk));\n",
              "      yield {\n",
              "        response: {\n",
              "          action: 'append',\n",
              "          file: file.name,\n",
              "          data: base64,\n",
              "        },\n",
              "      };\n",
              "\n",
              "      let percentDone = fileData.byteLength === 0 ?\n",
              "          100 :\n",
              "          Math.round((position / fileData.byteLength) * 100);\n",
              "      percent.textContent = `${percentDone}% done`;\n",
              "\n",
              "    } while (position < fileData.byteLength);\n",
              "  }\n",
              "\n",
              "  // All done.\n",
              "  yield {\n",
              "    response: {\n",
              "      action: 'complete',\n",
              "    }\n",
              "  };\n",
              "}\n",
              "\n",
              "scope.google = scope.google || {};\n",
              "scope.google.colab = scope.google.colab || {};\n",
              "scope.google.colab._files = {\n",
              "  _uploadFiles,\n",
              "  _uploadFilesContinue,\n",
              "};\n",
              "})(self);\n",
              "</script> "
            ]
          },
          "metadata": {}
        },
        {
          "output_type": "stream",
          "name": "stdout",
          "text": [
            "Saving taikajemcountminusone.json to taikajemcountminusone (2).json\n"
          ]
        }
      ],
      "id": "DtCodLVnKwf0"
    },
    {
      "cell_type": "code",
      "source": [
        "df = pd.read_json(io.StringIO(uploaded.get('taikajemcountminusone.json').decode('utf-8')))"
      ],
      "metadata": {
        "id": "u4_hTSzxK1RC"
      },
      "execution_count": null,
      "outputs": [],
      "id": "u4_hTSzxK1RC"
    },
    {
      "cell_type": "code",
      "source": [
        "l1 = list(zip(df[0], df[1]))"
      ],
      "metadata": {
        "id": "P6NELT00LCTr"
      },
      "execution_count": null,
      "outputs": [],
      "id": "P6NELT00LCTr"
    },
    {
      "cell_type": "code",
      "source": [
        "dataset = sc.parallelize(l1).cache()"
      ],
      "metadata": {
        "id": "CcS4sLYXLahD"
      },
      "execution_count": null,
      "outputs": [],
      "id": "CcS4sLYXLahD"
    },
    {
      "cell_type": "code",
      "source": [
        "total_movies = max(dataset.max(lambda x:x[0])[0],dataset.max(lambda x:x[1])[1])\n",
        "print(total_movies)"
      ],
      "metadata": {
        "id": "uytKD7JlL6ZP",
        "colab": {
          "base_uri": "https://localhost:8080/"
        },
        "outputId": "31142d57-9104-4cfc-8e6c-03ead2fae967"
      },
      "execution_count": null,
      "outputs": [
        {
          "output_type": "stream",
          "name": "stdout",
          "text": [
            "22\n"
          ]
        }
      ],
      "id": "uytKD7JlL6ZP"
    },
    {
      "cell_type": "code",
      "source": [
        "outdegree = dataset.countByKey()"
      ],
      "metadata": {
        "id": "Cpb94qPDL9aH"
      },
      "execution_count": null,
      "outputs": [],
      "id": "Cpb94qPDL9aH"
    },
    {
      "cell_type": "code",
      "source": [
        "P = dataset.map(lambda x:(x[0],x[1],1/outdegree[x[0]]))\n",
        "P.take(20)"
      ],
      "metadata": {
        "id": "eJTU2NLUMBfb",
        "colab": {
          "base_uri": "https://localhost:8080/"
        },
        "outputId": "9ba67347-6cb3-4437-dc9a-7293d86e637d"
      },
      "execution_count": null,
      "outputs": [
        {
          "output_type": "execute_result",
          "data": {
            "text/plain": [
              "[(0, 1, 0.06666666666666667),\n",
              " (0, 2, 0.06666666666666667),\n",
              " (0, 4, 0.06666666666666667),\n",
              " (0, 5, 0.06666666666666667),\n",
              " (0, 8, 0.06666666666666667),\n",
              " (0, 9, 0.06666666666666667),\n",
              " (0, 12, 0.06666666666666667),\n",
              " (0, 13, 0.06666666666666667),\n",
              " (0, 14, 0.06666666666666667),\n",
              " (0, 15, 0.06666666666666667),\n",
              " (0, 16, 0.06666666666666667),\n",
              " (0, 17, 0.06666666666666667),\n",
              " (0, 20, 0.06666666666666667),\n",
              " (0, 21, 0.06666666666666667),\n",
              " (0, 22, 0.06666666666666667),\n",
              " (1, 0, 0.06666666666666667),\n",
              " (1, 2, 0.06666666666666667),\n",
              " (1, 4, 0.06666666666666667),\n",
              " (1, 5, 0.06666666666666667),\n",
              " (1, 8, 0.06666666666666667)]"
            ]
          },
          "metadata": {},
          "execution_count": 77
        }
      ],
      "id": "eJTU2NLUMBfb"
    },
    {
      "cell_type": "code",
      "source": [
        "PT = P.map(lambda x: (x[1],x[0],x[2]))"
      ],
      "metadata": {
        "id": "Xiu-_QrRMUOk"
      },
      "execution_count": null,
      "outputs": [],
      "id": "Xiu-_QrRMUOk"
    },
    {
      "cell_type": "code",
      "source": [
        "page_rank = np.ones(total_movies+1)/(total_movies+1)\n",
        "old_page_rank = np.ones(total_movies+1)"
      ],
      "metadata": {
        "id": "zYKy6LjyMZl_"
      },
      "execution_count": null,
      "outputs": [],
      "id": "zYKy6LjyMZl_"
    },
    {
      "cell_type": "code",
      "source": [
        "page_rank"
      ],
      "metadata": {
        "id": "y9Y5Cm7XM7Cp",
        "colab": {
          "base_uri": "https://localhost:8080/"
        },
        "outputId": "e1f59d26-5464-4b83-8c45-767b96689375"
      },
      "execution_count": null,
      "outputs": [
        {
          "output_type": "execute_result",
          "data": {
            "text/plain": [
              "array([0.04347826, 0.04347826, 0.04347826, 0.04347826, 0.04347826,\n",
              "       0.04347826, 0.04347826, 0.04347826, 0.04347826, 0.04347826,\n",
              "       0.04347826, 0.04347826, 0.04347826, 0.04347826, 0.04347826,\n",
              "       0.04347826, 0.04347826, 0.04347826, 0.04347826, 0.04347826,\n",
              "       0.04347826, 0.04347826, 0.04347826])"
            ]
          },
          "metadata": {},
          "execution_count": 80
        }
      ],
      "id": "y9Y5Cm7XM7Cp"
    },
    {
      "cell_type": "code",
      "source": [
        "tolerance = 10e-7\n",
        "max_iterations = 1000\n",
        "\n",
        "iteration = 0\n",
        "while l2distance(old_page_rank, page_rank) >= tolerance and \\\n",
        "      iteration < max_iterations:\n",
        "    old_page_rank = page_rank\n",
        "    \n",
        "    page_rank_values = (PT\n",
        "                        .map(lambda t: (t[0], t[2]*page_rank[t[1]]))\n",
        "                        .reduceByKey(lambda a, b: a+b)\n",
        "                        .sortByKey()\n",
        "                        .collect()\n",
        "                       )\n",
        "    \n",
        "    page_rank = np.array([c for (i, c) in page_rank_values])\n",
        "    \n",
        "    print(page_rank)\n",
        "\n",
        "    iteration += 1"
      ],
      "metadata": {
        "id": "LYaFNNCwNKdp",
        "colab": {
          "base_uri": "https://localhost:8080/"
        },
        "outputId": "db78ca19-99ca-4498-bb5e-ad63c9d92fb8"
      },
      "execution_count": null,
      "outputs": [
        {
          "output_type": "stream",
          "name": "stdout",
          "text": [
            "[0.04255599 0.04255599 0.04255599 0.03924337 0.04255599 0.04255599\n",
            " 0.03924337 0.03924337 0.04255599 0.04255599 0.03924337 0.03924337\n",
            " 0.04255599 0.04255599 0.04255599 0.04255599 0.04255599 0.04255599\n",
            " 0.03924337 0.03924337 0.04255599 0.04255599 0.08695652]\n",
            "[0.0436715  0.0436715  0.0436715  0.03758974 0.0436715  0.0436715\n",
            " 0.03758974 0.03758974 0.0436715  0.0436715  0.03758974 0.03758974\n",
            " 0.0436715  0.0436715  0.0436715  0.0436715  0.0436715  0.0436715\n",
            " 0.03758974 0.03758974 0.0436715  0.0436715  0.08179936]\n",
            "[0.04447822 0.04447822 0.04447822 0.03593793 0.04447822 0.04447822\n",
            " 0.03593793 0.03593793 0.04447822 0.04447822 0.03593793 0.03593793\n",
            " 0.04447822 0.04447822 0.04447822 0.04447822 0.04447822 0.04447822\n",
            " 0.03593793 0.03593793 0.04447822 0.04447822 0.08126124]\n",
            "[0.0452067  0.0452067  0.0452067  0.03449763 0.0452067  0.0452067\n",
            " 0.03449763 0.03449763 0.0452067  0.0452067  0.03449763 0.03449763\n",
            " 0.0452067  0.0452067  0.0452067  0.0452067  0.0452067  0.0452067\n",
            " 0.03449763 0.03449763 0.0452067  0.0452067  0.08041615]\n",
            "[0.04584819 0.04584819 0.04584819 0.03322468 0.04584819 0.04584819\n",
            " 0.03322468 0.03322468 0.04584819 0.04584819 0.03322468 0.03322468\n",
            " 0.04584819 0.04584819 0.04584819 0.04584819 0.04584819 0.04584819\n",
            " 0.03322468 0.03322468 0.04584819 0.04584819 0.07970433]\n",
            "[0.04641457 0.04641457 0.04641457 0.03210122 0.04641457 0.04641457\n",
            " 0.03210122 0.03210122 0.04641457 0.04641457 0.03210122 0.03210122\n",
            " 0.04641457 0.04641457 0.04641457 0.04641457 0.04641457 0.04641457\n",
            " 0.03210122 0.03210122 0.04641457 0.04641457 0.07907287]\n",
            "[0.04691449 0.04691449 0.04691449 0.03110955 0.04691449 0.04691449\n",
            " 0.03110955 0.03110955 0.04691449 0.04691449 0.03110955 0.03110955\n",
            " 0.04691449 0.04691449 0.04691449 0.04691449 0.04691449 0.04691449\n",
            " 0.03110955 0.03110955 0.04691449 0.04691449 0.07851579]\n",
            "[0.04735576 0.04735576 0.04735576 0.03023423 0.04735576 0.04735576\n",
            " 0.03023423 0.03023423 0.04735576 0.04735576 0.03023423 0.03023423\n",
            " 0.04735576 0.04735576 0.04735576 0.04735576 0.04735576 0.04735576\n",
            " 0.03023423 0.03023423 0.04735576 0.04735576 0.07802404]\n",
            "[0.04774525 0.04774525 0.04774525 0.0294616  0.04774525 0.04774525\n",
            " 0.0294616  0.0294616  0.04774525 0.04774525 0.0294616  0.0294616\n",
            " 0.04774525 0.04774525 0.04774525 0.04774525 0.04774525 0.04774525\n",
            " 0.0294616  0.0294616  0.04774525 0.04774525 0.07758999]\n",
            "[0.04808905 0.04808905 0.04808905 0.02877962 0.04808905 0.04808905\n",
            " 0.02877962 0.02877962 0.04808905 0.04808905 0.02877962 0.02877962\n",
            " 0.04808905 0.04808905 0.04808905 0.04808905 0.04808905 0.04808905\n",
            " 0.02877962 0.02877962 0.04808905 0.04808905 0.07720686]\n",
            "[0.04839252 0.04839252 0.04839252 0.02817765 0.04839252 0.04839252\n",
            " 0.02817765 0.02817765 0.04839252 0.04839252 0.02817765 0.02817765\n",
            " 0.04839252 0.04839252 0.04839252 0.04839252 0.04839252 0.04839252\n",
            " 0.02817765 0.02817765 0.04839252 0.04839252 0.07686867]\n",
            "[0.04866038 0.04866038 0.04866038 0.0276463  0.04866038 0.04866038\n",
            " 0.0276463  0.0276463  0.04866038 0.04866038 0.0276463  0.0276463\n",
            " 0.04866038 0.04866038 0.04866038 0.04866038 0.04866038 0.04866038\n",
            " 0.0276463  0.0276463  0.04866038 0.04866038 0.07657017]\n",
            "[0.04889682 0.04889682 0.04889682 0.02717729 0.04889682 0.04889682\n",
            " 0.02717729 0.02717729 0.04889682 0.04889682 0.02717729 0.02717729\n",
            " 0.04889682 0.04889682 0.04889682 0.04889682 0.04889682 0.04889682\n",
            " 0.02717729 0.02717729 0.04889682 0.04889682 0.07630668]\n",
            "[0.04910552 0.04910552 0.04910552 0.02676331 0.04910552 0.04910552\n",
            " 0.02676331 0.02676331 0.04910552 0.04910552 0.02676331 0.02676331\n",
            " 0.04910552 0.04910552 0.04910552 0.04910552 0.04910552 0.04910552\n",
            " 0.02676331 0.02676331 0.04910552 0.04910552 0.07607411]\n",
            "[0.04928973 0.04928973 0.04928973 0.02639789 0.04928973 0.04928973\n",
            " 0.02639789 0.02639789 0.04928973 0.04928973 0.02639789 0.02639789\n",
            " 0.04928973 0.04928973 0.04928973 0.04928973 0.04928973 0.04928973\n",
            " 0.02639789 0.02639789 0.04928973 0.04928973 0.07586882]\n",
            "[0.04945233 0.04945233 0.04945233 0.02607535 0.04945233 0.04945233\n",
            " 0.02607535 0.02607535 0.04945233 0.04945233 0.02607535 0.02607535\n",
            " 0.04945233 0.04945233 0.04945233 0.04945233 0.04945233 0.04945233\n",
            " 0.02607535 0.02607535 0.04945233 0.04945233 0.07568762]\n",
            "[0.04959585 0.04959585 0.04959585 0.02579064 0.04959585 0.04959585\n",
            " 0.02579064 0.02579064 0.04959585 0.04959585 0.02579064 0.02579064\n",
            " 0.04959585 0.04959585 0.04959585 0.04959585 0.04959585 0.04959585\n",
            " 0.02579064 0.02579064 0.04959585 0.04959585 0.07552768]\n"
          ]
        }
      ],
      "id": "LYaFNNCwNKdp"
    },
    {
      "cell_type": "markdown",
      "source": [
        "The result is indeed similar to the previous algorithm. Node 22 is still the node with highest value, and the the ranking of the following values is also the same."
      ],
      "metadata": {
        "id": "pM9Sqnrqb1cD"
      },
      "id": "pM9Sqnrqb1cD"
    },
    {
      "cell_type": "code",
      "source": [
        "list(zip(page_rank.argsort()[::-1], page_rank[page_rank.argsort()[::-1]]))"
      ],
      "metadata": {
        "id": "rVDaHc9gNba_",
        "colab": {
          "base_uri": "https://localhost:8080/"
        },
        "outputId": "88ad13ee-daea-4f75-a0d0-54d21db22535"
      },
      "execution_count": null,
      "outputs": [
        {
          "output_type": "execute_result",
          "data": {
            "text/plain": [
              "[(22, 0.07552767673270142),\n",
              " (12, 0.049595854680234745),\n",
              " (1, 0.049595854680234745),\n",
              " (2, 0.049595854680234745),\n",
              " (4, 0.049595854680234745),\n",
              " (5, 0.049595854680234745),\n",
              " (8, 0.049595854680234745),\n",
              " (9, 0.049595854680234745),\n",
              " (21, 0.049595854680234745),\n",
              " (0, 0.049595854680234745),\n",
              " (13, 0.049595854680234745),\n",
              " (14, 0.049595854680234745),\n",
              " (15, 0.049595854680234745),\n",
              " (16, 0.049595854680234745),\n",
              " (17, 0.049595854680234745),\n",
              " (20, 0.049595854680234745),\n",
              " (10, 0.025790643294825326),\n",
              " (7, 0.025790643294825326),\n",
              " (6, 0.025790643294825326),\n",
              " (3, 0.025790643294825326),\n",
              " (11, 0.025790643294825326),\n",
              " (18, 0.025790643294825322),\n",
              " (19, 0.025790643294825322)]"
            ]
          },
          "metadata": {},
          "execution_count": 65
        }
      ],
      "id": "rVDaHc9gNba_"
    },
    {
      "cell_type": "code",
      "source": [
        "iteration #number of needed iterations"
      ],
      "metadata": {
        "id": "a4wskQVJOAsZ",
        "colab": {
          "base_uri": "https://localhost:8080/"
        },
        "outputId": "6ecc9baf-4f1e-4373-8d7a-fdc5486b5395"
      },
      "execution_count": null,
      "outputs": [
        {
          "output_type": "execute_result",
          "data": {
            "text/plain": [
              "17"
            ]
          },
          "metadata": {},
          "execution_count": 66
        }
      ],
      "id": "a4wskQVJOAsZ"
    },
    {
      "cell_type": "code",
      "source": [
        "nx.draw(g, with_labels=True, labels=nodes_index,\n",
        "        node_color=page_rank, cmap=plt.cm.summer, **opts)\n",
        "plt.show()"
      ],
      "metadata": {
        "colab": {
          "base_uri": "https://localhost:8080/",
          "height": 319
        },
        "id": "CYEGaEy-eFzX",
        "outputId": "fb89374e-39fb-4133-d188-e33de85e8651"
      },
      "execution_count": null,
      "outputs": [
        {
          "output_type": "display_data",
          "data": {
            "text/plain": [
              "<Figure size 432x288 with 1 Axes>"
            ],
            "image/png": "[encoded data removed]"
          },
          "metadata": {}
        }
      ],
      "id": "CYEGaEy-eFzX"
    },
    {
      "cell_type": "markdown",
      "source": [
        "# PageRank with Euclidean distance and Taxation on a Small network"
      ],
      "metadata": {
        "id": "HaRFRFuWdelK"
      },
      "id": "HaRFRFuWdelK"
    },
    {
      "cell_type": "markdown",
      "source": [
        "By nature of the network, it's impossible to have dangling nodes or spider traps; even though the network is directed, each edge exista in both directiona by definition, because we have connected movies if they share an actor, so the relationship is symmetrical. We can only have isolated components, and even though it is highly unlikely that a small group of movies does not share even a single acting credit with the main component of the network, we cannot exclude it completely, so we can run the algorithm with the taxation variation too. "
      ],
      "metadata": {
        "id": "X6AjSIMBnSkc"
      },
      "id": "X6AjSIMBnSkc"
    },
    {
      "cell_type": "code",
      "source": [
        "#we re-inizialize the sparkcontext and data using the code in the previous section until the last step\n",
        "tolerance = 10e-7\n",
        "max_iterations = 1000\n",
        "\n",
        "iteration = 0\n",
        "while l2distance(old_page_rank, page_rank) >= tolerance and \\\n",
        "      iteration < max_iterations:\n",
        "    beta = 0.8\n",
        "    old_page_rank = page_rank\n",
        "    \n",
        "    page_rank_values = (PT\n",
        "                        .map(lambda t: (t[0], t[2]*page_rank[t[1]]))\n",
        "                        .reduceByKey(lambda a, b: a+b)\n",
        "                        .sortByKey()\n",
        "                        .collect()\n",
        "                       )\n",
        "    page_rank = np.array([beta*c + (1-beta)/(total_movies+1)\n",
        "                              for (i, c) in page_rank_values])\n",
        "    print(page_rank)\n",
        "\n",
        "    iteration += 1\n",
        "\n",
        "    "
      ],
      "metadata": {
        "colab": {
          "base_uri": "https://localhost:8080/"
        },
        "id": "fleWaej1doUu",
        "outputId": "635eb556-51c1-4623-b074-10c3b5f63ba6"
      },
      "execution_count": null,
      "outputs": [
        {
          "output_type": "stream",
          "name": "stdout",
          "text": [
            "[0.04274045 0.04274045 0.04274045 0.04009034 0.04274045 0.04274045\n",
            " 0.04009034 0.04009034 0.04274045 0.04274045 0.04009034 0.04009034\n",
            " 0.04274045 0.04274045 0.04274045 0.04274045 0.04274045 0.04274045\n",
            " 0.04009034 0.04009034 0.04274045 0.04274045 0.07826087]\n",
            "[0.04345437 0.04345437 0.04345437 0.03903202 0.04345437 0.04345437\n",
            " 0.03903202 0.03903202 0.04345437 0.04345437 0.03903202 0.03903202\n",
            " 0.04345437 0.04345437 0.04345437 0.04345437 0.04345437 0.04345437\n",
            " 0.03903202 0.03903202 0.04345437 0.04345437 0.07496029]\n",
            "[0.04386741 0.04386741 0.04386741 0.0381863  0.04386741 0.04386741\n",
            " 0.0381863  0.0381863  0.04386741 0.04386741 0.0381863  0.0381863\n",
            " 0.04386741 0.04386741 0.04386741 0.04386741 0.04386741 0.04386741\n",
            " 0.0381863  0.0381863  0.04386741 0.04386741 0.07468477]\n",
            "[0.04416579 0.04416579 0.04416579 0.03759635 0.04416579 0.04416579\n",
            " 0.03759635 0.03759635 0.04416579 0.04416579 0.03759635 0.03759635\n",
            " 0.04416579 0.04416579 0.04416579 0.04416579 0.04416579 0.04416579\n",
            " 0.03759635 0.03759635 0.04416579 0.04416579 0.07433862]\n",
            "[0.044376   0.044376   0.044376   0.03717923 0.044376   0.044376\n",
            " 0.03717923 0.03717923 0.044376   0.044376   0.03717923 0.03717923\n",
            " 0.044376   0.044376   0.044376   0.044376   0.044376   0.044376\n",
            " 0.03717923 0.03717923 0.044376   0.044376   0.07410537]\n",
            "[0.04452447 0.04452447 0.04452447 0.03688472 0.04452447 0.04452447\n",
            " 0.03688472 0.03688472 0.04452447 0.04452447 0.03688472 0.03688472\n",
            " 0.04452447 0.04452447 0.04452447 0.04452447 0.04452447 0.04452447\n",
            " 0.03688472 0.03688472 0.04452447 0.04452447 0.07393984]\n"
          ]
        }
      ],
      "id": "fleWaej1doUu"
    },
    {
      "cell_type": "code",
      "source": [
        "list(zip(page_rank.argsort()[::-1], page_rank[page_rank.argsort()[::-1]]))"
      ],
      "metadata": {
        "colab": {
          "base_uri": "https://localhost:8080/"
        },
        "outputId": "4a344aba-8ce2-4f7d-b734-37aba6f75958",
        "id": "zgz1IXLvs6sK"
      },
      "execution_count": null,
      "outputs": [
        {
          "output_type": "execute_result",
          "data": {
            "text/plain": [
              "[(22, 0.07552767673270142),\n",
              " (12, 0.049595854680234745),\n",
              " (1, 0.049595854680234745),\n",
              " (2, 0.049595854680234745),\n",
              " (4, 0.049595854680234745),\n",
              " (5, 0.049595854680234745),\n",
              " (8, 0.049595854680234745),\n",
              " (9, 0.049595854680234745),\n",
              " (21, 0.049595854680234745),\n",
              " (0, 0.049595854680234745),\n",
              " (13, 0.049595854680234745),\n",
              " (14, 0.049595854680234745),\n",
              " (15, 0.049595854680234745),\n",
              " (16, 0.049595854680234745),\n",
              " (17, 0.049595854680234745),\n",
              " (20, 0.049595854680234745),\n",
              " (10, 0.025790643294825326),\n",
              " (7, 0.025790643294825326),\n",
              " (6, 0.025790643294825326),\n",
              " (3, 0.025790643294825326),\n",
              " (11, 0.025790643294825326),\n",
              " (18, 0.025790643294825322),\n",
              " (19, 0.025790643294825322)]"
            ]
          },
          "metadata": {},
          "execution_count": 68
        }
      ],
      "id": "zgz1IXLvs6sK"
    },
    {
      "cell_type": "code",
      "source": [
        "iteration #number of needed iterations"
      ],
      "metadata": {
        "colab": {
          "base_uri": "https://localhost:8080/"
        },
        "outputId": "e31c6296-c3f8-4c8f-c824-c81bd6d8f145",
        "id": "qOR-dEpNtIX6"
      },
      "execution_count": null,
      "outputs": [
        {
          "output_type": "execute_result",
          "data": {
            "text/plain": [
              "6"
            ]
          },
          "metadata": {},
          "execution_count": 100
        }
      ],
      "id": "qOR-dEpNtIX6"
    },
    {
      "cell_type": "code",
      "source": [
        "nx.draw(g, with_labels=True, labels=nodes_index,\n",
        "        node_color=page_rank, cmap=plt.cm.summer, **opts)\n",
        "plt.show()"
      ],
      "metadata": {
        "colab": {
          "base_uri": "https://localhost:8080/",
          "height": 319
        },
        "id": "9sl_9rIfe7M2",
        "outputId": "717053d3-54e8-46ef-b36d-f2b38534aa17"
      },
      "execution_count": null,
      "outputs": [
        {
          "output_type": "display_data",
          "data": {
            "text/plain": [
              "<Figure size 432x288 with 1 Axes>"
            ],
            "image/png": "[encoded data removed]"
          },
          "metadata": {}
        }
      ],
      "id": "9sl_9rIfe7M2"
    },
    {
      "cell_type": "markdown",
      "source": [
        "The result has the same ordering and very similar values, but needed less iterations to reach convergence."
      ],
      "metadata": {
        "id": "RuSQ_TOxtOq0"
      },
      "id": "RuSQ_TOxtOq0"
    },
    {
      "cell_type": "markdown",
      "source": [
        "#PageRank Euclidean distance Complete network"
      ],
      "metadata": {
        "id": "8PoEH2-3qAkq"
      },
      "id": "8PoEH2-3qAkq"
    },
    {
      "cell_type": "code",
      "source": [
        "from google.colab import files\n",
        "uploaded = files.upload()"
      ],
      "metadata": {
        "colab": {
          "base_uri": "https://localhost:8080/",
          "height": 74
        },
        "outputId": "767dc755-f392-4045-ab1c-1f5d08940f06",
        "id": "Cr-wz5z_qQGQ"
      },
      "execution_count": null,
      "outputs": [
        {
          "output_type": "display_data",
          "data": {
            "text/plain": [
              "<IPython.core.display.HTML object>"
            ],
            "text/html": [
              "\n",
              "     <input type=\"file\" id=\"files-1dba2e21-44f8-4916-91f3-dc4d5310e1c0\" name=\"files[]\" multiple disabled\n",
              "        style=\"border:none\" />\n",
              "     <output id=\"result-1dba2e21-44f8-4916-91f3-dc4d5310e1c0\">\n",
              "      Upload widget is only available when the cell has been executed in the\n",
              "      current browser session. Please rerun this cell to enable.\n",
              "      </output>\n",
              "      <script>// Copyright 2017 Google LLC\n",
              "//\n",
              "// Licensed under the Apache License, Version 2.0 (the \"License\");\n",
              "// you may not use this file except in compliance with the License.\n",
              "// You may obtain a copy of the License at\n",
              "//\n",
              "//      http://www.apache.org/licenses/LICENSE-2.0\n",
              "//\n",
              "// Unless required by applicable law or agreed to in writing, software\n",
              "// distributed under the License is distributed on an \"AS IS\" BASIS,\n",
              "// WITHOUT WARRANTIES OR CONDITIONS OF ANY KIND, either express or implied.\n",
              "// See the License for the specific language governing permissions and\n",
              "// limitations under the License.\n",
              "\n",
              "/**\n",
              " * @fileoverview Helpers for google.colab Python module.\n",
              " */\n",
              "(function(scope) {\n",
              "function span(text, styleAttributes = {}) {\n",
              "  const element = document.createElement('span');\n",
              "  element.textContent = text;\n",
              "  for (const key of Object.keys(styleAttributes)) {\n",
              "    element.style[key] = styleAttributes[key];\n",
              "  }\n",
              "  return element;\n",
              "}\n",
              "\n",
              "// Max number of bytes which will be uploaded at a time.\n",
              "const MAX_PAYLOAD_SIZE = 100 * 1024;\n",
              "\n",
              "function _uploadFiles(inputId, outputId) {\n",
              "  const steps = uploadFilesStep(inputId, outputId);\n",
              "  const outputElement = document.getElementById(outputId);\n",
              "  // Cache steps on the outputElement to make it available for the next call\n",
              "  // to uploadFilesContinue from Python.\n",
              "  outputElement.steps = steps;\n",
              "\n",
              "  return _uploadFilesContinue(outputId);\n",
              "}\n",
              "\n",
              "// This is roughly an async generator (not supported in the browser yet),\n",
              "// where there are multiple asynchronous steps and the Python side is going\n",
              "// to poll for completion of each step.\n",
              "// This uses a Promise to block the python side on completion of each step,\n",
              "// then passes the result of the previous step as the input to the next step.\n",
              "function _uploadFilesContinue(outputId) {\n",
              "  const outputElement = document.getElementById(outputId);\n",
              "  const steps = outputElement.steps;\n",
              "\n",
              "  const next = steps.next(outputElement.lastPromiseValue);\n",
              "  return Promise.resolve(next.value.promise).then((value) => {\n",
              "    // Cache the last promise value to make it available to the next\n",
              "    // step of the generator.\n",
              "    outputElement.lastPromiseValue = value;\n",
              "    return next.value.response;\n",
              "  });\n",
              "}\n",
              "\n",
              "/**\n",
              " * Generator function which is called between each async step of the upload\n",
              " * process.\n",
              " * @param {string} inputId Element ID of the input file picker element.\n",
              " * @param {string} outputId Element ID of the output display.\n",
              " * @return {!Iterable<!Object>} Iterable of next steps.\n",
              " */\n",
              "function* uploadFilesStep(inputId, outputId) {\n",
              "  const inputElement = document.getElementById(inputId);\n",
              "  inputElement.disabled = false;\n",
              "\n",
              "  const outputElement = document.getElementById(outputId);\n",
              "  outputElement.innerHTML = '';\n",
              "\n",
              "  const pickedPromise = new Promise((resolve) => {\n",
              "    inputElement.addEventListener('change', (e) => {\n",
              "      resolve(e.target.files);\n",
              "    });\n",
              "  });\n",
              "\n",
              "  const cancel = document.createElement('button');\n",
              "  inputElement.parentElement.appendChild(cancel);\n",
              "  cancel.textContent = 'Cancel upload';\n",
              "  const cancelPromise = new Promise((resolve) => {\n",
              "    cancel.onclick = () => {\n",
              "      resolve(null);\n",
              "    };\n",
              "  });\n",
              "\n",
              "  // Wait for the user to pick the files.\n",
              "  const files = yield {\n",
              "    promise: Promise.race([pickedPromise, cancelPromise]),\n",
              "    response: {\n",
              "      action: 'starting',\n",
              "    }\n",
              "  };\n",
              "\n",
              "  cancel.remove();\n",
              "\n",
              "  // Disable the input element since further picks are not allowed.\n",
              "  inputElement.disabled = true;\n",
              "\n",
              "  if (!files) {\n",
              "    return {\n",
              "      response: {\n",
              "        action: 'complete',\n",
              "      }\n",
              "    };\n",
              "  }\n",
              "\n",
              "  for (const file of files) {\n",
              "    const li = document.createElement('li');\n",
              "    li.append(span(file.name, {fontWeight: 'bold'}));\n",
              "    li.append(span(\n",
              "        `(${file.type || 'n/a'}) - ${file.size} bytes, ` +\n",
              "        `last modified: ${\n",
              "            file.lastModifiedDate ? file.lastModifiedDate.toLocaleDateString() :\n",
              "                                    'n/a'} - `));\n",
              "    const percent = span('0% done');\n",
              "    li.appendChild(percent);\n",
              "\n",
              "    outputElement.appendChild(li);\n",
              "\n",
              "    const fileDataPromise = new Promise((resolve) => {\n",
              "      const reader = new FileReader();\n",
              "      reader.onload = (e) => {\n",
              "        resolve(e.target.result);\n",
              "      };\n",
              "      reader.readAsArrayBuffer(file);\n",
              "    });\n",
              "    // Wait for the data to be ready.\n",
              "    let fileData = yield {\n",
              "      promise: fileDataPromise,\n",
              "      response: {\n",
              "        action: 'continue',\n",
              "      }\n",
              "    };\n",
              "\n",
              "    // Use a chunked sending to avoid message size limits. See b/62115660.\n",
              "    let position = 0;\n",
              "    do {\n",
              "      const length = Math.min(fileData.byteLength - position, MAX_PAYLOAD_SIZE);\n",
              "      const chunk = new Uint8Array(fileData, position, length);\n",
              "      position += length;\n",
              "\n",
              "      const base64 = btoa(String.fromCharCode.apply(null, chunk));\n",
              "      yield {\n",
              "        response: {\n",
              "          action: 'append',\n",
              "          file: file.name,\n",
              "          data: base64,\n",
              "        },\n",
              "      };\n",
              "\n",
              "      let percentDone = fileData.byteLength === 0 ?\n",
              "          100 :\n",
              "          Math.round((position / fileData.byteLength) * 100);\n",
              "      percent.textContent = `${percentDone}% done`;\n",
              "\n",
              "    } while (position < fileData.byteLength);\n",
              "  }\n",
              "\n",
              "  // All done.\n",
              "  yield {\n",
              "    response: {\n",
              "      action: 'complete',\n",
              "    }\n",
              "  };\n",
              "}\n",
              "\n",
              "scope.google = scope.google || {};\n",
              "scope.google.colab = scope.google.colab || {};\n",
              "scope.google.colab._files = {\n",
              "  _uploadFiles,\n",
              "  _uploadFilesContinue,\n",
              "};\n",
              "})(self);\n",
              "</script> "
            ]
          },
          "metadata": {}
        },
        {
          "output_type": "stream",
          "name": "stdout",
          "text": [
            "Saving ventiventuno.json to ventiventuno.json\n"
          ]
        }
      ],
      "id": "Cr-wz5z_qQGQ"
    },
    {
      "cell_type": "code",
      "source": [
        "df = pd.read_json(io.StringIO(uploaded.get('ventiventuno.json').decode('utf-8')))"
      ],
      "metadata": {
        "id": "Uly4FnirqQGT"
      },
      "execution_count": null,
      "outputs": [],
      "id": "Uly4FnirqQGT"
    },
    {
      "cell_type": "code",
      "source": [
        "l1 = list(zip(df[0], df[1]))"
      ],
      "metadata": {
        "id": "QK_o_fwiqQGU"
      },
      "execution_count": null,
      "outputs": [],
      "id": "QK_o_fwiqQGU"
    },
    {
      "cell_type": "code",
      "source": [
        "dataset = sc.parallelize(l1).cache()"
      ],
      "metadata": {
        "id": "4T3FuHl7qQGU"
      },
      "execution_count": null,
      "outputs": [],
      "id": "4T3FuHl7qQGU"
    },
    {
      "cell_type": "code",
      "source": [
        "total_movies = max(dataset.max(lambda x:x[0])[0],dataset.max(lambda x:x[1])[1])\n",
        "print(total_movies)"
      ],
      "metadata": {
        "colab": {
          "base_uri": "https://localhost:8080/"
        },
        "outputId": "1d257fe8-01b3-4924-bc34-0410d4ebe1c0",
        "id": "Rl4va602qQGV"
      },
      "execution_count": null,
      "outputs": [
        {
          "output_type": "stream",
          "name": "stdout",
          "text": [
            "8460\n"
          ]
        }
      ],
      "id": "Rl4va602qQGV"
    },
    {
      "cell_type": "code",
      "source": [
        "outdegree = dataset.countByKey()"
      ],
      "metadata": {
        "id": "B4biLM8KqQGW"
      },
      "execution_count": null,
      "outputs": [],
      "id": "B4biLM8KqQGW"
    },
    {
      "cell_type": "code",
      "source": [
        "P = dataset.map(lambda x:(x[1],x[0],1/outdegree[x[0]]))\n",
        "P.take(20) #even directly creating the matrix and avoiding the inverting step, the Euclidean distance computation throws an error "
      ],
      "metadata": {
        "colab": {
          "base_uri": "https://localhost:8080/"
        },
        "outputId": "82ba0e70-791b-4311-9382-1dd4ab107b5b",
        "id": "-GnwKlH2qQGW"
      },
      "execution_count": null,
      "outputs": [
        {
          "output_type": "execute_result",
          "data": {
            "text/plain": [
              "[(8092, 0, 0.3333333333333333),\n",
              " (4899, 0, 0.3333333333333333),\n",
              " (6579, 0, 0.3333333333333333),\n",
              " (3279, 1, 0.16666666666666666),\n",
              " (3279, 1, 0.16666666666666666),\n",
              " (3279, 1, 0.16666666666666666),\n",
              " (3279, 1, 0.16666666666666666),\n",
              " (3279, 1, 0.16666666666666666),\n",
              " (3279, 1, 0.16666666666666666),\n",
              " (3784, 2, 0.2),\n",
              " (3697, 2, 0.2),\n",
              " (642, 2, 0.2),\n",
              " (3678, 2, 0.2),\n",
              " (6253, 2, 0.2),\n",
              " (4236, 3, 0.5),\n",
              " (4236, 3, 0.5),\n",
              " (470, 4, 0.05263157894736842),\n",
              " (684, 4, 0.05263157894736842),\n",
              " (1384, 4, 0.05263157894736842),\n",
              " (3080, 4, 0.05263157894736842)]"
            ]
          },
          "metadata": {},
          "execution_count": 89
        }
      ],
      "id": "-GnwKlH2qQGW"
    },
    {
      "cell_type": "code",
      "source": [
        "page_rank = np.ones((total_movies)+1)/((total_movies)+1)\n",
        "old_page_rank = np.ones((total_movies)+1)"
      ],
      "metadata": {
        "id": "y2ahcwGhqQGX"
      },
      "execution_count": null,
      "outputs": [],
      "id": "y2ahcwGhqQGX"
    },
    {
      "cell_type": "code",
      "source": [
        "page_rank"
      ],
      "metadata": {
        "colab": {
          "base_uri": "https://localhost:8080/"
        },
        "outputId": "b7ea4648-e2be-4830-efda-d8e7beab4703",
        "id": "vxDbaDaEqQGY"
      },
      "execution_count": null,
      "outputs": [
        {
          "output_type": "execute_result",
          "data": {
            "text/plain": [
              "array([0.00011819, 0.00011819, 0.00011819, ..., 0.00011819, 0.00011819,\n",
              "       0.00011819])"
            ]
          },
          "metadata": {},
          "execution_count": 15
        }
      ],
      "id": "vxDbaDaEqQGY"
    },
    {
      "cell_type": "code",
      "source": [
        "tolerance = 10e-7\n",
        "max_iterations = 1000\n",
        "\n",
        "iteration = 0\n",
        "while l2distance(old_page_rank, page_rank) >= tolerance and \\\n",
        "      iteration < max_iterations:\n",
        "    old_page_rank = page_rank\n",
        "    \n",
        "    page_rank_values = (PT\n",
        "                        .map(lambda t: (t[0], t[2]*page_rank[t[1]]))\n",
        "                        .reduceByKey(lambda a, b: a+b)\n",
        "                        .sortByKey()\n",
        "                        .collect()\n",
        "                       )\n",
        "    \n",
        "    page_rank = np.array([c for (i, c) in page_rank_values])\n",
        "    \n",
        "    print(page_rank)\n",
        "\n",
        "    iteration += 1"
      ],
      "metadata": {
        "colab": {
          "base_uri": "https://localhost:8080/",
          "height": 390
        },
        "outputId": "b438c73a-9636-4f2e-94e4-7161f7b7e61d",
        "id": "qXHpgUuwqQGZ"
      },
      "execution_count": null,
      "outputs": [
        {
          "output_type": "stream",
          "name": "stdout",
          "text": [
            "[1.68330271e-04 1.18189339e-04 1.90416158e-04 ... 1.43137027e-04\n",
            " 1.18189339e-04 3.93964464e-05]\n"
          ]
        },
        {
          "output_type": "error",
          "ename": "ValueError",
          "evalue": "ignored",
          "traceback": [
            "\u001b[0;31m---------------------------------------------------------------------------\u001b[0m",
            "\u001b[0;31mValueError\u001b[0m                                Traceback (most recent call last)",
            "\u001b[0;32m<ipython-input-95-d83ffc3a334c>\u001b[0m in \u001b[0;36m<module>\u001b[0;34m\u001b[0m\n\u001b[1;32m      3\u001b[0m \u001b[0;34m\u001b[0m\u001b[0m\n\u001b[1;32m      4\u001b[0m \u001b[0miteration\u001b[0m \u001b[0;34m=\u001b[0m \u001b[0;36m0\u001b[0m\u001b[0;34m\u001b[0m\u001b[0;34m\u001b[0m\u001b[0m\n\u001b[0;32m----> 5\u001b[0;31m \u001b[0;32mwhile\u001b[0m \u001b[0ml2distance\u001b[0m\u001b[0;34m(\u001b[0m\u001b[0mold_page_rank\u001b[0m\u001b[0;34m,\u001b[0m \u001b[0mpage_rank\u001b[0m\u001b[0;34m)\u001b[0m \u001b[0;34m>=\u001b[0m \u001b[0mtolerance\u001b[0m \u001b[0;32mand\u001b[0m\u001b[0;31m \u001b[0m\u001b[0;31m\\\u001b[0m\u001b[0;34m\u001b[0m\u001b[0;34m\u001b[0m\u001b[0m\n\u001b[0m\u001b[1;32m      6\u001b[0m       \u001b[0miteration\u001b[0m \u001b[0;34m<\u001b[0m \u001b[0mmax_iterations\u001b[0m\u001b[0;34m:\u001b[0m\u001b[0;34m\u001b[0m\u001b[0;34m\u001b[0m\u001b[0m\n\u001b[1;32m      7\u001b[0m     \u001b[0mold_page_rank\u001b[0m \u001b[0;34m=\u001b[0m \u001b[0mpage_rank\u001b[0m\u001b[0;34m\u001b[0m\u001b[0;34m\u001b[0m\u001b[0m\n",
            "\u001b[0;32m<ipython-input-53-417449b7956c>\u001b[0m in \u001b[0;36ml2distance\u001b[0;34m(v, q)\u001b[0m\n\u001b[1;32m      2\u001b[0m \u001b[0;34m\u001b[0m\u001b[0m\n\u001b[1;32m      3\u001b[0m     \u001b[0;32mif\u001b[0m \u001b[0mlen\u001b[0m\u001b[0;34m(\u001b[0m\u001b[0mv\u001b[0m\u001b[0;34m)\u001b[0m \u001b[0;34m!=\u001b[0m \u001b[0mlen\u001b[0m\u001b[0;34m(\u001b[0m\u001b[0mq\u001b[0m\u001b[0;34m)\u001b[0m\u001b[0;34m:\u001b[0m\u001b[0;34m\u001b[0m\u001b[0;34m\u001b[0m\u001b[0m\n\u001b[0;32m----> 4\u001b[0;31m         raise ValueError('Cannot compute the distance'\n\u001b[0m\u001b[1;32m      5\u001b[0m                          ' of two vectors of different size')\n\u001b[1;32m      6\u001b[0m \u001b[0;34m\u001b[0m\u001b[0m\n",
            "\u001b[0;31mValueError\u001b[0m: Cannot compute the distance of two vectors of different size"
          ]
        }
      ],
      "id": "qXHpgUuwqQGZ"
    }
  ],
  "metadata": {
    "kernelspec": {
      "display_name": "Python 3 (ipykernel)",
      "language": "python",
      "name": "python3"
    },
    "language_info": {
      "codemirror_mode": {
        "name": "ipython",
        "version": 3
      },
      "file_extension": ".py",
      "mimetype": "text/x-python",
      "name": "python",
      "nbconvert_exporter": "python",
      "pygments_lexer": "ipython3",
      "version": "3.9.13"
    },
    "colab": {
      "provenance": [],
      "collapsed_sections": [
        "296ac72f",
        "3f66179b",
        "b6eda011",
        "2c6e718f",
        "01d1384a",
        "a78kMLnLDrvn",
        "7VLkMcOXDi36",
        "K2g0PkYaSzrl",
        "9V2qU23IaaT9",
        "HaRFRFuWdelK",
        "8PoEH2-3qAkq"
      ],
      "include_colab_link": true
    }
  },
  "nbformat": 4,
  "nbformat_minor": 5
}